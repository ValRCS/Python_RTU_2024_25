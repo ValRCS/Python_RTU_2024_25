{
 "cells": [
  {
   "cell_type": "code",
   "execution_count": null,
   "metadata": {},
   "outputs": [],
   "source": []
  },
  {
   "attachments": {},
   "cell_type": "markdown",
   "metadata": {},
   "source": [
    "# SQL lite"
   ]
  },
  {
   "cell_type": "code",
   "execution_count": 1,
   "metadata": {},
   "outputs": [
    {
     "data": {
      "text/plain": [
       "<sqlite3.Cursor at 0x2a4aa7a0040>"
      ]
     },
     "execution_count": 1,
     "metadata": {},
     "output_type": "execute_result"
    }
   ],
   "source": [
    "import sqlite3  # built in module standard library\n",
    "\n",
    "# Create a database in RAM\n",
    "# db = sqlite3.connect(':memory:')\n",
    "\n",
    "# create a new database in the file system\n",
    "db = sqlite3.connect('test.db') # name could be anything ending with .db\n",
    "# sqlite is a file based database\n",
    "# so all of the data will be stored in a single file called test.db\n",
    "\n",
    "# get a cursor object\n",
    "cursor = db.cursor()\n",
    "\n",
    "# create a table\n",
    "cursor.execute('''\n",
    "    CREATE TABLE users(id INTEGER PRIMARY KEY, name TEXT, phone TEXT, email TEXT)\n",
    "''')\n",
    "# so we create specific new table only once per database"
   ]
  },
  {
   "cell_type": "code",
   "execution_count": 6,
   "metadata": {},
   "outputs": [
    {
     "data": {
      "text/plain": [
       "<sqlite3.Cursor at 0x2a4aa7a0040>"
      ]
     },
     "execution_count": 6,
     "metadata": {},
     "output_type": "execute_result"
    }
   ],
   "source": [
    "# insert some data\n",
    "cursor.execute('''INSERT INTO users(name, phone, email) \n",
    "VALUES('Valdis', '5557241', 'valdis.s.coding@gmail')\n",
    "''')\n",
    "cursor.execute('''INSERT INTO users(name, phone, email)\n",
    "VALUES('Voldemars', '5557242', 'voldemars@gmail.com')\n",
    "''')\n",
    "cursor.execute('''INSERT INTO users(name, phone, email)\n",
    "VALUES('Alice', '12345678', 'alice@example.com')\n",
    "''')"
   ]
  },
  {
   "cell_type": "code",
   "execution_count": 3,
   "metadata": {},
   "outputs": [
    {
     "name": "stdout",
     "output_type": "stream",
     "text": [
      "('Valdis', 'valdis.s.coding@gmail', '5557241')\n",
      "('Voldemars', 'voldemars@gmail.com', '5557242')\n"
     ]
    }
   ],
   "source": [
    "# read some data from table\n",
    "# cursor.execute('''SELECT name, email, phone FROM users''')\n",
    "# user1 = cursor.fetchone()  # retrieve the first row\n",
    "# print all columns\n",
    "for row in cursor.execute('''SELECT name, email, phone FROM users'''):\n",
    "    print(row) # row is a tuple"
   ]
  },
  {
   "cell_type": "code",
   "execution_count": 7,
   "metadata": {},
   "outputs": [
    {
     "name": "stdout",
     "output_type": "stream",
     "text": [
      "We have 5 rows in our table\n"
     ]
    }
   ],
   "source": [
    "# let's get all columns from all rows\n",
    "all_rows = cursor.execute('''SELECT * FROM users''').fetchall()\n",
    "# how many rows did we get?\n",
    "print(f\"We have {len(all_rows)} rows in our table\")"
   ]
  },
  {
   "cell_type": "code",
   "execution_count": 8,
   "metadata": {},
   "outputs": [
    {
     "name": "stdout",
     "output_type": "stream",
     "text": [
      "(1, 'Valdis', '5557241', 'valdis.s.coding@gmail')\n",
      "(2, 'Voldemars', '5557242', 'voldemars@gmail.com')\n",
      "(3, 'Valdis', '5557241', 'valdis.s.coding@gmail')\n",
      "(4, 'Voldemars', '5557242', 'voldemars@gmail.com')\n",
      "(5, 'Alice', '12345678', 'alice@example.com')\n"
     ]
    }
   ],
   "source": [
    "# let's print the rows from all_rows\n",
    "for row in all_rows:\n",
    "    print(row)"
   ]
  },
  {
   "cell_type": "code",
   "execution_count": 9,
   "metadata": {},
   "outputs": [
    {
     "name": "stdout",
     "output_type": "stream",
     "text": [
      "Data type of row is <class 'tuple'>\n"
     ]
    }
   ],
   "source": [
    "# let's see the type of last row\n",
    "print(f\"Data type of row is {type(row)}\")"
   ]
  },
  {
   "cell_type": "code",
   "execution_count": 10,
   "metadata": {},
   "outputs": [
    {
     "name": "stdout",
     "output_type": "stream",
     "text": [
      "(5, 'Alice', '12345678', 'alice@example.com')\n"
     ]
    }
   ],
   "source": [
    "print(row) # row remained in memory since we used it in the loop"
   ]
  },
  {
   "cell_type": "code",
   "execution_count": 12,
   "metadata": {},
   "outputs": [
    {
     "name": "stdout",
     "output_type": "stream",
     "text": [
      "(0, 'id', 'INTEGER', 0, None, 1)\n",
      "(1, 'name', 'TEXT', 0, None, 0)\n",
      "(2, 'phone', 'TEXT', 0, None, 0)\n",
      "(3, 'email', 'TEXT', 0, None, 0)\n"
     ]
    }
   ],
   "source": [
    "# let's fetch column names for our table\n",
    "columns = cursor.execute('''PRAGMA table_info(users)''')\n",
    "for column in columns:\n",
    "    print(column)"
   ]
  },
  {
   "attachments": {},
   "cell_type": "markdown",
   "metadata": {},
   "source": [
    "## For more information see:\n",
    "## https://www.sqlitetutorial.net/sqlite-python/\n",
    "\n",
    "90% of applications are CRUD applications. \n",
    "CRUD stands for Create, Read, Update, Delete.\n",
    "IN SQL we use the following commands to perform CRUD operations:\n",
    "Create - insert\n",
    "Read - select\n",
    "Update - update\n",
    "Delete - delete\n",
    "\n",
    "## We use databases to achieve persistence. \n",
    "why not regular files?\n",
    "we need to store data in a structured way\n",
    "\n",
    "Regular files might be fine for a small amount of data, but as the data grows, it becomes difficult to manage it in regular files."
   ]
  },
  {
   "attachments": {},
   "cell_type": "markdown",
   "metadata": {},
   "source": [
    "## SQL Alchemy\n",
    "\n",
    "For more serious work, we can use SQL Alchemy.\n",
    "\n",
    "Install it with:\n",
    "\n",
    "```bash\n",
    "pip install sqlalchemy\n",
    "```\n",
    "\n",
    "https://www.sqlalchemy.org/\n",
    "\n",
    "Supports many different databases."
   ]
  },
  {
   "cell_type": "markdown",
   "metadata": {},
   "source": [
    "## Other databases\n",
    "\n",
    "Pretty much ALL databases support Python clients.\n",
    "\n",
    "Usually this means you install a client library and use it to connect to the database.\n",
    "\n",
    "For example for Redis (which is NoSQL) you can use:\n",
    "\n",
    "```bash\n",
    "pip install redis\n",
    "```\n",
    "More on Redis client: https://pypi.org/project/redis/"
   ]
  }
 ],
 "metadata": {
  "kernelspec": {
   "display_name": "venv312",
   "language": "python",
   "name": "python3"
  },
  "language_info": {
   "codemirror_mode": {
    "name": "ipython",
    "version": 3
   },
   "file_extension": ".py",
   "mimetype": "text/x-python",
   "name": "python",
   "nbconvert_exporter": "python",
   "pygments_lexer": "ipython3",
   "version": "3.12.5"
  },
  "orig_nbformat": 4
 },
 "nbformat": 4,
 "nbformat_minor": 2
}
