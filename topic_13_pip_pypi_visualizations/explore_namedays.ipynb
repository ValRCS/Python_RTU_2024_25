{
  "cells": [
    {
      "cell_type": "markdown",
      "id": "3f04602a",
      "metadata": {
        "id": "3f04602a"
      },
      "source": [
        "# Exploring Latvian name days library\n",
        "\n",
        "Latvian name days are celebrated on specific days of the year in Latvia.\n",
        "For example, the name \"Anna\" is celebrated on July 26th."
      ]
    },
    {
      "cell_type": "markdown",
      "id": "1e896be0",
      "metadata": {
        "id": "1e896be0"
      },
      "source": [
        "## lv-namedays library\n",
        "\n",
        "Homepage:\n",
        "\n",
        "[Github](https://github.com/CaptSolo/lv-namedays)\n",
        "\n",
        "Installation:\n",
        "```\n",
        "pip install lv-namedays\n",
        "```"
      ]
    },
    {
      "cell_type": "markdown",
      "source": [
        "## Installing from cell\n",
        "In Jupyter we can run system commands using ! syntax\n",
        "So prepend ! to any terminal command"
      ],
      "metadata": {
        "id": "UqBl1tCapSAu"
      },
      "id": "UqBl1tCapSAu"
    },
    {
      "cell_type": "code",
      "source": [
        "!pip install lv-namedays"
      ],
      "metadata": {
        "id": "qZ99qxDvpRFV",
        "outputId": "332e672b-3730-44d3-b88a-53fecda0dc22",
        "colab": {
          "base_uri": "https://localhost:8080/"
        }
      },
      "id": "qZ99qxDvpRFV",
      "execution_count": 2,
      "outputs": [
        {
          "output_type": "stream",
          "name": "stdout",
          "text": [
            "Collecting lv-namedays\n",
            "  Downloading lv_namedays-0.5.2-py3-none-any.whl.metadata (2.7 kB)\n",
            "Requirement already satisfied: click in /usr/local/lib/python3.11/dist-packages (from lv-namedays) (8.1.8)\n",
            "Downloading lv_namedays-0.5.2-py3-none-any.whl (31 kB)\n",
            "Installing collected packages: lv-namedays\n",
            "Successfully installed lv-namedays-0.5.2\n"
          ]
        }
      ]
    },
    {
      "cell_type": "code",
      "execution_count": 3,
      "id": "2d5df9ed",
      "metadata": {
        "id": "2d5df9ed",
        "outputId": "83439f84-2ad2-41ab-e69e-67f407641984",
        "colab": {
          "base_uri": "https://localhost:8080/"
        }
      },
      "outputs": [
        {
          "output_type": "stream",
          "name": "stdout",
          "text": [
            "lv-namedays is installed\n",
            "lv-namedays package contents:\n",
            "['NameDayDB', '__builtins__', '__cached__', '__doc__', '__file__', '__loader__', '__name__', '__package__', '__path__', '__spec__', 'nameday']\n",
            "Nameday for May 10th: ['Maija', 'Paija']\n",
            "First 10 items in the dictionary:\n",
            "('01-01', ['Laimnesis', 'Solvita', 'Solvija'])\n",
            "('01-02', ['Indulis', 'Ivo', 'Iva', 'Ivis'])\n",
            "('01-03', ['Miervaldis', 'Miervalda', 'Ringolds'])\n",
            "('01-04', ['Spodra', 'Ilva', 'Ilvita'])\n",
            "('01-05', ['Sīmanis', 'Zintis'])\n",
            "('01-06', ['Spulga', 'Arnita'])\n",
            "('01-07', ['Rota', 'Zigmārs', 'Juliāns', 'Digmārs'])\n",
            "('01-08', ['Gatis', 'Ivanda'])\n",
            "('01-09', ['Kaspars', 'Aksels', 'Alta'])\n",
            "('01-10', ['Tatjana', 'Dorisa'])\n",
            "Today's date: 04-30\n",
            "Nameday for today: ['Lilija', 'Liāna']\n",
            "Anna's nameday:\n",
            "07-26\n"
          ]
        }
      ],
      "source": [
        "# let's try importing lv-namedays\n",
        "try:\n",
        "    import lv_namedays\n",
        "    print(\"lv-namedays is installed\")\n",
        "except ImportError:\n",
        "    print(\"lv-namedays is not installed. Please install it using 'pip install lv-namedays'\")\n",
        "    # exit(1) # nothing to do here`\n",
        "\n",
        "# let's see what we have in the package\n",
        "print(\"lv-namedays package contents:\")\n",
        "print(dir(lv_namedays))\n",
        "\n",
        "# let's get db object\n",
        "db = lv_namedays.NameDayDB()\n",
        "# let's get nameday for May 10th\n",
        "print(f\"Nameday for May 10th: {db.get_names_for_date('05-10')}\")\n",
        "\n",
        "# we could just get whole dictionary\n",
        "name_dict = db.namedays # so we simply alias it to a shorter name\n",
        "# let's see first 10 items in the dictionary\n",
        "print(\"First 10 items in the dictionary:\")\n",
        "list_items = list(name_dict.items()) # convert to list to get first 10 items\n",
        "for item in list_items[:10]:\n",
        "    print(item) # print each item\n",
        "\n",
        "# let's get today's date in format  'MM-DD'\n",
        "# we need to pad month with 0 if it is less than 10\n",
        "from datetime import datetime\n",
        "today = datetime.today()\n",
        "today_str = f\"{today.month:02d}-{today.day:02d}\"\n",
        "print(f\"Today's date: {today_str}\")\n",
        "# let's get nameday for today\n",
        "print(f\"Nameday for today: {db.get_names_for_date(today_str)}\")\n",
        "\n",
        "# how about Anna?\n",
        "print(\"Anna's nameday:\")\n",
        "print(db.get_date_for_name(\"Anna\")) # should be 26.07."
      ]
    }
  ],
  "metadata": {
    "kernelspec": {
      "display_name": "myvenv",
      "language": "python",
      "name": "python3"
    },
    "language_info": {
      "codemirror_mode": {
        "name": "ipython",
        "version": 3
      },
      "file_extension": ".py",
      "mimetype": "text/x-python",
      "name": "python",
      "nbconvert_exporter": "python",
      "pygments_lexer": "ipython3",
      "version": "3.12.5"
    },
    "colab": {
      "provenance": []
    }
  },
  "nbformat": 4,
  "nbformat_minor": 5
}