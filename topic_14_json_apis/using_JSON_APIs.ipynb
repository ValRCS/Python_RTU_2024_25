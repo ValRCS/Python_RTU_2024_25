{
 "cells": [
  {
   "cell_type": "markdown",
   "metadata": {},
   "source": [
    "# JSON and JSON APIs\n",
    "\n",
    "## JSON - Javascript Object Notation\n",
    "\n",
    "JSON is the most widely format for data interchange on the web. It is a lightweight data interchange format that is easy for humans to read and write and easy for machines to parse and generate. It is based on a subset of the JavaScript Programming Language, Standard ECMA-262 3rd Edition - December 1999. JSON is a text format that is completely language independent but uses conventions that are familiar to programmers of the C-family of languages, including C, C++, C#, Java, JavaScript, Perl, Python, and many others. These properties make JSON an ideal data-interchange language.\n",
    "\n",
    "### Inventor - Douglas Crockford from Yahoo\n",
    "\n",
    "* Goal - To provide a simple data exchange format that is easy to read and write.\n",
    "* Human Readable - JSON is easy to read and write.\n",
    "* Machine Parsable - JSON is easy to parse and generate for computers.\n",
    "* JSON is language independent.\n",
    "* JSON is \"self-describing\" and easy to understand.\n",
    "* JSON is built on two structures:\n",
    "    * A collection of name/value pairs. In various languages, this is realized as an object, record, struct, dictionary, hash table, keyed list, or associative array.\n",
    "    * An ordered list of values. In most languages, this is realized as an array, vector, list, or sequence.\n",
    "\n",
    "\n",
    "### JSON Official Page\n",
    "\n",
    "[JSON Official Page](https://www.json.org/json-en.html)"
   ]
  },
  {
   "cell_type": "markdown",
   "metadata": {},
   "source": [
    "## JSON Syntax\n",
    "\n",
    "Main thing to remember is that JSON is a text format that is completely language independent but uses conventions that are familiar to programmers of the C-family of languages, including C, C++, C#, Java, JavaScript, Perl, Python, and many others."
   ]
  },
  {
   "cell_type": "code",
   "execution_count": 1,
   "metadata": {},
   "outputs": [
    {
     "name": "stdout",
     "output_type": "stream",
     "text": [
      "Data type of foods: <class 'list'>\n",
      "Data type of first element in foods: <class 'dict'>\n"
     ]
    }
   ],
   "source": [
    "# let's make a simple JSON string\n",
    "import json # standard library # no pip install needed\n",
    "\n",
    "# let's make a simple list of dictionaries that describe my favorite foods\n",
    "foods = [{\"name\": \"pizza\", \"type\": \"Italian\", \"price\": 10.99},\n",
    "         {\"name\": \"sushi\", \"type\": \"Japanese\", \"price\": 24.99},\n",
    "         {\"name\": \"cheeseburger\", \"type\": \"American\", \"price\": 8.99},\n",
    "         {\"name\": \"tacos\", \"type\": \"Mexican\", \"price\": 12.99},\n",
    "         ]\n",
    "\n",
    "# the keys and values could be anything really valid in Python\n",
    "\n",
    "# print data type of foods\n",
    "print(\"Data type of foods:\", type(foods))\n",
    "# print data type of first element in foods\n",
    "print(\"Data type of first element in foods:\", type(foods[0]))\n",
    "\n",
    "# at the moment foods has no relationship to JSON it is just data in Python"
   ]
  },
  {
   "cell_type": "code",
   "execution_count": 2,
   "metadata": {},
   "outputs": [
    {
     "name": "stdout",
     "output_type": "stream",
     "text": [
      "{'name': 'pizza', 'type': 'Italian', 'price': 10.99}\n",
      "{'name': 'sushi', 'type': 'Japanese', 'price': 24.99}\n",
      "{'name': 'cheeseburger', 'type': 'American', 'price': 8.99}\n",
      "{'name': 'tacos', 'type': 'Mexican', 'price': 12.99}\n"
     ]
    }
   ],
   "source": [
    "# let's print them line by line\n",
    "for food in foods:\n",
    "    print(food)"
   ]
  },
  {
   "cell_type": "code",
   "execution_count": 3,
   "metadata": {},
   "outputs": [
    {
     "name": "stdout",
     "output_type": "stream",
     "text": [
      "Data type of foods_json: <class 'str'>\n"
     ]
    }
   ],
   "source": [
    "# now we will convert this list of dictionaries to a JSON string\n",
    "# it is called serialization in a programming context\n",
    "# why because Python data format is not understood by other programming languages\n",
    "# strings on other hand can be understood by other programming languages and humans\n",
    "foods_json = json.dumps(foods) # dumps takes any Python data type and converts it to a JSON string\n",
    "print(\"Data type of foods_json:\", type(foods_json))"
   ]
  },
  {
   "cell_type": "code",
   "execution_count": 4,
   "metadata": {},
   "outputs": [
    {
     "name": "stdout",
     "output_type": "stream",
     "text": [
      "foods_json:\n",
      " [{\"name\": \"pizza\", \"type\": \"Italian\", \"price\": 10.99}, {\"name\": \"sushi\", \"type\": \"Japanese\", \"price\": 24.99}, {\"name\": \"cheeseburger\", \"type\": \"American\", \"price\": 8.99}, {\"name\": \"tacos\", \"type\": \"Mexican\", \"price\": 12.99}]\n"
     ]
    }
   ],
   "source": [
    "# print the JSON string\n",
    "print(\"foods_json:\\n\", foods_json)"
   ]
  },
  {
   "cell_type": "code",
   "execution_count": 5,
   "metadata": {},
   "outputs": [
    {
     "name": "stdout",
     "output_type": "stream",
     "text": [
      "Data type of foods_from_json: <class 'list'>\n"
     ]
    }
   ],
   "source": [
    "# let's get back the data from the JSON string\n",
    "# it is called deserialization in a programming context\n",
    "# we are converting a JSON string to a Python data type\n",
    "foods_from_json = json.loads(foods_json) # loads takes a JSON string and converts it to a Python data type\n",
    "print(\"Data type of foods_from_json:\", type(foods_from_json))"
   ]
  },
  {
   "cell_type": "code",
   "execution_count": 6,
   "metadata": {},
   "outputs": [
    {
     "name": "stdout",
     "output_type": "stream",
     "text": [
      "foods_from_json:\n",
      "{'name': 'pizza', 'type': 'Italian', 'price': 10.99}\n",
      "{'name': 'sushi', 'type': 'Japanese', 'price': 24.99}\n",
      "{'name': 'cheeseburger', 'type': 'American', 'price': 8.99}\n",
      "{'name': 'tacos', 'type': 'Mexican', 'price': 12.99}\n"
     ]
    }
   ],
   "source": [
    "# print all data\n",
    "print(\"foods_from_json:\")\n",
    "# again let's use a loop since foods_from_json is a list of dictionaries\n",
    "for food in foods_from_json:\n",
    "    print(food)"
   ]
  },
  {
   "cell_type": "markdown",
   "metadata": {},
   "source": [
    "## Saving data to JSON file"
   ]
  },
  {
   "cell_type": "code",
   "execution_count": 7,
   "metadata": {},
   "outputs": [
    {
     "name": "stdout",
     "output_type": "stream",
     "text": [
      "foods: [{'name': 'pizza', 'type': 'Italian', 'price': 10.99}, {'name': 'sushi', 'type': 'Japanese', 'price': 24.99}, {'name': 'cheeseburger', 'type': 'American', 'price': 8.99}, {'name': 'tacos', 'type': 'Mexican', 'price': 12.99}, {'name': 'kartupeļi', 'type': 'Latvian', 'price': 3.99}]\n"
     ]
    }
   ],
   "source": [
    "# first let's add some latvian food item to our list\n",
    "# foods is just a Python list so I can use the append method\n",
    "foods.append({\"name\": \"kartupeļi\", \"type\": \"Latvian\", \"price\": 3.99})\n",
    "print(\"foods:\", foods)"
   ]
  },
  {
   "cell_type": "code",
   "execution_count": 8,
   "metadata": {},
   "outputs": [],
   "source": [
    "# let's save our data to a file\n",
    "with open(\"foods.json\", mode=\"w\") as file: # again file is a file stream\n",
    "    json.dump(foods, file) # dump takes a Python data type and saves it to a file in JSON format\n",
    "    # note dump not dumps, dump takes also a file stream as second argument"
   ]
  },
  {
   "cell_type": "code",
   "execution_count": 10,
   "metadata": {},
   "outputs": [],
   "source": [
    "# let's add indent to make it more readable\n",
    "with open(\"foods_pretty.json\", \"w\") as file:\n",
    "    json.dump(foods, file, indent=2) # indent makes it more readable"
   ]
  },
  {
   "cell_type": "code",
   "execution_count": 12,
   "metadata": {},
   "outputs": [],
   "source": [
    "# let's add encoding utf-8 to make sure it is saved in utf-8 format\n",
    "with open(\"foods_utf8.json\", mode=\"w\", encoding=\"utf-8\") as file:\n",
    "    json.dump(foods, file, indent=4, ensure_ascii=False) # ensure_ascii=False makes sure it is saved in utf-8 format"
   ]
  },
  {
   "cell_type": "markdown",
   "metadata": {},
   "source": [
    "## Reading JSON files\n",
    "\n"
   ]
  },
  {
   "cell_type": "code",
   "execution_count": 15,
   "metadata": {},
   "outputs": [
    {
     "name": "stdout",
     "output_type": "stream",
     "text": [
      "Data type of foods_from_file: <class 'list'>\n",
      "{'name': 'pizza', 'type': 'Italian', 'price': 10.99}\n",
      "{'name': 'sushi', 'type': 'Japanese', 'price': 24.99}\n",
      "{'name': 'cheeseburger', 'type': 'American', 'price': 8.99}\n",
      "{'name': 'tacos', 'type': 'Mexican', 'price': 12.99}\n",
      "{'name': 'kartupeļi', 'type': 'Latvian', 'price': 3.99, 'description': 'Latvian potato dish, often served with sour cream or butter.', 'commentfield': 'This is a comment field for the Latvian dish.', 'rating': 4.5}\n"
     ]
    }
   ],
   "source": [
    "# we will use load to read the data from the file\n",
    "# we will open the utf-8 file\n",
    "with open(\"foods_utf8.json\", \"r\", encoding=\"utf-8\") as file:\n",
    "    foods_from_file = json.load(file) # load takes a file stream and reads the JSON data from it\n",
    "# file is automatically closed after the with block is done\n",
    "\n",
    "# here foods_from_file is a Python data type - not a string!\n",
    "print(\"Data type of foods_from_file:\", type(foods_from_file))\n",
    "# it is a list of dictionaries\n",
    "# since we know we are loading a list of dictionaries we can print it line by line\n",
    "# import this will not work if the structure is different! \n",
    "# print what we loaded line by line\n",
    "for food in foods_from_file:\n",
    "    print(food)"
   ]
  },
  {
   "cell_type": "markdown",
   "metadata": {},
   "source": [
    "## JSON vs Python data types\n",
    "\n",
    "Not all of Python's data types can be represented in JSON. JSON supports the following data types:\n",
    "* Number (integer, real, or floating point)\n",
    "* String (double-quoted Unicode with backslash escaping)\n",
    "* Boolean (true and false)\n",
    "* Array (an ordered sequence of values, comma-separated and enclosed in square brackets)\n",
    "* Object (collection of key/value pairs, comma-separated and enclosed in curly braces)\n",
    "\n",
    "JSON does not support:\n",
    "* NaN, Infinity, -Infinity\n",
    "* Date, datetime, time, timedelta\n",
    "* Set, frozenset\n",
    "* Bytes, bytearray\n",
    "* complex\n",
    "* comments"
   ]
  },
  {
   "cell_type": "code",
   "execution_count": 16,
   "metadata": {},
   "outputs": [
    {
     "name": "stdout",
     "output_type": "stream",
     "text": [
      "int: 1\n",
      "float: 1.1\n",
      "str: hello\n",
      "list: [1, 2, 3]\n",
      "dict: {'a': 1, 'b': 2}\n",
      "bool: True\n",
      "bool2: False\n",
      "none: None\n",
      "tuple: (1, 2, 3)\n"
     ]
    }
   ],
   "source": [
    "# let's see the loss of some types in action\n",
    "\n",
    "# let's make a dictionary with some data types\n",
    "data = {\"int\": 1, \n",
    "        \"float\": 1.1, \n",
    "        \"str\": \"hello\", \n",
    "        \"list\": [1, 2, 3], \n",
    "        \"dict\": {\"a\": 1, \"b\": 2},\n",
    "        \"bool\": True,\n",
    "        \"bool2\": False,\n",
    "        \"none\": None,\n",
    "        \"tuple\": (1, 2, 3),\n",
    "        # \"set\": {1, 2, 3,3,3} # sets are not JSON serializable\n",
    "        \n",
    "        }\n",
    "\n",
    "# print data one by one\n",
    "for key, value in data.items():\n",
    "    print(f\"{key}: {value}\")"
   ]
  },
  {
   "cell_type": "code",
   "execution_count": 17,
   "metadata": {},
   "outputs": [
    {
     "name": "stdout",
     "output_type": "stream",
     "text": [
      "Data type of data_json: <class 'str'>\n",
      "{\n",
      "    \"int\": 1,\n",
      "    \"float\": 1.1,\n",
      "    \"str\": \"hello\",\n",
      "    \"list\": [\n",
      "        1,\n",
      "        2,\n",
      "        3\n",
      "    ],\n",
      "    \"dict\": {\n",
      "        \"a\": 1,\n",
      "        \"b\": 2\n",
      "    },\n",
      "    \"bool\": true,\n",
      "    \"bool2\": false,\n",
      "    \"none\": null,\n",
      "    \"tuple\": [\n",
      "        1,\n",
      "        2,\n",
      "        3\n",
      "    ]\n",
      "}\n"
     ]
    }
   ],
   "source": [
    "# let's convert it to an indented JSON string\n",
    "data_json = json.dumps(data, indent=4)\n",
    "# data type of data_json is string\n",
    "print(\"Data type of data_json:\", type(data_json))\n",
    "# print the JSON string - this will be multi-line\n",
    "print(data_json)"
   ]
  },
  {
   "cell_type": "code",
   "execution_count": 18,
   "metadata": {},
   "outputs": [
    {
     "name": "stdout",
     "output_type": "stream",
     "text": [
      "int: 1\n",
      "float: 1.1\n",
      "str: hello\n",
      "list: [1, 2, 3]\n",
      "dict: {'a': 1, 'b': 2}\n",
      "bool: True\n",
      "bool2: False\n",
      "none: None\n",
      "tuple: [1, 2, 3]\n"
     ]
    }
   ],
   "source": [
    "# therefore when we convert from JSON string back to Python data type\n",
    "# instead of original tuple we will get a list\n",
    "data_from_json = json.loads(data_json)\n",
    "# print data one by one\n",
    "for key, value in data_from_json.items():\n",
    "    print(f\"{key}: {value}\")\n",
    "\n",
    "# note that there is no more tuple but a list - because JSON does not have a tuple data type"
   ]
  },
  {
   "cell_type": "markdown",
   "metadata": {},
   "source": [
    "## Conclusion on JSON basics\n",
    "\n",
    "So we have a very flexible format which is a string and can be easily converted to Python data types. We can save data to JSON files and read data from JSON files.\n",
    "\n",
    "There are some limitations on the data types that can be represented in JSON but for most of the use cases, JSON is a very good format to use.\n",
    "\n",
    "JSON itself does not support comments, there are newer JSON formats like JSON5 which support comments. However they are not as widely used as JSON."
   ]
  },
  {
   "cell_type": "markdown",
   "metadata": {},
   "source": [
    "## Pickle vs JSON\n",
    "\n",
    "Python offers two main serialization formats: Pickle and JSON. Both formats are used to serialize and deserialize Python objects, but they have some key differences:\n",
    "* Pickle is a binary serialization format, while JSON is a text-based format.\n",
    "\n",
    "* Pickle is a Python-specific serialization format, while JSON is a language-independent format.\n",
    "* Pickle can serialize a wider range of Python objects, including custom classes and functions, while JSON can only serialize basic data types (strings, numbers, lists, dictionaries)."
   ]
  },
  {
   "cell_type": "code",
   "execution_count": null,
   "metadata": {},
   "outputs": [],
   "source": [
    "# let's pickle some data\n",
    "import pickle # standard library # no pip install needed\n",
    "# pickle is a Python specific serialization format\n",
    "# it is not human readable and not cross platform\n",
    "# it is only for Python and not for other programming languages\n",
    "\n",
    "# let's save our data to a file using pickle\n",
    "# common extension for pickle files is .pickle or .pkl\n",
    "with open(\"foods.pickle\", mode=\"wb\") as file: # wb means write binarby\n",
    "    pickle.dump(foods, file) # dump takes a Python data type and saves it to a file in pickle format"
   ]
  },
  {
   "cell_type": "code",
   "execution_count": 21,
   "metadata": {},
   "outputs": [],
   "source": [
    "# how about saving our data to pickle file \n",
    "# so let's save data to a pickle file\n",
    "with open(\"data.pickle\", mode=\"wb\") as file: # wb means write binary\n",
    "    pickle.dump(data, file) # dump takes a Python data type and saves it to a file in pickle format"
   ]
  },
  {
   "cell_type": "code",
   "execution_count": 22,
   "metadata": {},
   "outputs": [
    {
     "name": "stdout",
     "output_type": "stream",
     "text": [
      "int: 1\n",
      "float: 1.1\n",
      "str: hello\n",
      "list: [1, 2, 3]\n",
      "dict: {'a': 1, 'b': 2}\n",
      "bool: True\n",
      "bool2: False\n",
      "none: None\n",
      "tuple: (1, 2, 3)\n"
     ]
    }
   ],
   "source": [
    "# now we should be able to unpickle the data without losing any data types\n",
    "with open(\"data.pickle\", mode=\"rb\") as file: # rb means read binary\n",
    "    unpickled_data = pickle.load(file) # load takes a file stream and reads the pickle data from it\n",
    "\n",
    "# unlike JSON we should have a tuple back\n",
    "# let's print the data one by one\n",
    "for key, value in unpickled_data.items():\n",
    "    print(f\"{key}: {value}\")"
   ]
  },
  {
   "cell_type": "markdown",
   "metadata": {},
   "source": [
    "## JSON APIs\n",
    "\n",
    "JSON data is often used in APIs. APIs are a set of rules and protocols that allow one software application to communicate with another.\n",
    "\n",
    "Often an internet API will return data in JSON format. This data can be used in your Python program.\n",
    "\n",
    "### Sources of free APIs for testing\n",
    "\n",
    "#### Testing APIs\n",
    "\n",
    "* [JSONPlaceholder](https://jsonplaceholder.typicode.com/) - Fake Online REST API for Testing and Prototyping\n"
   ]
  },
  {
   "cell_type": "code",
   "execution_count": 25,
   "metadata": {},
   "outputs": [
    {
     "name": "stdout",
     "output_type": "stream",
     "text": [
      "requests library is installed\n",
      "requests library version: 2.32.3\n"
     ]
    }
   ],
   "source": [
    "# we could use standard library tools to get data from internet\n",
    "# instead we will use requests library - which is not part of standard library\n",
    "# requests is a third party library - very popular for making HTTP requests\n",
    "# docs: https://docs.python-requests.org/en/master/\n",
    "\n",
    "# try to import requests\n",
    "try:\n",
    "    import requests\n",
    "    print(\"requests library is installed\")\n",
    "    # print version\n",
    "    print(f\"requests library version: {requests.__version__}\")\n",
    "except ImportError:\n",
    "    print(\"requests library is not installed\")\n",
    "    print(\"please install it with: pip install requests\")\n",
    "\n",
    "# Google Colab has requests library installed by default and many other libraries"
   ]
  },
  {
   "cell_type": "code",
   "execution_count": null,
   "metadata": {},
   "outputs": [
    {
     "name": "stdout",
     "output_type": "stream",
     "text": [
      "Collecting requests\n",
      "  Using cached requests-2.32.3-py3-none-any.whl.metadata (4.6 kB)\n",
      "Collecting charset-normalizer<4,>=2 (from requests)\n",
      "  Downloading charset_normalizer-3.4.2-cp312-cp312-win_amd64.whl.metadata (36 kB)\n",
      "Collecting idna<4,>=2.5 (from requests)\n",
      "  Using cached idna-3.10-py3-none-any.whl.metadata (10 kB)\n",
      "Collecting urllib3<3,>=1.21.1 (from requests)\n",
      "  Downloading urllib3-2.4.0-py3-none-any.whl.metadata (6.5 kB)\n",
      "Collecting certifi>=2017.4.17 (from requests)\n",
      "  Downloading certifi-2025.4.26-py3-none-any.whl.metadata (2.5 kB)\n",
      "Using cached requests-2.32.3-py3-none-any.whl (64 kB)\n",
      "Downloading certifi-2025.4.26-py3-none-any.whl (159 kB)\n",
      "Downloading charset_normalizer-3.4.2-cp312-cp312-win_amd64.whl (105 kB)\n",
      "Using cached idna-3.10-py3-none-any.whl (70 kB)\n",
      "Downloading urllib3-2.4.0-py3-none-any.whl (128 kB)\n",
      "Installing collected packages: urllib3, idna, charset-normalizer, certifi, requests\n",
      "Successfully installed certifi-2025.4.26 charset-normalizer-3.4.2 idna-3.10 requests-2.32.3 urllib3-2.4.0\n"
     ]
    },
    {
     "name": "stderr",
     "output_type": "stream",
     "text": [
      "\n",
      "[notice] A new release of pip is available: 24.2 -> 25.1\n",
      "[notice] To update, run: python.exe -m pip install --upgrade pip\n"
     ]
    }
   ],
   "source": [
    "# !pip install requests\n",
    "# ! is just like using terminal command\n",
    "# again we only need to install it once then we can comment it out"
   ]
  },
  {
   "cell_type": "code",
   "execution_count": 26,
   "metadata": {},
   "outputs": [
    {
     "name": "stdout",
     "output_type": "stream",
     "text": [
      "url: https://jsonplaceholder.typicode.com/todos\n"
     ]
    }
   ],
   "source": [
    "# to make a request we first need url - uniform resource locator\n",
    "url = \"https://jsonplaceholder.typicode.com/todos\"\n",
    "print(\"url:\", url)"
   ]
  },
  {
   "cell_type": "markdown",
   "metadata": {},
   "source": [
    "### Base recipe for using requests and JSON\n"
   ]
  },
  {
   "cell_type": "code",
   "execution_count": 28,
   "metadata": {},
   "outputs": [
    {
     "name": "stdout",
     "output_type": "stream",
     "text": [
      "response code: 200\n"
     ]
    }
   ],
   "source": [
    "# now I will make a htpp GET request to the url\n",
    "# kind of similar to what a web browser does when you type in a url\n",
    "\n",
    "response = requests.get(url) # this connects to the url and gets the data\n",
    "# thik of requests.get as similar to what a browser does when you type in a url\n",
    "# print response code - could check for 200 which means success\n",
    "print(\"response code:\", response.status_code)\n",
    "# wikipedia has a list of response codes: https://en.wikipedia.org/wiki/List_of_HTTP_status_codes"
   ]
  },
  {
   "cell_type": "code",
   "execution_count": 29,
   "metadata": {},
   "outputs": [
    {
     "name": "stdout",
     "output_type": "stream",
     "text": [
      "Data type of response: <class 'requests.models.Response'>\n"
     ]
    }
   ],
   "source": [
    "# what data type is response\n",
    "print(\"Data type of response:\", type(response))"
   ]
  },
  {
   "cell_type": "code",
   "execution_count": 30,
   "metadata": {},
   "outputs": [
    {
     "name": "stdout",
     "output_type": "stream",
     "text": [
      "text: [\n",
      "  {\n",
      "    \"userId\": 1,\n",
      "    \"id\": 1,\n",
      "    \"title\": \"delectus aut autem\",\n",
      "    \"completed\": false\n",
      "  },\n",
      " \n"
     ]
    }
   ],
   "source": [
    "# now since response is 200 we are good to go\n",
    "# we could read the text from the response\n",
    "text = response.text\n",
    "# print first 100 characters of the text\n",
    "print(\"text:\", text[:100])"
   ]
  },
  {
   "cell_type": "code",
   "execution_count": 31,
   "metadata": {},
   "outputs": [
    {
     "name": "stdout",
     "output_type": "stream",
     "text": [
      "data type of data: <class 'list'>\n",
      "first element of data: {'userId': 1, 'id': 1, 'title': 'delectus aut autem', 'completed': False}\n"
     ]
    }
   ],
   "source": [
    "# looks like JSON string we can conver it to a Python data type\n",
    "data = json.loads(text) # again note loads not load since we are converting a string to a Python data type\n",
    "# print data type of data\n",
    "# we should have normal Python data type - list of dictionaries\n",
    "print(\"data type of data:\", type(data))\n",
    "# print first element of data\n",
    "print(\"first element of data:\", data[0])"
   ]
  },
  {
   "cell_type": "code",
   "execution_count": 32,
   "metadata": {},
   "outputs": [
    {
     "name": "stdout",
     "output_type": "stream",
     "text": [
      "data type of data: <class 'list'>\n",
      "first element of data: {'userId': 1, 'id': 1, 'title': 'delectus aut autem', 'completed': False}\n"
     ]
    }
   ],
   "source": [
    "# usually if we know our response is JSON we can use response.json() method immediately\n",
    "data = response.json() # very convenient\n",
    "# above is same as data = json.loads(response.text) # hope you agree above is more convenient\n",
    "# print data type of data\n",
    "print(\"data type of data:\", type(data))\n",
    "# print first element of data\n",
    "print(\"first element of data:\", data[0])"
   ]
  },
  {
   "cell_type": "markdown",
   "metadata": {},
   "source": [
    "### Using data from JSON APIs\n",
    "\n",
    "Now that we have data in Python data format, we do whatever needs to be done with the data. We can use the data to do some analysis, visualization, etc.\n",
    "\n",
    "We can adjust data as needed and save it to a file or database."
   ]
  },
  {
   "cell_type": "markdown",
   "metadata": {},
   "source": []
  },
  {
   "cell_type": "markdown",
   "metadata": {},
   "source": [
    "### Awesome JSON APIs\n",
    "\n",
    "* [Awesome JSON Datasets](https://github.com/public-api-lists/public-api-lists)\n",
    "\n"
   ]
  },
  {
   "cell_type": "code",
   "execution_count": 30,
   "metadata": {},
   "outputs": [
    {
     "name": "stdout",
     "output_type": "stream",
     "text": [
      "cat_url: https://cat-fact.herokuapp.com/facts\n",
      "cat_facts: [{'status': {'verified': True, 'sentCount': 1}, '_id': '58e008780aac31001185ed05', 'user': '58e007480aac31001185ecef', 'text': 'Owning a cat can reduce the risk of stroke and heart attack by a third.', '__v': 0, 'source': 'user', 'updatedAt': '2020-08-23T20:20:01.611Z', 'type': 'cat', 'createdAt': '2018-03-29T20:20:03.844Z', 'deleted': False, 'used': False}, {'status': {'verified': True, 'sentCount': 1}, '_id': '58e009390aac31001185ed10', 'user': '58e007480aac31001185ecef', 'text': \"Most cats are lactose intolerant, and milk can cause painful stomach cramps and diarrhea. It's best to forego the milk and just give your cat the standard: clean, cool drinking water.\", '__v': 0, 'source': 'user', 'updatedAt': '2020-08-23T20:20:01.611Z', 'type': 'cat', 'createdAt': '2018-03-04T21:20:02.979Z', 'deleted': False, 'used': False}, {'status': {'verified': True, 'sentCount': 1}, '_id': '588e746706ac2b00110e59ff', 'user': '588e6e8806ac2b00110e59c3', 'text': 'Domestic cats spend about 70 percent of the day sleeping and 15 percent of the day grooming.', '__v': 0, 'source': 'user', 'updatedAt': '2020-08-26T20:20:02.359Z', 'type': 'cat', 'createdAt': '2018-01-14T21:20:02.750Z', 'deleted': False, 'used': True}, {'status': {'verified': True, 'sentCount': 1}, '_id': '58e008ad0aac31001185ed0c', 'user': '58e007480aac31001185ecef', 'text': \"The frequency of a domestic cat's purr is the same at which muscles and bones repair themselves.\", '__v': 0, 'source': 'user', 'updatedAt': '2020-08-24T20:20:01.867Z', 'type': 'cat', 'createdAt': '2018-03-15T20:20:03.281Z', 'deleted': False, 'used': True}, {'status': {'verified': True, 'sentCount': 1}, '_id': '58e007cc0aac31001185ecf5', 'user': '58e007480aac31001185ecef', 'text': 'Cats are the most popular pet in the United States: There are 88 million pet cats and 74 million dogs.', '__v': 0, 'source': 'user', 'updatedAt': '2020-08-23T20:20:01.611Z', 'type': 'cat', 'createdAt': '2018-03-01T21:20:02.713Z', 'deleted': False, 'used': False}]\n"
     ]
    }
   ],
   "source": [
    "# let's get some cat facts from the Cat Facts API\n",
    "\n",
    "cat_url = \"https://cat-fact.herokuapp.com/facts\"\n",
    "print(\"cat_url:\", cat_url)\n",
    "cat_facts  = requests.get(cat_url).json() # we assume it will not fail and is JSON\n",
    "# raw facts\n",
    "print(\"cat_facts:\", cat_facts)\n"
   ]
  },
  {
   "cell_type": "code",
   "execution_count": 31,
   "metadata": {},
   "outputs": [
    {
     "name": "stdout",
     "output_type": "stream",
     "text": [
      "Owning a cat can reduce the risk of stroke and heart attack by a third.\n",
      "Most cats are lactose intolerant, and milk can cause painful stomach cramps and diarrhea. It's best to forego the milk and just give your cat the standard: clean, cool drinking water.\n",
      "Domestic cats spend about 70 percent of the day sleeping and 15 percent of the day grooming.\n",
      "The frequency of a domestic cat's purr is the same at which muscles and bones repair themselves.\n",
      "Cats are the most popular pet in the United States: There are 88 million pet cats and 74 million dogs.\n"
     ]
    }
   ],
   "source": [
    "# let's get only facts from the cat facts\n",
    "# the facts are in the \"text\" key for each dictionary which we have a list of\n",
    "cat_facts_text = []\n",
    "for fact in cat_facts:\n",
    "    cat_facts_text.append(fact.get(\"text\", \"no fact\")) # the rest of keys we do not need\n",
    "    # we expect that text key exists but just in case we use get method\n",
    "\n",
    "# print cat facts one by one\n",
    "for fact in cat_facts_text:\n",
    "    print(fact)"
   ]
  },
  {
   "cell_type": "code",
   "execution_count": 33,
   "metadata": {},
   "outputs": [
    {
     "name": "stdout",
     "output_type": "stream",
     "text": [
      "cat_url_page2: https://cat-fact.herokuapp.com/facts/random?animal_type=cat&amount=50\n"
     ]
    }
   ],
   "source": [
    "# we could get more cat facts by adding specific parameters to the url\n",
    "# what parameters are available we would need to experiment or read documentation.. hopefully there is documentation\n",
    "cat_url_page2 = \"https://cat-fact.herokuapp.com/facts/random?animal_type=cat&amount=50\"\n",
    "print(\"cat_url_page2:\", cat_url_page2)"
   ]
  },
  {
   "cell_type": "code",
   "execution_count": null,
   "metadata": {},
   "outputs": [],
   "source": [
    "# let's get"
   ]
  },
  {
   "cell_type": "markdown",
   "metadata": {},
   "source": [
    "## Some tips for using requests for JSON APIs"
   ]
  },
  {
   "cell_type": "code",
   "execution_count": 34,
   "metadata": {},
   "outputs": [
    {
     "name": "stdout",
     "output_type": "stream",
     "text": [
      "response code: 200\n"
     ]
    }
   ],
   "source": [
    "# you might need to add headers to your request\n",
    "# some APIs require headers\n",
    "# headers are like metadata for the request\n",
    "# you can add headers to your request\n",
    "\n",
    "# let's get some cat facts from the Cat Facts API\n",
    "# we will add headers to our request\n",
    "\n",
    "response = requests.get(cat_url_page2, headers={\"Accept\": \"application/json\"})\n",
    "# so headers is a dictionary where keys are header names and values are header values\n",
    "# keys could be \"Accept\", \"User-Agent\", \"Content-Type\", \"Authorization\" etc.\n",
    "# we are saying that we want JSON data\n",
    "# print code\n",
    "print(\"response code:\", response.status_code)"
   ]
  },
  {
   "cell_type": "code",
   "execution_count": null,
   "metadata": {},
   "outputs": [],
   "source": [
    "# now some APIs require authentication and authorization\n",
    "\n",
    "# authentication is proving who you are\n",
    "# authorization is proving you have permission to do something\n",
    "\n",
    "# let's say you have API_KEY for some service\n",
    "\n",
    "# then you could use headers to send the API_KEY to the service\n",
    "\n",
    "# we could also use shorter syntax in requests\n",
    "# we could pass parameters as a dictionary to get method\n",
    "\n",
    "# more information on authentication and authorization in requests library\n",
    "# https://docs.python-requests.org/en/master/user/authentication/\n"
   ]
  }
 ],
 "metadata": {
  "kernelspec": {
   "display_name": "myvenv",
   "language": "python",
   "name": "python3"
  },
  "language_info": {
   "codemirror_mode": {
    "name": "ipython",
    "version": 3
   },
   "file_extension": ".py",
   "mimetype": "text/x-python",
   "name": "python",
   "nbconvert_exporter": "python",
   "pygments_lexer": "ipython3",
   "version": "3.12.5"
  }
 },
 "nbformat": 4,
 "nbformat_minor": 2
}
