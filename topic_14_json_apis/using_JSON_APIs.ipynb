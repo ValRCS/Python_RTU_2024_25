{
 "cells": [
  {
   "cell_type": "markdown",
   "metadata": {},
   "source": [
    "# JSON and JSON APIs\n",
    "\n",
    "## JSON - Javascript Object Notation\n",
    "\n",
    "JSON is the most widely format for data interchange on the web. It is a lightweight data interchange format that is easy for humans to read and write and easy for machines to parse and generate. It is based on a subset of the JavaScript Programming Language, Standard ECMA-262 3rd Edition - December 1999. JSON is a text format that is completely language independent but uses conventions that are familiar to programmers of the C-family of languages, including C, C++, C#, Java, JavaScript, Perl, Python, and many others. These properties make JSON an ideal data-interchange language.\n",
    "\n",
    "### Inventor - Douglas Crockford from Yahoo\n",
    "\n",
    "* Goal - To provide a simple data exchange format that is easy to read and write.\n",
    "* Human Readable - JSON is easy to read and write.\n",
    "* Machine Parsable - JSON is easy to parse and generate for computers.\n",
    "* JSON is language independent.\n",
    "* JSON is \"self-describing\" and easy to understand.\n",
    "* JSON is built on two structures:\n",
    "    * A collection of name/value pairs. In various languages, this is realized as an object, record, struct, dictionary, hash table, keyed list, or associative array.\n",
    "    * An ordered list of values. In most languages, this is realized as an array, vector, list, or sequence.\n",
    "\n",
    "\n",
    "### JSON Official Page\n",
    "\n",
    "[JSON Official Page](https://www.json.org/json-en.html)"
   ]
  },
  {
   "cell_type": "markdown",
   "metadata": {},
   "source": [
    "## JSON Syntax\n",
    "\n",
    "Main thing to remember is that JSON is a text format that is completely language independent but uses conventions that are familiar to programmers of the C-family of languages, including C, C++, C#, Java, JavaScript, Perl, Python, and many others."
   ]
  },
  {
   "cell_type": "code",
   "execution_count": 1,
   "metadata": {},
   "outputs": [
    {
     "name": "stdout",
     "output_type": "stream",
     "text": [
      "Data type of foods: <class 'list'>\n",
      "Data type of first element in foods: <class 'dict'>\n"
     ]
    }
   ],
   "source": [
    "# let's make a simple JSON string\n",
    "import json # standard library # no pip install needed\n",
    "\n",
    "# let's make a simple list of dictionaries that describe my favorite foods\n",
    "foods = [{\"name\": \"pizza\", \"type\": \"Italian\", \"price\": 10.99},\n",
    "         {\"name\": \"sushi\", \"type\": \"Japanese\", \"price\": 24.99},\n",
    "         {\"name\": \"cheeseburger\", \"type\": \"American\", \"price\": 8.99},\n",
    "         {\"name\": \"tacos\", \"type\": \"Mexican\", \"price\": 12.99},\n",
    "         ]\n",
    "\n",
    "# the keys and values could be anything really valid in Python\n",
    "\n",
    "# print data type of foods\n",
    "print(\"Data type of foods:\", type(foods))\n",
    "# print data type of first element in foods\n",
    "print(\"Data type of first element in foods:\", type(foods[0]))\n",
    "\n",
    "# at the moment foods has no relationship to JSON it is just data in Python"
   ]
  },
  {
   "cell_type": "code",
   "execution_count": 2,
   "metadata": {},
   "outputs": [
    {
     "name": "stdout",
     "output_type": "stream",
     "text": [
      "{'name': 'pizza', 'type': 'Italian', 'price': 10.99}\n",
      "{'name': 'sushi', 'type': 'Japanese', 'price': 24.99}\n",
      "{'name': 'cheeseburger', 'type': 'American', 'price': 8.99}\n",
      "{'name': 'tacos', 'type': 'Mexican', 'price': 12.99}\n"
     ]
    }
   ],
   "source": [
    "# let's print them line by line\n",
    "for food in foods:\n",
    "    print(food)"
   ]
  },
  {
   "cell_type": "code",
   "execution_count": 3,
   "metadata": {},
   "outputs": [
    {
     "name": "stdout",
     "output_type": "stream",
     "text": [
      "Data type of foods_json: <class 'str'>\n"
     ]
    }
   ],
   "source": [
    "# now we will convert this list of dictionaries to a JSON string\n",
    "# it is called serialization in a programming context\n",
    "# why because Python data format is not understood by other programming languages\n",
    "# strings on other hand can be understood by other programming languages and humans\n",
    "foods_json = json.dumps(foods) # dumps takes any Python data type and converts it to a JSON string\n",
    "print(\"Data type of foods_json:\", type(foods_json))"
   ]
  },
  {
   "cell_type": "code",
   "execution_count": 4,
   "metadata": {},
   "outputs": [
    {
     "name": "stdout",
     "output_type": "stream",
     "text": [
      "foods_json:\n",
      " [{\"name\": \"pizza\", \"type\": \"Italian\", \"price\": 10.99}, {\"name\": \"sushi\", \"type\": \"Japanese\", \"price\": 24.99}, {\"name\": \"cheeseburger\", \"type\": \"American\", \"price\": 8.99}, {\"name\": \"tacos\", \"type\": \"Mexican\", \"price\": 12.99}]\n"
     ]
    }
   ],
   "source": [
    "# print the JSON string\n",
    "print(\"foods_json:\\n\", foods_json)"
   ]
  },
  {
   "cell_type": "code",
   "execution_count": 5,
   "metadata": {},
   "outputs": [
    {
     "name": "stdout",
     "output_type": "stream",
     "text": [
      "Data type of foods_from_json: <class 'list'>\n"
     ]
    }
   ],
   "source": [
    "# let's get back the data from the JSON string\n",
    "# it is called deserialization in a programming context\n",
    "# we are converting a JSON string to a Python data type\n",
    "foods_from_json = json.loads(foods_json) # loads takes a JSON string and converts it to a Python data type\n",
    "print(\"Data type of foods_from_json:\", type(foods_from_json))"
   ]
  },
  {
   "cell_type": "code",
   "execution_count": 6,
   "metadata": {},
   "outputs": [
    {
     "name": "stdout",
     "output_type": "stream",
     "text": [
      "foods_from_json:\n",
      "{'name': 'pizza', 'type': 'Italian', 'price': 10.99}\n",
      "{'name': 'sushi', 'type': 'Japanese', 'price': 24.99}\n",
      "{'name': 'cheeseburger', 'type': 'American', 'price': 8.99}\n",
      "{'name': 'tacos', 'type': 'Mexican', 'price': 12.99}\n"
     ]
    }
   ],
   "source": [
    "# print all data\n",
    "print(\"foods_from_json:\")\n",
    "# again let's use a loop since foods_from_json is a list of dictionaries\n",
    "for food in foods_from_json:\n",
    "    print(food)"
   ]
  },
  {
   "cell_type": "markdown",
   "metadata": {},
   "source": [
    "## Saving data to JSON file"
   ]
  },
  {
   "cell_type": "code",
   "execution_count": 7,
   "metadata": {},
   "outputs": [
    {
     "name": "stdout",
     "output_type": "stream",
     "text": [
      "foods: [{'name': 'pizza', 'type': 'Italian', 'price': 10.99}, {'name': 'sushi', 'type': 'Japanese', 'price': 24.99}, {'name': 'cheeseburger', 'type': 'American', 'price': 8.99}, {'name': 'tacos', 'type': 'Mexican', 'price': 12.99}, {'name': 'kartupeļi', 'type': 'Latvian', 'price': 3.99}]\n"
     ]
    }
   ],
   "source": [
    "# first let's add some latvian food item to our list\n",
    "# foods is just a Python list so I can use the append method\n",
    "foods.append({\"name\": \"kartupeļi\", \"type\": \"Latvian\", \"price\": 3.99})\n",
    "print(\"foods:\", foods)"
   ]
  },
  {
   "cell_type": "code",
   "execution_count": 8,
   "metadata": {},
   "outputs": [],
   "source": [
    "# let's save our data to a file\n",
    "with open(\"foods.json\", mode=\"w\") as file: # again file is a file stream\n",
    "    json.dump(foods, file) # dump takes a Python data type and saves it to a file in JSON format\n",
    "    # note dump not dumps, dump takes also a file stream as second argument"
   ]
  },
  {
   "cell_type": "code",
   "execution_count": 10,
   "metadata": {},
   "outputs": [],
   "source": [
    "# let's add indent to make it more readable\n",
    "with open(\"foods_pretty.json\", \"w\") as file:\n",
    "    json.dump(foods, file, indent=2) # indent makes it more readable"
   ]
  },
  {
   "cell_type": "code",
   "execution_count": 12,
   "metadata": {},
   "outputs": [],
   "source": [
    "# let's add encoding utf-8 to make sure it is saved in utf-8 format\n",
    "with open(\"foods_utf8.json\", mode=\"w\", encoding=\"utf-8\") as file:\n",
    "    json.dump(foods, file, indent=4, ensure_ascii=False) # ensure_ascii=False makes sure it is saved in utf-8 format"
   ]
  },
  {
   "cell_type": "markdown",
   "metadata": {},
   "source": [
    "## Reading JSON files\n",
    "\n"
   ]
  },
  {
   "cell_type": "code",
   "execution_count": 15,
   "metadata": {},
   "outputs": [
    {
     "name": "stdout",
     "output_type": "stream",
     "text": [
      "Data type of foods_from_file: <class 'list'>\n",
      "{'name': 'pizza', 'type': 'Italian', 'price': 10.99}\n",
      "{'name': 'sushi', 'type': 'Japanese', 'price': 24.99}\n",
      "{'name': 'cheeseburger', 'type': 'American', 'price': 8.99}\n",
      "{'name': 'tacos', 'type': 'Mexican', 'price': 12.99}\n",
      "{'name': 'kartupeļi', 'type': 'Latvian', 'price': 3.99, 'description': 'Latvian potato dish, often served with sour cream or butter.', 'commentfield': 'This is a comment field for the Latvian dish.', 'rating': 4.5}\n"
     ]
    }
   ],
   "source": [
    "# we will use load to read the data from the file\n",
    "# we will open the utf-8 file\n",
    "with open(\"foods_utf8.json\", \"r\", encoding=\"utf-8\") as file:\n",
    "    foods_from_file = json.load(file) # load takes a file stream and reads the JSON data from it\n",
    "# file is automatically closed after the with block is done\n",
    "\n",
    "# here foods_from_file is a Python data type - not a string!\n",
    "print(\"Data type of foods_from_file:\", type(foods_from_file))\n",
    "# it is a list of dictionaries\n",
    "# since we know we are loading a list of dictionaries we can print it line by line\n",
    "# import this will not work if the structure is different! \n",
    "# print what we loaded line by line\n",
    "for food in foods_from_file:\n",
    "    print(food)"
   ]
  },
  {
   "cell_type": "markdown",
   "metadata": {},
   "source": [
    "## JSON vs Python data types\n",
    "\n",
    "Not all of Python's data types can be represented in JSON. JSON supports the following data types:\n",
    "* Number (integer, real, or floating point)\n",
    "* String (double-quoted Unicode with backslash escaping)\n",
    "* Boolean (true and false)\n",
    "* Array (an ordered sequence of values, comma-separated and enclosed in square brackets)\n",
    "* Object (collection of key/value pairs, comma-separated and enclosed in curly braces)\n",
    "\n",
    "JSON does not support:\n",
    "* NaN, Infinity, -Infinity\n",
    "* Date, datetime, time, timedelta\n",
    "* Set, frozenset\n",
    "* Bytes, bytearray\n",
    "* complex\n",
    "* comments"
   ]
  },
  {
   "cell_type": "code",
   "execution_count": 16,
   "metadata": {},
   "outputs": [
    {
     "name": "stdout",
     "output_type": "stream",
     "text": [
      "int: 1\n",
      "float: 1.1\n",
      "str: hello\n",
      "list: [1, 2, 3]\n",
      "dict: {'a': 1, 'b': 2}\n",
      "bool: True\n",
      "bool2: False\n",
      "none: None\n",
      "tuple: (1, 2, 3)\n"
     ]
    }
   ],
   "source": [
    "# let's see the loss of some types in action\n",
    "\n",
    "# let's make a dictionary with some data types\n",
    "data = {\"int\": 1, \n",
    "        \"float\": 1.1, \n",
    "        \"str\": \"hello\", \n",
    "        \"list\": [1, 2, 3], \n",
    "        \"dict\": {\"a\": 1, \"b\": 2},\n",
    "        \"bool\": True,\n",
    "        \"bool2\": False,\n",
    "        \"none\": None,\n",
    "        \"tuple\": (1, 2, 3),\n",
    "        # \"set\": {1, 2, 3,3,3} # sets are not JSON serializable\n",
    "        \n",
    "        }\n",
    "\n",
    "# print data one by one\n",
    "for key, value in data.items():\n",
    "    print(f\"{key}: {value}\")"
   ]
  },
  {
   "cell_type": "code",
   "execution_count": 17,
   "metadata": {},
   "outputs": [
    {
     "name": "stdout",
     "output_type": "stream",
     "text": [
      "Data type of data_json: <class 'str'>\n",
      "{\n",
      "    \"int\": 1,\n",
      "    \"float\": 1.1,\n",
      "    \"str\": \"hello\",\n",
      "    \"list\": [\n",
      "        1,\n",
      "        2,\n",
      "        3\n",
      "    ],\n",
      "    \"dict\": {\n",
      "        \"a\": 1,\n",
      "        \"b\": 2\n",
      "    },\n",
      "    \"bool\": true,\n",
      "    \"bool2\": false,\n",
      "    \"none\": null,\n",
      "    \"tuple\": [\n",
      "        1,\n",
      "        2,\n",
      "        3\n",
      "    ]\n",
      "}\n"
     ]
    }
   ],
   "source": [
    "# let's convert it to an indented JSON string\n",
    "data_json = json.dumps(data, indent=4)\n",
    "# data type of data_json is string\n",
    "print(\"Data type of data_json:\", type(data_json))\n",
    "# print the JSON string - this will be multi-line\n",
    "print(data_json)"
   ]
  },
  {
   "cell_type": "code",
   "execution_count": 18,
   "metadata": {},
   "outputs": [
    {
     "name": "stdout",
     "output_type": "stream",
     "text": [
      "int: 1\n",
      "float: 1.1\n",
      "str: hello\n",
      "list: [1, 2, 3]\n",
      "dict: {'a': 1, 'b': 2}\n",
      "bool: True\n",
      "bool2: False\n",
      "none: None\n",
      "tuple: [1, 2, 3]\n"
     ]
    }
   ],
   "source": [
    "# therefore when we convert from JSON string back to Python data type\n",
    "# instead of original tuple we will get a list\n",
    "data_from_json = json.loads(data_json)\n",
    "# print data one by one\n",
    "for key, value in data_from_json.items():\n",
    "    print(f\"{key}: {value}\")\n",
    "\n",
    "# note that there is no more tuple but a list - because JSON does not have a tuple data type"
   ]
  },
  {
   "cell_type": "markdown",
   "metadata": {},
   "source": [
    "## Conclusion on JSON basics\n",
    "\n",
    "So we have a very flexible format which is a string and can be easily converted to Python data types. We can save data to JSON files and read data from JSON files.\n",
    "\n",
    "There are some limitations on the data types that can be represented in JSON but for most of the use cases, JSON is a very good format to use.\n",
    "\n",
    "JSON itself does not support comments, there are newer JSON formats like JSON5 which support comments. However they are not as widely used as JSON."
   ]
  },
  {
   "cell_type": "markdown",
   "metadata": {},
   "source": [
    "## Pickle vs JSON\n",
    "\n",
    "Python offers two main serialization formats: Pickle and JSON. Both formats are used to serialize and deserialize Python objects, but they have some key differences:\n",
    "* Pickle is a binary serialization format, while JSON is a text-based format.\n",
    "\n",
    "* Pickle is a Python-specific serialization format, while JSON is a language-independent format.\n",
    "* Pickle can serialize a wider range of Python objects, including custom classes and functions, while JSON can only serialize basic data types (strings, numbers, lists, dictionaries)."
   ]
  },
  {
   "cell_type": "code",
   "execution_count": null,
   "metadata": {},
   "outputs": [],
   "source": [
    "# let's pickle some data\n",
    "import pickle # standard library # no pip install needed\n",
    "# pickle is a Python specific serialization format\n",
    "# it is not human readable and not cross platform\n",
    "# it is only for Python and not for other programming languages\n",
    "\n",
    "# let's save our data to a file using pickle\n",
    "# common extension for pickle files is .pickle or .pkl\n",
    "with open(\"foods.pickle\", mode=\"wb\") as file: # wb means write binarby\n",
    "    pickle.dump(foods, file) # dump takes a Python data type and saves it to a file in pickle format"
   ]
  },
  {
   "cell_type": "code",
   "execution_count": 21,
   "metadata": {},
   "outputs": [],
   "source": [
    "# how about saving our data to pickle file \n",
    "# so let's save data to a pickle file\n",
    "with open(\"data.pickle\", mode=\"wb\") as file: # wb means write binary\n",
    "    pickle.dump(data, file) # dump takes a Python data type and saves it to a file in pickle format"
   ]
  },
  {
   "cell_type": "code",
   "execution_count": 22,
   "metadata": {},
   "outputs": [
    {
     "name": "stdout",
     "output_type": "stream",
     "text": [
      "int: 1\n",
      "float: 1.1\n",
      "str: hello\n",
      "list: [1, 2, 3]\n",
      "dict: {'a': 1, 'b': 2}\n",
      "bool: True\n",
      "bool2: False\n",
      "none: None\n",
      "tuple: (1, 2, 3)\n"
     ]
    }
   ],
   "source": [
    "# now we should be able to unpickle the data without losing any data types\n",
    "with open(\"data.pickle\", mode=\"rb\") as file: # rb means read binary\n",
    "    unpickled_data = pickle.load(file) # load takes a file stream and reads the pickle data from it\n",
    "\n",
    "# unlike JSON we should have a tuple back\n",
    "# let's print the data one by one\n",
    "for key, value in unpickled_data.items():\n",
    "    print(f\"{key}: {value}\")"
   ]
  },
  {
   "cell_type": "markdown",
   "metadata": {},
   "source": [
    "## JSON APIs\n",
    "\n",
    "JSON data is often used in APIs. APIs are a set of rules and protocols that allow one software application to communicate with another.\n",
    "\n",
    "Often an internet API will return data in JSON format. This data can be used in your Python program.\n",
    "\n",
    "### Sources of free APIs for testing\n",
    "\n",
    "#### Testing APIs\n",
    "\n",
    "* [JSONPlaceholder](https://jsonplaceholder.typicode.com/) - Fake Online REST API for Testing and Prototyping\n"
   ]
  },
  {
   "cell_type": "code",
   "execution_count": 25,
   "metadata": {},
   "outputs": [
    {
     "name": "stdout",
     "output_type": "stream",
     "text": [
      "requests library is installed\n",
      "requests library version: 2.32.3\n"
     ]
    }
   ],
   "source": [
    "# we could use standard library tools to get data from internet\n",
    "# instead we will use requests library - which is not part of standard library\n",
    "# requests is a third party library - very popular for making HTTP requests\n",
    "# docs: https://docs.python-requests.org/en/master/\n",
    "\n",
    "# try to import requests\n",
    "try:\n",
    "    import requests\n",
    "    print(\"requests library is installed\")\n",
    "    # print version\n",
    "    print(f\"requests library version: {requests.__version__}\")\n",
    "except ImportError:\n",
    "    print(\"requests library is not installed\")\n",
    "    print(\"please install it with: pip install requests\")\n",
    "\n",
    "# Google Colab has requests library installed by default and many other libraries"
   ]
  },
  {
   "cell_type": "code",
   "execution_count": null,
   "metadata": {},
   "outputs": [
    {
     "name": "stdout",
     "output_type": "stream",
     "text": [
      "Collecting requests\n",
      "  Using cached requests-2.32.3-py3-none-any.whl.metadata (4.6 kB)\n",
      "Collecting charset-normalizer<4,>=2 (from requests)\n",
      "  Downloading charset_normalizer-3.4.2-cp312-cp312-win_amd64.whl.metadata (36 kB)\n",
      "Collecting idna<4,>=2.5 (from requests)\n",
      "  Using cached idna-3.10-py3-none-any.whl.metadata (10 kB)\n",
      "Collecting urllib3<3,>=1.21.1 (from requests)\n",
      "  Downloading urllib3-2.4.0-py3-none-any.whl.metadata (6.5 kB)\n",
      "Collecting certifi>=2017.4.17 (from requests)\n",
      "  Downloading certifi-2025.4.26-py3-none-any.whl.metadata (2.5 kB)\n",
      "Using cached requests-2.32.3-py3-none-any.whl (64 kB)\n",
      "Downloading certifi-2025.4.26-py3-none-any.whl (159 kB)\n",
      "Downloading charset_normalizer-3.4.2-cp312-cp312-win_amd64.whl (105 kB)\n",
      "Using cached idna-3.10-py3-none-any.whl (70 kB)\n",
      "Downloading urllib3-2.4.0-py3-none-any.whl (128 kB)\n",
      "Installing collected packages: urllib3, idna, charset-normalizer, certifi, requests\n",
      "Successfully installed certifi-2025.4.26 charset-normalizer-3.4.2 idna-3.10 requests-2.32.3 urllib3-2.4.0\n"
     ]
    },
    {
     "name": "stderr",
     "output_type": "stream",
     "text": [
      "\n",
      "[notice] A new release of pip is available: 24.2 -> 25.1\n",
      "[notice] To update, run: python.exe -m pip install --upgrade pip\n"
     ]
    }
   ],
   "source": [
    "# !pip install requests\n",
    "# ! is just like using terminal command\n",
    "# again we only need to install it once then we can comment it out"
   ]
  },
  {
   "cell_type": "code",
   "execution_count": 26,
   "metadata": {},
   "outputs": [
    {
     "name": "stdout",
     "output_type": "stream",
     "text": [
      "url: https://jsonplaceholder.typicode.com/todos\n"
     ]
    }
   ],
   "source": [
    "# to make a request we first need url - uniform resource locator\n",
    "url = \"https://jsonplaceholder.typicode.com/todos\"\n",
    "print(\"url:\", url)"
   ]
  },
  {
   "cell_type": "markdown",
   "metadata": {},
   "source": [
    "### Base recipe for using requests and JSON\n"
   ]
  },
  {
   "cell_type": "code",
   "execution_count": 28,
   "metadata": {},
   "outputs": [
    {
     "name": "stdout",
     "output_type": "stream",
     "text": [
      "response code: 200\n"
     ]
    }
   ],
   "source": [
    "# now I will make a htpp GET request to the url\n",
    "# kind of similar to what a web browser does when you type in a url\n",
    "\n",
    "response = requests.get(url) # this connects to the url and gets the data\n",
    "# thik of requests.get as similar to what a browser does when you type in a url\n",
    "# print response code - could check for 200 which means success\n",
    "print(\"response code:\", response.status_code)\n",
    "# wikipedia has a list of response codes: https://en.wikipedia.org/wiki/List_of_HTTP_status_codes"
   ]
  },
  {
   "cell_type": "code",
   "execution_count": 29,
   "metadata": {},
   "outputs": [
    {
     "name": "stdout",
     "output_type": "stream",
     "text": [
      "Data type of response: <class 'requests.models.Response'>\n"
     ]
    }
   ],
   "source": [
    "# what data type is response\n",
    "print(\"Data type of response:\", type(response))"
   ]
  },
  {
   "cell_type": "code",
   "execution_count": 30,
   "metadata": {},
   "outputs": [
    {
     "name": "stdout",
     "output_type": "stream",
     "text": [
      "text: [\n",
      "  {\n",
      "    \"userId\": 1,\n",
      "    \"id\": 1,\n",
      "    \"title\": \"delectus aut autem\",\n",
      "    \"completed\": false\n",
      "  },\n",
      " \n"
     ]
    }
   ],
   "source": [
    "# now since response is 200 we are good to go\n",
    "# we could read the text from the response\n",
    "text = response.text\n",
    "# print first 100 characters of the text\n",
    "print(\"text:\", text[:100])"
   ]
  },
  {
   "cell_type": "code",
   "execution_count": 31,
   "metadata": {},
   "outputs": [
    {
     "name": "stdout",
     "output_type": "stream",
     "text": [
      "data type of data: <class 'list'>\n",
      "first element of data: {'userId': 1, 'id': 1, 'title': 'delectus aut autem', 'completed': False}\n"
     ]
    }
   ],
   "source": [
    "# looks like JSON string we can conver it to a Python data type\n",
    "data = json.loads(text) # again note loads not load since we are converting a string to a Python data type\n",
    "# print data type of data\n",
    "# we should have normal Python data type - list of dictionaries\n",
    "print(\"data type of data:\", type(data))\n",
    "# print first element of data\n",
    "print(\"first element of data:\", data[0])"
   ]
  },
  {
   "cell_type": "code",
   "execution_count": 32,
   "metadata": {},
   "outputs": [
    {
     "name": "stdout",
     "output_type": "stream",
     "text": [
      "data type of data: <class 'list'>\n",
      "first element of data: {'userId': 1, 'id': 1, 'title': 'delectus aut autem', 'completed': False}\n"
     ]
    }
   ],
   "source": [
    "# usually if we know our response is JSON we can use response.json() method immediately\n",
    "data = response.json() # very convenient\n",
    "# above is same as data = json.loads(response.text) # hope you agree above is more convenient\n",
    "# print data type of data\n",
    "print(\"data type of data:\", type(data))\n",
    "# print first element of data\n",
    "print(\"first element of data:\", data[0])"
   ]
  },
  {
   "cell_type": "markdown",
   "metadata": {},
   "source": [
    "### Using data from JSON APIs\n",
    "\n",
    "Now that we have data in Python data format, we do whatever needs to be done with the data. We can use the data to do some analysis, visualization, etc.\n",
    "\n",
    "We can adjust data as needed and save it to a file or database."
   ]
  },
  {
   "cell_type": "markdown",
   "metadata": {},
   "source": []
  },
  {
   "cell_type": "markdown",
   "metadata": {},
   "source": [
    "### Awesome JSON APIs\n",
    "\n",
    "* [Awesome JSON Datasets](https://github.com/public-api-lists/public-api-lists)\n",
    "\n"
   ]
  },
  {
   "cell_type": "markdown",
   "metadata": {},
   "source": []
  },
  {
   "cell_type": "code",
   "execution_count": 30,
   "metadata": {},
   "outputs": [
    {
     "name": "stdout",
     "output_type": "stream",
     "text": [
      "cat_url: https://cat-fact.herokuapp.com/facts\n",
      "cat_facts: [{'status': {'verified': True, 'sentCount': 1}, '_id': '58e008780aac31001185ed05', 'user': '58e007480aac31001185ecef', 'text': 'Owning a cat can reduce the risk of stroke and heart attack by a third.', '__v': 0, 'source': 'user', 'updatedAt': '2020-08-23T20:20:01.611Z', 'type': 'cat', 'createdAt': '2018-03-29T20:20:03.844Z', 'deleted': False, 'used': False}, {'status': {'verified': True, 'sentCount': 1}, '_id': '58e009390aac31001185ed10', 'user': '58e007480aac31001185ecef', 'text': \"Most cats are lactose intolerant, and milk can cause painful stomach cramps and diarrhea. It's best to forego the milk and just give your cat the standard: clean, cool drinking water.\", '__v': 0, 'source': 'user', 'updatedAt': '2020-08-23T20:20:01.611Z', 'type': 'cat', 'createdAt': '2018-03-04T21:20:02.979Z', 'deleted': False, 'used': False}, {'status': {'verified': True, 'sentCount': 1}, '_id': '588e746706ac2b00110e59ff', 'user': '588e6e8806ac2b00110e59c3', 'text': 'Domestic cats spend about 70 percent of the day sleeping and 15 percent of the day grooming.', '__v': 0, 'source': 'user', 'updatedAt': '2020-08-26T20:20:02.359Z', 'type': 'cat', 'createdAt': '2018-01-14T21:20:02.750Z', 'deleted': False, 'used': True}, {'status': {'verified': True, 'sentCount': 1}, '_id': '58e008ad0aac31001185ed0c', 'user': '58e007480aac31001185ecef', 'text': \"The frequency of a domestic cat's purr is the same at which muscles and bones repair themselves.\", '__v': 0, 'source': 'user', 'updatedAt': '2020-08-24T20:20:01.867Z', 'type': 'cat', 'createdAt': '2018-03-15T20:20:03.281Z', 'deleted': False, 'used': True}, {'status': {'verified': True, 'sentCount': 1}, '_id': '58e007cc0aac31001185ecf5', 'user': '58e007480aac31001185ecef', 'text': 'Cats are the most popular pet in the United States: There are 88 million pet cats and 74 million dogs.', '__v': 0, 'source': 'user', 'updatedAt': '2020-08-23T20:20:01.611Z', 'type': 'cat', 'createdAt': '2018-03-01T21:20:02.713Z', 'deleted': False, 'used': False}]\n"
     ]
    }
   ],
   "source": [
    "# let's get some cat facts from the Cat Facts API\n",
    "\n",
    "cat_url = \"https://cat-fact.herokuapp.com/facts\"\n",
    "print(\"cat_url:\", cat_url)\n",
    "cat_facts  = requests.get(cat_url).json() # we assume it will not fail and is JSON\n",
    "# raw facts\n",
    "print(\"cat_facts:\", cat_facts)\n"
   ]
  },
  {
   "cell_type": "code",
   "execution_count": 31,
   "metadata": {},
   "outputs": [
    {
     "name": "stdout",
     "output_type": "stream",
     "text": [
      "Owning a cat can reduce the risk of stroke and heart attack by a third.\n",
      "Most cats are lactose intolerant, and milk can cause painful stomach cramps and diarrhea. It's best to forego the milk and just give your cat the standard: clean, cool drinking water.\n",
      "Domestic cats spend about 70 percent of the day sleeping and 15 percent of the day grooming.\n",
      "The frequency of a domestic cat's purr is the same at which muscles and bones repair themselves.\n",
      "Cats are the most popular pet in the United States: There are 88 million pet cats and 74 million dogs.\n"
     ]
    }
   ],
   "source": [
    "# let's get only facts from the cat facts\n",
    "# the facts are in the \"text\" key for each dictionary which we have a list of\n",
    "cat_facts_text = []\n",
    "for fact in cat_facts:\n",
    "    cat_facts_text.append(fact.get(\"text\", \"no fact\")) # the rest of keys we do not need\n",
    "    # we expect that text key exists but just in case we use get method\n",
    "\n",
    "# print cat facts one by one\n",
    "for fact in cat_facts_text:\n",
    "    print(fact)"
   ]
  },
  {
   "cell_type": "code",
   "execution_count": 33,
   "metadata": {},
   "outputs": [
    {
     "name": "stdout",
     "output_type": "stream",
     "text": [
      "cat_url_page2: https://cat-fact.herokuapp.com/facts/random?animal_type=cat&amount=50\n"
     ]
    }
   ],
   "source": [
    "# we could get more cat facts by adding specific parameters to the url\n",
    "# what parameters are available we would need to experiment or read documentation.. hopefully there is documentation\n",
    "cat_url_page2 = \"https://cat-fact.herokuapp.com/facts/random?animal_type=cat&amount=50\"\n",
    "print(\"cat_url_page2:\", cat_url_page2)"
   ]
  },
  {
   "cell_type": "markdown",
   "metadata": {},
   "source": [
    "## Dog facts API\n",
    "\n",
    "https://dogapi.dog/api/v2/breeds"
   ]
  },
  {
   "cell_type": "code",
   "execution_count": 33,
   "metadata": {},
   "outputs": [
    {
     "name": "stdout",
     "output_type": "stream",
     "text": [
      "dogapi url: https://dogapi.dog/api/v2/breeds\n"
     ]
    }
   ],
   "source": [
    "url = \"https://dogapi.dog/api/v2/breeds\"\n",
    "print(f\"dogapi url: {url}\")"
   ]
  },
  {
   "cell_type": "code",
   "execution_count": 34,
   "metadata": {},
   "outputs": [
    {
     "name": "stdout",
     "output_type": "stream",
     "text": [
      "response code: 200\n",
      "data type of data: <class 'dict'>\n"
     ]
    }
   ],
   "source": [
    "# let's call our request to dogapi\n",
    "response = requests.get(url)\n",
    "# check response code\n",
    "print(\"response code:\", response.status_code)\n",
    "if response.status_code == 200:\n",
    "    # we are good to go\n",
    "    # let's get the data\n",
    "    data = response.json() # again we assume it is JSON\n",
    "    # print data type of data\n",
    "    print(\"data type of data:\", type(data))\n",
    "else:\n",
    "    print(\"error:\", response.status_code)"
   ]
  },
  {
   "cell_type": "code",
   "execution_count": 35,
   "metadata": {},
   "outputs": [
    {
     "name": "stdout",
     "output_type": "stream",
     "text": [
      "keys in data: dict_keys(['data', 'meta', 'links'])\n"
     ]
    }
   ],
   "source": [
    "# if we did not know already we could print the keys here\n",
    "print(\"keys in data:\", data.keys())"
   ]
  },
  {
   "cell_type": "code",
   "execution_count": 36,
   "metadata": {},
   "outputs": [
    {
     "name": "stdout",
     "output_type": "stream",
     "text": [
      "number of breeds: 10\n"
     ]
    }
   ],
   "source": [
    "# how many breeds we have in data?\n",
    "print(\"number of breeds:\", len(data[\"data\"]))"
   ]
  },
  {
   "cell_type": "code",
   "execution_count": 37,
   "metadata": {},
   "outputs": [
    {
     "name": "stdout",
     "output_type": "stream",
     "text": [
      "first breed: {'id': '036feed0-da8a-42c9-ab9a-57449b530b13', 'type': 'breed', 'attributes': {'name': 'Affenpinscher', 'description': 'The Affenpinscher is a small and playful breed of dog that was originally bred in Germany for hunting small game. They are intelligent, energetic, and affectionate, and make excellent companion dogs.', 'life': {'max': 16, 'min': 14}, 'male_weight': {'max': 5, 'min': 3}, 'female_weight': {'max': 5, 'min': 3}, 'hypoallergenic': True}, 'relationships': {'group': {'data': {'id': 'f56dc4b1-ba1a-4454-8ce2-bd5d41404a0c', 'type': 'group'}}}}\n"
     ]
    }
   ],
   "source": [
    "# let's print our first breed\n",
    "print(\"first breed:\", data[\"data\"][0])"
   ]
  },
  {
   "cell_type": "code",
   "execution_count": 38,
   "metadata": {},
   "outputs": [
    {
     "name": "stdout",
     "output_type": "stream",
     "text": [
      "links: {'self': 'https://dogapi.dog/api/v2/breeds', 'current': 'https://dogapi.dog/api/v2/breeds?page[number]=1', 'next': 'https://dogapi.dog/api/v2/breeds?page[number]=2', 'last': 'https://dogapi.dog/api/v2/breeds?page[number]=29'}\n"
     ]
    }
   ],
   "source": [
    "# now let's see what is our first page and last page from links key\n",
    "# print links key\n",
    "print(\"links:\", data[\"links\"])"
   ]
  },
  {
   "cell_type": "code",
   "execution_count": 40,
   "metadata": {},
   "outputs": [
    {
     "name": "stdout",
     "output_type": "stream",
     "text": [
      "first page: 1\n",
      "last page: 29\n"
     ]
    }
   ],
   "source": [
    "# let's prepare a list of urls to gather all the breeds\n",
    "# we start with current and go until the last page\n",
    "url_prefix = \"https://dogapi.dog/api/v2/breeds?page[number]=\"\n",
    "# now let's extract first page number\n",
    "first_page = int(data[\"links\"][\"current\"].split(\"=\")[-1]) # split by = and take the last element\n",
    "print(\"first page:\", first_page)\n",
    "# now let's extract last page number\n",
    "last_page = int(data[\"links\"][\"last\"].split(\"=\")[-1]) # split by = and take the last element\n",
    "print(\"last page:\", last_page)"
   ]
  },
  {
   "cell_type": "code",
   "execution_count": 41,
   "metadata": {},
   "outputs": [
    {
     "name": "stdout",
     "output_type": "stream",
     "text": [
      "also first page: 1\n",
      "also last page: 29\n"
     ]
    }
   ],
   "source": [
    "# alternatively we could have extracted them from meta key pagination sub key and current and last sub key\n",
    "also_first = data[\"meta\"][\"pagination\"][\"current\"]\n",
    "also_last = data[\"meta\"][\"pagination\"][\"last\"]\n",
    "print(\"also first page:\", also_first)\n",
    "print(\"also last page:\", also_last)"
   ]
  },
  {
   "cell_type": "code",
   "execution_count": 43,
   "metadata": {},
   "outputs": [
    {
     "name": "stdout",
     "output_type": "stream",
     "text": [
      "first three urls: ['https://dogapi.dog/api/v2/breeds?page[number]=1', 'https://dogapi.dog/api/v2/breeds?page[number]=2', 'https://dogapi.dog/api/v2/breeds?page[number]=3']\n",
      "last three urls: ['https://dogapi.dog/api/v2/breeds?page[number]=27', 'https://dogapi.dog/api/v2/breeds?page[number]=28', 'https://dogapi.dog/api/v2/breeds?page[number]=29']\n"
     ]
    }
   ],
   "source": [
    "# let's generate a list of urls to get all the breeds\n",
    "dog_urls = []\n",
    "for page in range(first_page, last_page + 1): # +1 because range is exclusive on the last number\n",
    "    dog_urls.append(f\"{url_prefix}{page}\") # f-string to format the url\n",
    "# print first three urls\n",
    "print(\"first three urls:\", dog_urls[:3])\n",
    "# and print last three urls\n",
    "print(\"last three urls:\", dog_urls[-3:])"
   ]
  },
  {
   "cell_type": "code",
   "execution_count": 44,
   "metadata": {},
   "outputs": [
    {
     "name": "stdout",
     "output_type": "stream",
     "text": [
      "getting data from url: https://dogapi.dog/api/v2/breeds?page[number]=1\n",
      "number of dogs: 10\n",
      "getting data from url: https://dogapi.dog/api/v2/breeds?page[number]=2\n",
      "number of dogs: 20\n",
      "getting data from url: https://dogapi.dog/api/v2/breeds?page[number]=3\n",
      "number of dogs: 30\n",
      "getting data from url: https://dogapi.dog/api/v2/breeds?page[number]=4\n",
      "number of dogs: 40\n",
      "getting data from url: https://dogapi.dog/api/v2/breeds?page[number]=5\n",
      "number of dogs: 50\n",
      "getting data from url: https://dogapi.dog/api/v2/breeds?page[number]=6\n",
      "number of dogs: 60\n",
      "getting data from url: https://dogapi.dog/api/v2/breeds?page[number]=7\n",
      "number of dogs: 70\n",
      "getting data from url: https://dogapi.dog/api/v2/breeds?page[number]=8\n",
      "number of dogs: 80\n",
      "getting data from url: https://dogapi.dog/api/v2/breeds?page[number]=9\n",
      "number of dogs: 90\n",
      "getting data from url: https://dogapi.dog/api/v2/breeds?page[number]=10\n",
      "number of dogs: 100\n",
      "getting data from url: https://dogapi.dog/api/v2/breeds?page[number]=11\n",
      "number of dogs: 110\n",
      "getting data from url: https://dogapi.dog/api/v2/breeds?page[number]=12\n",
      "number of dogs: 120\n",
      "getting data from url: https://dogapi.dog/api/v2/breeds?page[number]=13\n",
      "number of dogs: 130\n",
      "getting data from url: https://dogapi.dog/api/v2/breeds?page[number]=14\n",
      "number of dogs: 140\n",
      "getting data from url: https://dogapi.dog/api/v2/breeds?page[number]=15\n",
      "number of dogs: 150\n",
      "getting data from url: https://dogapi.dog/api/v2/breeds?page[number]=16\n",
      "number of dogs: 160\n",
      "getting data from url: https://dogapi.dog/api/v2/breeds?page[number]=17\n",
      "number of dogs: 170\n",
      "getting data from url: https://dogapi.dog/api/v2/breeds?page[number]=18\n",
      "number of dogs: 180\n",
      "getting data from url: https://dogapi.dog/api/v2/breeds?page[number]=19\n",
      "number of dogs: 190\n",
      "getting data from url: https://dogapi.dog/api/v2/breeds?page[number]=20\n",
      "number of dogs: 200\n",
      "getting data from url: https://dogapi.dog/api/v2/breeds?page[number]=21\n",
      "number of dogs: 210\n",
      "getting data from url: https://dogapi.dog/api/v2/breeds?page[number]=22\n",
      "number of dogs: 220\n",
      "getting data from url: https://dogapi.dog/api/v2/breeds?page[number]=23\n",
      "number of dogs: 230\n",
      "getting data from url: https://dogapi.dog/api/v2/breeds?page[number]=24\n",
      "number of dogs: 240\n",
      "getting data from url: https://dogapi.dog/api/v2/breeds?page[number]=25\n",
      "number of dogs: 250\n",
      "getting data from url: https://dogapi.dog/api/v2/breeds?page[number]=26\n",
      "number of dogs: 260\n",
      "getting data from url: https://dogapi.dog/api/v2/breeds?page[number]=27\n",
      "number of dogs: 270\n",
      "getting data from url: https://dogapi.dog/api/v2/breeds?page[number]=28\n",
      "number of dogs: 280\n",
      "getting data from url: https://dogapi.dog/api/v2/breeds?page[number]=29\n",
      "number of dogs: 283\n"
     ]
    }
   ],
   "source": [
    "# now let's simply loop through the urls and get the data\n",
    "all_dogs = [] # empty list to store all the dogs\n",
    "# let's use a little bit of pause\n",
    "# so let's import time library\n",
    "import time # standard library # no pip install needed\n",
    "DELAY = 0.2 # 0.2 seconds delay between requests\n",
    "# let's loop through the urls and get the data\n",
    "for url in dog_urls:\n",
    "    print(\"getting data from url:\", url)\n",
    "    response = requests.get(url) # get the data\n",
    "    if response.status_code == 200: # check if we are good to go\n",
    "        data = response.json() # get the data as JSON\n",
    "        all_dogs.extend(data[\"data\"]) # extend the list with the new data\n",
    "        print(\"number of dogs:\", len(all_dogs)) # print number of dogs so far\n",
    "    else:\n",
    "        print(\"error:\", response.status_code) # print error code\n",
    "    time.sleep(DELAY) # wait for a bit before next request"
   ]
  },
  {
   "cell_type": "code",
   "execution_count": 46,
   "metadata": {},
   "outputs": [
    {
     "name": "stdout",
     "output_type": "stream",
     "text": [
      "first dog:\n",
      "id: 036feed0-da8a-42c9-ab9a-57449b530b13\n",
      "type: breed\n",
      "attributes: {'name': 'Affenpinscher', 'description': 'The Affenpinscher is a small and playful breed of dog that was originally bred in Germany for hunting small game. They are intelligent, energetic, and affectionate, and make excellent companion dogs.', 'life': {'max': 16, 'min': 14}, 'male_weight': {'max': 5, 'min': 3}, 'female_weight': {'max': 5, 'min': 3}, 'hypoallergenic': True}\n",
      "relationships: {'group': {'data': {'id': 'f56dc4b1-ba1a-4454-8ce2-bd5d41404a0c', 'type': 'group'}}}\n"
     ]
    }
   ],
   "source": [
    "# let's print our first dog again\n",
    "print(\"first dog:\")\n",
    "for key, value in all_dogs[0].items():\n",
    "    print(f\"{key}: {value}\")"
   ]
  },
  {
   "cell_type": "code",
   "execution_count": 48,
   "metadata": {},
   "outputs": [],
   "source": [
    "# let's make a function that returns a flat dictionary\n",
    "# from something like attributes: {'name': 'Affenpinscher', 'description': 'The Affenpinscher is a small and playful breed of dog that was originally bred in Germany for hunting small game. They are intelligent, energetic, and affectionate, and make excellent companion dogs.', 'life': {'max': 16, 'min': 14}, 'male_weight': {'max': 5, 'min': 3}, 'female_weight': {'max': 5, 'min': 3}, 'hypoallergenic': True}\n",
    "def flatten_dict(dog):\n",
    "    \"\"\"\n",
    "    Flatten a dictionary with possibly nested dictionaries into a single dictionary.\n",
    "    :param dog: dictionary to flatten\"\"\"\n",
    "    flat_dog = {}\n",
    "    for key, value in dog.items():\n",
    "        if isinstance(value, dict): # if value is a dictionary\n",
    "            for sub_key, sub_value in value.items(): # loop through the sub dictionary\n",
    "                flat_dog[f\"{key}_{sub_key}\"] = sub_value # add to the flat dictionary\n",
    "        else:\n",
    "            flat_dog[key] = value # add to the flat dictionary\n",
    "    return flat_dog # return the flat dictionary"
   ]
  },
  {
   "cell_type": "code",
   "execution_count": null,
   "metadata": {},
   "outputs": [
    {
     "name": "stdout",
     "output_type": "stream",
     "text": [
      "first dog flat:\n",
      "name: Affenpinscher\n",
      "description: The Affenpinscher is a small and playful breed of dog that was originally bred in Germany for hunting small game. They are intelligent, energetic, and affectionate, and make excellent companion dogs.\n",
      "life_max: 16\n",
      "life_min: 14\n",
      "male_weight_max: 5\n",
      "male_weight_min: 3\n",
      "female_weight_max: 5\n",
      "female_weight_min: 3\n",
      "hypoallergenic: True\n"
     ]
    }
   ],
   "source": [
    "# let's test on first dog\n",
    "first_dog_flat = flatten_dict(all_dogs[0][\"attributes\"]) # flatten the first dog's key attributes\n",
    "# we did not care about the other keys such as id, type and relationships\n",
    "# print the flat dog\n",
    "print(\"first dog flat:\")\n",
    "for key, value in first_dog_flat.items():\n",
    "    print(f\"{key}: {value}\")"
   ]
  },
  {
   "cell_type": "code",
   "execution_count": 50,
   "metadata": {},
   "outputs": [
    {
     "name": "stdout",
     "output_type": "stream",
     "text": [
      "last dog flat:\n",
      "name: Yorkshire Terrier\n",
      "description: The Yorkshire Terrier is a small, intelligent dog breed with a long, silky coat that is typically blue and tan in color. They are known for their feisty, independent nature and their affectionate personalities, and were originally bred to hunt rats and other vermin in the textile mills of Yorkshire, England.\n",
      "life_max: 15\n",
      "life_min: 12\n",
      "male_weight_max: 3\n",
      "male_weight_min: 2\n",
      "female_weight_max: 3\n",
      "female_weight_min: 2\n",
      "hypoallergenic: False\n"
     ]
    }
   ],
   "source": [
    "flat_dogs = [] # empty list to store all the flat dogs\n",
    "# let's loop through all the dogs and flatten them\n",
    "for dog in all_dogs:\n",
    "    # concrete dog is a dictionary but we only care about the key attributes\n",
    "    flat_dogs.append(flatten_dict(dog[\"attributes\"])) # flatten the dog's key attributes and append to the list\n",
    "# print last dog\n",
    "print(\"last dog flat:\")\n",
    "for key, value in flat_dogs[-1].items():\n",
    "    print(f\"{key}: {value}\")"
   ]
  },
  {
   "cell_type": "code",
   "execution_count": 51,
   "metadata": {},
   "outputs": [],
   "source": [
    "# now that we have all dogs extracted let's save them as csv\n",
    "# let's use built in csv library to save as csv\n",
    "import csv # standard library # no pip install needed\n",
    "# headers will be the keys of the first dictionary in flat_dogs\n",
    "headers = flat_dogs[0].keys() # get the keys of the first dictionary\n",
    "# let's save the data to a csv file\n",
    "with open(\"dogs.csv\", mode=\"w\", newline=\"\", encoding=\"utf-8\") as file: # open the file in write mode\n",
    "    writer = csv.DictWriter(file, fieldnames=headers) # create a DictWriter object with the headers\n",
    "    writer.writeheader() # write the header to the file\n",
    "    writer.writerows(flat_dogs) # write the rows to the file"
   ]
  },
  {
   "cell_type": "markdown",
   "metadata": {},
   "source": [
    "## Using Pandas to read dictionaries\n",
    "\n",
    "Pandas is a major data analysis library in Python. It is used for data manipulation and analysis. It provides data structures and functions needed to work with structured data seamlessly. Pandas is built on top of NumPy, which is a library for numerical computing in Python. Pandas is widely used in data science, machine learning, and data analysis.\n",
    "\n",
    "Home page: https://pandas.pydata.org/\n",
    "Documentation: https://pandas.pydata.org/pandas-docs/stable/index.html"
   ]
  },
  {
   "cell_type": "code",
   "execution_count": null,
   "metadata": {},
   "outputs": [],
   "source": [
    "# first we need to install it with pip install pandas\n",
    "# we want excel and parquet support as well\n",
    "# so full command is pip install pandas[excel,parquet]"
   ]
  },
  {
   "cell_type": "code",
   "execution_count": null,
   "metadata": {},
   "outputs": [
    {
     "name": "stdout",
     "output_type": "stream",
     "text": [
      "Collecting pandas[excel,parquet]\n",
      "  Using cached pandas-2.2.3-cp312-cp312-win_amd64.whl.metadata (19 kB)\n",
      "Requirement already satisfied: numpy>=1.26.0 in d:\\github\\python_rtu_2024_25\\myvenv\\lib\\site-packages (from pandas[excel,parquet]) (2.2.5)\n",
      "Requirement already satisfied: python-dateutil>=2.8.2 in d:\\github\\python_rtu_2024_25\\myvenv\\lib\\site-packages (from pandas[excel,parquet]) (2.9.0.post0)\n",
      "Collecting pytz>=2020.1 (from pandas[excel,parquet])\n",
      "  Downloading pytz-2025.2-py2.py3-none-any.whl.metadata (22 kB)\n",
      "Collecting tzdata>=2022.7 (from pandas[excel,parquet])\n",
      "  Downloading tzdata-2025.2-py2.py3-none-any.whl.metadata (1.4 kB)\n",
      "Collecting odfpy>=1.4.1 (from pandas[excel,parquet])\n",
      "  Using cached odfpy-1.4.1-py2.py3-none-any.whl\n",
      "Collecting openpyxl>=3.1.0 (from pandas[excel,parquet])\n",
      "  Using cached openpyxl-3.1.5-py2.py3-none-any.whl.metadata (2.5 kB)\n",
      "Collecting python-calamine>=0.1.7 (from pandas[excel,parquet])\n",
      "  Downloading python_calamine-0.3.2-cp312-cp312-win_amd64.whl.metadata (4.0 kB)\n",
      "Collecting pyxlsb>=1.0.10 (from pandas[excel,parquet])\n",
      "  Using cached pyxlsb-1.0.10-py2.py3-none-any.whl.metadata (2.5 kB)\n",
      "Collecting xlrd>=2.0.1 (from pandas[excel,parquet])\n",
      "  Using cached xlrd-2.0.1-py2.py3-none-any.whl.metadata (3.4 kB)\n",
      "Collecting xlsxwriter>=3.0.5 (from pandas[excel,parquet])\n",
      "  Downloading XlsxWriter-3.2.3-py3-none-any.whl.metadata (2.7 kB)\n",
      "Collecting pyarrow>=10.0.1 (from pandas[excel,parquet])\n",
      "  Downloading pyarrow-20.0.0-cp312-cp312-win_amd64.whl.metadata (3.4 kB)\n",
      "Collecting defusedxml (from odfpy>=1.4.1->pandas[excel,parquet])\n",
      "  Using cached defusedxml-0.7.1-py2.py3-none-any.whl.metadata (32 kB)\n",
      "Collecting et-xmlfile (from openpyxl>=3.1.0->pandas[excel,parquet])\n",
      "  Using cached et_xmlfile-2.0.0-py3-none-any.whl.metadata (2.7 kB)\n",
      "Requirement already satisfied: packaging>=23.1 in d:\\github\\python_rtu_2024_25\\myvenv\\lib\\site-packages (from python-calamine>=0.1.7->pandas[excel,parquet]) (25.0)\n",
      "Requirement already satisfied: six>=1.5 in d:\\github\\python_rtu_2024_25\\myvenv\\lib\\site-packages (from python-dateutil>=2.8.2->pandas[excel,parquet]) (1.17.0)\n",
      "Using cached openpyxl-3.1.5-py2.py3-none-any.whl (250 kB)\n",
      "Downloading pyarrow-20.0.0-cp312-cp312-win_amd64.whl (25.7 MB)\n",
      "   ---------------------------------------- 0.0/25.7 MB ? eta -:--:--\n",
      "   -- ------------------------------------- 1.8/25.7 MB 10.1 MB/s eta 0:00:03\n",
      "   ------ --------------------------------- 3.9/25.7 MB 9.8 MB/s eta 0:00:03\n",
      "   ---------- ----------------------------- 6.6/25.7 MB 10.9 MB/s eta 0:00:02\n",
      "   ------------- -------------------------- 8.7/25.7 MB 10.5 MB/s eta 0:00:02\n",
      "   ---------------- ----------------------- 10.5/25.7 MB 10.2 MB/s eta 0:00:02\n",
      "   ------------------- -------------------- 12.3/25.7 MB 10.0 MB/s eta 0:00:02\n",
      "   ---------------------- ----------------- 14.7/25.7 MB 10.1 MB/s eta 0:00:02\n",
      "   -------------------------- ------------- 16.8/25.7 MB 10.1 MB/s eta 0:00:01\n",
      "   ----------------------------- ---------- 19.1/25.7 MB 10.2 MB/s eta 0:00:01\n",
      "   --------------------------------- ------ 21.2/25.7 MB 10.1 MB/s eta 0:00:01\n",
      "   ------------------------------------ --- 23.3/25.7 MB 10.1 MB/s eta 0:00:01\n",
      "   ---------------------------------------  25.4/25.7 MB 10.1 MB/s eta 0:00:01\n",
      "   ---------------------------------------- 25.7/25.7 MB 9.8 MB/s eta 0:00:00\n",
      "Downloading python_calamine-0.3.2-cp312-cp312-win_amd64.whl (692 kB)\n",
      "   ---------------------------------------- 0.0/692.7 kB ? eta -:--:--\n",
      "   ---------------------------------------- 692.7/692.7 kB 6.9 MB/s eta 0:00:00\n",
      "Downloading pytz-2025.2-py2.py3-none-any.whl (509 kB)\n",
      "Using cached pyxlsb-1.0.10-py2.py3-none-any.whl (23 kB)\n",
      "Downloading tzdata-2025.2-py2.py3-none-any.whl (347 kB)\n",
      "Using cached xlrd-2.0.1-py2.py3-none-any.whl (96 kB)\n",
      "Downloading XlsxWriter-3.2.3-py3-none-any.whl (169 kB)\n",
      "Using cached pandas-2.2.3-cp312-cp312-win_amd64.whl (11.5 MB)\n",
      "Using cached defusedxml-0.7.1-py2.py3-none-any.whl (25 kB)\n",
      "Using cached et_xmlfile-2.0.0-py3-none-any.whl (18 kB)\n",
      "Installing collected packages: pyxlsb, pytz, xlsxwriter, xlrd, tzdata, python-calamine, pyarrow, et-xmlfile, defusedxml, pandas, openpyxl, odfpy\n",
      "Successfully installed defusedxml-0.7.1 et-xmlfile-2.0.0 odfpy-1.4.1 openpyxl-3.1.5 pandas-2.2.3 pyarrow-20.0.0 python-calamine-0.3.2 pytz-2025.2 pyxlsb-1.0.10 tzdata-2025.2 xlrd-2.0.1 xlsxwriter-3.2.3\n"
     ]
    },
    {
     "name": "stderr",
     "output_type": "stream",
     "text": [
      "\n",
      "[notice] A new release of pip is available: 24.2 -> 25.1.1\n",
      "[notice] To update, run: python.exe -m pip install --upgrade pip\n"
     ]
    }
   ],
   "source": [
    "# !pip install \"pandas[excel,parquet]\"\n",
    "# install pandas with excel and parquet support"
   ]
  },
  {
   "cell_type": "code",
   "execution_count": 54,
   "metadata": {},
   "outputs": [
    {
     "name": "stdout",
     "output_type": "stream",
     "text": [
      "pandas library is installed\n",
      "pandas library version: 2.2.3\n"
     ]
    }
   ],
   "source": [
    "# try importing pandas as pd\n",
    "try:\n",
    "    import pandas as pd # standard library # no pip install needed\n",
    "    print(\"pandas library is installed\")\n",
    "    # print version\n",
    "    print(f\"pandas library version: {pd.__version__}\")\n",
    "except ImportError:\n",
    "    print(\"pandas library is not installed\")\n",
    "    print(\"please install it with: pip install pandas[excel,parquet]\")"
   ]
  },
  {
   "cell_type": "code",
   "execution_count": null,
   "metadata": {},
   "outputs": [],
   "source": [
    "# let's print first two flat dogs"
   ]
  },
  {
   "cell_type": "code",
   "execution_count": 55,
   "metadata": {},
   "outputs": [
    {
     "data": {
      "text/html": [
       "<div>\n",
       "<style scoped>\n",
       "    .dataframe tbody tr th:only-of-type {\n",
       "        vertical-align: middle;\n",
       "    }\n",
       "\n",
       "    .dataframe tbody tr th {\n",
       "        vertical-align: top;\n",
       "    }\n",
       "\n",
       "    .dataframe thead th {\n",
       "        text-align: right;\n",
       "    }\n",
       "</style>\n",
       "<table border=\"1\" class=\"dataframe\">\n",
       "  <thead>\n",
       "    <tr style=\"text-align: right;\">\n",
       "      <th></th>\n",
       "      <th>name</th>\n",
       "      <th>description</th>\n",
       "      <th>life_max</th>\n",
       "      <th>life_min</th>\n",
       "      <th>male_weight_max</th>\n",
       "      <th>male_weight_min</th>\n",
       "      <th>female_weight_max</th>\n",
       "      <th>female_weight_min</th>\n",
       "      <th>hypoallergenic</th>\n",
       "    </tr>\n",
       "  </thead>\n",
       "  <tbody>\n",
       "    <tr>\n",
       "      <th>0</th>\n",
       "      <td>Affenpinscher</td>\n",
       "      <td>The Affenpinscher is a small and playful breed...</td>\n",
       "      <td>16</td>\n",
       "      <td>14</td>\n",
       "      <td>5</td>\n",
       "      <td>3</td>\n",
       "      <td>5</td>\n",
       "      <td>3</td>\n",
       "      <td>True</td>\n",
       "    </tr>\n",
       "    <tr>\n",
       "      <th>1</th>\n",
       "      <td>Afghan Hound</td>\n",
       "      <td>The Afghan Hound is a large and elegant breed ...</td>\n",
       "      <td>14</td>\n",
       "      <td>12</td>\n",
       "      <td>27</td>\n",
       "      <td>23</td>\n",
       "      <td>25</td>\n",
       "      <td>20</td>\n",
       "      <td>False</td>\n",
       "    </tr>\n",
       "    <tr>\n",
       "      <th>2</th>\n",
       "      <td>Airedale Terrier</td>\n",
       "      <td>The Airedale Terrier is a large and powerful b...</td>\n",
       "      <td>14</td>\n",
       "      <td>12</td>\n",
       "      <td>23</td>\n",
       "      <td>20</td>\n",
       "      <td>20</td>\n",
       "      <td>18</td>\n",
       "      <td>False</td>\n",
       "    </tr>\n",
       "    <tr>\n",
       "      <th>3</th>\n",
       "      <td>Akita</td>\n",
       "      <td>The Akita is a large, muscular dog breed that ...</td>\n",
       "      <td>12</td>\n",
       "      <td>10</td>\n",
       "      <td>60</td>\n",
       "      <td>35</td>\n",
       "      <td>50</td>\n",
       "      <td>35</td>\n",
       "      <td>False</td>\n",
       "    </tr>\n",
       "    <tr>\n",
       "      <th>4</th>\n",
       "      <td>Alaskan Klee Kai</td>\n",
       "      <td>The Alaskan Klee Kai is a small to medium-size...</td>\n",
       "      <td>15</td>\n",
       "      <td>12</td>\n",
       "      <td>7</td>\n",
       "      <td>6</td>\n",
       "      <td>7</td>\n",
       "      <td>6</td>\n",
       "      <td>False</td>\n",
       "    </tr>\n",
       "  </tbody>\n",
       "</table>\n",
       "</div>"
      ],
      "text/plain": [
       "               name                                        description  \\\n",
       "0     Affenpinscher  The Affenpinscher is a small and playful breed...   \n",
       "1      Afghan Hound  The Afghan Hound is a large and elegant breed ...   \n",
       "2  Airedale Terrier  The Airedale Terrier is a large and powerful b...   \n",
       "3             Akita  The Akita is a large, muscular dog breed that ...   \n",
       "4  Alaskan Klee Kai  The Alaskan Klee Kai is a small to medium-size...   \n",
       "\n",
       "   life_max  life_min  male_weight_max  male_weight_min  female_weight_max  \\\n",
       "0        16        14                5                3                  5   \n",
       "1        14        12               27               23                 25   \n",
       "2        14        12               23               20                 20   \n",
       "3        12        10               60               35                 50   \n",
       "4        15        12                7                6                  7   \n",
       "\n",
       "   female_weight_min  hypoallergenic  \n",
       "0                  3            True  \n",
       "1                 20           False  \n",
       "2                 18           False  \n",
       "3                 35           False  \n",
       "4                  6           False  "
      ]
     },
     "execution_count": 55,
     "metadata": {},
     "output_type": "execute_result"
    }
   ],
   "source": [
    "# we have a list of dictionaries for our dogs \n",
    "# those can be easily loaded into pandas dataframe\n",
    "# we will get keys as column names and values as individual cells in the dataframe\n",
    "# this is more flexible if some key value pair is missing from some dog\n",
    "df = pd.DataFrame(flat_dogs) # create a dataframe from the list of dictionaries\n",
    "df.head() # print first 5 rows of the dataframe"
   ]
  },
  {
   "cell_type": "code",
   "execution_count": 56,
   "metadata": {},
   "outputs": [],
   "source": [
    "# first we can save it into excel file (or csv or many formats)\n",
    "df.to_excel(\"dogs.xlsx\", index=False) # save the dataframe to excel file\n",
    "# index=False means we do not want to save the index column"
   ]
  },
  {
   "cell_type": "code",
   "execution_count": 57,
   "metadata": {},
   "outputs": [
    {
     "name": "stdout",
     "output_type": "stream",
     "text": [
      "<class 'pandas.core.frame.DataFrame'>\n",
      "RangeIndex: 283 entries, 0 to 282\n",
      "Data columns (total 9 columns):\n",
      " #   Column             Non-Null Count  Dtype \n",
      "---  ------             --------------  ----- \n",
      " 0   name               283 non-null    object\n",
      " 1   description        283 non-null    object\n",
      " 2   life_max           283 non-null    int64 \n",
      " 3   life_min           283 non-null    int64 \n",
      " 4   male_weight_max    283 non-null    int64 \n",
      " 5   male_weight_min    283 non-null    int64 \n",
      " 6   female_weight_max  283 non-null    int64 \n",
      " 7   female_weight_min  283 non-null    int64 \n",
      " 8   hypoallergenic     283 non-null    bool  \n",
      "dtypes: bool(1), int64(6), object(2)\n",
      "memory usage: 18.1+ KB\n"
     ]
    }
   ],
   "source": [
    "df.info() # print info about the dataframe"
   ]
  },
  {
   "cell_type": "code",
   "execution_count": 58,
   "metadata": {},
   "outputs": [
    {
     "data": {
      "text/html": [
       "<div>\n",
       "<style scoped>\n",
       "    .dataframe tbody tr th:only-of-type {\n",
       "        vertical-align: middle;\n",
       "    }\n",
       "\n",
       "    .dataframe tbody tr th {\n",
       "        vertical-align: top;\n",
       "    }\n",
       "\n",
       "    .dataframe thead th {\n",
       "        text-align: right;\n",
       "    }\n",
       "</style>\n",
       "<table border=\"1\" class=\"dataframe\">\n",
       "  <thead>\n",
       "    <tr style=\"text-align: right;\">\n",
       "      <th></th>\n",
       "      <th>life_max</th>\n",
       "      <th>life_min</th>\n",
       "      <th>male_weight_max</th>\n",
       "      <th>male_weight_min</th>\n",
       "      <th>female_weight_max</th>\n",
       "      <th>female_weight_min</th>\n",
       "    </tr>\n",
       "  </thead>\n",
       "  <tbody>\n",
       "    <tr>\n",
       "      <th>count</th>\n",
       "      <td>283.000000</td>\n",
       "      <td>283.000000</td>\n",
       "      <td>283.000000</td>\n",
       "      <td>283.000000</td>\n",
       "      <td>283.000000</td>\n",
       "      <td>283.000000</td>\n",
       "    </tr>\n",
       "    <tr>\n",
       "      <th>mean</th>\n",
       "      <td>14.219081</td>\n",
       "      <td>11.795053</td>\n",
       "      <td>27.134276</td>\n",
       "      <td>19.303887</td>\n",
       "      <td>26.088339</td>\n",
       "      <td>18.547703</td>\n",
       "    </tr>\n",
       "    <tr>\n",
       "      <th>std</th>\n",
       "      <td>1.537264</td>\n",
       "      <td>1.371070</td>\n",
       "      <td>20.559453</td>\n",
       "      <td>14.383287</td>\n",
       "      <td>18.990553</td>\n",
       "      <td>13.349118</td>\n",
       "    </tr>\n",
       "    <tr>\n",
       "      <th>min</th>\n",
       "      <td>8.000000</td>\n",
       "      <td>6.000000</td>\n",
       "      <td>3.000000</td>\n",
       "      <td>1.000000</td>\n",
       "      <td>3.000000</td>\n",
       "      <td>1.000000</td>\n",
       "    </tr>\n",
       "    <tr>\n",
       "      <th>25%</th>\n",
       "      <td>14.000000</td>\n",
       "      <td>12.000000</td>\n",
       "      <td>11.000000</td>\n",
       "      <td>8.000000</td>\n",
       "      <td>11.000000</td>\n",
       "      <td>8.000000</td>\n",
       "    </tr>\n",
       "    <tr>\n",
       "      <th>50%</th>\n",
       "      <td>14.000000</td>\n",
       "      <td>12.000000</td>\n",
       "      <td>25.000000</td>\n",
       "      <td>18.000000</td>\n",
       "      <td>25.000000</td>\n",
       "      <td>18.000000</td>\n",
       "    </tr>\n",
       "    <tr>\n",
       "      <th>75%</th>\n",
       "      <td>15.000000</td>\n",
       "      <td>12.000000</td>\n",
       "      <td>32.000000</td>\n",
       "      <td>25.000000</td>\n",
       "      <td>32.000000</td>\n",
       "      <td>25.000000</td>\n",
       "    </tr>\n",
       "    <tr>\n",
       "      <th>max</th>\n",
       "      <td>20.000000</td>\n",
       "      <td>15.000000</td>\n",
       "      <td>110.000000</td>\n",
       "      <td>90.000000</td>\n",
       "      <td>110.000000</td>\n",
       "      <td>90.000000</td>\n",
       "    </tr>\n",
       "  </tbody>\n",
       "</table>\n",
       "</div>"
      ],
      "text/plain": [
       "         life_max    life_min  male_weight_max  male_weight_min  \\\n",
       "count  283.000000  283.000000       283.000000       283.000000   \n",
       "mean    14.219081   11.795053        27.134276        19.303887   \n",
       "std      1.537264    1.371070        20.559453        14.383287   \n",
       "min      8.000000    6.000000         3.000000         1.000000   \n",
       "25%     14.000000   12.000000        11.000000         8.000000   \n",
       "50%     14.000000   12.000000        25.000000        18.000000   \n",
       "75%     15.000000   12.000000        32.000000        25.000000   \n",
       "max     20.000000   15.000000       110.000000        90.000000   \n",
       "\n",
       "       female_weight_max  female_weight_min  \n",
       "count         283.000000         283.000000  \n",
       "mean           26.088339          18.547703  \n",
       "std            18.990553          13.349118  \n",
       "min             3.000000           1.000000  \n",
       "25%            11.000000           8.000000  \n",
       "50%            25.000000          18.000000  \n",
       "75%            32.000000          25.000000  \n",
       "max           110.000000          90.000000  "
      ]
     },
     "execution_count": 58,
     "metadata": {},
     "output_type": "execute_result"
    }
   ],
   "source": [
    "# let's describe the numerical fields\n",
    "df.describe() # print the description of the dataframe"
   ]
  },
  {
   "cell_type": "code",
   "execution_count": 60,
   "metadata": {},
   "outputs": [
    {
     "data": {
      "text/plain": [
       "<Axes: ylabel='Frequency'>"
      ]
     },
     "execution_count": 60,
     "metadata": {},
     "output_type": "execute_result"
    },
    {
     "data": {
      "image/png": "[encoded data removed]",
      "text/plain": [
       "<Figure size 640x480 with 1 Axes>"
      ]
     },
     "metadata": {},
     "output_type": "display_data"
    }
   ],
   "source": [
    "# let's plot histogram of max_weights\n",
    "df.plot(y=\"male_weight_max\", kind=\"hist\") # plot histogram of max_weights\n",
    "# show the plot"
   ]
  },
  {
   "cell_type": "code",
   "execution_count": 61,
   "metadata": {},
   "outputs": [
    {
     "data": {
      "text/plain": [
       "<Axes: ylabel='Frequency'>"
      ]
     },
     "execution_count": 61,
     "metadata": {},
     "output_type": "execute_result"
    },
    {
     "data": {
      "image/png": "[encoded data removed]",
      "text/plain": [
       "<Figure size 640x480 with 1 Axes>"
      ]
     },
     "metadata": {},
     "output_type": "display_data"
    }
   ],
   "source": [
    "# let's use 50 bins\n",
    "df.plot(y=\"male_weight_max\", kind=\"hist\", bins=50) # plot histogram of max_weights with 50 bins\n",
    "# show the plot"
   ]
  },
  {
   "cell_type": "markdown",
   "metadata": {},
   "source": [
    "## Some tips for using requests for JSON APIs"
   ]
  },
  {
   "cell_type": "code",
   "execution_count": 34,
   "metadata": {},
   "outputs": [
    {
     "name": "stdout",
     "output_type": "stream",
     "text": [
      "response code: 200\n"
     ]
    }
   ],
   "source": [
    "# you might need to add headers to your request\n",
    "# some APIs require headers\n",
    "# headers are like metadata for the request\n",
    "# you can add headers to your request\n",
    "\n",
    "# let's get some cat facts from the Cat Facts API\n",
    "# we will add headers to our request\n",
    "\n",
    "response = requests.get(cat_url_page2, headers={\"Accept\": \"application/json\"})\n",
    "# so headers is a dictionary where keys are header names and values are header values\n",
    "# keys could be \"Accept\", \"User-Agent\", \"Content-Type\", \"Authorization\" etc.\n",
    "# we are saying that we want JSON data\n",
    "# print code\n",
    "print(\"response code:\", response.status_code)"
   ]
  },
  {
   "cell_type": "code",
   "execution_count": null,
   "metadata": {},
   "outputs": [],
   "source": [
    "# now some APIs require authentication and authorization\n",
    "\n",
    "# authentication is proving who you are\n",
    "# authorization is proving you have permission to do something\n",
    "\n",
    "# let's say you have API_KEY for some service\n",
    "\n",
    "# then you could use headers to send the API_KEY to the service\n",
    "\n",
    "# we could also use shorter syntax in requests\n",
    "# we could pass parameters as a dictionary to get method\n",
    "\n",
    "# more information on authentication and authorization in requests library\n",
    "# https://docs.python-requests.org/en/master/user/authentication/\n"
   ]
  }
 ],
 "metadata": {
  "kernelspec": {
   "display_name": "myvenv",
   "language": "python",
   "name": "python3"
  },
  "language_info": {
   "codemirror_mode": {
    "name": "ipython",
    "version": 3
   },
   "file_extension": ".py",
   "mimetype": "text/x-python",
   "name": "python",
   "nbconvert_exporter": "python",
   "pygments_lexer": "ipython3",
   "version": "3.12.5"
  }
 },
 "nbformat": 4,
 "nbformat_minor": 2
}
