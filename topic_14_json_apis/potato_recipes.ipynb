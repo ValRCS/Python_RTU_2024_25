{
 "cells": [
  {
   "cell_type": "markdown",
   "id": "7a36bb81",
   "metadata": {},
   "source": [
    "# Using JSON API to get recipe"
   ]
  },
  {
   "cell_type": "code",
   "execution_count": 3,
   "id": "3b321827",
   "metadata": {},
   "outputs": [
    {
     "name": "stdout",
     "output_type": "stream",
     "text": [
      "['Aloo Keema', 'Russian Borscht', 'South Indian Masala Dosa']\n"
     ]
    }
   ],
   "source": [
    "import json\n",
    "try:\n",
    "    import requests\n",
    "except ImportError:\n",
    "    print(\"requests library is not installed\")\n",
    "\n",
    "MAX_RECIPES = 5\n",
    "url = \"https://dummyjson.com/recipes\"\n",
    "response = requests.get(url)\n",
    "# text = response.text\n",
    "# data = json.loads(text)\n",
    "data = response.json() # same as above, but more efficient\n",
    "# with open (\"recipes.json\", mode=\"w\", encoding=\"utf-8\") as file:\n",
    "#     json.dump(data, file, indent=4, ensure_ascii=False)\n",
    " \n",
    "recipes_list = data[\"recipes\"]\n",
    "potato_recipes = []\n",
    "for recipe in data[\"recipes\"]:\n",
    "    for ingredient in recipe[\"ingredients\"]:\n",
    "        if \"potato\" in ingredient.lower():\n",
    "            potato_recipes.append(recipe[\"name\"])\n",
    "            break\n",
    "    if len(potato_recipes) >= MAX_RECIPES:\n",
    "        break\n",
    " \n",
    "print(potato_recipes)"
   ]
  },
  {
   "cell_type": "code",
   "execution_count": null,
   "id": "a74976fd",
   "metadata": {},
   "outputs": [
    {
     "name": "stdout",
     "output_type": "stream",
     "text": [
      "['Japanese Ramen Soup', 'Russian Borscht']\n"
     ]
    }
   ],
   "source": [
    "# we have data let's find all soups by checking tags which is a list\n",
    "# if one of the list items countains \"soup\" we can add it to our list\n",
    "# we can also check if the recipe name contains \"soup\"\n",
    "soups = []\n",
    "for recipe in data[\"recipes\"]:\n",
    "    if len(soups) >= MAX_RECIPES:\n",
    "        break\n",
    "    if \"soup\" in recipe[\"name\"].lower():\n",
    "        soups.append(recipe[\"name\"])\n",
    "        continue # we go back to start of outer loop for next recipe\n",
    "    # if we don't find \"soup\" in the name, we check the tags\n",
    "    # we can use a for loop to check each tag in the list of tags\n",
    "    for tag in recipe[\"tags\"]: # inner loop\n",
    "        if \"soup\" in tag.lower():\n",
    "            soups.append(recipe[\"name\"])\n",
    "            break # we leave the inner loop if we find a match\n",
    "\n",
    "\n",
    "print(soups)"
   ]
  },
  {
   "cell_type": "code",
   "execution_count": 6,
   "id": "15639207",
   "metadata": {},
   "outputs": [
    {
     "name": "stdout",
     "output_type": "stream",
     "text": [
      "Total ingredients: 267\n"
     ]
    }
   ],
   "source": [
    "# let's create one big list of ingredients for all recipes\n",
    "# later we can use this list to find out how many recipes use each ingredient\n",
    "all_ingredients = []\n",
    "for recipe in data[\"recipes\"]:\n",
    "    # for ingredient in recipe[\"ingredients\"]:\n",
    "    #     all_ingredients.append(ingredient.lower()) # we convert to lower case to avoid duplicates\n",
    "    all_ingredients.extend(recipe[\"ingredients\"])\n",
    "\n",
    "# how many total ingredients do we have?\n",
    "print(f\"Total ingredients: {len(all_ingredients)}\")"
   ]
  },
  {
   "cell_type": "code",
   "execution_count": 7,
   "id": "77cf560b",
   "metadata": {},
   "outputs": [
    {
     "name": "stdout",
     "output_type": "stream",
     "text": [
      "Most common ingredients:\n",
      "Garlic, minced: 9\n",
      "Salt and pepper to taste: 8\n",
      "Onions, finely chopped: 7\n",
      "Salt to taste: 6\n",
      "Sesame oil: 4\n",
      "Tomatoes, chopped: 4\n",
      "Ginger-garlic paste: 4\n",
      "Olive oil: 3\n",
      "Soy sauce: 3\n",
      "Heavy cream: 3\n"
     ]
    }
   ],
   "source": [
    "# let's use counter to count the number of times each ingredient appears in the list\n",
    "from collections import Counter\n",
    "counter = Counter(all_ingredients)\n",
    "TOP_INGREDIENTS = 10\n",
    "# let's print the 10 most common ingredients\n",
    "print(\"Most common ingredients:\")\n",
    "for ingredient, count in counter.most_common(TOP_INGREDIENTS):\n",
    "    print(f\"{ingredient}: {count}\")"
   ]
  }
 ],
 "metadata": {
  "kernelspec": {
   "display_name": "myvenv",
   "language": "python",
   "name": "python3"
  },
  "language_info": {
   "codemirror_mode": {
    "name": "ipython",
    "version": 3
   },
   "file_extension": ".py",
   "mimetype": "text/x-python",
   "name": "python",
   "nbconvert_exporter": "python",
   "pygments_lexer": "ipython3",
   "version": "3.12.5"
  }
 },
 "nbformat": 4,
 "nbformat_minor": 5
}
