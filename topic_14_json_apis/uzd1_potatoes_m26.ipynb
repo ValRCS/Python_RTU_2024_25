{
 "cells": [
  {
   "cell_type": "markdown",
   "id": "4a60cd13",
   "metadata": {},
   "source": [
    "# JSON API uzdevumi\n",
    "\n",
    "## Darbs ar JSON API\n",
    "\n",
    "### 1a. Izvelciet 5 receptes kas satur kartupeļus no sekojoša API:\n",
    "\n",
    "https://dummyjson.com/recipes\n",
    "\n",
    "Dati jasaglabā .json failā bet arī jaizveido python datu struktūra\n",
    "\n",
    "PS. ASV izrunā kartupeli kā potato :)\n",
    "\n",
    "### 1b. Izvelciet  visas  zupu receptes no tā API\n",
    "\n",
    "Te var būt dažādi piegājieni, bet visticamāk mūs interesēs mealType lauks kurā ir viena no vērtībām soup\n",
    "\n",
    "1c Python datu struktūrā pārvērtiet visu ēdienu ingredients atslēgas vērtību uz sarakstu.\n",
    "\n",
    "Citiem vārdiem atrodiet visu ēdienu sastāvdaļas un izveidojiet lielu sarakstu ar tiem ieskaitot duplikātus.\n",
    "\n",
    "### 1d Atrodied visvairāk izmantotos ingredients \n",
    "\n",
    "Ieteikums: Varat izmantot counter update metodi\n",
    "\n",
    "Izdrukājiet TOP 5 sastāvdaļas šajās receptēs.\n",
    "\n",
    "### 1.e uzzīmējiet histogrammu ar TOP 10 ingredients skaitu \n",
    "\n",
    "Bonus, uztaisiet meklētāju, kurš paprasa lietotājam, kādu ēdienu meklēt\n",
    "\n",
    "Super bonuss būtu atrast kādu API kas ļauj tulkot latviski -> angliski, tad lietotājs ievadīt latviski bet receptes tiktu meklētas angliski.\n",
    "\n",
    "Tas būtu gala projekta vērts it īpaši ja atrastu kādu lielāku ēdienu API."
   ]
  },
  {
   "cell_type": "code",
   "execution_count": 1,
   "id": "2eaeeb6b",
   "metadata": {},
   "outputs": [
    {
     "name": "stdout",
     "output_type": "stream",
     "text": [
      "Type of data: <class 'dict'>\n"
     ]
    }
   ],
   "source": [
    "import requests\n",
    "import json\n",
    " \n",
    "# Iegūstam receptes no API\n",
    "response = requests.get(\"https://dummyjson.com/recipes\")\n",
    "data = response.json()\n",
    "print(f\"Type of data: {type(data)}\")"
   ]
  },
  {
   "cell_type": "code",
   "execution_count": null,
   "id": "b0c6a6ad",
   "metadata": {},
   "outputs": [
    {
     "ename": "",
     "evalue": "",
     "output_type": "error",
     "traceback": [
      "\u001b[1;31mThe Kernel crashed while executing code in the current cell or a previous cell. \n",
      "\u001b[1;31mPlease review the code in the cell(s) to identify a possible cause of the failure. \n",
      "\u001b[1;31mClick <a href='https://aka.ms/vscodeJupyterKernelCrash'>here</a> for more info. \n",
      "\u001b[1;31mView Jupyter <a href='command:jupyter.viewOutput'>log</a> for further details."
     ]
    }
   ],
   "source": [
    "# Filtrējam receptes, kurās sastāvdaļās ir \"kartupeļi\"\n",
    "# kartupelu_receptes = [\n",
    "#     recepte for recepte in data[\"recipes\"]\n",
    "#     if any(\"potato\" in sastavdala.lower() for sastavdala in recepte[\"ingredients\"])\n",
    "# ]\n",
    "# above can be done with simple loop as loop\n",
    "kartupelu_receptes = []\n",
    "# looping through all recipes\n",
    "for recepte in data[\"recipes\"]:\n",
    "    # each recipe has key ingredients with value as list of ingredients\n",
    "    for sastavdala in recepte[\"ingredients\"]:\n",
    "        if \"potato\" in sastavdala.lower(): # we do not care if big Potato or small potato\n",
    "            kartupelu_receptes.append(recepte)\n",
    "            break  # Ja atrasta kartupelis, pārtraucam iekšējo ciklu\n",
    " \n",
    " \n",
    "# Izvēlamies pirmās 5 receptes\n",
    "top_5_kartupelu_receptes = kartupelu_receptes[:5]\n",
    " \n",
    " \n",
    "# Saglabājam rezultātu failā\n",
    "with open(\"kartupeļu_receptes_2.json\", \"w\", encoding=\"utf-8\") as f:\n",
    "    json.dump(top_5_kartupelu_receptes, f, indent=2)"
   ]
  }
 ],
 "metadata": {
  "kernelspec": {
   "display_name": "myvenv",
   "language": "python",
   "name": "python3"
  },
  "language_info": {
   "codemirror_mode": {
    "name": "ipython",
    "version": 3
   },
   "file_extension": ".py",
   "mimetype": "text/x-python",
   "name": "python",
   "nbconvert_exporter": "python",
   "pygments_lexer": "ipython3",
   "version": "3.12.5"
  }
 },
 "nbformat": 4,
 "nbformat_minor": 5
}
