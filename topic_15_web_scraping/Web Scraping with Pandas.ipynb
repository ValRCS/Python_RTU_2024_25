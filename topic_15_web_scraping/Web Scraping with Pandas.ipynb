{
 "cells": [
  {
   "cell_type": "markdown",
   "metadata": {},
   "source": [
    "# Web Scraping with Pandas\n",
    "\n",
    "Pandas is a powerful library for data manipulation and analysis. It provides data structures like Series and DataFrame that make it easy to work with structured data. In this notebook, we will see how to use Pandas to scrape data from the web.\n",
    "\n",
    "Pandas home page: https://pandas.pydata.org/\n",
    "\n",
    "Pandas is not a web scraping library, but it can be used to scrape certain data from the web. We will use the `read_html` function to scrape data from a website and convert it into a DataFrame."
   ]
  },
  {
   "cell_type": "code",
   "execution_count": 1,
   "metadata": {},
   "outputs": [
    {
     "name": "stdout",
     "output_type": "stream",
     "text": [
      "Pandas version: 2.2.3\n"
     ]
    }
   ],
   "source": [
    "try:\n",
    "    import pandas as pd\n",
    "    # version\n",
    "    print(f\"Pandas version: {pd.__version__}\")\n",
    "except:\n",
    "    print(\"Pandas is not installed. Please install it using 'pip install pandas'\")"
   ]
  },
  {
   "cell_type": "code",
   "execution_count": 2,
   "metadata": {},
   "outputs": [
    {
     "data": {
      "text/plain": [
       "'2.2.3'"
      ]
     },
     "execution_count": 2,
     "metadata": {},
     "output_type": "execute_result"
    }
   ],
   "source": [
    "pd.__version__"
   ]
  },
  {
   "attachments": {},
   "cell_type": "markdown",
   "metadata": {},
   "source": [
    "![Lapsiņa](https://raw.githubusercontent.com/mdn/beginner-html-site/gh-pages/images/firefox-icon.png)"
   ]
  },
  {
   "cell_type": "code",
   "execution_count": 3,
   "metadata": {},
   "outputs": [
    {
     "name": "stdout",
     "output_type": "stream",
     "text": [
      "Will scrape https://www.ss.com/lv/real-estate/flats/riga/centre/hand_over/\n"
     ]
    }
   ],
   "source": [
    "# url = \"https://www.ss.com/lv/real-estate/flats/riga/centre/sell/\" \n",
    "# url = \"https://www.ss.com/lv/real-estate/homes-summer-residences/riga-region/all/sell/\"\n",
    "# url = \"https://www.ss.com/lv/real-estate/flats/riga/centre/sell/\"\n",
    "url = \"https://www.ss.com/lv/real-estate/flats/riga/centre/hand_over/\"\n",
    "# notice how we can specify some parameters in the url\n",
    "# these are so called pretty urls\n",
    "# url stands for uniform resource locator\n",
    "print(f\"Will scrape {url}\")"
   ]
  },
  {
   "cell_type": "code",
   "execution_count": null,
   "metadata": {},
   "outputs": [
    {
     "name": "stdout",
     "output_type": "stream",
     "text": [
      "Requirement already satisfied: pandas[html] in d:\\github\\python_rtu_2024_25\\myvenv\\lib\\site-packages (2.2.3)\n",
      "Requirement already satisfied: numpy>=1.26.0 in d:\\github\\python_rtu_2024_25\\myvenv\\lib\\site-packages (from pandas[html]) (2.2.5)\n",
      "Requirement already satisfied: python-dateutil>=2.8.2 in d:\\github\\python_rtu_2024_25\\myvenv\\lib\\site-packages (from pandas[html]) (2.9.0.post0)\n",
      "Requirement already satisfied: pytz>=2020.1 in d:\\github\\python_rtu_2024_25\\myvenv\\lib\\site-packages (from pandas[html]) (2025.2)\n",
      "Requirement already satisfied: tzdata>=2022.7 in d:\\github\\python_rtu_2024_25\\myvenv\\lib\\site-packages (from pandas[html]) (2025.2)\n",
      "Collecting beautifulsoup4>=4.11.2 (from pandas[html])\n",
      "  Downloading beautifulsoup4-4.13.4-py3-none-any.whl.metadata (3.8 kB)\n",
      "Collecting html5lib>=1.1 (from pandas[html])\n",
      "  Using cached html5lib-1.1-py2.py3-none-any.whl.metadata (16 kB)\n",
      "Collecting lxml>=4.9.2 (from pandas[html])\n",
      "  Downloading lxml-5.4.0-cp312-cp312-win_amd64.whl.metadata (3.6 kB)\n",
      "Collecting soupsieve>1.2 (from beautifulsoup4>=4.11.2->pandas[html])\n",
      "  Downloading soupsieve-2.7-py3-none-any.whl.metadata (4.6 kB)\n",
      "Requirement already satisfied: typing-extensions>=4.0.0 in d:\\github\\python_rtu_2024_25\\myvenv\\lib\\site-packages (from beautifulsoup4>=4.11.2->pandas[html]) (4.13.2)\n",
      "Requirement already satisfied: six>=1.9 in d:\\github\\python_rtu_2024_25\\myvenv\\lib\\site-packages (from html5lib>=1.1->pandas[html]) (1.17.0)\n",
      "Collecting webencodings (from html5lib>=1.1->pandas[html])\n",
      "  Using cached webencodings-0.5.1-py2.py3-none-any.whl.metadata (2.1 kB)\n",
      "Downloading beautifulsoup4-4.13.4-py3-none-any.whl (187 kB)\n",
      "Using cached html5lib-1.1-py2.py3-none-any.whl (112 kB)\n",
      "Downloading lxml-5.4.0-cp312-cp312-win_amd64.whl (3.8 MB)\n",
      "   ---------------------------------------- 0.0/3.8 MB ? eta -:--:--\n",
      "   ------------------------ --------------- 2.4/3.8 MB 19.1 MB/s eta 0:00:01\n",
      "   ---------------------------------------- 3.8/3.8 MB 17.5 MB/s eta 0:00:00\n",
      "Downloading soupsieve-2.7-py3-none-any.whl (36 kB)\n",
      "Using cached webencodings-0.5.1-py2.py3-none-any.whl (11 kB)\n",
      "Installing collected packages: webencodings, soupsieve, lxml, html5lib, beautifulsoup4\n",
      "Successfully installed beautifulsoup4-4.13.4 html5lib-1.1 lxml-5.4.0 soupsieve-2.7 webencodings-0.5.1\n"
     ]
    },
    {
     "name": "stderr",
     "output_type": "stream",
     "text": [
      "\n",
      "[notice] A new release of pip is available: 24.2 -> 25.1.1\n",
      "[notice] To update, run: python.exe -m pip install --upgrade pip\n"
     ]
    }
   ],
   "source": [
    "# !pip install \"pandas[html]\"\n",
    "# need to do this only once per environment"
   ]
  },
  {
   "cell_type": "code",
   "execution_count": 6,
   "metadata": {},
   "outputs": [
    {
     "data": {
      "text/plain": [
       "list"
      ]
     },
     "execution_count": 6,
     "metadata": {},
     "output_type": "execute_result"
    }
   ],
   "source": [
    "# pandas can do some web scraping as long as there are tables\n",
    "dfs = pd.read_html(url, header=0) # i know that i want the first row to server for column names\n",
    "type(dfs)\n",
    "# turns out pandas reads ALL tables from the page"
   ]
  },
  {
   "cell_type": "code",
   "execution_count": 7,
   "metadata": {},
   "outputs": [
    {
     "name": "stdout",
     "output_type": "stream",
     "text": [
      "Tables: 6\n"
     ]
    }
   ],
   "source": [
    "# print how many tables we have\n",
    "print(f\"Tables: {len(dfs)}\")\n",
    "# well ss.com was made in early 2000s when tables were used for everything"
   ]
  },
  {
   "cell_type": "code",
   "execution_count": null,
   "metadata": {},
   "outputs": [],
   "source": [
    "# let's see MDN docs for tables: \n",
    "# https://developer.mozilla.org/en-US/docs/Web/HTML/Element/table\n"
   ]
  },
  {
   "cell_type": "code",
   "execution_count": null,
   "metadata": {},
   "outputs": [],
   "source": [
    "# https://pandas.pydata.org/pandas-docs/stable/reference/api/pandas.read_html.html\n",
    "# pandas reads tables by default ALL tables on the page\n"
   ]
  },
  {
   "cell_type": "code",
   "execution_count": 8,
   "metadata": {
    "scrolled": true
   },
   "outputs": [
    {
     "data": {
      "text/html": [
       "<div>\n",
       "<style scoped>\n",
       "    .dataframe tbody tr th:only-of-type {\n",
       "        vertical-align: middle;\n",
       "    }\n",
       "\n",
       "    .dataframe tbody tr th {\n",
       "        vertical-align: top;\n",
       "    }\n",
       "\n",
       "    .dataframe thead th {\n",
       "        text-align: right;\n",
       "    }\n",
       "</style>\n",
       "<table border=\"1\" class=\"dataframe\">\n",
       "  <thead>\n",
       "    <tr style=\"text-align: right;\">\n",
       "      <th></th>\n",
       "      <th>Sludinājumi \\tdatums</th>\n",
       "      <th>Sludinājumi \\tdatums.1</th>\n",
       "      <th>Sludinājumi \\tdatums.2</th>\n",
       "      <th>Iela</th>\n",
       "      <th>Ist.</th>\n",
       "      <th>m2</th>\n",
       "      <th>Stāvs</th>\n",
       "      <th>Sērija</th>\n",
       "      <th>Cena, m2</th>\n",
       "      <th>Cena</th>\n",
       "    </tr>\n",
       "  </thead>\n",
       "  <tbody>\n",
       "    <tr>\n",
       "      <th>0</th>\n",
       "      <td>NaN</td>\n",
       "      <td>NaN</td>\n",
       "      <td>Stilīgs jauns dzīvoklis renovēta māja Rīgas ce...</td>\n",
       "      <td>Barona 92</td>\n",
       "      <td>2</td>\n",
       "      <td>32</td>\n",
       "      <td>1/3</td>\n",
       "      <td>Renov.</td>\n",
       "      <td>14.06 €</td>\n",
       "      <td>450 €/mēn.</td>\n",
       "    </tr>\n",
       "    <tr>\n",
       "      <th>1</th>\n",
       "      <td>NaN</td>\n",
       "      <td>NaN</td>\n",
       "      <td>Luxury, everything luxury: Completely new, exc...</td>\n",
       "      <td>Stabu 18B</td>\n",
       "      <td>2</td>\n",
       "      <td>112</td>\n",
       "      <td>6/7</td>\n",
       "      <td>Jaun.</td>\n",
       "      <td>17.86 €</td>\n",
       "      <td>2,000 €/mēn.</td>\n",
       "    </tr>\n",
       "    <tr>\n",
       "      <th>2</th>\n",
       "      <td>NaN</td>\n",
       "      <td>NaN</td>\n",
       "      <td>Tiek izīrēts kvalitatīvi remontēts, gaišs 2-is...</td>\n",
       "      <td>Tallinas 47</td>\n",
       "      <td>2</td>\n",
       "      <td>49</td>\n",
       "      <td>3/5</td>\n",
       "      <td>P. kara</td>\n",
       "      <td>14.29 €</td>\n",
       "      <td>700 €/mēn.</td>\n",
       "    </tr>\n",
       "    <tr>\n",
       "      <th>3</th>\n",
       "      <td>NaN</td>\n",
       "      <td>NaN</td>\n",
       "      <td>Quiet center, terrace, prestigious embassy dis...</td>\n",
       "      <td>Ausekļa 4</td>\n",
       "      <td>4</td>\n",
       "      <td>175</td>\n",
       "      <td>5/5</td>\n",
       "      <td>Renov.</td>\n",
       "      <td>17.14 €</td>\n",
       "      <td>3,000 €/mēn.</td>\n",
       "    </tr>\n",
       "    <tr>\n",
       "      <th>4</th>\n",
       "      <td>NaN</td>\n",
       "      <td>NaN</td>\n",
       "      <td>Charming penthouse in the quiet center: Planni...</td>\n",
       "      <td>Dzirnavu 31</td>\n",
       "      <td>4</td>\n",
       "      <td>174</td>\n",
       "      <td>7/7</td>\n",
       "      <td>P. kara</td>\n",
       "      <td>16.09 €</td>\n",
       "      <td>2,800 €/mēn.</td>\n",
       "    </tr>\n",
       "  </tbody>\n",
       "</table>\n",
       "</div>"
      ],
      "text/plain": [
       "   Sludinājumi \\tdatums  Sludinājumi \\tdatums.1  \\\n",
       "0                   NaN                     NaN   \n",
       "1                   NaN                     NaN   \n",
       "2                   NaN                     NaN   \n",
       "3                   NaN                     NaN   \n",
       "4                   NaN                     NaN   \n",
       "\n",
       "                              Sludinājumi \\tdatums.2         Iela  Ist.   m2  \\\n",
       "0  Stilīgs jauns dzīvoklis renovēta māja Rīgas ce...    Barona 92     2   32   \n",
       "1  Luxury, everything luxury: Completely new, exc...    Stabu 18B     2  112   \n",
       "2  Tiek izīrēts kvalitatīvi remontēts, gaišs 2-is...  Tallinas 47     2   49   \n",
       "3  Quiet center, terrace, prestigious embassy dis...    Ausekļa 4     4  175   \n",
       "4  Charming penthouse in the quiet center: Planni...  Dzirnavu 31     4  174   \n",
       "\n",
       "  Stāvs   Sērija Cena, m2          Cena  \n",
       "0   1/3   Renov.  14.06 €    450 €/mēn.  \n",
       "1   6/7    Jaun.  17.86 €  2,000 €/mēn.  \n",
       "2   3/5  P. kara  14.29 €    700 €/mēn.  \n",
       "3   5/5   Renov.  17.14 €  3,000 €/mēn.  \n",
       "4   7/7  P. kara  16.09 €  2,800 €/mēn.  "
      ]
     },
     "execution_count": 8,
     "metadata": {},
     "output_type": "execute_result"
    }
   ],
   "source": [
    "df = dfs[4] # the 5th table on our page has our info\n",
    "# df is very common variable name for Pandas DataFrames\n",
    "# df = dfs[8] # 9th table for our riga region houses\n",
    "df.head()"
   ]
  },
  {
   "attachments": {},
   "cell_type": "markdown",
   "metadata": {},
   "source": [
    "### df.shape\n",
    "\n",
    "shape let's us know how many rows and columns we have in our DataFrame."
   ]
  },
  {
   "cell_type": "code",
   "execution_count": 9,
   "metadata": {},
   "outputs": [
    {
     "name": "stdout",
     "output_type": "stream",
     "text": [
      "Shape: (30, 10)\n"
     ]
    }
   ],
   "source": [
    "print(f\"Shape: {df.shape}\")"
   ]
  },
  {
   "cell_type": "markdown",
   "metadata": {},
   "source": [
    "## Saving dataframe to various formats\n",
    "\n",
    "Pandas offers to save the dataframe to various formats like CSV, Excel, SQL, JSON, HTML, etc. We will see how to save the dataframe to a CSV file."
   ]
  },
  {
   "cell_type": "code",
   "execution_count": 11,
   "metadata": {},
   "outputs": [],
   "source": [
    "df.to_json(\"center_may8.json\", indent=4)"
   ]
  },
  {
   "cell_type": "code",
   "execution_count": 12,
   "metadata": {},
   "outputs": [],
   "source": [
    "# now csv\n",
    "df.to_csv(\"center_may8.csv\", index=False)"
   ]
  },
  {
   "cell_type": "code",
   "execution_count": 13,
   "metadata": {},
   "outputs": [],
   "source": [
    "df.to_excel(\"center_may8.xlsx\")\n",
    "# to have excel support you need to install pandas with 'pip install pandas[excel]'"
   ]
  },
  {
   "cell_type": "code",
   "execution_count": 10,
   "metadata": {},
   "outputs": [
    {
     "name": "stdout",
     "output_type": "stream",
     "text": [
      "Will scrape https://www.ss.com/lv/real-estate/flats/riga/centre/sell/page2.html\n"
     ]
    }
   ],
   "source": [
    "url2 = \"https://www.ss.com/lv/real-estate/flats/riga/centre/sell/page2.html\"\n",
    "print(f\"Will scrape {url2}\")"
   ]
  },
  {
   "cell_type": "code",
   "execution_count": null,
   "metadata": {},
   "outputs": [
    {
     "data": {
      "text/plain": [
       "6"
      ]
     },
     "execution_count": 11,
     "metadata": {},
     "output_type": "execute_result"
    }
   ],
   "source": [
    "dflist = pd.read_html(url2, header=0) # this makes a request to the server on the internet here ss.com\n",
    "len(dflist)"
   ]
  },
  {
   "cell_type": "code",
   "execution_count": 12,
   "metadata": {},
   "outputs": [
    {
     "data": {
      "text/html": [
       "<div>\n",
       "<style scoped>\n",
       "    .dataframe tbody tr th:only-of-type {\n",
       "        vertical-align: middle;\n",
       "    }\n",
       "\n",
       "    .dataframe tbody tr th {\n",
       "        vertical-align: top;\n",
       "    }\n",
       "\n",
       "    .dataframe thead th {\n",
       "        text-align: right;\n",
       "    }\n",
       "</style>\n",
       "<table border=\"1\" class=\"dataframe\">\n",
       "  <thead>\n",
       "    <tr style=\"text-align: right;\">\n",
       "      <th></th>\n",
       "      <th>Sludinājumi \\tdatums</th>\n",
       "      <th>Sludinājumi \\tdatums.1</th>\n",
       "      <th>Sludinājumi \\tdatums.2</th>\n",
       "      <th>Iela</th>\n",
       "      <th>Ist.</th>\n",
       "      <th>m2</th>\n",
       "      <th>Stāvs</th>\n",
       "      <th>Sērija</th>\n",
       "      <th>Cena, m2</th>\n",
       "      <th>Cena</th>\n",
       "    </tr>\n",
       "  </thead>\n",
       "  <tbody>\n",
       "    <tr>\n",
       "      <th>0</th>\n",
       "      <td>NaN</td>\n",
       "      <td>NaN</td>\n",
       "      <td>Unikāls 3 stāvvīgs, 5 istabu dzīvoklis centrā ...</td>\n",
       "      <td>Ģertrūdes 5a</td>\n",
       "      <td>5</td>\n",
       "      <td>162</td>\n",
       "      <td>4/5</td>\n",
       "      <td>P. kara</td>\n",
       "      <td>1,358 €</td>\n",
       "      <td>220,000 €</td>\n",
       "    </tr>\n",
       "    <tr>\n",
       "      <th>1</th>\n",
       "      <td>NaN</td>\n",
       "      <td>NaN</td>\n",
       "      <td>Pārdošanā stilīgs dzīvoklis ar mūsdienīgo remo...</td>\n",
       "      <td>Dzirnavu 132</td>\n",
       "      <td>1</td>\n",
       "      <td>36</td>\n",
       "      <td>2/6</td>\n",
       "      <td>P. kara</td>\n",
       "      <td>2,132 €</td>\n",
       "      <td>76,740 €</td>\n",
       "    </tr>\n",
       "    <tr>\n",
       "      <th>2</th>\n",
       "      <td>NaN</td>\n",
       "      <td>NaN</td>\n",
       "      <td>Ekskluzīvs četru guļamistabu dzīvoklis Rīgas p...</td>\n",
       "      <td>Ausekļa 4</td>\n",
       "      <td>6</td>\n",
       "      <td>208</td>\n",
       "      <td>7/7</td>\n",
       "      <td>P. kara</td>\n",
       "      <td>3,150 €</td>\n",
       "      <td>655,200 €</td>\n",
       "    </tr>\n",
       "    <tr>\n",
       "      <th>3</th>\n",
       "      <td>NaN</td>\n",
       "      <td>NaN</td>\n",
       "      <td>Trīs guļamistabu penthouse dzīvoklis Rīgas pre...</td>\n",
       "      <td>Ausekļa 4</td>\n",
       "      <td>5</td>\n",
       "      <td>156</td>\n",
       "      <td>7/7</td>\n",
       "      <td>Specpr.</td>\n",
       "      <td>2,564 €</td>\n",
       "      <td>400,000 €</td>\n",
       "    </tr>\n",
       "    <tr>\n",
       "      <th>4</th>\n",
       "      <td>NaN</td>\n",
       "      <td>NaN</td>\n",
       "      <td>Pārdošanā 2-istabu dzīvoklis cokolstvā pašā Rī...</td>\n",
       "      <td>Ģertrūdes 103</td>\n",
       "      <td>2</td>\n",
       "      <td>52</td>\n",
       "      <td>1/6</td>\n",
       "      <td>P. kara</td>\n",
       "      <td>756 €</td>\n",
       "      <td>39,300 €</td>\n",
       "    </tr>\n",
       "  </tbody>\n",
       "</table>\n",
       "</div>"
      ],
      "text/plain": [
       "   Sludinājumi \\tdatums  Sludinājumi \\tdatums.1  \\\n",
       "0                   NaN                     NaN   \n",
       "1                   NaN                     NaN   \n",
       "2                   NaN                     NaN   \n",
       "3                   NaN                     NaN   \n",
       "4                   NaN                     NaN   \n",
       "\n",
       "                              Sludinājumi \\tdatums.2           Iela  Ist.  \\\n",
       "0  Unikāls 3 stāvvīgs, 5 istabu dzīvoklis centrā ...   Ģertrūdes 5a     5   \n",
       "1  Pārdošanā stilīgs dzīvoklis ar mūsdienīgo remo...   Dzirnavu 132     1   \n",
       "2  Ekskluzīvs četru guļamistabu dzīvoklis Rīgas p...      Ausekļa 4     6   \n",
       "3  Trīs guļamistabu penthouse dzīvoklis Rīgas pre...      Ausekļa 4     5   \n",
       "4  Pārdošanā 2-istabu dzīvoklis cokolstvā pašā Rī...  Ģertrūdes 103     2   \n",
       "\n",
       "    m2 Stāvs   Sērija Cena, m2       Cena  \n",
       "0  162   4/5  P. kara  1,358 €  220,000 €  \n",
       "1   36   2/6  P. kara  2,132 €   76,740 €  \n",
       "2  208   7/7  P. kara  3,150 €  655,200 €  \n",
       "3  156   7/7  Specpr.  2,564 €  400,000 €  \n",
       "4   52   1/6  P. kara    756 €   39,300 €  "
      ]
     },
     "execution_count": 12,
     "metadata": {},
     "output_type": "execute_result"
    }
   ],
   "source": [
    "dflist[4].head() # getting start of 5th table from our 2nd html page"
   ]
  },
  {
   "cell_type": "code",
   "execution_count": 13,
   "metadata": {},
   "outputs": [
    {
     "data": {
      "text/html": [
       "<div>\n",
       "<style scoped>\n",
       "    .dataframe tbody tr th:only-of-type {\n",
       "        vertical-align: middle;\n",
       "    }\n",
       "\n",
       "    .dataframe tbody tr th {\n",
       "        vertical-align: top;\n",
       "    }\n",
       "\n",
       "    .dataframe thead th {\n",
       "        text-align: right;\n",
       "    }\n",
       "</style>\n",
       "<table border=\"1\" class=\"dataframe\">\n",
       "  <thead>\n",
       "    <tr style=\"text-align: right;\">\n",
       "      <th></th>\n",
       "      <th>Sludinājumi \\tdatums</th>\n",
       "      <th>Sludinājumi \\tdatums.1</th>\n",
       "      <th>Sludinājumi \\tdatums.2</th>\n",
       "      <th>Iela</th>\n",
       "      <th>Ist.</th>\n",
       "      <th>m2</th>\n",
       "      <th>Stāvs</th>\n",
       "      <th>Sērija</th>\n",
       "      <th>Cena, m2</th>\n",
       "      <th>Cena</th>\n",
       "    </tr>\n",
       "  </thead>\n",
       "  <tbody>\n",
       "    <tr>\n",
       "      <th>0</th>\n",
       "      <td>NaN</td>\n",
       "      <td>NaN</td>\n",
       "      <td>Pārdošanā plašs trīs istabu dzīvoklis Rīgas Kl...</td>\n",
       "      <td>Antonijas 24</td>\n",
       "      <td>3</td>\n",
       "      <td>111</td>\n",
       "      <td>2/5</td>\n",
       "      <td>P. kara</td>\n",
       "      <td>1,931 €</td>\n",
       "      <td>214,370 €</td>\n",
       "    </tr>\n",
       "    <tr>\n",
       "      <th>1</th>\n",
       "      <td>NaN</td>\n",
       "      <td>NaN</td>\n",
       "      <td>Attīstītājs tirgo divistabu dzīvokli, kas atro...</td>\n",
       "      <td>Alauksta 7</td>\n",
       "      <td>2</td>\n",
       "      <td>36</td>\n",
       "      <td>3/4</td>\n",
       "      <td>Renov.</td>\n",
       "      <td>3,056 €</td>\n",
       "      <td>110,000 €</td>\n",
       "    </tr>\n",
       "    <tr>\n",
       "      <th>2</th>\n",
       "      <td>NaN</td>\n",
       "      <td>NaN</td>\n",
       "      <td>Pārdod lielisku īpāšumu labākajā Rīgas daļā. D...</td>\n",
       "      <td>Ausekļa 11</td>\n",
       "      <td>3</td>\n",
       "      <td>97</td>\n",
       "      <td>6/6</td>\n",
       "      <td>Renov.</td>\n",
       "      <td>2,155 €</td>\n",
       "      <td>209,000 €</td>\n",
       "    </tr>\n",
       "    <tr>\n",
       "      <th>3</th>\n",
       "      <td>NaN</td>\n",
       "      <td>NaN</td>\n",
       "      <td>Renovēts dzīvoklis kapitāli rekonstruētā proje...</td>\n",
       "      <td>Sadovņikova 21</td>\n",
       "      <td>3</td>\n",
       "      <td>57</td>\n",
       "      <td>4/6</td>\n",
       "      <td>Renov.</td>\n",
       "      <td>1,482 €</td>\n",
       "      <td>84,500 €</td>\n",
       "    </tr>\n",
       "    <tr>\n",
       "      <th>4</th>\n",
       "      <td>NaN</td>\n",
       "      <td>NaN</td>\n",
       "      <td>Pārdodu unikālu trīsistabu dzīvokli pašā Rīgas...</td>\n",
       "      <td>Stabu 45</td>\n",
       "      <td>3</td>\n",
       "      <td>94</td>\n",
       "      <td>1/5</td>\n",
       "      <td>P. kara</td>\n",
       "      <td>697 €</td>\n",
       "      <td>65,500 €</td>\n",
       "    </tr>\n",
       "  </tbody>\n",
       "</table>\n",
       "</div>"
      ],
      "text/plain": [
       "   Sludinājumi \\tdatums  Sludinājumi \\tdatums.1  \\\n",
       "0                   NaN                     NaN   \n",
       "1                   NaN                     NaN   \n",
       "2                   NaN                     NaN   \n",
       "3                   NaN                     NaN   \n",
       "4                   NaN                     NaN   \n",
       "\n",
       "                              Sludinājumi \\tdatums.2            Iela  Ist.  \\\n",
       "0  Pārdošanā plašs trīs istabu dzīvoklis Rīgas Kl...    Antonijas 24     3   \n",
       "1  Attīstītājs tirgo divistabu dzīvokli, kas atro...      Alauksta 7     2   \n",
       "2  Pārdod lielisku īpāšumu labākajā Rīgas daļā. D...      Ausekļa 11     3   \n",
       "3  Renovēts dzīvoklis kapitāli rekonstruētā proje...  Sadovņikova 21     3   \n",
       "4  Pārdodu unikālu trīsistabu dzīvokli pašā Rīgas...        Stabu 45     3   \n",
       "\n",
       "    m2 Stāvs   Sērija Cena, m2       Cena  \n",
       "0  111   2/5  P. kara  1,931 €  214,370 €  \n",
       "1   36   3/4   Renov.  3,056 €  110,000 €  \n",
       "2   97   6/6   Renov.  2,155 €  209,000 €  \n",
       "3   57   4/6   Renov.  1,482 €   84,500 €  \n",
       "4   94   1/5  P. kara    697 €   65,500 €  "
      ]
     },
     "execution_count": 13,
     "metadata": {},
     "output_type": "execute_result"
    }
   ],
   "source": [
    "bigdf = pd.concat([df, dflist[4]]) # concat creates a new dataframe from an iterable! of dataframes\n",
    "# https://pandas.pydata.org/pandas-docs/stable/reference/api/pandas.concat.html\n",
    "bigdf.head()"
   ]
  },
  {
   "cell_type": "code",
   "execution_count": 14,
   "metadata": {},
   "outputs": [
    {
     "data": {
      "text/plain": [
       "((30, 10), (30, 10), (60, 10))"
      ]
     },
     "execution_count": 14,
     "metadata": {},
     "output_type": "execute_result"
    }
   ],
   "source": [
    "df.shape, dflist[4].shape, bigdf.shape"
   ]
  },
  {
   "cell_type": "code",
   "execution_count": 11,
   "metadata": {},
   "outputs": [],
   "source": [
    "bigdf.to_excel(\"riga_center_60.xlsx\")"
   ]
  },
  {
   "cell_type": "code",
   "execution_count": 13,
   "metadata": {},
   "outputs": [],
   "source": [
    "# i could also save to csv\n",
    "bigdf.to_csv(\"riga_center_60.csv\")"
   ]
  },
  {
   "cell_type": "code",
   "execution_count": null,
   "metadata": {},
   "outputs": [],
   "source": [
    "# so if we know the last page of\n"
   ]
  },
  {
   "cell_type": "code",
   "execution_count": null,
   "metadata": {},
   "outputs": [],
   "source": [
    "# Challenge how to automatically get all pages no matter how many ads?\n",
    "# how to scrape web address for each ad (in case we want to look in to the ad more in depth)"
   ]
  },
  {
   "cell_type": "code",
   "execution_count": 9,
   "metadata": {},
   "outputs": [
    {
     "data": {
      "text/plain": [
       "8"
      ]
     },
     "execution_count": 9,
     "metadata": {},
     "output_type": "execute_result"
    }
   ],
   "source": [
    "wiki_url = \"https://en.wikipedia.org/wiki/List_of_cities_and_towns_in_Latvia\"\n",
    "wikis = pd.read_html(wiki_url, header=0)\n",
    "len(wikis)"
   ]
  },
  {
   "cell_type": "code",
   "execution_count": 10,
   "metadata": {},
   "outputs": [
    {
     "name": "stdout",
     "output_type": "stream",
     "text": [
      "                                   City  Population (2013)[2]  \\\n",
      "0  Daugavpils pronunciation (help·info)                 93312   \n",
      "\n",
      "   Population (2019)[3]  \n",
      "0                 82604  \n",
      "                               Town  Population (2010)[2]  \\\n",
      "0  Ainaži pronunciation (help·info)                  1008   \n",
      "\n",
      "   Population (2018)[3]       Municipality[1]  \n",
      "0                   787  Limbaži Municipality  \n",
      "Empty DataFrame\n",
      "Columns: [Unnamed: 0, Wikimedia Commons has media related to Cities in Latvia.]\n",
      "Index: []\n",
      "  .mw-parser-output .navbar{display:inline;font-size:88%;font-weight:normal}.mw-parser-output .navbar-collapse{float:left;text-align:left}.mw-parser-output .navbar-boxtext{word-spacing:0}.mw-parser-output .navbar ul{display:inline-block;white-space:nowrap;line-height:inherit}.mw-parser-output .navbar-brackets::before{margin-right:-0.125em;content:\"[ \"}.mw-parser-output .navbar-brackets::after{margin-left:-0.125em;content:\" ]\"}.mw-parser-output .navbar li{word-spacing:-0.125em}.mw-parser-output .navbar a>span,.mw-parser-output .navbar a>abbr{text-decoration:inherit}.mw-parser-output .navbar-mini abbr{font-variant:small-caps;border-bottom:none;text-decoration:none;cursor:inherit}.mw-parser-output .navbar-ct-full{font-size:114%;margin:0 7em}.mw-parser-output .navbar-ct-mini{font-size:114%;margin:0 4em}vteDefunct counties and districts of Latvia  \\\n",
      "0            Former counties (dissolved before 1949)                                                                                                                                                                                                                                                                                                                                                                                                                                                                                                                                                                                                                                                                                                                                                                                                                                    \n",
      "\n",
      "  .mw-parser-output .navbar{display:inline;font-size:88%;font-weight:normal}.mw-parser-output .navbar-collapse{float:left;text-align:left}.mw-parser-output .navbar-boxtext{word-spacing:0}.mw-parser-output .navbar ul{display:inline-block;white-space:nowrap;line-height:inherit}.mw-parser-output .navbar-brackets::before{margin-right:-0.125em;content:\"[ \"}.mw-parser-output .navbar-brackets::after{margin-left:-0.125em;content:\" ]\"}.mw-parser-output .navbar li{word-spacing:-0.125em}.mw-parser-output .navbar a>span,.mw-parser-output .navbar a>abbr{text-decoration:inherit}.mw-parser-output .navbar-mini abbr{font-variant:small-caps;border-bottom:none;text-decoration:none;cursor:inherit}.mw-parser-output .navbar-ct-full{font-size:114%;margin:0 7em}.mw-parser-output .navbar-ct-mini{font-size:114%;margin:0 4em}vteDefunct counties and districts of Latvia.1  \n",
      "0  Abrenes apriņķis‎ Aizputes apriņķis‎ Bauskas a...                                                                                                                                                                                                                                                                                                                                                                                                                                                                                                                                                                                                                                                                                                                                                                                                                                     \n",
      "                 vteTowns with town rights in Latvia  \\\n",
      "0  Ainaži Aizkraukle Aizpute Aknīste Aloja Alūksn...   \n",
      "\n",
      "               vteTowns with town rights in Latvia.1  \n",
      "0  Ainaži Aizkraukle Aizpute Aknīste Aloja Alūksn...  \n",
      "  vteList of places in Europe  \\\n",
      "0            Sovereign states   \n",
      "\n",
      "                       vteList of places in Europe.1  \n",
      "0  Albania Andorra Armenia Austria Azerbaijan Bel...  \n",
      "  vteLists of cities in Europe  \\\n",
      "0             Sovereign states   \n",
      "\n",
      "                      vteLists of cities in Europe.1  \n",
      "0  Albania Andorra Armenia Austria Azerbaijan Bel...  \n",
      "  vteList of towns in Europe  \\\n",
      "0           Sovereign states   \n",
      "\n",
      "                        vteList of towns in Europe.1  \n",
      "0  Albania Andorra Armenia Austria Azerbaijan Bel...  \n"
     ]
    }
   ],
   "source": [
    "for wiki in wikis:\n",
    "    print(wiki.head(1))"
   ]
  },
  {
   "cell_type": "code",
   "execution_count": 11,
   "metadata": {},
   "outputs": [
    {
     "data": {
      "text/html": [
       "<div>\n",
       "<style scoped>\n",
       "    .dataframe tbody tr th:only-of-type {\n",
       "        vertical-align: middle;\n",
       "    }\n",
       "\n",
       "    .dataframe tbody tr th {\n",
       "        vertical-align: top;\n",
       "    }\n",
       "\n",
       "    .dataframe thead th {\n",
       "        text-align: right;\n",
       "    }\n",
       "</style>\n",
       "<table border=\"1\" class=\"dataframe\">\n",
       "  <thead>\n",
       "    <tr style=\"text-align: right;\">\n",
       "      <th></th>\n",
       "      <th>City</th>\n",
       "      <th>Population (2013)[2]</th>\n",
       "      <th>Population (2019)[3]</th>\n",
       "    </tr>\n",
       "  </thead>\n",
       "  <tbody>\n",
       "    <tr>\n",
       "      <th>0</th>\n",
       "      <td>Daugavpils pronunciation (help·info)</td>\n",
       "      <td>93312</td>\n",
       "      <td>82604</td>\n",
       "    </tr>\n",
       "    <tr>\n",
       "      <th>1</th>\n",
       "      <td>Jelgava pronunciation (help·info)</td>\n",
       "      <td>59511</td>\n",
       "      <td>55972</td>\n",
       "    </tr>\n",
       "    <tr>\n",
       "      <th>2</th>\n",
       "      <td>Jūrmala pronunciation (help·info)</td>\n",
       "      <td>50840</td>\n",
       "      <td>49325</td>\n",
       "    </tr>\n",
       "    <tr>\n",
       "      <th>3</th>\n",
       "      <td>Liepāja pronunciation (help·info)</td>\n",
       "      <td>76731</td>\n",
       "      <td>68945</td>\n",
       "    </tr>\n",
       "    <tr>\n",
       "      <th>4</th>\n",
       "      <td>Rēzekne pronunciation (help·info)</td>\n",
       "      <td>32328</td>\n",
       "      <td>27820</td>\n",
       "    </tr>\n",
       "  </tbody>\n",
       "</table>\n",
       "</div>"
      ],
      "text/plain": [
       "                                   City  Population (2013)[2]  \\\n",
       "0  Daugavpils pronunciation (help·info)                 93312   \n",
       "1     Jelgava pronunciation (help·info)                 59511   \n",
       "2     Jūrmala pronunciation (help·info)                 50840   \n",
       "3     Liepāja pronunciation (help·info)                 76731   \n",
       "4     Rēzekne pronunciation (help·info)                 32328   \n",
       "\n",
       "   Population (2019)[3]  \n",
       "0                 82604  \n",
       "1                 55972  \n",
       "2                 49325  \n",
       "3                 68945  \n",
       "4                 27820  "
      ]
     },
     "execution_count": 11,
     "metadata": {},
     "output_type": "execute_result"
    }
   ],
   "source": [
    "wikis[0].head()"
   ]
  },
  {
   "cell_type": "code",
   "execution_count": 13,
   "metadata": {},
   "outputs": [
    {
     "data": {
      "text/html": [
       "<div>\n",
       "<style scoped>\n",
       "    .dataframe tbody tr th:only-of-type {\n",
       "        vertical-align: middle;\n",
       "    }\n",
       "\n",
       "    .dataframe tbody tr th {\n",
       "        vertical-align: top;\n",
       "    }\n",
       "\n",
       "    .dataframe thead th {\n",
       "        text-align: right;\n",
       "    }\n",
       "</style>\n",
       "<table border=\"1\" class=\"dataframe\">\n",
       "  <thead>\n",
       "    <tr style=\"text-align: right;\">\n",
       "      <th></th>\n",
       "      <th>Town</th>\n",
       "      <th>Population (2010)[2]</th>\n",
       "      <th>Population (2018)[3]</th>\n",
       "      <th>Municipality[1]</th>\n",
       "    </tr>\n",
       "  </thead>\n",
       "  <tbody>\n",
       "    <tr>\n",
       "      <th>0</th>\n",
       "      <td>Ainaži pronunciation (help·info)</td>\n",
       "      <td>1008</td>\n",
       "      <td>787</td>\n",
       "      <td>Limbaži Municipality</td>\n",
       "    </tr>\n",
       "    <tr>\n",
       "      <th>1</th>\n",
       "      <td>Aizkraukle pronunciation (help·info)</td>\n",
       "      <td>8709</td>\n",
       "      <td>7489</td>\n",
       "      <td>Aizkraukle Municipality</td>\n",
       "    </tr>\n",
       "    <tr>\n",
       "      <th>2</th>\n",
       "      <td>Aizpute pronunciation (help·info)</td>\n",
       "      <td>5104</td>\n",
       "      <td>4443</td>\n",
       "      <td>South Kurzeme Municipality</td>\n",
       "    </tr>\n",
       "    <tr>\n",
       "      <th>3</th>\n",
       "      <td>Aknīste pronunciation (help·info)</td>\n",
       "      <td>1224</td>\n",
       "      <td>1078</td>\n",
       "      <td>Jēkabpils Municipality</td>\n",
       "    </tr>\n",
       "    <tr>\n",
       "      <th>4</th>\n",
       "      <td>Aloja pronunciation (help·info)</td>\n",
       "      <td>1353</td>\n",
       "      <td>1197</td>\n",
       "      <td>Limbaži Municipality</td>\n",
       "    </tr>\n",
       "  </tbody>\n",
       "</table>\n",
       "</div>"
      ],
      "text/plain": [
       "                                   Town  Population (2010)[2]  \\\n",
       "0      Ainaži pronunciation (help·info)                  1008   \n",
       "1  Aizkraukle pronunciation (help·info)                  8709   \n",
       "2     Aizpute pronunciation (help·info)                  5104   \n",
       "3     Aknīste pronunciation (help·info)                  1224   \n",
       "4       Aloja pronunciation (help·info)                  1353   \n",
       "\n",
       "   Population (2018)[3]             Municipality[1]  \n",
       "0                   787        Limbaži Municipality  \n",
       "1                  7489     Aizkraukle Municipality  \n",
       "2                  4443  South Kurzeme Municipality  \n",
       "3                  1078      Jēkabpils Municipality  \n",
       "4                  1197        Limbaži Municipality  "
      ]
     },
     "execution_count": 13,
     "metadata": {},
     "output_type": "execute_result"
    }
   ],
   "source": [
    "wikis[1].head(5)"
   ]
  },
  {
   "cell_type": "code",
   "execution_count": null,
   "metadata": {},
   "outputs": [],
   "source": []
  },
  {
   "cell_type": "markdown",
   "metadata": {},
   "source": [
    "## Scraping multiple pages\n",
    "\n",
    "To scrape multiple pages from same source, we can use a loop to scrape data from each page save as individual dataframes and then concatenate them into a single dataframe.\n",
    "\n",
    "### Sleep\n",
    "\n",
    "It is important to sleep for a few seconds between requests to avoid getting blocked by the website.\n",
    "\n"
   ]
  },
  {
   "cell_type": "code",
   "execution_count": 12,
   "metadata": {},
   "outputs": [
    {
     "data": {
      "text/plain": [
       "['https://www.ss.com/lv/real-estate/flats/riga/centre/sell',\n",
       " 'https://www.ss.com/lv/real-estate/flats/riga/centre/sell/page2.html',\n",
       " 'https://www.ss.com/lv/real-estate/flats/riga/centre/sell/page3.html',\n",
       " 'https://www.ss.com/lv/real-estate/flats/riga/centre/sell/page4.html',\n",
       " 'https://www.ss.com/lv/real-estate/flats/riga/centre/sell/page5.html']"
      ]
     },
     "execution_count": 12,
     "metadata": {},
     "output_type": "execute_result"
    }
   ],
   "source": [
    "# so we know that we want 5th table with index 4 for each page\n",
    "# we have the base url for first page\n",
    "# all other pages have the same url but with page number at the end page2.html, page3.html etc\n",
    "\n",
    "# we can use f-strings to format our urls or simple concatenation\n",
    "baseurl = \"https://www.ss.com/lv/real-estate/flats/riga/centre/sell\"\n",
    "lastpage = 31\n",
    "# let's make a list of all pages starting from 2 and then to lastpage\n",
    "urls = [baseurl] + [f\"{baseurl}/page{i}.html\" for i in range(2, lastpage+1)]\n",
    "urls[:5]"
   ]
  },
  {
   "cell_type": "code",
   "execution_count": 13,
   "metadata": {},
   "outputs": [],
   "source": [
    "# now let's import time for sleep\n",
    "import time"
   ]
  },
  {
   "cell_type": "code",
   "execution_count": 14,
   "metadata": {},
   "outputs": [
    {
     "name": "stdout",
     "output_type": "stream",
     "text": [
      "Loading https://www.ss.com/lv/real-estate/flats/riga/centre/sell\n",
      "Loading https://www.ss.com/lv/real-estate/flats/riga/centre/sell/page2.html\n",
      "Loading https://www.ss.com/lv/real-estate/flats/riga/centre/sell/page3.html\n",
      "Loading https://www.ss.com/lv/real-estate/flats/riga/centre/sell/page4.html\n",
      "Loading https://www.ss.com/lv/real-estate/flats/riga/centre/sell/page5.html\n",
      "Loading https://www.ss.com/lv/real-estate/flats/riga/centre/sell/page6.html\n",
      "Loading https://www.ss.com/lv/real-estate/flats/riga/centre/sell/page7.html\n",
      "Loading https://www.ss.com/lv/real-estate/flats/riga/centre/sell/page8.html\n",
      "Loading https://www.ss.com/lv/real-estate/flats/riga/centre/sell/page9.html\n",
      "Loading https://www.ss.com/lv/real-estate/flats/riga/centre/sell/page10.html\n",
      "Loading https://www.ss.com/lv/real-estate/flats/riga/centre/sell/page11.html\n",
      "Loading https://www.ss.com/lv/real-estate/flats/riga/centre/sell/page12.html\n",
      "Loading https://www.ss.com/lv/real-estate/flats/riga/centre/sell/page13.html\n",
      "Loading https://www.ss.com/lv/real-estate/flats/riga/centre/sell/page14.html\n",
      "Loading https://www.ss.com/lv/real-estate/flats/riga/centre/sell/page15.html\n",
      "Loading https://www.ss.com/lv/real-estate/flats/riga/centre/sell/page16.html\n",
      "Loading https://www.ss.com/lv/real-estate/flats/riga/centre/sell/page17.html\n",
      "Loading https://www.ss.com/lv/real-estate/flats/riga/centre/sell/page18.html\n",
      "Loading https://www.ss.com/lv/real-estate/flats/riga/centre/sell/page19.html\n",
      "Loading https://www.ss.com/lv/real-estate/flats/riga/centre/sell/page20.html\n",
      "Loading https://www.ss.com/lv/real-estate/flats/riga/centre/sell/page21.html\n",
      "Loading https://www.ss.com/lv/real-estate/flats/riga/centre/sell/page22.html\n",
      "Loading https://www.ss.com/lv/real-estate/flats/riga/centre/sell/page23.html\n",
      "Loading https://www.ss.com/lv/real-estate/flats/riga/centre/sell/page24.html\n",
      "Loading https://www.ss.com/lv/real-estate/flats/riga/centre/sell/page25.html\n",
      "Loading https://www.ss.com/lv/real-estate/flats/riga/centre/sell/page26.html\n",
      "Loading https://www.ss.com/lv/real-estate/flats/riga/centre/sell/page27.html\n",
      "Loading https://www.ss.com/lv/real-estate/flats/riga/centre/sell/page28.html\n",
      "Loading https://www.ss.com/lv/real-estate/flats/riga/centre/sell/page29.html\n",
      "Loading https://www.ss.com/lv/real-estate/flats/riga/centre/sell/page30.html\n",
      "Loading https://www.ss.com/lv/real-estate/flats/riga/centre/sell/page31.html\n",
      "Shape: (902, 10)\n"
     ]
    },
    {
     "data": {
      "text/html": [
       "<div>\n",
       "<style scoped>\n",
       "    .dataframe tbody tr th:only-of-type {\n",
       "        vertical-align: middle;\n",
       "    }\n",
       "\n",
       "    .dataframe tbody tr th {\n",
       "        vertical-align: top;\n",
       "    }\n",
       "\n",
       "    .dataframe thead th {\n",
       "        text-align: right;\n",
       "    }\n",
       "</style>\n",
       "<table border=\"1\" class=\"dataframe\">\n",
       "  <thead>\n",
       "    <tr style=\"text-align: right;\">\n",
       "      <th></th>\n",
       "      <th>Sludinājumi \\tdatums</th>\n",
       "      <th>Sludinājumi \\tdatums.1</th>\n",
       "      <th>Sludinājumi \\tdatums.2</th>\n",
       "      <th>Iela</th>\n",
       "      <th>Ist.</th>\n",
       "      <th>m2</th>\n",
       "      <th>Stāvs</th>\n",
       "      <th>Sērija</th>\n",
       "      <th>Cena, m2</th>\n",
       "      <th>Cena</th>\n",
       "    </tr>\n",
       "  </thead>\n",
       "  <tbody>\n",
       "    <tr>\n",
       "      <th>0</th>\n",
       "      <td>NaN</td>\n",
       "      <td>NaN</td>\n",
       "      <td>Trīs istabu dzīvoklis atrodas neorenesanses ar...</td>\n",
       "      <td>Baznīcas 26A</td>\n",
       "      <td>3</td>\n",
       "      <td>101</td>\n",
       "      <td>3/6</td>\n",
       "      <td>Renov.</td>\n",
       "      <td>2,228 €</td>\n",
       "      <td>225,000 €</td>\n",
       "    </tr>\n",
       "    <tr>\n",
       "      <th>1</th>\n",
       "      <td>NaN</td>\n",
       "      <td>NaN</td>\n",
       "      <td>Pārdod plašu, ērta plānojuma 4-istabu dzīvokli...</td>\n",
       "      <td>Ģertrūdes 63</td>\n",
       "      <td>4</td>\n",
       "      <td>122</td>\n",
       "      <td>5/6</td>\n",
       "      <td>P. kara</td>\n",
       "      <td>1,270 €</td>\n",
       "      <td>155,000 €</td>\n",
       "    </tr>\n",
       "    <tr>\n",
       "      <th>2</th>\n",
       "      <td>NaN</td>\n",
       "      <td>NaN</td>\n",
       "      <td>Īpašnieks pārdod gaišu, mājīgu divu istabu dzī...</td>\n",
       "      <td>Alauksta 9</td>\n",
       "      <td>2</td>\n",
       "      <td>74</td>\n",
       "      <td>3/6</td>\n",
       "      <td>Jaun.</td>\n",
       "      <td>1,948 €</td>\n",
       "      <td>144,119 €</td>\n",
       "    </tr>\n",
       "    <tr>\n",
       "      <th>3</th>\n",
       "      <td>NaN</td>\n",
       "      <td>NaN</td>\n",
       "      <td>Pārdod 2 istabu dzīvokli Eksporta ielā 10. Dzī...</td>\n",
       "      <td>Eksporta 10</td>\n",
       "      <td>2</td>\n",
       "      <td>32</td>\n",
       "      <td>1/5</td>\n",
       "      <td>Staļina</td>\n",
       "      <td>1,823 €</td>\n",
       "      <td>58,320 €</td>\n",
       "    </tr>\n",
       "    <tr>\n",
       "      <th>4</th>\n",
       "      <td>NaN</td>\n",
       "      <td>NaN</td>\n",
       "      <td>Divstāvu dzīvoklis ar terasi un skatu uz Dauga...</td>\n",
       "      <td>Eksporta 12</td>\n",
       "      <td>3</td>\n",
       "      <td>81</td>\n",
       "      <td>6/7</td>\n",
       "      <td>Staļina</td>\n",
       "      <td>2,099 €</td>\n",
       "      <td>170,000 €</td>\n",
       "    </tr>\n",
       "  </tbody>\n",
       "</table>\n",
       "</div>"
      ],
      "text/plain": [
       "   Sludinājumi \\tdatums  Sludinājumi \\tdatums.1  \\\n",
       "0                   NaN                     NaN   \n",
       "1                   NaN                     NaN   \n",
       "2                   NaN                     NaN   \n",
       "3                   NaN                     NaN   \n",
       "4                   NaN                     NaN   \n",
       "\n",
       "                              Sludinājumi \\tdatums.2          Iela Ist.   m2  \\\n",
       "0  Trīs istabu dzīvoklis atrodas neorenesanses ar...  Baznīcas 26A    3  101   \n",
       "1  Pārdod plašu, ērta plānojuma 4-istabu dzīvokli...  Ģertrūdes 63    4  122   \n",
       "2  Īpašnieks pārdod gaišu, mājīgu divu istabu dzī...    Alauksta 9    2   74   \n",
       "3  Pārdod 2 istabu dzīvokli Eksporta ielā 10. Dzī...   Eksporta 10    2   32   \n",
       "4  Divstāvu dzīvoklis ar terasi un skatu uz Dauga...   Eksporta 12    3   81   \n",
       "\n",
       "  Stāvs   Sērija Cena, m2       Cena  \n",
       "0   3/6   Renov.  2,228 €  225,000 €  \n",
       "1   5/6  P. kara  1,270 €  155,000 €  \n",
       "2   3/6    Jaun.  1,948 €  144,119 €  \n",
       "3   1/5  Staļina  1,823 €   58,320 €  \n",
       "4   6/7  Staļina  2,099 €  170,000 €  "
      ]
     },
     "execution_count": 14,
     "metadata": {},
     "output_type": "execute_result"
    }
   ],
   "source": [
    "delay = 0.3 # we will wait 0.3 seconds between each page load\n",
    "df_list = []\n",
    "for url in urls:\n",
    "    print(f\"Loading {url}\")\n",
    "    df_list.append(pd.read_html(url, header=0)[4])\n",
    "    time.sleep(delay)\n",
    "\n",
    "# concatenate all dataframes\n",
    "bigdf = pd.concat(df_list)\n",
    "print(f\"Shape: {bigdf.shape}\")\n",
    "# save to excel\n",
    "bigdf.to_excel(\"riga_center_all_nov11.xlsx\")\n",
    "# head\n",
    "bigdf.head() # first 5 rows"
   ]
  },
  {
   "cell_type": "markdown",
   "metadata": {},
   "source": [
    "## Conclusion\n",
    "\n",
    "Pandas is a decent HTML table parser, but it is not as powerful as BeautifulSoup or Scrapy. If you need to scrape data from the web, you should use BeautifulSoup or Scrapy. However, if you are already familiar with Pandas and you only need to scrape a small amount of data, you can use Pandas to scrape data from the web given if data is in tabular format.\n",
    "\n",
    "## TODO\n",
    "\n",
    "- How would we obtain page numbers from first page?\n",
    "- How would we obtain URL for indidual ads on page?"
   ]
  }
 ],
 "metadata": {
  "kernelspec": {
   "display_name": "myvenv",
   "language": "python",
   "name": "python3"
  },
  "language_info": {
   "codemirror_mode": {
    "name": "ipython",
    "version": 3
   },
   "file_extension": ".py",
   "mimetype": "text/x-python",
   "name": "python",
   "nbconvert_exporter": "python",
   "pygments_lexer": "ipython3",
   "version": "3.12.5"
  }
 },
 "nbformat": 4,
 "nbformat_minor": 4
}
