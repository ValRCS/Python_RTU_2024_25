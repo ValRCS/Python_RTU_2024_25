{
 "cells": [
  {
   "cell_type": "code",
   "execution_count": 1,
   "metadata": {},
   "outputs": [],
   "source": [
    "# Requests for handling HTTP get and other requests\n",
    "import requests # for making HTTP requests\n",
    "import time # import from standard library for playing nice and not getting blocked\n",
    "import pandas as pd # to save the data in a dataframe\n",
    "# from BeautifulSoup4 import BeatifulSoup if installed through pip install BeautifulSoup4\n",
    "# \n",
    "try:\n",
    "    from bs4 import BeautifulSoup\n",
    "except ImportError:\n",
    "    print(\"Please install BeautifulSoup4 using pip install BeautifulSoup4\")\n",
    "\n",
    "# BeautifulSoup is a Python library for pulling data out of HTML and XML files.\n",
    "# home page of the website: https://www.crummy.com/software/BeautifulSoup/bs4"
   ]
  },
  {
   "cell_type": "code",
   "execution_count": 2,
   "metadata": {},
   "outputs": [
    {
     "name": "stdout",
     "output_type": "stream",
     "text": [
      "Collecting BeautifulSoup4\n",
      "  Using cached beautifulsoup4-4.12.3-py3-none-any.whl.metadata (3.8 kB)\n",
      "Requirement already satisfied: soupsieve>1.2 in d:\\github\\python_rtu_2024_25\\venv312\\lib\\site-packages (from BeautifulSoup4) (2.6)\n",
      "Using cached beautifulsoup4-4.12.3-py3-none-any.whl (147 kB)\n",
      "Installing collected packages: BeautifulSoup4\n",
      "Successfully installed BeautifulSoup4-4.12.3\n"
     ]
    },
    {
     "name": "stderr",
     "output_type": "stream",
     "text": [
      "\n",
      "[notice] A new release of pip is available: 24.2 -> 24.3.1\n",
      "[notice] To update, run: python.exe -m pip install --upgrade pip\n"
     ]
    }
   ],
   "source": [
    "# !pip install BeautifulSoup4\n",
    "# again need to install only once"
   ]
  },
  {
   "cell_type": "code",
   "execution_count": 2,
   "metadata": {},
   "outputs": [
    {
     "data": {
      "text/plain": [
       "'2.2.3'"
      ]
     },
     "execution_count": 2,
     "metadata": {},
     "output_type": "execute_result"
    }
   ],
   "source": [
    "pd.__version__"
   ]
  },
  {
   "cell_type": "code",
   "execution_count": null,
   "metadata": {},
   "outputs": [],
   "source": [
    "# if bs4 not found install it with\n",
    "#  !pip install beatifulsoup4\n",
    "# https://www.crummy.com/software/BeautifulSoup/"
   ]
  },
  {
   "cell_type": "code",
   "execution_count": null,
   "metadata": {},
   "outputs": [],
   "source": [
    "!dir\n",
    "# ar ! i can run command line commands"
   ]
  },
  {
   "cell_type": "code",
   "execution_count": null,
   "metadata": {},
   "outputs": [],
   "source": []
  },
  {
   "cell_type": "code",
   "execution_count": 3,
   "metadata": {},
   "outputs": [
    {
     "name": "stdout",
     "output_type": "stream",
     "text": [
      "Will start scraping https://www.ss.com/lv/real-estate/flats/riga/centre/hand_over/\n"
     ]
    }
   ],
   "source": [
    "# centrs = \"https://www.ss.com/lv/real-estate/flats/riga/centre/sell/\"\n",
    "# url = \"https://www.ss.com/lv/real-estate/homes-summer-residences/riga-region/all/sell/\"\n",
    "# url = \"https://www.ss.com/lv/real-estate/flats/riga/centre/sell/\"\n",
    "url = \"https://www.ss.com/lv/real-estate/flats/riga/centre/hand_over/\"\n",
    "print(f\"Will start scraping {url}\")"
   ]
  },
  {
   "cell_type": "code",
   "execution_count": 4,
   "metadata": {},
   "outputs": [
    {
     "data": {
      "text/plain": [
       "200"
      ]
     },
     "execution_count": 4,
     "metadata": {},
     "output_type": "execute_result"
    }
   ],
   "source": [
    "req = requests.get(url) # so here we make a call to webpage via HTTP GET request and get something back\n",
    "req.status_code # we could add if to check for 200"
   ]
  },
  {
   "cell_type": "code",
   "execution_count": 5,
   "metadata": {},
   "outputs": [
    {
     "name": "stdout",
     "output_type": "stream",
     "text": [
      "<!DOCTYPE html>\n",
      "<HTML lang=\"lv\"><HEAD>\n",
      "<title>SS.COM Dzīvokļi - Rīga - Centrs, Cenas, Izīrē - Sludinājumi</title>\n",
      "<meta http-equiv=\"Content-Type\" CONTENT=\"text/html; charset=UTF-8\">\n",
      "<meta name=\"viewport\" content=\"user-scalable=1, width=device-width, initial-scale=1.0\"/>\n",
      "<meta name=\"keywords\" co\n"
     ]
    }
   ],
   "source": [
    "# response is just text - HTML - NOT JSON!\n",
    "# first 300 characters\n",
    "print(req.text[:300])"
   ]
  },
  {
   "cell_type": "code",
   "execution_count": null,
   "metadata": {},
   "outputs": [],
   "source": []
  },
  {
   "cell_type": "code",
   "execution_count": 6,
   "metadata": {},
   "outputs": [
    {
     "data": {
      "text/plain": [
       "2"
      ]
     },
     "execution_count": 6,
     "metadata": {},
     "output_type": "execute_result"
    }
   ],
   "source": [
    "req.text.count(\"Barona\")  # we could parse it ourselves but why bother when we have libraries ?"
   ]
  },
  {
   "cell_type": "code",
   "execution_count": 7,
   "metadata": {},
   "outputs": [
    {
     "data": {
      "text/plain": [
       "13124"
      ]
     },
     "execution_count": 7,
     "metadata": {},
     "output_type": "execute_result"
    }
   ],
   "source": [
    "req.text.index(\"Barona\")"
   ]
  },
  {
   "cell_type": "markdown",
   "metadata": {},
   "source": [
    "## Key idea - use BeautifulSoup to parse HTML not regex, not by hand!"
   ]
  },
  {
   "cell_type": "code",
   "execution_count": 8,
   "metadata": {},
   "outputs": [
    {
     "data": {
      "text/plain": [
       "requests.models.Response"
      ]
     },
     "execution_count": 8,
     "metadata": {},
     "output_type": "execute_result"
    }
   ],
   "source": [
    "# let's start by what we have so far\n",
    "type(req)"
   ]
  },
  {
   "cell_type": "code",
   "execution_count": null,
   "metadata": {},
   "outputs": [],
   "source": [
    "# req.json() will not work since this page is not JSON!"
   ]
  },
  {
   "cell_type": "code",
   "execution_count": 9,
   "metadata": {},
   "outputs": [
    {
     "data": {
      "text/plain": [
       "'n value=\"3859\">Avotu</option><option value=\"4538\">Barona</option><option value=\"3898\">Baznīcas</option><option value=\"4193\">Birznieka-Upīša</option><o'"
      ]
     },
     "execution_count": 9,
     "metadata": {},
     "output_type": "execute_result"
    }
   ],
   "source": [
    "req.text[req.text.index(\"Barona\")-50:req.text.index(\"Barona\")+100] # we could do parsing by hand but usually we want to use a premade parser"
   ]
  },
  {
   "cell_type": "code",
   "execution_count": null,
   "metadata": {},
   "outputs": [
    {
     "data": {
      "text/plain": [
       "-1"
      ]
     },
     "execution_count": 13,
     "metadata": {},
     "output_type": "execute_result"
    }
   ],
   "source": [
    "req.text.find(\"Kluss\")\n",
    "# - 1 Kluss is not found"
   ]
  },
  {
   "cell_type": "code",
   "execution_count": 10,
   "metadata": {},
   "outputs": [
    {
     "data": {
      "text/plain": [
       "'Kluss. Panorāmas skats no logiem. \\r\\nLaba plānojuma 5 istabu dzīv</a></div></td><td class=\"msga2-o pp'"
      ]
     },
     "execution_count": 10,
     "metadata": {},
     "output_type": "execute_result"
    }
   ],
   "source": [
    "req.text[req.text.index(\"Kluss\"):req.text.index(\"Kluss\")+100]"
   ]
  },
  {
   "cell_type": "markdown",
   "metadata": {},
   "source": [
    "## Using Beautiful Soup to extract data from a website\n",
    "\n",
    "Using string methods is not very efficient when it comes to extracting data from a website. In this notebook, we will use the Beautiful Soup library to extract data from a website. We will extract the title of the website and the first paragraph of the article."
   ]
  },
  {
   "cell_type": "code",
   "execution_count": 10,
   "metadata": {},
   "outputs": [
    {
     "data": {
      "text/plain": [
       "<title>SS.COM Dzīvokļi - Rīga - Centrs, Cenas, Izīrē - Sludinājumi</title>"
      ]
     },
     "execution_count": 10,
     "metadata": {},
     "output_type": "execute_result"
    }
   ],
   "source": [
    "# parser means structuring your text into some structure\n",
    "soup = BeautifulSoup(req.text, 'lxml') # lxml is improved parser, a little bit more lenient\n",
    "# soup = BeautifulSoup(req.text) # could use Python's built in HTML parser\n",
    "# we obtain so called soup object\n",
    "soup.title"
   ]
  },
  {
   "cell_type": "code",
   "execution_count": 11,
   "metadata": {},
   "outputs": [
    {
     "data": {
      "text/plain": [
       "bs4.BeautifulSoup"
      ]
     },
     "execution_count": 11,
     "metadata": {},
     "output_type": "execute_result"
    }
   ],
   "source": [
    "type(soup) # so special type of object - BeautifulSoup"
   ]
  },
  {
   "cell_type": "code",
   "execution_count": null,
   "metadata": {},
   "outputs": [
    {
     "name": "stdout",
     "output_type": "stream",
     "text": [
      "Tables found: 6\n"
     ]
    }
   ],
   "source": [
    "# https://www.crummy.com/software/BeautifulSoup/bs4/doc/#find-all\n",
    "# https://developer.mozilla.org/en-US/docs/Web/HTML/Element/table\n",
    "tables = soup.find_all(\"table\") # finds ALL elements matching our filter\n",
    "print(f\"Tables found: {len(tables)}\") # just like we did with Pandas!"
   ]
  },
  {
   "cell_type": "code",
   "execution_count": 13,
   "metadata": {},
   "outputs": [
    {
     "data": {
      "text/plain": [
       "<tr id=\"head_line\">\n",
       "<td class=\"msg_column\" colspan=\"3\" width=\"70%\">\n",
       "<span style=\"float:left;\"> Sludinājumi\n",
       "</span>\n",
       "<span align=\"right\" class=\"msg_column\" style=\"float:right;text-align:right;padding-right:3px;\">\n",
       "<noindex>\n",
       "<a class=\"a19\" href=\"/lv/real-estate/flats/riga/centre/hand_over/fDgSeF4S.html\" rel=\"nofollow\">datums</a></noindex></span>\n",
       "</td>\n",
       "<td class=\"msg_column_td\" nowrap=\"\"><noindex><a class=\"a18\" href=\"/lv/real-estate/flats/riga/centre/hand_over/fDgSeF4SFDwT.html\" rel=\"nofollow\" title=\"\">Iela</a></noindex></td><td class=\"msg_column_td\" nowrap=\"\"><noindex><a class=\"a18\" href=\"/lv/real-estate/flats/riga/centre/hand_over/fDgSeF4SelM=.html\" rel=\"nofollow\" title=\"\">Ist.</a></noindex></td><td class=\"msg_column_td\" nowrap=\"\"><noindex><a class=\"a18\" href=\"/lv/real-estate/flats/riga/centre/hand_over/fDgSeF4QelM=.html\" rel=\"nofollow\" title=\"\">m2</a></noindex></td><td class=\"msg_column_td\" nowrap=\"\"><noindex><a class=\"a18\" href=\"/lv/real-estate/flats/riga/centre/hand_over/fDgSeF4XelM=.html\" rel=\"nofollow\" title=\"\">Stāvs</a></noindex></td><td class=\"msg_column_td\" nowrap=\"\"><noindex><a class=\"a18\" href=\"/lv/real-estate/flats/riga/centre/hand_over/fDgSeF4VelM=.html\" rel=\"nofollow\" title=\"\">Sērija</a></noindex></td><td background=\"https://i.ss.com/img/pl.gif\" class=\"msg_column\" nowrap=\"\" style=\"border-left:1px #FFFFFF solid;\"><noindex><a class=\"a18\" href=\"/lv/real-estate/flats/riga/centre/hand_over/fDgSeF4bRDwT.html\" rel=\"nofollow\">Cena, m2</a></noindex></td><td class=\"msg_column_td\" nowrap=\"\"><noindex><a class=\"a18\" href=\"/lv/real-estate/flats/riga/centre/hand_over/fDgSeF4belM=.html\" rel=\"nofollow\" title=\"\">Cena</a></noindex></td></tr>"
      ]
     },
     "execution_count": 13,
     "metadata": {},
     "output_type": "execute_result"
    }
   ],
   "source": [
    "# find finds just one match - first that matches\n",
    "# tr table row - https://developer.mozilla.org/en-US/docs/Web/HTML/Element/tr\n",
    "# we know that our headline row has id atrribute with value head_line\n",
    "headline = soup.find(\"tr\", {\"id\":\"head_line\"}) # this is a shorter way of finding by tr AND this element having particular id\n",
    "headline"
   ]
  },
  {
   "cell_type": "code",
   "execution_count": 14,
   "metadata": {},
   "outputs": [
    {
     "data": {
      "text/plain": [
       "bs4.element.Tag"
      ]
     },
     "execution_count": 14,
     "metadata": {},
     "output_type": "execute_result"
    }
   ],
   "source": [
    "# we have obtained a Tag type object \n",
    "type(headline)"
   ]
  },
  {
   "cell_type": "code",
   "execution_count": 15,
   "metadata": {},
   "outputs": [
    {
     "data": {
      "text/plain": [
       "'\\n\\n\\xa0Sludinājumi\\r\\n\\n\\n\\ndatums\\n\\nIelaIst.m2StāvsSērijaCena, m2Cena'"
      ]
     },
     "execution_count": 15,
     "metadata": {},
     "output_type": "execute_result"
    }
   ],
   "source": [
    "headline.text  # i could use split here but we can go deeper!"
   ]
  },
  {
   "cell_type": "code",
   "execution_count": 18,
   "metadata": {},
   "outputs": [
    {
     "data": {
      "text/plain": [
       "['Sludinājumi', 'datums', 'IelaIst.m2StāvsSērijaCena,', 'm2Cena']"
      ]
     },
     "execution_count": 18,
     "metadata": {},
     "output_type": "execute_result"
    }
   ],
   "source": [
    "# we could split by any whitespace\n",
    "headline.text.split()\n",
    "# but again we are not taking advantage of the structure of the HTML"
   ]
  },
  {
   "cell_type": "code",
   "execution_count": 16,
   "metadata": {},
   "outputs": [
    {
     "name": "stdout",
     "output_type": "stream",
     "text": [
      "Found 8 td tags in headline\n"
     ]
    },
    {
     "data": {
      "text/plain": [
       "[<td class=\"msg_column\" colspan=\"3\" width=\"70%\">\n",
       " <span style=\"float:left;\"> Sludinājumi\n",
       " </span>\n",
       " <span align=\"right\" class=\"msg_column\" style=\"float:right;text-align:right;padding-right:3px;\">\n",
       " <noindex>\n",
       " <a class=\"a19\" href=\"/lv/real-estate/flats/riga/centre/hand_over/fDgSeF4S.html\" rel=\"nofollow\">datums</a></noindex></span>\n",
       " </td>,\n",
       " <td class=\"msg_column_td\" nowrap=\"\"><noindex><a class=\"a18\" href=\"/lv/real-estate/flats/riga/centre/hand_over/fDgSeF4SFDwT.html\" rel=\"nofollow\" title=\"\">Iela</a></noindex></td>,\n",
       " <td class=\"msg_column_td\" nowrap=\"\"><noindex><a class=\"a18\" href=\"/lv/real-estate/flats/riga/centre/hand_over/fDgSeF4SelM=.html\" rel=\"nofollow\" title=\"\">Ist.</a></noindex></td>,\n",
       " <td class=\"msg_column_td\" nowrap=\"\"><noindex><a class=\"a18\" href=\"/lv/real-estate/flats/riga/centre/hand_over/fDgSeF4QelM=.html\" rel=\"nofollow\" title=\"\">m2</a></noindex></td>,\n",
       " <td class=\"msg_column_td\" nowrap=\"\"><noindex><a class=\"a18\" href=\"/lv/real-estate/flats/riga/centre/hand_over/fDgSeF4XelM=.html\" rel=\"nofollow\" title=\"\">Stāvs</a></noindex></td>,\n",
       " <td class=\"msg_column_td\" nowrap=\"\"><noindex><a class=\"a18\" href=\"/lv/real-estate/flats/riga/centre/hand_over/fDgSeF4VelM=.html\" rel=\"nofollow\" title=\"\">Sērija</a></noindex></td>,\n",
       " <td background=\"https://i.ss.com/img/pl.gif\" class=\"msg_column\" nowrap=\"\" style=\"border-left:1px #FFFFFF solid;\"><noindex><a class=\"a18\" href=\"/lv/real-estate/flats/riga/centre/hand_over/fDgSeF4bRDwT.html\" rel=\"nofollow\">Cena, m2</a></noindex></td>,\n",
       " <td class=\"msg_column_td\" nowrap=\"\"><noindex><a class=\"a18\" href=\"/lv/real-estate/flats/riga/centre/hand_over/fDgSeF4belM=.html\" rel=\"nofollow\" title=\"\">Cena</a></noindex></td>]"
      ]
     },
     "execution_count": 16,
     "metadata": {},
     "output_type": "execute_result"
    }
   ],
   "source": [
    "# instead of using whole soup object I will look for all td tags inside our headline tag\n",
    "# https://developer.mozilla.org/en-US/docs/Web/HTML/Element/tr\n",
    "headtds = headline.find_all(\"td\")  # get list of all td tags inside our headline tag only(not the whole document!)\n",
    "print(f\"Found {len(headtds)} td tags in headline\") \n",
    "# td stands for table data\n",
    "# https://developer.mozilla.org/en-US/docs/Web/HTML/Element/td \n",
    "headtds"
   ]
  },
  {
   "cell_type": "code",
   "execution_count": 17,
   "metadata": {},
   "outputs": [
    {
     "name": "stdout",
     "output_type": "stream",
     "text": [
      "Columns in the table: 8\n"
     ]
    }
   ],
   "source": [
    "print(f\"Columns in the table: {len(headtds)}\")"
   ]
  },
  {
   "cell_type": "code",
   "execution_count": 19,
   "metadata": {},
   "outputs": [
    {
     "data": {
      "text/plain": [
       "'\\n\\n\\xa0Sludinājumi\\r\\n\\n\\n\\ndatums\\n\\nIelaIst.m2StāvsSērijaCena, m2Cena'"
      ]
     },
     "execution_count": 19,
     "metadata": {},
     "output_type": "execute_result"
    }
   ],
   "source": [
    "headline.text # this returns ALL text in headline and its children and grandchildren"
   ]
  },
  {
   "cell_type": "code",
   "execution_count": 18,
   "metadata": {},
   "outputs": [
    {
     "data": {
      "text/plain": [
       "'\\n\\xa0Sludinājumi\\r\\n\\n\\n\\ndatums\\n'"
      ]
     },
     "execution_count": 18,
     "metadata": {},
     "output_type": "execute_result"
    }
   ],
   "source": [
    "headtds[0].text # we do not need the first one"
   ]
  },
  {
   "cell_type": "code",
   "execution_count": null,
   "metadata": {},
   "outputs": [
    {
     "data": {
      "text/plain": [
       "['Iela', 'Ist.', 'm2', 'Stāvs', 'Sērija', 'Cena, m2', 'Cena']"
      ]
     },
     "execution_count": 19,
     "metadata": {},
     "output_type": "execute_result"
    }
   ],
   "source": [
    "# so we make a decision to skip the first column\n",
    "# using list comprehension to get all text from td tags in headline except the first one\n",
    "headcolumns = [el.text for el in headtds[1:]] #.text gets us content even from children and grandchildren\n",
    "headcolumns"
   ]
  },
  {
   "cell_type": "code",
   "execution_count": 20,
   "metadata": {},
   "outputs": [],
   "source": [
    "# lets combine the above cells into a function which will always get us columns\n",
    "def getColList(soup, default_cols=(\"description\",\"url\")):\n",
    "    column_list = list(default_cols) # we decided to that we need these two column names no matter the html\n",
    "    headline = soup.find(\"tr\", {\"id\":\"head_line\"})\n",
    "    # check if found headline\n",
    "    if headline is None:\n",
    "        print(\"No headline found!\")\n",
    "        return column_list # return empty list or just default columns\n",
    "    headtds = headline.find_all(\"td\") # find all td tags inside our headline tag only(not the whole document!)\n",
    "    # check if we have enough columns\n",
    "    if len(headtds) < 2:\n",
    "        print(\"Not enough columns found!\")\n",
    "        return column_list # return empty list or just default columns\n",
    "    headcolumns = [el.text for el in headtds[1:]] # this will get all column names starting with 2nd in HTML\n",
    "    column_list += headcolumns  # merge both lists, could use extend\n",
    "    return column_list"
   ]
  },
  {
   "cell_type": "code",
   "execution_count": 21,
   "metadata": {},
   "outputs": [
    {
     "data": {
      "text/plain": [
       "['description',\n",
       " 'url',\n",
       " 'Iela',\n",
       " 'Ist.',\n",
       " 'm2',\n",
       " 'Stāvs',\n",
       " 'Sērija',\n",
       " 'Cena, m2',\n",
       " 'Cena']"
      ]
     },
     "execution_count": 21,
     "metadata": {},
     "output_type": "execute_result"
    }
   ],
   "source": [
    "column_names = getColList(soup)\n",
    "column_names # to be used later when creating our table"
   ]
  },
  {
   "cell_type": "code",
   "execution_count": 22,
   "metadata": {},
   "outputs": [
    {
     "name": "stdout",
     "output_type": "stream",
     "text": [
      "Rows found: 39\n"
     ]
    }
   ],
   "source": [
    "trows = soup.find_all('tr') # tr stands for table row\n",
    "# how many rows do we have?\n",
    "print(f\"Rows found: {len(trows)}\")\n"
   ]
  },
  {
   "cell_type": "code",
   "execution_count": null,
   "metadata": {},
   "outputs": [],
   "source": [
    "# if i had no other choices I could find starting and end index by hand and hard code it\n",
    "# but that is liable to change between pages\n",
    "# I could also find specific table and then get all rows from it"
   ]
  },
  {
   "cell_type": "code",
   "execution_count": 23,
   "metadata": {},
   "outputs": [
    {
     "data": {
      "text/plain": [
       "<tr id=\"tr_56354178\"><td class=\"msga2 pp0\"><input id=\"c56354178\" name=\"mid[]\" type=\"checkbox\" value=\"56354178_1106_0\"/></td><td class=\"msga2\"><a href=\"/msg/lv/real-estate/flats/riga/centre/abmmf.html\" id=\"im56354178\"><img alt=\"\" class=\"isfoto foto_list\" src=\"https://i.ss.com/gallery/6/1048/261908/52381432.th2.jpg\"/></a></td><td class=\"msg2\"><div class=\"d1\"><a class=\"am\" data=\"aSVBNCU4MyU4QSU4RiU5OSVCMCU4QmwlQTglODAlOTElOTIlOTdmJThEZiVBOCU4NSU5MSU4OSU5OGQlOEFl|5tNYYf4Z\" href=\"/msg/lv/real-estate/flats/riga/centre/abmmf.html\" id=\"dm_56354178\"><b>No 1. jūnija - pilnībā mēbelēts studio dzīvoklis ar kvalitatīvu </b></a></div></td><td c=\"1\" class=\"msga2-o pp6\" nowrap=\"\"><b>Vārnu 8</b></td><td c=\"1\" class=\"msga2-o pp6\" nowrap=\"\"><b>1</b></td><td c=\"1\" class=\"msga2-o pp6\" nowrap=\"\"><b>28</b></td><td c=\"1\" class=\"msga2-o pp6\" nowrap=\"\"><b>2/6</b></td><td c=\"1\" class=\"msga2-o pp6\" nowrap=\"\"><b>P. kara</b></td><td c=\"1\" class=\"msga2-o pp6\" nowrap=\"\"><b>14.29</b> €</td><td c=\"1\" class=\"msga2-o pp6\" nowrap=\"\"><b>400</b>  €/mēn.</td></tr>"
      ]
     },
     "execution_count": 23,
     "metadata": {},
     "output_type": "execute_result"
    }
   ],
   "source": [
    "trows[9] # we coudl do it by hand"
   ]
  },
  {
   "cell_type": "code",
   "execution_count": null,
   "metadata": {},
   "outputs": [],
   "source": [
    "trows[5] # so could take trows[6:35] downside is that this is fixed with magic numbers"
   ]
  },
  {
   "cell_type": "code",
   "execution_count": 26,
   "metadata": {},
   "outputs": [
    {
     "data": {
      "text/plain": [
       "('tr_56354178', 'tr_55035991', 'head_line', None)"
      ]
     },
     "execution_count": 26,
     "metadata": {},
     "output_type": "execute_result"
    }
   ],
   "source": [
    "trows[9][\"id\"], trows[5].get(\"id\"), trows[4].get(\"id\"), trows[0].get(\"id\") # get is safer since not all elements have ids"
   ]
  },
  {
   "cell_type": "code",
   "execution_count": 27,
   "metadata": {},
   "outputs": [
    {
     "data": {
      "text/plain": [
       "30"
      ]
     },
     "execution_count": 27,
     "metadata": {},
     "output_type": "execute_result"
    }
   ],
   "source": [
    "# hardest part in this \n",
    "# how to filter only specific rows\n",
    "# we need to find something that is unique to our apartment rows but not to the extra rows\n",
    "# remember we id is not guaranteed, so \"\" gives us default value when there is no id\n",
    "apt_rows = [row for row in trows if row.get('id',\"\").startswith(\"tr_\") and not row.get('id',\"\").startswith(\"tr_bnr\") ]\n",
    "len(apt_rows)"
   ]
  },
  {
   "cell_type": "code",
   "execution_count": 28,
   "metadata": {},
   "outputs": [
    {
     "name": "stdout",
     "output_type": "stream",
     "text": [
      "Apartment rows found: 30\n"
     ]
    }
   ],
   "source": [
    "# we could have written the above list comprehension as a for loop\n",
    "apt_rows_also = []\n",
    "for row in trows:\n",
    "    id = row.get('id') # default for no id is None\n",
    "    if id is not None:\n",
    "        if id.startswith(\"tr_\") and not id.startswith(\"tr_bnr\"):\n",
    "            apt_rows_also.append(row)\n",
    "\n",
    "print(f\"Apartment rows found: {len(apt_rows_also)}\")\n"
   ]
  },
  {
   "cell_type": "code",
   "execution_count": 29,
   "metadata": {},
   "outputs": [
    {
     "data": {
      "text/plain": [
       "<tr id=\"tr_54622915\"><td class=\"msga2 pp0\"><input id=\"c54622915\" name=\"mid[]\" type=\"checkbox\" value=\"54622915_1106_0\"/></td><td class=\"msga2\"><a href=\"/msg/lv/real-estate/flats/riga/centre/eccbl.html\" id=\"im54622915\"><img alt=\"\" class=\"isfoto foto_list\" src=\"https://i.ss.com/gallery/6/1092/272768/54553553.th2.jpg\"/></a></td><td class=\"msg2\"><div class=\"d1\"><a class=\"am\" data=\"biU4OCU4MiVCMGklQzB4JTg1JUFCbiU4NCU4MyVCMGh0JTdGJTg1JUFFcSU4MiU4MSVBOWJ0|8RMy2DGNz\" href=\"/msg/lv/real-estate/flats/riga/centre/eccbl.html\" id=\"dm_54622915\">Īrei tiek piedāvāts mini dzīvoklis ar savu sanitāro mezglu, bet </a></div></td><td c=\"1\" class=\"msga2-o pp6\" nowrap=\"\">Lāčplēša 37</td><td c=\"1\" class=\"msga2-o pp6\" nowrap=\"\">1</td><td c=\"1\" class=\"msga2-o pp6\" nowrap=\"\">22</td><td c=\"1\" class=\"msga2-o pp6\" nowrap=\"\">2/4</td><td c=\"1\" class=\"msga2-o pp6\" nowrap=\"\">Renov.</td><td c=\"1\" class=\"msga2-o pp6\" nowrap=\"\">12.73 €</td><td c=\"1\" class=\"msga2-o pp6\" nowrap=\"\">280  €/mēn.</td></tr>"
      ]
     },
     "execution_count": 29,
     "metadata": {},
     "output_type": "execute_result"
    }
   ],
   "source": [
    "apt_rows[-1] # last ad"
   ]
  },
  {
   "cell_type": "code",
   "execution_count": 30,
   "metadata": {},
   "outputs": [
    {
     "data": {
      "text/plain": [
       "<tr id=\"tr_55035991\"><td class=\"msga2 pp0\"><input id=\"c55035991\" name=\"mid[]\" type=\"checkbox\" value=\"55035991_1106_0\"/></td><td class=\"msga2\"><a href=\"/msg/lv/real-estate/flats/riga/centre/dcccj.html\" id=\"im55035991\"><img alt=\"\" class=\"isfoto foto_list\" src=\"https://i.ss.com/gallery/7/1219/304601/60920010.th2.jpg\"/></a></td><td class=\"msg2\"><div class=\"d1\"><a class=\"am\" data=\"ZCVBOSU4RCU3RSU5QmclRjVkJUE4JTg1JTdGJTk3aSVBQmwlQUIlOEIlN0UlOUFnJUE5ZyVBMiU4NHY=|3rTFg2y\" href=\"/msg/lv/real-estate/flats/riga/centre/dcccj.html\" id=\"dm_55035991\">Pilnīgi jauns 2 istabu dzīvoklis jaunajā projektā \"Elijas nami\" </a></div></td><td c=\"1\" class=\"msga2-o pp6\" nowrap=\"\">Elijas 26</td><td c=\"1\" class=\"msga2-o pp6\" nowrap=\"\">2</td><td c=\"1\" class=\"msga2-o pp6\" nowrap=\"\">60</td><td c=\"1\" class=\"msga2-o pp6\" nowrap=\"\">4/5</td><td c=\"1\" class=\"msga2-o pp6\" nowrap=\"\">Jaun.</td><td c=\"1\" class=\"msga2-o pp6\" nowrap=\"\">18.33 €</td><td c=\"1\" class=\"msga2-o pp6\" nowrap=\"\">1,100  €/mēn.</td></tr>"
      ]
     },
     "execution_count": 30,
     "metadata": {},
     "output_type": "execute_result"
    }
   ],
   "source": [
    "apt_rows[0] # first ad"
   ]
  },
  {
   "cell_type": "code",
   "execution_count": 31,
   "metadata": {},
   "outputs": [],
   "source": [
    "# lets make a function from the above doodle and make it work on most pages on SS\n",
    "def getRowList(soup):\n",
    "    trows = soup.find_all('tr')\n",
    "    aprows = [row for row in trows if row.get('id',\"\").startswith(\"tr_\") and not row.get('id',\"\").startswith(\"tr_bnr\") ]\n",
    "    return aprows"
   ]
  },
  {
   "cell_type": "code",
   "execution_count": 32,
   "metadata": {},
   "outputs": [
    {
     "data": {
      "text/plain": [
       "30"
      ]
     },
     "execution_count": 32,
     "metadata": {},
     "output_type": "execute_result"
    }
   ],
   "source": [
    "apt_rows = getRowList(soup)\n",
    "len(apt_rows)"
   ]
  },
  {
   "cell_type": "code",
   "execution_count": 33,
   "metadata": {},
   "outputs": [
    {
     "data": {
      "text/plain": [
       "<tr id=\"tr_55035991\"><td class=\"msga2 pp0\"><input id=\"c55035991\" name=\"mid[]\" type=\"checkbox\" value=\"55035991_1106_0\"/></td><td class=\"msga2\"><a href=\"/msg/lv/real-estate/flats/riga/centre/dcccj.html\" id=\"im55035991\"><img alt=\"\" class=\"isfoto foto_list\" src=\"https://i.ss.com/gallery/7/1219/304601/60920010.th2.jpg\"/></a></td><td class=\"msg2\"><div class=\"d1\"><a class=\"am\" data=\"ZCVBOSU4RCU3RSU5QmclRjVkJUE4JTg1JTdGJTk3aSVBQmwlQUIlOEIlN0UlOUFnJUE5ZyVBMiU4NHY=|3rTFg2y\" href=\"/msg/lv/real-estate/flats/riga/centre/dcccj.html\" id=\"dm_55035991\">Pilnīgi jauns 2 istabu dzīvoklis jaunajā projektā \"Elijas nami\" </a></div></td><td c=\"1\" class=\"msga2-o pp6\" nowrap=\"\">Elijas 26</td><td c=\"1\" class=\"msga2-o pp6\" nowrap=\"\">2</td><td c=\"1\" class=\"msga2-o pp6\" nowrap=\"\">60</td><td c=\"1\" class=\"msga2-o pp6\" nowrap=\"\">4/5</td><td c=\"1\" class=\"msga2-o pp6\" nowrap=\"\">Jaun.</td><td c=\"1\" class=\"msga2-o pp6\" nowrap=\"\">18.33 €</td><td c=\"1\" class=\"msga2-o pp6\" nowrap=\"\">1,100  €/mēn.</td></tr>"
      ]
     },
     "execution_count": 33,
     "metadata": {},
     "output_type": "execute_result"
    }
   ],
   "source": [
    "first_ad = apt_rows[0]\n",
    "first_ad"
   ]
  },
  {
   "cell_type": "code",
   "execution_count": 34,
   "metadata": {},
   "outputs": [
    {
     "data": {
      "text/plain": [
       "10"
      ]
     },
     "execution_count": 34,
     "metadata": {},
     "output_type": "execute_result"
    }
   ],
   "source": [
    "row_tds = first_ad.find_all('td') # get all table data elements from first ad/row\n",
    "len(row_tds)"
   ]
  },
  {
   "cell_type": "code",
   "execution_count": 35,
   "metadata": {},
   "outputs": [
    {
     "data": {
      "text/plain": [
       "[<td class=\"msga2 pp0\"><input id=\"c55035991\" name=\"mid[]\" type=\"checkbox\" value=\"55035991_1106_0\"/></td>,\n",
       " <td class=\"msga2\"><a href=\"/msg/lv/real-estate/flats/riga/centre/dcccj.html\" id=\"im55035991\"><img alt=\"\" class=\"isfoto foto_list\" src=\"https://i.ss.com/gallery/7/1219/304601/60920010.th2.jpg\"/></a></td>,\n",
       " <td class=\"msg2\"><div class=\"d1\"><a class=\"am\" data=\"ZCVBOSU4RCU3RSU5QmclRjVkJUE4JTg1JTdGJTk3aSVBQmwlQUIlOEIlN0UlOUFnJUE5ZyVBMiU4NHY=|3rTFg2y\" href=\"/msg/lv/real-estate/flats/riga/centre/dcccj.html\" id=\"dm_55035991\">Pilnīgi jauns 2 istabu dzīvoklis jaunajā projektā \"Elijas nami\" </a></div></td>,\n",
       " <td c=\"1\" class=\"msga2-o pp6\" nowrap=\"\">Elijas 26</td>,\n",
       " <td c=\"1\" class=\"msga2-o pp6\" nowrap=\"\">2</td>,\n",
       " <td c=\"1\" class=\"msga2-o pp6\" nowrap=\"\">60</td>,\n",
       " <td c=\"1\" class=\"msga2-o pp6\" nowrap=\"\">4/5</td>,\n",
       " <td c=\"1\" class=\"msga2-o pp6\" nowrap=\"\">Jaun.</td>,\n",
       " <td c=\"1\" class=\"msga2-o pp6\" nowrap=\"\">18.33 €</td>,\n",
       " <td c=\"1\" class=\"msga2-o pp6\" nowrap=\"\">1,100  €/mēn.</td>]"
      ]
     },
     "execution_count": 35,
     "metadata": {},
     "output_type": "execute_result"
    }
   ],
   "source": [
    "# look at all the data we have\n",
    "row_tds"
   ]
  },
  {
   "cell_type": "code",
   "execution_count": 36,
   "metadata": {},
   "outputs": [
    {
     "data": {
      "text/plain": [
       "''"
      ]
     },
     "execution_count": 36,
     "metadata": {},
     "output_type": "execute_result"
    }
   ],
   "source": [
    "row_tds[0].text"
   ]
  },
  {
   "cell_type": "code",
   "execution_count": 37,
   "metadata": {},
   "outputs": [
    {
     "data": {
      "text/plain": [
       "''"
      ]
     },
     "execution_count": 37,
     "metadata": {},
     "output_type": "execute_result"
    }
   ],
   "source": [
    "row_tds[1].text"
   ]
  },
  {
   "cell_type": "code",
   "execution_count": 38,
   "metadata": {},
   "outputs": [
    {
     "data": {
      "text/plain": [
       "{'class': ['msga2']}"
      ]
     },
     "execution_count": 38,
     "metadata": {},
     "output_type": "execute_result"
    }
   ],
   "source": [
    "row_tds[1].attrs # we can see elements attributes"
   ]
  },
  {
   "cell_type": "code",
   "execution_count": 39,
   "metadata": {},
   "outputs": [
    {
     "data": {
      "text/plain": [
       "<img alt=\"\" class=\"isfoto foto_list\" src=\"https://i.ss.com/gallery/7/1219/304601/60920010.th2.jpg\"/>"
      ]
     },
     "execution_count": 39,
     "metadata": {},
     "output_type": "execute_result"
    }
   ],
   "source": [
    "# we can find elements inside our element\n",
    "img = row_tds[1].find(\"img\") # first img element inside our td element\n",
    "img"
   ]
  },
  {
   "cell_type": "code",
   "execution_count": 40,
   "metadata": {},
   "outputs": [
    {
     "data": {
      "text/plain": [
       "'https://i.ss.com/gallery/7/1219/304601/60920010.th2.jpg'"
      ]
     },
     "execution_count": 40,
     "metadata": {},
     "output_type": "execute_result"
    }
   ],
   "source": [
    "img.get(\"src\")"
   ]
  },
  {
   "cell_type": "code",
   "execution_count": 41,
   "metadata": {},
   "outputs": [
    {
     "data": {
      "text/plain": [
       "<a href=\"/msg/lv/real-estate/flats/riga/centre/dcccj.html\" id=\"im55035991\"><img alt=\"\" class=\"isfoto foto_list\" src=\"https://i.ss.com/gallery/7/1219/304601/60920010.th2.jpg\"/></a>"
      ]
     },
     "execution_count": 41,
     "metadata": {},
     "output_type": "execute_result"
    }
   ],
   "source": [
    "# let's find for our 2nd td element the first a element, here there is only one\n",
    "a = row_tds[1].find('a') # a tag is called anchor tag\n",
    "a"
   ]
  },
  {
   "cell_type": "code",
   "execution_count": 43,
   "metadata": {},
   "outputs": [
    {
     "data": {
      "text/plain": [
       "{'href': '/msg/lv/real-estate/flats/riga/centre/dcccj.html',\n",
       " 'id': 'im55035991'}"
      ]
     },
     "execution_count": 43,
     "metadata": {},
     "output_type": "execute_result"
    }
   ],
   "source": [
    "# we can inspect attributes of the tag\n",
    "a.attrs"
   ]
  },
  {
   "cell_type": "code",
   "execution_count": 44,
   "metadata": {},
   "outputs": [
    {
     "data": {
      "text/plain": [
       "('/msg/lv/real-estate/flats/riga/centre/dcccj.html',\n",
       " '/msg/lv/real-estate/flats/riga/centre/dcccj.html')"
      ]
     },
     "execution_count": 44,
     "metadata": {},
     "output_type": "execute_result"
    }
   ],
   "source": [
    "a.get('href'), a['href'] # anchors should have href attribute\n",
    "# in general get is safer since it does not throw an error if key is not found"
   ]
  },
  {
   "cell_type": "code",
   "execution_count": 45,
   "metadata": {},
   "outputs": [
    {
     "data": {
      "text/plain": [
       "'https://www.ss.com/msg/lv/real-estate/flats/riga/centre/dcccj.html'"
      ]
     },
     "execution_count": 45,
     "metadata": {},
     "output_type": "execute_result"
    }
   ],
   "source": [
    "prefix = \"https://www.ss.com\"\n",
    "prefix + a.get('href')"
   ]
  },
  {
   "cell_type": "code",
   "execution_count": 46,
   "metadata": {},
   "outputs": [
    {
     "data": {
      "text/plain": [
       "'Pilnīgi jauns 2 istabu dzīvoklis jaunajā projektā \"Elijas nami\" '"
      ]
     },
     "execution_count": 46,
     "metadata": {},
     "output_type": "execute_result"
    }
   ],
   "source": [
    "row_tds[2].text # 3rd element has the description\n",
    "# for full description we would need to scrap the url we created above"
   ]
  },
  {
   "cell_type": "code",
   "execution_count": 47,
   "metadata": {},
   "outputs": [
    {
     "data": {
      "text/plain": [
       "'1,100  €/mēn.'"
      ]
     },
     "execution_count": 47,
     "metadata": {},
     "output_type": "execute_result"
    }
   ],
   "source": [
    "row_tds[-1].text # last element has the price"
   ]
  },
  {
   "cell_type": "code",
   "execution_count": 48,
   "metadata": {},
   "outputs": [
    {
     "data": {
      "text/plain": [
       "['description',\n",
       " 'url',\n",
       " 'Iela',\n",
       " 'Ist.',\n",
       " 'm2',\n",
       " 'Stāvs',\n",
       " 'Sērija',\n",
       " 'Cena, m2',\n",
       " 'Cena']"
      ]
     },
     "execution_count": 48,
     "metadata": {},
     "output_type": "execute_result"
    }
   ],
   "source": [
    "column_names # we got these first"
   ]
  },
  {
   "cell_type": "code",
   "execution_count": 49,
   "metadata": {},
   "outputs": [],
   "source": [
    "# from row get dictionary with values \n",
    "def getRow(row, colist=column_names):\n",
    "    row_tds = row.find_all('td')\n",
    "    rowDict = {}\n",
    "    if len(row_tds) < 3: # a little sanity check\n",
    "        print(\"Hmm bad row\")\n",
    "        return rowDict\n",
    "    \n",
    "    # we start with description\n",
    "    rowDict[colist[0]] = row_tds[2].text # so the big assumption is that we always get description in 3rd column\n",
    "    # then url\n",
    "    rowDict[colist[1]] = \"https://ss.com\" + row_tds[1].find('a').get('href')\n",
    "    # rest of columns can vary depending on type of ad\n",
    "    # so we loop through all remaining columns and get their text\n",
    "    # we start from 3rd column\n",
    "    # each text is a value for keys we stored in colist\n",
    "    # zip is a built in function that takes two lists/iterables and returns a list of tuples\n",
    "    # zip will stop when the shortest list is exhausted\n",
    "    for key,td in zip(colist[2:],row_tds[3:]): \n",
    "        rowDict[key] = td.text\n",
    "    return rowDict"
   ]
  },
  {
   "cell_type": "code",
   "execution_count": 50,
   "metadata": {},
   "outputs": [
    {
     "data": {
      "text/plain": [
       "<tr id=\"tr_55035991\"><td class=\"msga2 pp0\"><input id=\"c55035991\" name=\"mid[]\" type=\"checkbox\" value=\"55035991_1106_0\"/></td><td class=\"msga2\"><a href=\"/msg/lv/real-estate/flats/riga/centre/dcccj.html\" id=\"im55035991\"><img alt=\"\" class=\"isfoto foto_list\" src=\"https://i.ss.com/gallery/7/1219/304601/60920010.th2.jpg\"/></a></td><td class=\"msg2\"><div class=\"d1\"><a class=\"am\" data=\"ZCVBOSU4RCU3RSU5QmclRjVkJUE4JTg1JTdGJTk3aSVBQmwlQUIlOEIlN0UlOUFnJUE5ZyVBMiU4NHY=|3rTFg2y\" href=\"/msg/lv/real-estate/flats/riga/centre/dcccj.html\" id=\"dm_55035991\">Pilnīgi jauns 2 istabu dzīvoklis jaunajā projektā \"Elijas nami\" </a></div></td><td c=\"1\" class=\"msga2-o pp6\" nowrap=\"\">Elijas 26</td><td c=\"1\" class=\"msga2-o pp6\" nowrap=\"\">2</td><td c=\"1\" class=\"msga2-o pp6\" nowrap=\"\">60</td><td c=\"1\" class=\"msga2-o pp6\" nowrap=\"\">4/5</td><td c=\"1\" class=\"msga2-o pp6\" nowrap=\"\">Jaun.</td><td c=\"1\" class=\"msga2-o pp6\" nowrap=\"\">18.33 €</td><td c=\"1\" class=\"msga2-o pp6\" nowrap=\"\">1,100  €/mēn.</td></tr>"
      ]
     },
     "execution_count": 50,
     "metadata": {},
     "output_type": "execute_result"
    }
   ],
   "source": [
    "apt_rows[0] # first row of ads"
   ]
  },
  {
   "cell_type": "code",
   "execution_count": 51,
   "metadata": {},
   "outputs": [
    {
     "data": {
      "text/plain": [
       "{'description': 'Pilnīgi jauns 2 istabu dzīvoklis jaunajā projektā \"Elijas nami\" ',\n",
       " 'url': 'https://ss.com/msg/lv/real-estate/flats/riga/centre/dcccj.html',\n",
       " 'Iela': 'Elijas 26',\n",
       " 'Ist.': '2',\n",
       " 'm2': '60',\n",
       " 'Stāvs': '4/5',\n",
       " 'Sērija': 'Jaun.',\n",
       " 'Cena, m2': '18.33 €',\n",
       " 'Cena': '1,100  €/mēn.'}"
      ]
     },
     "execution_count": 51,
     "metadata": {},
     "output_type": "execute_result"
    }
   ],
   "source": [
    "getRow(apt_rows[0])"
   ]
  },
  {
   "cell_type": "code",
   "execution_count": 52,
   "metadata": {},
   "outputs": [
    {
     "data": {
      "text/plain": [
       "{'description': 'Pilnīgi jauns 2 istabu dzīvoklis jaunajā projektā \"Elijas nami\" ',\n",
       " 'url': 'https://ss.com/msg/lv/real-estate/flats/riga/centre/dcccj.html',\n",
       " 'Iela': 'Elijas 26',\n",
       " 'Ist.': '2',\n",
       " 'm2': '60',\n",
       " 'Stāvs': '4/5',\n",
       " 'Sērija': 'Jaun.',\n",
       " 'Cena, m2': '18.33 €',\n",
       " 'Cena': '1,100  €/mēn.'}"
      ]
     },
     "execution_count": 52,
     "metadata": {},
     "output_type": "execute_result"
    }
   ],
   "source": [
    "getRow(first_ad)"
   ]
  },
  {
   "cell_type": "code",
   "execution_count": 53,
   "metadata": {},
   "outputs": [],
   "source": [
    "# so if we know how to work on single row then we can do process multiple rows\n",
    "def getRows(rowlist, colist=column_names):\n",
    "    # we could use list comprehension\n",
    "    # return [getRow(row, colist=colist) for row in rowlist] # so return a list of dictionaries\n",
    "    # we could use regular for loop\n",
    "    rowdicts = []\n",
    "    # so for each row of ads we get a dictionary\n",
    "    for row in rowlist:\n",
    "        rowdicts.append(getRow(row, colist=colist))\n",
    "    return rowdicts # so we return a list of dictionaries - very handy for pandas, json, etc."
   ]
  },
  {
   "cell_type": "code",
   "execution_count": 54,
   "metadata": {},
   "outputs": [
    {
     "data": {
      "text/plain": [
       "[{'description': 'Dzīvokļu īre Rīgā. Namīpašnieks izīrē 1 ist. dzīvokli Rīgas cent',\n",
       "  'url': 'https://ss.com/msg/lv/real-estate/flats/riga/centre/hhfgg.html',\n",
       "  'Iela': 'Sadovņikova 47',\n",
       "  'Ist.': '1',\n",
       "  'm2': '19',\n",
       "  'Stāvs': '2/5',\n",
       "  'Sērija': 'P. kara',\n",
       "  'Cena, m2': '11.58 €',\n",
       "  'Cena': '220  €/mēn.'},\n",
       " {'description': 'Домовладелeц cдает 2 комнатную 5местную квартиру в центре Риги, ',\n",
       "  'url': 'https://ss.com/msg/lv/real-estate/flats/riga/centre/ahbje.html',\n",
       "  'Iela': 'Sadovņikova 47',\n",
       "  'Ist.': '2',\n",
       "  'm2': '40',\n",
       "  'Stāvs': '1/5',\n",
       "  'Sērija': 'Renov.',\n",
       "  'Cena, m2': '11 €',\n",
       "  'Cena': '440  €/mēn.'},\n",
       " {'description': 'Īrei tiek piedāvāts mini dzīvoklis ar savu sanitāro mezglu, bet ',\n",
       "  'url': 'https://ss.com/msg/lv/real-estate/flats/riga/centre/eccbl.html',\n",
       "  'Iela': 'Lāčplēša 37',\n",
       "  'Ist.': '1',\n",
       "  'm2': '22',\n",
       "  'Stāvs': '2/4',\n",
       "  'Sērija': 'Renov.',\n",
       "  'Cena, m2': '12.73 €',\n",
       "  'Cena': '280  €/mēn.'}]"
      ]
     },
     "execution_count": 54,
     "metadata": {},
     "output_type": "execute_result"
    }
   ],
   "source": [
    "row_ads = getRows(apt_rows)\n",
    "row_ads[-3:] # last 3 ads"
   ]
  },
  {
   "cell_type": "code",
   "execution_count": 57,
   "metadata": {},
   "outputs": [
    {
     "data": {
      "text/plain": [
       "(list, 30)"
      ]
     },
     "execution_count": 57,
     "metadata": {},
     "output_type": "execute_result"
    }
   ],
   "source": [
    "type(row_ads), len(row_ads) # list of dictionaries for each ad"
   ]
  },
  {
   "cell_type": "code",
   "execution_count": null,
   "metadata": {},
   "outputs": [],
   "source": [
    "# such a list of dictionaries is easy to convert into a DataFrame in pandas"
   ]
  },
  {
   "cell_type": "code",
   "execution_count": 55,
   "metadata": {},
   "outputs": [
    {
     "data": {
      "text/plain": [
       "(30, 9)"
      ]
     },
     "execution_count": 55,
     "metadata": {},
     "output_type": "execute_result"
    }
   ],
   "source": [
    "# i am converting my list of dictionaries into a DataFrame\n",
    "# dtemp = pd.DataFrame(row_ads, columns=column_names)\n",
    "dtemp = pd.DataFrame(row_ads) # no need for columns if we have them in the dictionary\n",
    "dtemp.shape"
   ]
  },
  {
   "cell_type": "code",
   "execution_count": 56,
   "metadata": {},
   "outputs": [
    {
     "data": {
      "text/html": [
       "<div>\n",
       "<style scoped>\n",
       "    .dataframe tbody tr th:only-of-type {\n",
       "        vertical-align: middle;\n",
       "    }\n",
       "\n",
       "    .dataframe tbody tr th {\n",
       "        vertical-align: top;\n",
       "    }\n",
       "\n",
       "    .dataframe thead th {\n",
       "        text-align: right;\n",
       "    }\n",
       "</style>\n",
       "<table border=\"1\" class=\"dataframe\">\n",
       "  <thead>\n",
       "    <tr style=\"text-align: right;\">\n",
       "      <th></th>\n",
       "      <th>description</th>\n",
       "      <th>url</th>\n",
       "      <th>Iela</th>\n",
       "      <th>Ist.</th>\n",
       "      <th>m2</th>\n",
       "      <th>Stāvs</th>\n",
       "      <th>Sērija</th>\n",
       "      <th>Cena, m2</th>\n",
       "      <th>Cena</th>\n",
       "    </tr>\n",
       "  </thead>\n",
       "  <tbody>\n",
       "    <tr>\n",
       "      <th>0</th>\n",
       "      <td>Pilnīgi jauns 2 istabu dzīvoklis jaunajā proje...</td>\n",
       "      <td>https://ss.com/msg/lv/real-estate/flats/riga/c...</td>\n",
       "      <td>Elijas 26</td>\n",
       "      <td>2</td>\n",
       "      <td>60</td>\n",
       "      <td>4/5</td>\n",
       "      <td>Jaun.</td>\n",
       "      <td>18.33 €</td>\n",
       "      <td>1,100  €/mēn.</td>\n",
       "    </tr>\n",
       "    <tr>\n",
       "      <th>1</th>\n",
       "      <td>Pašā centrā mēbelēts, kluss, gaišs 2 ist. dzīv...</td>\n",
       "      <td>https://ss.com/msg/lv/real-estate/flats/riga/c...</td>\n",
       "      <td>Valdemāra 39</td>\n",
       "      <td>2</td>\n",
       "      <td>50</td>\n",
       "      <td>4/5</td>\n",
       "      <td>P. kara</td>\n",
       "      <td>10 €</td>\n",
       "      <td>500  €/mēn.</td>\n",
       "    </tr>\n",
       "    <tr>\n",
       "      <th>2</th>\n",
       "      <td>Dzīvoklis pieejams uzreiz. Dzīvokļa tūres vide...</td>\n",
       "      <td>https://ss.com/msg/lv/real-estate/flats/riga/c...</td>\n",
       "      <td>Valdemāra 135</td>\n",
       "      <td>3</td>\n",
       "      <td>59</td>\n",
       "      <td>2/5</td>\n",
       "      <td>Hrušč.</td>\n",
       "      <td>9.32 €</td>\n",
       "      <td>550  €/mēn.</td>\n",
       "    </tr>\n",
       "    <tr>\n",
       "      <th>3</th>\n",
       "      <td>Izīrē ekskluzīvu dzīvokli ļoti labā atrašanās ...</td>\n",
       "      <td>https://ss.com/msg/lv/real-estate/flats/riga/c...</td>\n",
       "      <td>Ģertrūdes 9</td>\n",
       "      <td>5</td>\n",
       "      <td>169</td>\n",
       "      <td>4/6</td>\n",
       "      <td>Renov.</td>\n",
       "      <td>9.76 €</td>\n",
       "      <td>1,650  €/mēn.</td>\n",
       "    </tr>\n",
       "    <tr>\n",
       "      <th>4</th>\n",
       "      <td>No 1. jūnija - pilnībā mēbelēts studio dzīvokl...</td>\n",
       "      <td>https://ss.com/msg/lv/real-estate/flats/riga/c...</td>\n",
       "      <td>Vārnu 8</td>\n",
       "      <td>1</td>\n",
       "      <td>28</td>\n",
       "      <td>2/6</td>\n",
       "      <td>P. kara</td>\n",
       "      <td>14.29 €</td>\n",
       "      <td>400  €/mēn.</td>\n",
       "    </tr>\n",
       "  </tbody>\n",
       "</table>\n",
       "</div>"
      ],
      "text/plain": [
       "                                         description  \\\n",
       "0  Pilnīgi jauns 2 istabu dzīvoklis jaunajā proje...   \n",
       "1  Pašā centrā mēbelēts, kluss, gaišs 2 ist. dzīv...   \n",
       "2  Dzīvoklis pieejams uzreiz. Dzīvokļa tūres vide...   \n",
       "3  Izīrē ekskluzīvu dzīvokli ļoti labā atrašanās ...   \n",
       "4  No 1. jūnija - pilnībā mēbelēts studio dzīvokl...   \n",
       "\n",
       "                                                 url           Iela Ist.   m2  \\\n",
       "0  https://ss.com/msg/lv/real-estate/flats/riga/c...      Elijas 26    2   60   \n",
       "1  https://ss.com/msg/lv/real-estate/flats/riga/c...   Valdemāra 39    2   50   \n",
       "2  https://ss.com/msg/lv/real-estate/flats/riga/c...  Valdemāra 135    3   59   \n",
       "3  https://ss.com/msg/lv/real-estate/flats/riga/c...    Ģertrūdes 9    5  169   \n",
       "4  https://ss.com/msg/lv/real-estate/flats/riga/c...        Vārnu 8    1   28   \n",
       "\n",
       "  Stāvs   Sērija Cena, m2           Cena  \n",
       "0   4/5    Jaun.  18.33 €  1,100  €/mēn.  \n",
       "1   4/5  P. kara     10 €    500  €/mēn.  \n",
       "2   2/5   Hrušč.   9.32 €    550  €/mēn.  \n",
       "3   4/6   Renov.   9.76 €  1,650  €/mēn.  \n",
       "4   2/6  P. kara  14.29 €    400  €/mēn.  "
      ]
     },
     "execution_count": 56,
     "metadata": {},
     "output_type": "execute_result"
    }
   ],
   "source": [
    "dtemp.head() # first 5 rows"
   ]
  },
  {
   "cell_type": "code",
   "execution_count": 57,
   "metadata": {},
   "outputs": [],
   "source": [
    "dtemp.to_excel(\"rigas_centrs_may12.xlsx\") # to save excel you need to have openpyxl installed\n",
    "# dtemp.to_csv(\"rigas_centrs_dec18.csv\") # note that csv export might have some formatting issues with new lines"
   ]
  },
  {
   "cell_type": "code",
   "execution_count": 58,
   "metadata": {},
   "outputs": [],
   "source": [
    "# so with this function I can get full dataframe from a single page on ss.com not only apartments\n",
    "def getDFfromURL(url):\n",
    "    # print(\"getting data from\", url)\n",
    "    req = requests.get(url) # here we make a request to a server\n",
    "    if req.status_code != 200:\n",
    "        print(\"Request Fail with\", req.status_code)\n",
    "        return None # maybe return empty dataframe here\n",
    "    soup = BeautifulSoup(req.text, 'lxml')\n",
    "    column_names = getColList(soup)\n",
    "    rowlist = getRowList(soup)\n",
    "    rows_dict = getRows(rowlist,colist=column_names)\n",
    "    return pd.DataFrame(rows_dict)\n",
    "    "
   ]
  },
  {
   "cell_type": "code",
   "execution_count": 59,
   "metadata": {},
   "outputs": [
    {
     "data": {
      "text/plain": [
       "'https://www.ss.com/lv/real-estate/flats/riga/centre/hand_over/'"
      ]
     },
     "execution_count": 59,
     "metadata": {},
     "output_type": "execute_result"
    }
   ],
   "source": [
    "centrs = url # just an alias\n",
    "centrs"
   ]
  },
  {
   "cell_type": "code",
   "execution_count": 60,
   "metadata": {},
   "outputs": [
    {
     "data": {
      "text/html": [
       "<div>\n",
       "<style scoped>\n",
       "    .dataframe tbody tr th:only-of-type {\n",
       "        vertical-align: middle;\n",
       "    }\n",
       "\n",
       "    .dataframe tbody tr th {\n",
       "        vertical-align: top;\n",
       "    }\n",
       "\n",
       "    .dataframe thead th {\n",
       "        text-align: right;\n",
       "    }\n",
       "</style>\n",
       "<table border=\"1\" class=\"dataframe\">\n",
       "  <thead>\n",
       "    <tr style=\"text-align: right;\">\n",
       "      <th></th>\n",
       "      <th>description</th>\n",
       "      <th>url</th>\n",
       "      <th>Iela</th>\n",
       "      <th>Ist.</th>\n",
       "      <th>m2</th>\n",
       "      <th>Stāvs</th>\n",
       "      <th>Sērija</th>\n",
       "      <th>Cena, m2</th>\n",
       "      <th>Cena</th>\n",
       "    </tr>\n",
       "  </thead>\n",
       "  <tbody>\n",
       "    <tr>\n",
       "      <th>0</th>\n",
       "      <td>\"Annas Parks\" kompleksā īpašnieks pārdod divis...</td>\n",
       "      <td>https://ss.com/msg/lv/real-estate/flats/riga/i...</td>\n",
       "      <td>Anniņmuižas 21</td>\n",
       "      <td>2</td>\n",
       "      <td>59</td>\n",
       "      <td>3/4</td>\n",
       "      <td>Jaun.</td>\n",
       "      <td>2,997 €</td>\n",
       "      <td>176,820  €</td>\n",
       "    </tr>\n",
       "    <tr>\n",
       "      <th>1</th>\n",
       "      <td>Unikālā vietā - \"Kleistu muižā\" pārdodas 1. is...</td>\n",
       "      <td>https://ss.com/msg/lv/real-estate/flats/riga/i...</td>\n",
       "      <td>Kleistu 75</td>\n",
       "      <td>1</td>\n",
       "      <td>22</td>\n",
       "      <td>1/2</td>\n",
       "      <td>Priv. m.</td>\n",
       "      <td>1,318 €</td>\n",
       "      <td>29,000  €</td>\n",
       "    </tr>\n",
       "    <tr>\n",
       "      <th>2</th>\n",
       "      <td>Продаётся 3-комнатная квартира со всеми удобст...</td>\n",
       "      <td>https://ss.com/msg/lv/real-estate/flats/riga/i...</td>\n",
       "      <td>Kurzemes pr. 112</td>\n",
       "      <td>3</td>\n",
       "      <td>60</td>\n",
       "      <td>3/5</td>\n",
       "      <td>LT proj.</td>\n",
       "      <td>1,113 €</td>\n",
       "      <td>66,800  €</td>\n",
       "    </tr>\n",
       "    <tr>\n",
       "      <th>3</th>\n",
       "      <td>Īpašnieks pārdod atbrīvotu 1-istabu dzīvokli I...</td>\n",
       "      <td>https://ss.com/msg/lv/real-estate/flats/riga/i...</td>\n",
       "      <td>Dammes 19</td>\n",
       "      <td>1</td>\n",
       "      <td>27</td>\n",
       "      <td>4/5</td>\n",
       "      <td>LT proj.</td>\n",
       "      <td>1,093 €</td>\n",
       "      <td>29,500  €</td>\n",
       "    </tr>\n",
       "    <tr>\n",
       "      <th>4</th>\n",
       "      <td>Nekustamo īpašumu attīstītājs SIA Kbo piedāvā ...</td>\n",
       "      <td>https://ss.com/msg/lv/real-estate/flats/riga/i...</td>\n",
       "      <td>Akāciju 2F</td>\n",
       "      <td>3</td>\n",
       "      <td>76</td>\n",
       "      <td>2/9</td>\n",
       "      <td>Jaun.</td>\n",
       "      <td>2,556 €</td>\n",
       "      <td>194,240  €</td>\n",
       "    </tr>\n",
       "  </tbody>\n",
       "</table>\n",
       "</div>"
      ],
      "text/plain": [
       "                                         description  \\\n",
       "0  \"Annas Parks\" kompleksā īpašnieks pārdod divis...   \n",
       "1  Unikālā vietā - \"Kleistu muižā\" pārdodas 1. is...   \n",
       "2  Продаётся 3-комнатная квартира со всеми удобст...   \n",
       "3  Īpašnieks pārdod atbrīvotu 1-istabu dzīvokli I...   \n",
       "4  Nekustamo īpašumu attīstītājs SIA Kbo piedāvā ...   \n",
       "\n",
       "                                                 url              Iela Ist.  \\\n",
       "0  https://ss.com/msg/lv/real-estate/flats/riga/i...    Anniņmuižas 21    2   \n",
       "1  https://ss.com/msg/lv/real-estate/flats/riga/i...        Kleistu 75    1   \n",
       "2  https://ss.com/msg/lv/real-estate/flats/riga/i...  Kurzemes pr. 112    3   \n",
       "3  https://ss.com/msg/lv/real-estate/flats/riga/i...         Dammes 19    1   \n",
       "4  https://ss.com/msg/lv/real-estate/flats/riga/i...        Akāciju 2F    3   \n",
       "\n",
       "   m2 Stāvs    Sērija Cena, m2        Cena  \n",
       "0  59   3/4     Jaun.  2,997 €  176,820  €  \n",
       "1  22   1/2  Priv. m.  1,318 €   29,000  €  \n",
       "2  60   3/5  LT proj.  1,113 €   66,800  €  \n",
       "3  27   4/5  LT proj.  1,093 €   29,500  €  \n",
       "4  76   2/9     Jaun.  2,556 €  194,240  €  "
      ]
     },
     "execution_count": 60,
     "metadata": {},
     "output_type": "execute_result"
    }
   ],
   "source": [
    "imanta = \"https://www.ss.com/lv/real-estate/flats/riga/imanta/sell/\"\n",
    "idf = getDFfromURL(imanta)\n",
    "idf.head()"
   ]
  },
  {
   "cell_type": "code",
   "execution_count": 64,
   "metadata": {},
   "outputs": [],
   "source": [
    "df = getDFfromURL(centrs) # this will involve calling web page"
   ]
  },
  {
   "cell_type": "code",
   "execution_count": 64,
   "metadata": {},
   "outputs": [
    {
     "data": {
      "text/plain": [
       "'https://www.ss.com/lv/real-estate/flats/riga/centre/hand_over/'"
      ]
     },
     "execution_count": 64,
     "metadata": {},
     "output_type": "execute_result"
    }
   ],
   "source": [
    "url"
   ]
  },
  {
   "cell_type": "code",
   "execution_count": 65,
   "metadata": {},
   "outputs": [
    {
     "data": {
      "text/plain": [
       "(30, 9)"
      ]
     },
     "execution_count": 65,
     "metadata": {},
     "output_type": "execute_result"
    }
   ],
   "source": [
    "df = getDFfromURL(url)\n",
    "df.shape"
   ]
  },
  {
   "cell_type": "code",
   "execution_count": 66,
   "metadata": {},
   "outputs": [
    {
     "data": {
      "text/plain": [
       "(30, 9)"
      ]
     },
     "execution_count": 66,
     "metadata": {},
     "output_type": "execute_result"
    }
   ],
   "source": [
    "df.shape"
   ]
  },
  {
   "cell_type": "code",
   "execution_count": 67,
   "metadata": {},
   "outputs": [
    {
     "data": {
      "text/html": [
       "<div>\n",
       "<style scoped>\n",
       "    .dataframe tbody tr th:only-of-type {\n",
       "        vertical-align: middle;\n",
       "    }\n",
       "\n",
       "    .dataframe tbody tr th {\n",
       "        vertical-align: top;\n",
       "    }\n",
       "\n",
       "    .dataframe thead th {\n",
       "        text-align: right;\n",
       "    }\n",
       "</style>\n",
       "<table border=\"1\" class=\"dataframe\">\n",
       "  <thead>\n",
       "    <tr style=\"text-align: right;\">\n",
       "      <th></th>\n",
       "      <th>description</th>\n",
       "      <th>url</th>\n",
       "      <th>Iela</th>\n",
       "      <th>Ist.</th>\n",
       "      <th>m2</th>\n",
       "      <th>Stāvs</th>\n",
       "      <th>Sērija</th>\n",
       "      <th>Cena, m2</th>\n",
       "      <th>Cena</th>\n",
       "    </tr>\n",
       "  </thead>\n",
       "  <tbody>\n",
       "    <tr>\n",
       "      <th>0</th>\n",
       "      <td>Luksusa apartamenti lieliskā atrašanās vietā. ...</td>\n",
       "      <td>https://ss.com/msg/lv/real-estate/flats/riga/c...</td>\n",
       "      <td>Brīvības 148</td>\n",
       "      <td>2</td>\n",
       "      <td>45</td>\n",
       "      <td>2/6</td>\n",
       "      <td>Staļina</td>\n",
       "      <td>1.11 €</td>\n",
       "      <td>50  €/dienā</td>\n",
       "    </tr>\n",
       "    <tr>\n",
       "      <th>1</th>\n",
       "      <td>Izīrē nelielu dzīvokli renovētā mājā Rīgas cen...</td>\n",
       "      <td>https://ss.com/msg/lv/real-estate/flats/riga/c...</td>\n",
       "      <td>Stabu 63</td>\n",
       "      <td>1</td>\n",
       "      <td>14</td>\n",
       "      <td>2/5</td>\n",
       "      <td>Renov.</td>\n",
       "      <td>19.29 €</td>\n",
       "      <td>270  €/mēn.</td>\n",
       "    </tr>\n",
       "    <tr>\n",
       "      <th>2</th>\n",
       "      <td>Modern one-room apartment in the heart of Riga...</td>\n",
       "      <td>https://ss.com/msg/lv/real-estate/flats/riga/c...</td>\n",
       "      <td>Aspazijas bulv. 30</td>\n",
       "      <td>1</td>\n",
       "      <td>24</td>\n",
       "      <td>5/5</td>\n",
       "      <td>Renov.</td>\n",
       "      <td>20 €</td>\n",
       "      <td>480  €/mēn.</td>\n",
       "    </tr>\n",
       "    <tr>\n",
       "      <th>3</th>\n",
       "      <td>Stilīgs jauns dzīvoklis renovēta māja Rīgas ce...</td>\n",
       "      <td>https://ss.com/msg/lv/real-estate/flats/riga/c...</td>\n",
       "      <td>Barona 92</td>\n",
       "      <td>2</td>\n",
       "      <td>32</td>\n",
       "      <td>1/3</td>\n",
       "      <td>Renov.</td>\n",
       "      <td>14.06 €</td>\n",
       "      <td>450  €/mēn.</td>\n",
       "    </tr>\n",
       "    <tr>\n",
       "      <th>4</th>\n",
       "      <td>Luxury, everything luxury:\\r\\nCompletely new, ...</td>\n",
       "      <td>https://ss.com/msg/lv/real-estate/flats/riga/c...</td>\n",
       "      <td>Stabu 18B</td>\n",
       "      <td>2</td>\n",
       "      <td>112</td>\n",
       "      <td>6/7</td>\n",
       "      <td>Jaun.</td>\n",
       "      <td>17.86 €</td>\n",
       "      <td>2,000  €/mēn.</td>\n",
       "    </tr>\n",
       "    <tr>\n",
       "      <th>5</th>\n",
       "      <td>Tiek izīrēts kvalitatīvi remontēts, gaišs 2-is...</td>\n",
       "      <td>https://ss.com/msg/lv/real-estate/flats/riga/c...</td>\n",
       "      <td>Tallinas 47</td>\n",
       "      <td>2</td>\n",
       "      <td>49</td>\n",
       "      <td>3/5</td>\n",
       "      <td>P. kara</td>\n",
       "      <td>14.29 €</td>\n",
       "      <td>700  €/mēn.</td>\n",
       "    </tr>\n",
       "    <tr>\n",
       "      <th>6</th>\n",
       "      <td>Quiet center, terrace, prestigious embassy dis...</td>\n",
       "      <td>https://ss.com/msg/lv/real-estate/flats/riga/c...</td>\n",
       "      <td>Ausekļa 4</td>\n",
       "      <td>4</td>\n",
       "      <td>175</td>\n",
       "      <td>5/5</td>\n",
       "      <td>Renov.</td>\n",
       "      <td>17.14 €</td>\n",
       "      <td>3,000  €/mēn.</td>\n",
       "    </tr>\n",
       "    <tr>\n",
       "      <th>7</th>\n",
       "      <td>Charming penthouse in the quiet center:\\r\\n\\r\\...</td>\n",
       "      <td>https://ss.com/msg/lv/real-estate/flats/riga/c...</td>\n",
       "      <td>Dzirnavu 31</td>\n",
       "      <td>4</td>\n",
       "      <td>174</td>\n",
       "      <td>7/7</td>\n",
       "      <td>P. kara</td>\n",
       "      <td>16.09 €</td>\n",
       "      <td>2,800  €/mēn.</td>\n",
       "    </tr>\n",
       "    <tr>\n",
       "      <th>8</th>\n",
       "      <td>Kalupes 21\\r\\n\\r\\nRemontēts dzīvoklis renovētā...</td>\n",
       "      <td>https://ss.com/msg/lv/real-estate/flats/riga/c...</td>\n",
       "      <td>Latgales 21</td>\n",
       "      <td>1</td>\n",
       "      <td>27</td>\n",
       "      <td>1/1</td>\n",
       "      <td>Priv. m.</td>\n",
       "      <td>11.78 €</td>\n",
       "      <td>318  €/mēn.</td>\n",
       "    </tr>\n",
       "    <tr>\n",
       "      <th>9</th>\n",
       "      <td>Premium kvalitāte, mēbeles, ekskluzīva dizaina...</td>\n",
       "      <td>https://ss.com/msg/lv/real-estate/flats/riga/c...</td>\n",
       "      <td>Stabu 18B</td>\n",
       "      <td>3</td>\n",
       "      <td>135</td>\n",
       "      <td>5/7</td>\n",
       "      <td>Jaun.</td>\n",
       "      <td>14.81 €</td>\n",
       "      <td>2,000  €/mēn.</td>\n",
       "    </tr>\n",
       "  </tbody>\n",
       "</table>\n",
       "</div>"
      ],
      "text/plain": [
       "                                         description  \\\n",
       "0  Luksusa apartamenti lieliskā atrašanās vietā. ...   \n",
       "1  Izīrē nelielu dzīvokli renovētā mājā Rīgas cen...   \n",
       "2  Modern one-room apartment in the heart of Riga...   \n",
       "3  Stilīgs jauns dzīvoklis renovēta māja Rīgas ce...   \n",
       "4  Luxury, everything luxury:\\r\\nCompletely new, ...   \n",
       "5  Tiek izīrēts kvalitatīvi remontēts, gaišs 2-is...   \n",
       "6  Quiet center, terrace, prestigious embassy dis...   \n",
       "7  Charming penthouse in the quiet center:\\r\\n\\r\\...   \n",
       "8  Kalupes 21\\r\\n\\r\\nRemontēts dzīvoklis renovētā...   \n",
       "9  Premium kvalitāte, mēbeles, ekskluzīva dizaina...   \n",
       "\n",
       "                                                 url                Iela Ist.  \\\n",
       "0  https://ss.com/msg/lv/real-estate/flats/riga/c...        Brīvības 148    2   \n",
       "1  https://ss.com/msg/lv/real-estate/flats/riga/c...            Stabu 63    1   \n",
       "2  https://ss.com/msg/lv/real-estate/flats/riga/c...  Aspazijas bulv. 30    1   \n",
       "3  https://ss.com/msg/lv/real-estate/flats/riga/c...           Barona 92    2   \n",
       "4  https://ss.com/msg/lv/real-estate/flats/riga/c...           Stabu 18B    2   \n",
       "5  https://ss.com/msg/lv/real-estate/flats/riga/c...         Tallinas 47    2   \n",
       "6  https://ss.com/msg/lv/real-estate/flats/riga/c...           Ausekļa 4    4   \n",
       "7  https://ss.com/msg/lv/real-estate/flats/riga/c...         Dzirnavu 31    4   \n",
       "8  https://ss.com/msg/lv/real-estate/flats/riga/c...         Latgales 21    1   \n",
       "9  https://ss.com/msg/lv/real-estate/flats/riga/c...           Stabu 18B    3   \n",
       "\n",
       "    m2 Stāvs    Sērija Cena, m2           Cena  \n",
       "0   45   2/6   Staļina   1.11 €    50  €/dienā  \n",
       "1   14   2/5    Renov.  19.29 €    270  €/mēn.  \n",
       "2   24   5/5    Renov.     20 €    480  €/mēn.  \n",
       "3   32   1/3    Renov.  14.06 €    450  €/mēn.  \n",
       "4  112   6/7     Jaun.  17.86 €  2,000  €/mēn.  \n",
       "5   49   3/5   P. kara  14.29 €    700  €/mēn.  \n",
       "6  175   5/5    Renov.  17.14 €  3,000  €/mēn.  \n",
       "7  174   7/7   P. kara  16.09 €  2,800  €/mēn.  \n",
       "8   27   1/1  Priv. m.  11.78 €    318  €/mēn.  \n",
       "9  135   5/7     Jaun.  14.81 €  2,000  €/mēn.  "
      ]
     },
     "execution_count": 67,
     "metadata": {},
     "output_type": "execute_result"
    }
   ],
   "source": [
    "df.head(10)"
   ]
  },
  {
   "cell_type": "code",
   "execution_count": 61,
   "metadata": {},
   "outputs": [
    {
     "name": "stdout",
     "output_type": "stream",
     "text": [
      "Found 99 anchor elements\n"
     ]
    }
   ],
   "source": [
    "# anchors are our friends - the basic building blocks of HTML - linking to other pages\n",
    "# https://developer.mozilla.org/en-US/docs/Web/HTML/Element/a\n",
    "anchors = soup.find_all(\"a\") # returns a list of all anchor elements\n",
    "print(f\"Found {len(anchors)} anchor elements\") # anchors are the basic building blocks of HTML"
   ]
  },
  {
   "cell_type": "code",
   "execution_count": 69,
   "metadata": {},
   "outputs": [
    {
     "data": {
      "text/plain": [
       "[<a href=\"/lv/\" title=\"Sludinājumi\"><img alt=\"Sludinājumi\" border=\"0\" class=\"page_header_logo\" src=\"https://i.ss.com/img/p.gif\"/></a>,\n",
       " <a class=\"a_menu\" href=\"/lv/real-estate/flats/new/\" title=\"Iesniegt Sludinājumu\">Iesniegt Sludinājumu</a>,\n",
       " <a class=\"a_menu\" href=\"/lv/login/\" title=\"Mani Sludinājumi\">Mani Sludinājumi</a>,\n",
       " <a class=\"a_menu\" href=\"/lv/real-estate/flats/riga/centre/search/\" title=\"Meklēt sludinājumus\">Meklēšana</a>,\n",
       " <a class=\"a_menu\" href=\"/lv/favorites/\" title=\"Memo\">Memo</a>]"
      ]
     },
     "execution_count": 69,
     "metadata": {},
     "output_type": "execute_result"
    }
   ],
   "source": [
    "anchors[:5]"
   ]
  },
  {
   "cell_type": "code",
   "execution_count": 62,
   "metadata": {},
   "outputs": [
    {
     "data": {
      "text/plain": [
       "10"
      ]
     },
     "execution_count": 62,
     "metadata": {},
     "output_type": "execute_result"
    }
   ],
   "source": [
    "navs = [anchor for anchor in anchors if anchor.get(\"name\") == \"nav_id\"] # get will get us None if no \"name\" exists\n",
    "len(navs)"
   ]
  },
  {
   "cell_type": "code",
   "execution_count": 63,
   "metadata": {},
   "outputs": [
    {
     "data": {
      "text/plain": [
       "[<a class=\"navi\" href=\"/lv/real-estate/flats/riga/centre/hand_over/page18.html\" name=\"nav_id\" rel=\"prev\"><img border=\"0\" height=\"5\" src=\"https://i.ss.com/img/s_left.png\" style=\"padding-bottom:2px;\" width=\"9\"/> Iepriekšējie</a>,\n",
       " <a class=\"navi\" href=\"/lv/real-estate/flats/riga/centre/hand_over/page2.html\" name=\"nav_id\" rel=\"next\">2</a>,\n",
       " <a class=\"navi\" href=\"/lv/real-estate/flats/riga/centre/hand_over/page3.html\" name=\"nav_id\" rel=\"next\">3</a>,\n",
       " <a class=\"navi\" href=\"/lv/real-estate/flats/riga/centre/hand_over/page4.html\" name=\"nav_id\" rel=\"next\">4</a>,\n",
       " <a class=\"navi\" href=\"/lv/real-estate/flats/riga/centre/hand_over/page5.html\" name=\"nav_id\" rel=\"next\">5</a>,\n",
       " <a class=\"navi\" href=\"/lv/real-estate/flats/riga/centre/hand_over/page6.html\" name=\"nav_id\" rel=\"next\">6</a>,\n",
       " <a class=\"navi\" href=\"/lv/real-estate/flats/riga/centre/hand_over/page7.html\" name=\"nav_id\" rel=\"next\">7</a>,\n",
       " <a class=\"navi\" href=\"/lv/real-estate/flats/riga/centre/hand_over/page8.html\" name=\"nav_id\" rel=\"next\">8</a>,\n",
       " <a class=\"navi\" href=\"/lv/real-estate/flats/riga/centre/hand_over/page9.html\" name=\"nav_id\" rel=\"next\">9</a>,\n",
       " <a class=\"navi\" href=\"/lv/real-estate/flats/riga/centre/hand_over/page2.html\" name=\"nav_id\" rel=\"next\">Nākamie <img border=\"0\" height=\"5\" src=\"https://i.ss.com/img/s_right.png\" style=\"padding-bottom:2px;\" width=\"9\"/></a>]"
      ]
     },
     "execution_count": 63,
     "metadata": {},
     "output_type": "execute_result"
    }
   ],
   "source": [
    "navs"
   ]
  },
  {
   "cell_type": "code",
   "execution_count": 64,
   "metadata": {},
   "outputs": [
    {
     "data": {
      "text/plain": [
       "<a class=\"navi\" href=\"/lv/real-estate/flats/riga/centre/hand_over/page18.html\" name=\"nav_id\" rel=\"prev\"><img border=\"0\" height=\"5\" src=\"https://i.ss.com/img/s_left.png\" style=\"padding-bottom:2px;\" width=\"9\"/> Iepriekšējie</a>"
      ]
     },
     "execution_count": 64,
     "metadata": {},
     "output_type": "execute_result"
    }
   ],
   "source": [
    "navs[0]"
   ]
  },
  {
   "cell_type": "code",
   "execution_count": 65,
   "metadata": {},
   "outputs": [
    {
     "data": {
      "text/plain": [
       "{'name': 'nav_id',\n",
       " 'rel': ['prev'],\n",
       " 'class': ['navi'],\n",
       " 'href': '/lv/real-estate/flats/riga/centre/hand_over/page18.html'}"
      ]
     },
     "execution_count": 65,
     "metadata": {},
     "output_type": "execute_result"
    }
   ],
   "source": [
    "navs[0].attrs"
   ]
  },
  {
   "cell_type": "code",
   "execution_count": 67,
   "metadata": {},
   "outputs": [
    {
     "data": {
      "text/plain": [
       "'/lv/real-estate/flats/riga/centre/hand_over/page18.html'"
      ]
     },
     "execution_count": 67,
     "metadata": {},
     "output_type": "execute_result"
    }
   ],
   "source": [
    "navs[0]['href']"
   ]
  },
  {
   "cell_type": "code",
   "execution_count": 68,
   "metadata": {},
   "outputs": [
    {
     "data": {
      "text/plain": [
       "'18.html'"
      ]
     },
     "execution_count": 68,
     "metadata": {},
     "output_type": "execute_result"
    }
   ],
   "source": [
    "# could use regular expression here but we can use split \n",
    "afterpage = navs[0]['href'].split(\"/page\")[-1] # -1 might be safer than 1 in case there is region with name page\n",
    "afterpage"
   ]
  },
  {
   "cell_type": "code",
   "execution_count": 69,
   "metadata": {},
   "outputs": [
    {
     "data": {
      "text/plain": [
       "'18'"
      ]
     },
     "execution_count": 69,
     "metadata": {},
     "output_type": "execute_result"
    }
   ],
   "source": [
    "beforedot = afterpage.split(\".html\")[0]\n",
    "beforedot # we get a string of a number"
   ]
  },
  {
   "cell_type": "code",
   "execution_count": 70,
   "metadata": {},
   "outputs": [
    {
     "data": {
      "text/plain": [
       "18"
      ]
     },
     "execution_count": 70,
     "metadata": {},
     "output_type": "execute_result"
    }
   ],
   "source": [
    "# finally we need to convert string to integer\n",
    "lastpage = int(beforedot) # could add try except here\n",
    "lastpage"
   ]
  },
  {
   "cell_type": "code",
   "execution_count": null,
   "metadata": {},
   "outputs": [],
   "source": [
    "# so now wbe put everything we just did in a single function"
   ]
  },
  {
   "cell_type": "code",
   "execution_count": 71,
   "metadata": {},
   "outputs": [
    {
     "data": {
      "text/plain": [
       "<a class=\"navi\" href=\"/lv/real-estate/flats/riga/centre/hand_over/page18.html\" name=\"nav_id\" rel=\"prev\"><img border=\"0\" height=\"5\" src=\"https://i.ss.com/img/s_left.png\" style=\"padding-bottom:2px;\" width=\"9\"/> Iepriekšējie</a>"
      ]
     },
     "execution_count": 71,
     "metadata": {},
     "output_type": "execute_result"
    }
   ],
   "source": [
    "# instead of getting first element from list we can use find\n",
    "prevanchor = soup.find('a', {\"rel\":\"prev\"})\n",
    "prevanchor"
   ]
  },
  {
   "cell_type": "code",
   "execution_count": 72,
   "metadata": {},
   "outputs": [],
   "source": [
    "def getAllLocalUrls(url):\n",
    "    \"\"\"Get a list of all urls including paginated pages\"\"\"\n",
    "    results = [url] # default is just the url if no extra pages found, teiksim Bolderājai...\n",
    "    req = requests.get(url)\n",
    "    if req.status_code != 200:\n",
    "        print(f\"Bad response! {req.status_code}\")\n",
    "        return []\n",
    "    soup = BeautifulSoup(req.text, 'lxml')\n",
    "    # we just need a one element\n",
    "    prevanchor = soup.find('a', {\"rel\":\"prev\"}) # find finds first match only\n",
    "    if prevanchor == None: # means there is only one page of ads\n",
    "        return results # we return just the original first page\n",
    "    href = prevanchor.attrs.get('href')\n",
    "    # so split by /page and then take last element and split by .html and take first element\n",
    "    # finally convert to integer\n",
    "    try:\n",
    "        lastPageNum = int(href.split('/page')[-1].split('.html')[0])\n",
    "    except ValueError:\n",
    "        print(\"Could not convert to integer!\")\n",
    "        return results # again return just the original page in a list\n",
    "    print(\"Last page is\",lastPageNum)\n",
    "    new_urls = [f\"{url}page{n}.html\" for n in range(2,lastPageNum+1)]\n",
    "    # results += new_urls # add new urls to our list\n",
    "    # same as above with extend\n",
    "    results.extend(new_urls) # add new urls to our list\n",
    "    return results"
   ]
  },
  {
   "cell_type": "code",
   "execution_count": 73,
   "metadata": {},
   "outputs": [
    {
     "data": {
      "text/plain": [
       "'https://www.ss.com/lv/real-estate/flats/riga/centre/hand_over/'"
      ]
     },
     "execution_count": 73,
     "metadata": {},
     "output_type": "execute_result"
    }
   ],
   "source": [
    "url"
   ]
  },
  {
   "cell_type": "code",
   "execution_count": 72,
   "metadata": {},
   "outputs": [],
   "source": [
    "centrs = url # alias # not a copy"
   ]
  },
  {
   "cell_type": "code",
   "execution_count": 74,
   "metadata": {},
   "outputs": [
    {
     "name": "stdout",
     "output_type": "stream",
     "text": [
      "Last page is 18\n"
     ]
    },
    {
     "data": {
      "text/plain": [
       "(18,\n",
       " ['https://www.ss.com/lv/real-estate/flats/riga/centre/hand_over/',\n",
       "  'https://www.ss.com/lv/real-estate/flats/riga/centre/hand_over/page2.html',\n",
       "  'https://www.ss.com/lv/real-estate/flats/riga/centre/hand_over/page3.html'],\n",
       " 'https://www.ss.com/lv/real-estate/flats/riga/centre/hand_over/page18.html')"
      ]
     },
     "execution_count": 74,
     "metadata": {},
     "output_type": "execute_result"
    }
   ],
   "source": [
    "local_urls = getAllLocalUrls(url)\n",
    "len(local_urls),local_urls[:3],local_urls[-1]"
   ]
  },
  {
   "cell_type": "code",
   "execution_count": 75,
   "metadata": {},
   "outputs": [
    {
     "data": {
      "text/plain": [
       "['https://www.ss.com/lv/real-estate/flats/riga/centre/hand_over/',\n",
       " 'https://www.ss.com/lv/real-estate/flats/riga/centre/hand_over/page2.html',\n",
       " 'https://www.ss.com/lv/real-estate/flats/riga/centre/hand_over/page3.html',\n",
       " 'https://www.ss.com/lv/real-estate/flats/riga/centre/hand_over/page4.html',\n",
       " 'https://www.ss.com/lv/real-estate/flats/riga/centre/hand_over/page5.html',\n",
       " 'https://www.ss.com/lv/real-estate/flats/riga/centre/hand_over/page6.html',\n",
       " 'https://www.ss.com/lv/real-estate/flats/riga/centre/hand_over/page7.html',\n",
       " 'https://www.ss.com/lv/real-estate/flats/riga/centre/hand_over/page8.html',\n",
       " 'https://www.ss.com/lv/real-estate/flats/riga/centre/hand_over/page9.html',\n",
       " 'https://www.ss.com/lv/real-estate/flats/riga/centre/hand_over/page10.html',\n",
       " 'https://www.ss.com/lv/real-estate/flats/riga/centre/hand_over/page11.html',\n",
       " 'https://www.ss.com/lv/real-estate/flats/riga/centre/hand_over/page12.html',\n",
       " 'https://www.ss.com/lv/real-estate/flats/riga/centre/hand_over/page13.html',\n",
       " 'https://www.ss.com/lv/real-estate/flats/riga/centre/hand_over/page14.html',\n",
       " 'https://www.ss.com/lv/real-estate/flats/riga/centre/hand_over/page15.html',\n",
       " 'https://www.ss.com/lv/real-estate/flats/riga/centre/hand_over/page16.html',\n",
       " 'https://www.ss.com/lv/real-estate/flats/riga/centre/hand_over/page17.html',\n",
       " 'https://www.ss.com/lv/real-estate/flats/riga/centre/hand_over/page18.html']"
      ]
     },
     "execution_count": 75,
     "metadata": {},
     "output_type": "execute_result"
    }
   ],
   "source": [
    "local_urls"
   ]
  },
  {
   "cell_type": "code",
   "execution_count": 76,
   "metadata": {},
   "outputs": [
    {
     "data": {
      "text/plain": [
       "(11, 9)"
      ]
     },
     "execution_count": 76,
     "metadata": {},
     "output_type": "execute_result"
    }
   ],
   "source": [
    "dlast = getDFfromURL(local_urls[-1])\n",
    "dlast.shape"
   ]
  },
  {
   "cell_type": "code",
   "execution_count": 77,
   "metadata": {
    "scrolled": true
   },
   "outputs": [
    {
     "data": {
      "text/html": [
       "<div>\n",
       "<style scoped>\n",
       "    .dataframe tbody tr th:only-of-type {\n",
       "        vertical-align: middle;\n",
       "    }\n",
       "\n",
       "    .dataframe tbody tr th {\n",
       "        vertical-align: top;\n",
       "    }\n",
       "\n",
       "    .dataframe thead th {\n",
       "        text-align: right;\n",
       "    }\n",
       "</style>\n",
       "<table border=\"1\" class=\"dataframe\">\n",
       "  <thead>\n",
       "    <tr style=\"text-align: right;\">\n",
       "      <th></th>\n",
       "      <th>description</th>\n",
       "      <th>url</th>\n",
       "      <th>Iela</th>\n",
       "      <th>Ist.</th>\n",
       "      <th>m2</th>\n",
       "      <th>Stāvs</th>\n",
       "      <th>Sērija</th>\n",
       "      <th>Cena, m2</th>\n",
       "      <th>Cena</th>\n",
       "    </tr>\n",
       "  </thead>\n",
       "  <tbody>\n",
       "    <tr>\n",
       "      <th>0</th>\n",
       "      <td>Plašs un stilīgs četru istabu dzīvoklis Rīgas ...</td>\n",
       "      <td>https://ss.com/msg/lv/real-estate/flats/riga/c...</td>\n",
       "      <td>Republikas laukums..</td>\n",
       "      <td>4</td>\n",
       "      <td>123</td>\n",
       "      <td>3/6</td>\n",
       "      <td>Jaun.</td>\n",
       "      <td>10.16 €</td>\n",
       "      <td>1,250  €/mēn.</td>\n",
       "    </tr>\n",
       "    <tr>\n",
       "      <th>1</th>\n",
       "      <td>Izīrē gaišu un klusu dzīvokli prestižā vietā R...</td>\n",
       "      <td>https://ss.com/msg/lv/real-estate/flats/riga/c...</td>\n",
       "      <td>Stabu 13</td>\n",
       "      <td>4</td>\n",
       "      <td>138</td>\n",
       "      <td>1/5</td>\n",
       "      <td>Renov.</td>\n",
       "      <td>18.12 €</td>\n",
       "      <td>2,500  €/mēn.</td>\n",
       "    </tr>\n",
       "    <tr>\n",
       "      <th>2</th>\n",
       "      <td>Izīrē dzīvokli unikālā jūgendstila ēkā pašā Rī...</td>\n",
       "      <td>https://ss.com/msg/lv/real-estate/flats/riga/c...</td>\n",
       "      <td>Tērbatas 33</td>\n",
       "      <td>3</td>\n",
       "      <td>69</td>\n",
       "      <td>6/6</td>\n",
       "      <td>P. kara</td>\n",
       "      <td>17.39 €</td>\n",
       "      <td>1,200  €/mēn.</td>\n",
       "    </tr>\n",
       "    <tr>\n",
       "      <th>3</th>\n",
       "      <td>Izīrē ekskluzīvu saulainu trīs istabu dzīvokli...</td>\n",
       "      <td>https://ss.com/msg/lv/real-estate/flats/riga/c...</td>\n",
       "      <td>Marijas 16</td>\n",
       "      <td>3</td>\n",
       "      <td>103</td>\n",
       "      <td>7/7</td>\n",
       "      <td>P. kara</td>\n",
       "      <td>11.65 €</td>\n",
       "      <td>1,200  €/mēn.</td>\n",
       "    </tr>\n",
       "    <tr>\n",
       "      <th>4</th>\n",
       "      <td>For rent - beautiful large apartment in the Em...</td>\n",
       "      <td>https://ss.com/msg/lv/real-estate/flats/riga/c...</td>\n",
       "      <td>Ausekļa 5</td>\n",
       "      <td>5</td>\n",
       "      <td>246</td>\n",
       "      <td>4/5</td>\n",
       "      <td>P. kara</td>\n",
       "      <td>10.16 €</td>\n",
       "      <td>2,500  €/mēn.</td>\n",
       "    </tr>\n",
       "    <tr>\n",
       "      <th>5</th>\n",
       "      <td>Pašā Rīgas centrā, Tērbatas un Lāčplēša ielu k...</td>\n",
       "      <td>https://ss.com/msg/lv/real-estate/flats/riga/c...</td>\n",
       "      <td>Tērbatas 33/35</td>\n",
       "      <td>1</td>\n",
       "      <td>18</td>\n",
       "      <td>4/5</td>\n",
       "      <td>Renov.</td>\n",
       "      <td>21.67 €</td>\n",
       "      <td>390  €/mēn.</td>\n",
       "    </tr>\n",
       "    <tr>\n",
       "      <th>6</th>\n",
       "      <td>В долгосрочную аренду предлагается квартира. \\...</td>\n",
       "      <td>https://ss.com/msg/lv/real-estate/flats/riga/c...</td>\n",
       "      <td>Brīvības 91</td>\n",
       "      <td>2</td>\n",
       "      <td>42</td>\n",
       "      <td>2/6</td>\n",
       "      <td>Renov.</td>\n",
       "      <td>14.05 €</td>\n",
       "      <td>590  €/mēn.</td>\n",
       "    </tr>\n",
       "    <tr>\n",
       "      <th>7</th>\n",
       "      <td>Tiek izīrēts mājīgs 2 istabu dzīvoklis uz ilgu...</td>\n",
       "      <td>https://ss.com/msg/lv/real-estate/flats/riga/c...</td>\n",
       "      <td>Lāčplēša 56</td>\n",
       "      <td>2</td>\n",
       "      <td>65</td>\n",
       "      <td>4/5</td>\n",
       "      <td>Renov.</td>\n",
       "      <td>7.54 €</td>\n",
       "      <td>490  €/mēn.</td>\n",
       "    </tr>\n",
       "    <tr>\n",
       "      <th>8</th>\n",
       "      <td>Izīrē jaunu, mēbelētu studio tipa dzīvokli res...</td>\n",
       "      <td>https://ss.com/msg/lv/real-estate/flats/riga/c...</td>\n",
       "      <td>Valdemāra 61</td>\n",
       "      <td>1</td>\n",
       "      <td>26</td>\n",
       "      <td>5/7</td>\n",
       "      <td>Renov.</td>\n",
       "      <td>19.23 €</td>\n",
       "      <td>500  €/mēn.</td>\n",
       "    </tr>\n",
       "    <tr>\n",
       "      <th>9</th>\n",
       "      <td>Ilgtermiņa īrei 2-istabu dzīvoklis. Dzīvoklis ...</td>\n",
       "      <td>https://ss.com/msg/lv/real-estate/flats/riga/c...</td>\n",
       "      <td>Grostonas 19</td>\n",
       "      <td>2</td>\n",
       "      <td>61</td>\n",
       "      <td>5/10</td>\n",
       "      <td>Jaun.</td>\n",
       "      <td>11.48 €</td>\n",
       "      <td>700  €/mēn.</td>\n",
       "    </tr>\n",
       "    <tr>\n",
       "      <th>10</th>\n",
       "      <td>Izīrē jaunu, mēbelētu studio tipa dzīvokli res...</td>\n",
       "      <td>https://ss.com/msg/lv/real-estate/flats/riga/c...</td>\n",
       "      <td>Valdemāra 61</td>\n",
       "      <td>1</td>\n",
       "      <td>22</td>\n",
       "      <td>6/7</td>\n",
       "      <td>Renov.</td>\n",
       "      <td>20.45 €</td>\n",
       "      <td>450  €/mēn.</td>\n",
       "    </tr>\n",
       "  </tbody>\n",
       "</table>\n",
       "</div>"
      ],
      "text/plain": [
       "                                          description  \\\n",
       "0   Plašs un stilīgs četru istabu dzīvoklis Rīgas ...   \n",
       "1   Izīrē gaišu un klusu dzīvokli prestižā vietā R...   \n",
       "2   Izīrē dzīvokli unikālā jūgendstila ēkā pašā Rī...   \n",
       "3   Izīrē ekskluzīvu saulainu trīs istabu dzīvokli...   \n",
       "4   For rent - beautiful large apartment in the Em...   \n",
       "5   Pašā Rīgas centrā, Tērbatas un Lāčplēša ielu k...   \n",
       "6   В долгосрочную аренду предлагается квартира. \\...   \n",
       "7   Tiek izīrēts mājīgs 2 istabu dzīvoklis uz ilgu...   \n",
       "8   Izīrē jaunu, mēbelētu studio tipa dzīvokli res...   \n",
       "9   Ilgtermiņa īrei 2-istabu dzīvoklis. Dzīvoklis ...   \n",
       "10  Izīrē jaunu, mēbelētu studio tipa dzīvokli res...   \n",
       "\n",
       "                                                  url                  Iela  \\\n",
       "0   https://ss.com/msg/lv/real-estate/flats/riga/c...  Republikas laukums..   \n",
       "1   https://ss.com/msg/lv/real-estate/flats/riga/c...              Stabu 13   \n",
       "2   https://ss.com/msg/lv/real-estate/flats/riga/c...           Tērbatas 33   \n",
       "3   https://ss.com/msg/lv/real-estate/flats/riga/c...            Marijas 16   \n",
       "4   https://ss.com/msg/lv/real-estate/flats/riga/c...             Ausekļa 5   \n",
       "5   https://ss.com/msg/lv/real-estate/flats/riga/c...        Tērbatas 33/35   \n",
       "6   https://ss.com/msg/lv/real-estate/flats/riga/c...           Brīvības 91   \n",
       "7   https://ss.com/msg/lv/real-estate/flats/riga/c...           Lāčplēša 56   \n",
       "8   https://ss.com/msg/lv/real-estate/flats/riga/c...          Valdemāra 61   \n",
       "9   https://ss.com/msg/lv/real-estate/flats/riga/c...          Grostonas 19   \n",
       "10  https://ss.com/msg/lv/real-estate/flats/riga/c...          Valdemāra 61   \n",
       "\n",
       "   Ist.   m2 Stāvs   Sērija Cena, m2           Cena  \n",
       "0     4  123   3/6    Jaun.  10.16 €  1,250  €/mēn.  \n",
       "1     4  138   1/5   Renov.  18.12 €  2,500  €/mēn.  \n",
       "2     3   69   6/6  P. kara  17.39 €  1,200  €/mēn.  \n",
       "3     3  103   7/7  P. kara  11.65 €  1,200  €/mēn.  \n",
       "4     5  246   4/5  P. kara  10.16 €  2,500  €/mēn.  \n",
       "5     1   18   4/5   Renov.  21.67 €    390  €/mēn.  \n",
       "6     2   42   2/6   Renov.  14.05 €    590  €/mēn.  \n",
       "7     2   65   4/5   Renov.   7.54 €    490  €/mēn.  \n",
       "8     1   26   5/7   Renov.  19.23 €    500  €/mēn.  \n",
       "9     2   61  5/10    Jaun.  11.48 €    700  €/mēn.  \n",
       "10    1   22   6/7   Renov.  20.45 €    450  €/mēn.  "
      ]
     },
     "execution_count": 77,
     "metadata": {},
     "output_type": "execute_result"
    }
   ],
   "source": [
    "dlast"
   ]
  },
  {
   "cell_type": "code",
   "execution_count": 77,
   "metadata": {},
   "outputs": [
    {
     "name": "stdout",
     "output_type": "stream",
     "text": [
      "Collecting openpyxl\n",
      "  Downloading openpyxl-3.1.5-py2.py3-none-any.whl.metadata (2.5 kB)\n",
      "Collecting et-xmlfile (from openpyxl)\n",
      "  Downloading et_xmlfile-2.0.0-py3-none-any.whl.metadata (2.7 kB)\n",
      "Downloading openpyxl-3.1.5-py2.py3-none-any.whl (250 kB)\n",
      "Downloading et_xmlfile-2.0.0-py3-none-any.whl (18 kB)\n",
      "Installing collected packages: et-xmlfile, openpyxl\n",
      "Successfully installed et-xmlfile-2.0.0 openpyxl-3.1.5\n"
     ]
    },
    {
     "name": "stderr",
     "output_type": "stream",
     "text": [
      "\n",
      "[notice] A new release of pip is available: 24.2 -> 24.3.1\n",
      "[notice] To update, run: python.exe -m pip install --upgrade pip\n"
     ]
    }
   ],
   "source": [
    "# let's install excel support for pandas\n",
    "# !pip install openpyxl"
   ]
  },
  {
   "cell_type": "code",
   "execution_count": 78,
   "metadata": {},
   "outputs": [],
   "source": [
    "def get_all_ads_df(start_url, save_excel_path=None, delay=0.3):\n",
    "    df_list=[] # so we will save aour dataframes in a list\n",
    "    # first get the urls of all pages that we want to scrape\n",
    "    local_urls = getAllLocalUrls(start_url)\n",
    "    # simply loop through all urls and get the dataframes\n",
    "    for url in local_urls:\n",
    "        print(f\"Gathering data from {url}\")\n",
    "        df_list.append(getDFfromURL(url))\n",
    "        time.sleep(delay) # we need this to play nice! to avoid rate limit or IP ban!!\n",
    "    # https://pandas.pydata.org/pandas-docs/stable/reference/api/pandas.concat.html\n",
    "    big_df = pd.concat(df_list, ignore_index=True) # then make a big dataframe from all the small dataframes\n",
    "    if save_excel_path:\n",
    "        print(f\"Saving to {save_excel_path}\")\n",
    "        big_df.to_excel(save_excel_path, index=False) # save to excel\n",
    "    return big_df\n",
    "    "
   ]
  },
  {
   "cell_type": "code",
   "execution_count": 79,
   "metadata": {},
   "outputs": [
    {
     "data": {
      "text/plain": [
       "'https://www.ss.com/lv/real-estate/flats/riga/centre/hand_over/'"
      ]
     },
     "execution_count": 79,
     "metadata": {},
     "output_type": "execute_result"
    }
   ],
   "source": [
    "centrs = url\n",
    "centrs"
   ]
  },
  {
   "cell_type": "code",
   "execution_count": 80,
   "metadata": {
    "scrolled": true
   },
   "outputs": [
    {
     "name": "stdout",
     "output_type": "stream",
     "text": [
      "Last page is 18\n",
      "Gathering data from https://www.ss.com/lv/real-estate/flats/riga/centre/hand_over/\n",
      "Gathering data from https://www.ss.com/lv/real-estate/flats/riga/centre/hand_over/page2.html\n",
      "Gathering data from https://www.ss.com/lv/real-estate/flats/riga/centre/hand_over/page3.html\n",
      "Gathering data from https://www.ss.com/lv/real-estate/flats/riga/centre/hand_over/page4.html\n",
      "Gathering data from https://www.ss.com/lv/real-estate/flats/riga/centre/hand_over/page5.html\n",
      "Gathering data from https://www.ss.com/lv/real-estate/flats/riga/centre/hand_over/page6.html\n",
      "Gathering data from https://www.ss.com/lv/real-estate/flats/riga/centre/hand_over/page7.html\n",
      "Gathering data from https://www.ss.com/lv/real-estate/flats/riga/centre/hand_over/page8.html\n",
      "Gathering data from https://www.ss.com/lv/real-estate/flats/riga/centre/hand_over/page9.html\n",
      "Gathering data from https://www.ss.com/lv/real-estate/flats/riga/centre/hand_over/page10.html\n",
      "Gathering data from https://www.ss.com/lv/real-estate/flats/riga/centre/hand_over/page11.html\n",
      "Gathering data from https://www.ss.com/lv/real-estate/flats/riga/centre/hand_over/page12.html\n",
      "Gathering data from https://www.ss.com/lv/real-estate/flats/riga/centre/hand_over/page13.html\n",
      "Gathering data from https://www.ss.com/lv/real-estate/flats/riga/centre/hand_over/page14.html\n",
      "Gathering data from https://www.ss.com/lv/real-estate/flats/riga/centre/hand_over/page15.html\n",
      "Gathering data from https://www.ss.com/lv/real-estate/flats/riga/centre/hand_over/page16.html\n",
      "Gathering data from https://www.ss.com/lv/real-estate/flats/riga/centre/hand_over/page17.html\n",
      "Gathering data from https://www.ss.com/lv/real-estate/flats/riga/centre/hand_over/page18.html\n",
      "Saving to centrs_all_may12.xlsx\n"
     ]
    }
   ],
   "source": [
    "centra_df = get_all_ads_df(centrs, save_excel_path=\"centrs_all_may12.xlsx\") # this will take 3 pages a second so could take a while"
   ]
  },
  {
   "cell_type": "code",
   "execution_count": 81,
   "metadata": {},
   "outputs": [
    {
     "data": {
      "text/html": [
       "<div>\n",
       "<style scoped>\n",
       "    .dataframe tbody tr th:only-of-type {\n",
       "        vertical-align: middle;\n",
       "    }\n",
       "\n",
       "    .dataframe tbody tr th {\n",
       "        vertical-align: top;\n",
       "    }\n",
       "\n",
       "    .dataframe thead th {\n",
       "        text-align: right;\n",
       "    }\n",
       "</style>\n",
       "<table border=\"1\" class=\"dataframe\">\n",
       "  <thead>\n",
       "    <tr style=\"text-align: right;\">\n",
       "      <th></th>\n",
       "      <th>description</th>\n",
       "      <th>url</th>\n",
       "      <th>Iela</th>\n",
       "      <th>Ist.</th>\n",
       "      <th>m2</th>\n",
       "      <th>Stāvs</th>\n",
       "      <th>Sērija</th>\n",
       "      <th>Cena, m2</th>\n",
       "      <th>Cena</th>\n",
       "    </tr>\n",
       "  </thead>\n",
       "  <tbody>\n",
       "    <tr>\n",
       "      <th>0</th>\n",
       "      <td>Saimnieks uz ilgāku laiku izīrē divistabu dzīv...</td>\n",
       "      <td>https://ss.com/msg/lv/real-estate/flats/riga/c...</td>\n",
       "      <td>Zaļā 7</td>\n",
       "      <td>2</td>\n",
       "      <td>63</td>\n",
       "      <td>2/4</td>\n",
       "      <td>P. kara</td>\n",
       "      <td>8.57 €</td>\n",
       "      <td>540  €/mēn.</td>\n",
       "    </tr>\n",
       "    <tr>\n",
       "      <th>1</th>\n",
       "      <td>Īpašnieks izīrē modernu 2 istabu dzīvokli fasā...</td>\n",
       "      <td>https://ss.com/msg/lv/real-estate/flats/riga/c...</td>\n",
       "      <td>Bruņinieku 73A</td>\n",
       "      <td>2</td>\n",
       "      <td>50</td>\n",
       "      <td>1/4</td>\n",
       "      <td>P. kara</td>\n",
       "      <td>9.60 €</td>\n",
       "      <td>480  €/mēn.</td>\n",
       "    </tr>\n",
       "    <tr>\n",
       "      <th>2</th>\n",
       "      <td>Pašā pilsētas centrā iepretim cirkam tiek pied...</td>\n",
       "      <td>https://ss.com/msg/lv/real-estate/flats/riga/c...</td>\n",
       "      <td>Merķeļa 7</td>\n",
       "      <td>1</td>\n",
       "      <td>30</td>\n",
       "      <td>4/4</td>\n",
       "      <td>P. kara</td>\n",
       "      <td>11.33 €</td>\n",
       "      <td>340  €/mēn.</td>\n",
       "    </tr>\n",
       "    <tr>\n",
       "      <th>3</th>\n",
       "      <td>Pašā pilsētas centrā iepretim cirkam tiek pied...</td>\n",
       "      <td>https://ss.com/msg/lv/real-estate/flats/riga/c...</td>\n",
       "      <td>Merķeļa 7</td>\n",
       "      <td>1</td>\n",
       "      <td>25</td>\n",
       "      <td>4/4</td>\n",
       "      <td>P. kara</td>\n",
       "      <td>12.80 €</td>\n",
       "      <td>320  €/mēn.</td>\n",
       "    </tr>\n",
       "    <tr>\n",
       "      <th>4</th>\n",
       "      <td>Pilnīgi jauns 2 istabu dzīvoklis jaunajā proje...</td>\n",
       "      <td>https://ss.com/msg/lv/real-estate/flats/riga/c...</td>\n",
       "      <td>Elijas 26</td>\n",
       "      <td>2</td>\n",
       "      <td>60</td>\n",
       "      <td>4/5</td>\n",
       "      <td>Jaun.</td>\n",
       "      <td>18.33 €</td>\n",
       "      <td>1,100  €/mēn.</td>\n",
       "    </tr>\n",
       "    <tr>\n",
       "      <th>5</th>\n",
       "      <td>Pašā centrā mēbelēts, kluss, gaišs 2 ist. dzīv...</td>\n",
       "      <td>https://ss.com/msg/lv/real-estate/flats/riga/c...</td>\n",
       "      <td>Valdemāra 39</td>\n",
       "      <td>2</td>\n",
       "      <td>50</td>\n",
       "      <td>4/5</td>\n",
       "      <td>P. kara</td>\n",
       "      <td>10 €</td>\n",
       "      <td>500  €/mēn.</td>\n",
       "    </tr>\n",
       "    <tr>\n",
       "      <th>6</th>\n",
       "      <td>Dzīvoklis pieejams uzreiz. Dzīvokļa tūres vide...</td>\n",
       "      <td>https://ss.com/msg/lv/real-estate/flats/riga/c...</td>\n",
       "      <td>Valdemāra 135</td>\n",
       "      <td>3</td>\n",
       "      <td>59</td>\n",
       "      <td>2/5</td>\n",
       "      <td>Hrušč.</td>\n",
       "      <td>9.32 €</td>\n",
       "      <td>550  €/mēn.</td>\n",
       "    </tr>\n",
       "    <tr>\n",
       "      <th>7</th>\n",
       "      <td>Izīrē ekskluzīvu dzīvokli ļoti labā atrašanās ...</td>\n",
       "      <td>https://ss.com/msg/lv/real-estate/flats/riga/c...</td>\n",
       "      <td>Ģertrūdes 9</td>\n",
       "      <td>5</td>\n",
       "      <td>169</td>\n",
       "      <td>4/6</td>\n",
       "      <td>Renov.</td>\n",
       "      <td>9.76 €</td>\n",
       "      <td>1,650  €/mēn.</td>\n",
       "    </tr>\n",
       "    <tr>\n",
       "      <th>8</th>\n",
       "      <td>No 1. jūnija - pilnībā mēbelēts studio dzīvokl...</td>\n",
       "      <td>https://ss.com/msg/lv/real-estate/flats/riga/c...</td>\n",
       "      <td>Vārnu 8</td>\n",
       "      <td>1</td>\n",
       "      <td>28</td>\n",
       "      <td>2/6</td>\n",
       "      <td>P. kara</td>\n",
       "      <td>14.29 €</td>\n",
       "      <td>400  €/mēn.</td>\n",
       "    </tr>\n",
       "    <tr>\n",
       "      <th>9</th>\n",
       "      <td>Pagalma ēka, slēgts pagalms, iežogota teritori...</td>\n",
       "      <td>https://ss.com/msg/lv/real-estate/flats/riga/c...</td>\n",
       "      <td>Valmieras 13</td>\n",
       "      <td>1</td>\n",
       "      <td>21</td>\n",
       "      <td>1/5</td>\n",
       "      <td>P. kara</td>\n",
       "      <td>14.29 €</td>\n",
       "      <td>300  €/mēn.</td>\n",
       "    </tr>\n",
       "  </tbody>\n",
       "</table>\n",
       "</div>"
      ],
      "text/plain": [
       "                                         description  \\\n",
       "0  Saimnieks uz ilgāku laiku izīrē divistabu dzīv...   \n",
       "1  Īpašnieks izīrē modernu 2 istabu dzīvokli fasā...   \n",
       "2  Pašā pilsētas centrā iepretim cirkam tiek pied...   \n",
       "3  Pašā pilsētas centrā iepretim cirkam tiek pied...   \n",
       "4  Pilnīgi jauns 2 istabu dzīvoklis jaunajā proje...   \n",
       "5  Pašā centrā mēbelēts, kluss, gaišs 2 ist. dzīv...   \n",
       "6  Dzīvoklis pieejams uzreiz. Dzīvokļa tūres vide...   \n",
       "7  Izīrē ekskluzīvu dzīvokli ļoti labā atrašanās ...   \n",
       "8  No 1. jūnija - pilnībā mēbelēts studio dzīvokl...   \n",
       "9  Pagalma ēka, slēgts pagalms, iežogota teritori...   \n",
       "\n",
       "                                                 url            Iela Ist.  \\\n",
       "0  https://ss.com/msg/lv/real-estate/flats/riga/c...          Zaļā 7    2   \n",
       "1  https://ss.com/msg/lv/real-estate/flats/riga/c...  Bruņinieku 73A    2   \n",
       "2  https://ss.com/msg/lv/real-estate/flats/riga/c...       Merķeļa 7    1   \n",
       "3  https://ss.com/msg/lv/real-estate/flats/riga/c...       Merķeļa 7    1   \n",
       "4  https://ss.com/msg/lv/real-estate/flats/riga/c...       Elijas 26    2   \n",
       "5  https://ss.com/msg/lv/real-estate/flats/riga/c...    Valdemāra 39    2   \n",
       "6  https://ss.com/msg/lv/real-estate/flats/riga/c...   Valdemāra 135    3   \n",
       "7  https://ss.com/msg/lv/real-estate/flats/riga/c...     Ģertrūdes 9    5   \n",
       "8  https://ss.com/msg/lv/real-estate/flats/riga/c...         Vārnu 8    1   \n",
       "9  https://ss.com/msg/lv/real-estate/flats/riga/c...    Valmieras 13    1   \n",
       "\n",
       "    m2 Stāvs   Sērija Cena, m2           Cena  \n",
       "0   63   2/4  P. kara   8.57 €    540  €/mēn.  \n",
       "1   50   1/4  P. kara   9.60 €    480  €/mēn.  \n",
       "2   30   4/4  P. kara  11.33 €    340  €/mēn.  \n",
       "3   25   4/4  P. kara  12.80 €    320  €/mēn.  \n",
       "4   60   4/5    Jaun.  18.33 €  1,100  €/mēn.  \n",
       "5   50   4/5  P. kara     10 €    500  €/mēn.  \n",
       "6   59   2/5   Hrušč.   9.32 €    550  €/mēn.  \n",
       "7  169   4/6   Renov.   9.76 €  1,650  €/mēn.  \n",
       "8   28   2/6  P. kara  14.29 €    400  €/mēn.  \n",
       "9   21   1/5  P. kara  14.29 €    300  €/mēn.  "
      ]
     },
     "execution_count": 81,
     "metadata": {},
     "output_type": "execute_result"
    }
   ],
   "source": [
    "centra_df.head(10)"
   ]
  },
  {
   "cell_type": "code",
   "execution_count": 82,
   "metadata": {},
   "outputs": [
    {
     "name": "stdout",
     "output_type": "stream",
     "text": [
      "Shape of the dataframe: (520, 9)\n"
     ]
    }
   ],
   "source": [
    "# shape of the dataframe\n",
    "print(f\"Shape of the dataframe: {centra_df.shape}\")"
   ]
  },
  {
   "cell_type": "code",
   "execution_count": 83,
   "metadata": {},
   "outputs": [],
   "source": [
    "# let's try saving to excel\n",
    "centra_df.to_excel(\"centra_rigas_pardosanas.xlsx\")"
   ]
  },
  {
   "cell_type": "code",
   "execution_count": null,
   "metadata": {},
   "outputs": [],
   "source": [
    "url"
   ]
  },
  {
   "cell_type": "code",
   "execution_count": null,
   "metadata": {},
   "outputs": [],
   "source": [
    "riga_region = get_all_ads_df(url, \"riga_region_sep28.xlsx\")"
   ]
  },
  {
   "cell_type": "code",
   "execution_count": null,
   "metadata": {},
   "outputs": [],
   "source": [
    "riga_region.shape"
   ]
  },
  {
   "cell_type": "code",
   "execution_count": null,
   "metadata": {},
   "outputs": [],
   "source": [
    "riga_region.head(10)"
   ]
  },
  {
   "cell_type": "code",
   "execution_count": null,
   "metadata": {},
   "outputs": [],
   "source": [
    "riga_region.tail(10)"
   ]
  },
  {
   "cell_type": "code",
   "execution_count": 76,
   "metadata": {},
   "outputs": [
    {
     "name": "stdout",
     "output_type": "stream",
     "text": [
      "Last page is 5\n",
      "Gathering data from https://www.ss.com/lv/real-estate/flats/riga/agenskalns/sell/\n",
      "Gathering data from https://www.ss.com/lv/real-estate/flats/riga/agenskalns/sell/page2.html\n",
      "Gathering data from https://www.ss.com/lv/real-estate/flats/riga/agenskalns/sell/page3.html\n",
      "Gathering data from https://www.ss.com/lv/real-estate/flats/riga/agenskalns/sell/page4.html\n",
      "Gathering data from https://www.ss.com/lv/real-estate/flats/riga/agenskalns/sell/page5.html\n"
     ]
    },
    {
     "data": {
      "text/html": [
       "<div>\n",
       "<style scoped>\n",
       "    .dataframe tbody tr th:only-of-type {\n",
       "        vertical-align: middle;\n",
       "    }\n",
       "\n",
       "    .dataframe tbody tr th {\n",
       "        vertical-align: top;\n",
       "    }\n",
       "\n",
       "    .dataframe thead th {\n",
       "        text-align: right;\n",
       "    }\n",
       "</style>\n",
       "<table border=\"1\" class=\"dataframe\">\n",
       "  <thead>\n",
       "    <tr style=\"text-align: right;\">\n",
       "      <th></th>\n",
       "      <th>description</th>\n",
       "      <th>url</th>\n",
       "      <th>Iela</th>\n",
       "      <th>Ist.</th>\n",
       "      <th>m2</th>\n",
       "      <th>Stāvs</th>\n",
       "      <th>Sērija</th>\n",
       "      <th>Cena, m2</th>\n",
       "      <th>Cena</th>\n",
       "    </tr>\n",
       "  </thead>\n",
       "  <tbody>\n",
       "    <tr>\n",
       "      <th>0</th>\n",
       "      <td>Dzīvoklis vēsturiskā mājā ar stāvvietu un zaļo...</td>\n",
       "      <td>https://ss.com/msg/lv/real-estate/flats/riga/a...</td>\n",
       "      <td>Tukuma 3</td>\n",
       "      <td>1</td>\n",
       "      <td>27</td>\n",
       "      <td>3/3</td>\n",
       "      <td>P. kara</td>\n",
       "      <td>1,741 €</td>\n",
       "      <td>47,000  €</td>\n",
       "    </tr>\n",
       "    <tr>\n",
       "      <th>1</th>\n",
       "      <td>В продаже просторная, светлая, теплая, квартир...</td>\n",
       "      <td>https://ss.com/msg/lv/real-estate/flats/riga/a...</td>\n",
       "      <td>Nometņu 57</td>\n",
       "      <td>1</td>\n",
       "      <td>37</td>\n",
       "      <td>1/2</td>\n",
       "      <td>P. kara</td>\n",
       "      <td>673 €</td>\n",
       "      <td>24,900  €</td>\n",
       "    </tr>\n",
       "    <tr>\n",
       "      <th>2</th>\n",
       "      <td>Pārdodu plašu, gaišu, siltu dzīvokli. Privatiz...</td>\n",
       "      <td>https://ss.com/msg/lv/real-estate/flats/riga/a...</td>\n",
       "      <td>Daugavgrīvas 55</td>\n",
       "      <td>2</td>\n",
       "      <td>48</td>\n",
       "      <td>1/2</td>\n",
       "      <td>P. kara</td>\n",
       "      <td>913 €</td>\n",
       "      <td>43,800  €</td>\n",
       "    </tr>\n",
       "    <tr>\n",
       "      <th>3</th>\n",
       "      <td>Tiek piedāvāts dzīvoklis labā stāvoklī, bez pā...</td>\n",
       "      <td>https://ss.com/msg/lv/real-estate/flats/riga/a...</td>\n",
       "      <td>Mērsraga 13</td>\n",
       "      <td>2</td>\n",
       "      <td>41</td>\n",
       "      <td>1/4</td>\n",
       "      <td>Hrušč.</td>\n",
       "      <td>1,146 €</td>\n",
       "      <td>47,000  €</td>\n",
       "    </tr>\n",
       "    <tr>\n",
       "      <th>4</th>\n",
       "      <td>Pārdošanā dzīvoklis unikālā projektā Filozofu ...</td>\n",
       "      <td>https://ss.com/msg/lv/real-estate/flats/riga/a...</td>\n",
       "      <td>Raņķa d. 34</td>\n",
       "      <td>3</td>\n",
       "      <td>95</td>\n",
       "      <td>7/22</td>\n",
       "      <td>Jaun.</td>\n",
       "      <td>2,222 €</td>\n",
       "      <td>211,100  €</td>\n",
       "    </tr>\n",
       "  </tbody>\n",
       "</table>\n",
       "</div>"
      ],
      "text/plain": [
       "                                         description  \\\n",
       "0  Dzīvoklis vēsturiskā mājā ar stāvvietu un zaļo...   \n",
       "1  В продаже просторная, светлая, теплая, квартир...   \n",
       "2  Pārdodu plašu, gaišu, siltu dzīvokli. Privatiz...   \n",
       "3  Tiek piedāvāts dzīvoklis labā stāvoklī, bez pā...   \n",
       "4  Pārdošanā dzīvoklis unikālā projektā Filozofu ...   \n",
       "\n",
       "                                                 url             Iela Ist.  \\\n",
       "0  https://ss.com/msg/lv/real-estate/flats/riga/a...         Tukuma 3    1   \n",
       "1  https://ss.com/msg/lv/real-estate/flats/riga/a...       Nometņu 57    1   \n",
       "2  https://ss.com/msg/lv/real-estate/flats/riga/a...  Daugavgrīvas 55    2   \n",
       "3  https://ss.com/msg/lv/real-estate/flats/riga/a...      Mērsraga 13    2   \n",
       "4  https://ss.com/msg/lv/real-estate/flats/riga/a...      Raņķa d. 34    3   \n",
       "\n",
       "   m2 Stāvs   Sērija Cena, m2        Cena  \n",
       "0  27   3/3  P. kara  1,741 €   47,000  €  \n",
       "1  37   1/2  P. kara    673 €   24,900  €  \n",
       "2  48   1/2  P. kara    913 €   43,800  €  \n",
       "3  41   1/4   Hrušč.  1,146 €   47,000  €  \n",
       "4  95  7/22    Jaun.  2,222 €  211,100  €  "
      ]
     },
     "execution_count": 76,
     "metadata": {},
     "output_type": "execute_result"
    }
   ],
   "source": [
    "agens = \"https://www.ss.com/lv/real-estate/flats/riga/agenskalns/sell/\"\n",
    "df = get_all_ads_df(agens, \"agens_30_06.xlsx\")\n",
    "df.head()"
   ]
  },
  {
   "cell_type": "code",
   "execution_count": 89,
   "metadata": {},
   "outputs": [
    {
     "data": {
      "text/plain": [
       "(901, 9)"
      ]
     },
     "execution_count": 89,
     "metadata": {},
     "output_type": "execute_result"
    }
   ],
   "source": [
    "centra_df.shape"
   ]
  },
  {
   "cell_type": "code",
   "execution_count": null,
   "metadata": {},
   "outputs": [
    {
     "data": {
      "text/plain": [
       "(901, 9)"
      ]
     },
     "execution_count": 90,
     "metadata": {},
     "output_type": "execute_result"
    }
   ],
   "source": [
    "df = centra_df  # alias it is common to use df as a variable name for a dataframe\n",
    "# that was not a copy but an alias!\n",
    "df.shape"
   ]
  },
  {
   "cell_type": "code",
   "execution_count": null,
   "metadata": {},
   "outputs": [],
   "source": [
    "df.shape"
   ]
  },
  {
   "cell_type": "code",
   "execution_count": 91,
   "metadata": {},
   "outputs": [
    {
     "data": {
      "text/plain": [
       "Index(['description', 'url', 'Iela', 'Ist.', 'm2', 'Stāvs', 'Sērija',\n",
       "       'Cena, m2', 'Cena'],\n",
       "      dtype='object')"
      ]
     },
     "execution_count": 91,
     "metadata": {},
     "output_type": "execute_result"
    }
   ],
   "source": [
    "df.columns"
   ]
  },
  {
   "cell_type": "markdown",
   "metadata": {},
   "source": [
    "## Some Data Wrangling with Pandas"
   ]
  },
  {
   "cell_type": "code",
   "execution_count": 83,
   "metadata": {},
   "outputs": [
    {
     "name": "stdout",
     "output_type": "stream",
     "text": [
      "<class 'pandas.core.frame.DataFrame'>\n",
      "RangeIndex: 520 entries, 0 to 519\n",
      "Data columns (total 9 columns):\n",
      " #   Column       Non-Null Count  Dtype \n",
      "---  ------       --------------  ----- \n",
      " 0   description  520 non-null    object\n",
      " 1   url          520 non-null    object\n",
      " 2   Iela         520 non-null    object\n",
      " 3   Ist.         520 non-null    object\n",
      " 4   m2           520 non-null    object\n",
      " 5   Stāvs        520 non-null    object\n",
      " 6   Sērija       520 non-null    object\n",
      " 7   Cena, m2     520 non-null    object\n",
      " 8   Cena         520 non-null    object\n",
      "dtypes: object(9)\n",
      "memory usage: 36.7+ KB\n"
     ]
    }
   ],
   "source": [
    "df = centra_df.copy() # so now we have a copy of the dataframe\n",
    "# we can get basic info about our dataframe\n",
    "df.info()\n",
    "# objects mean strings"
   ]
  },
  {
   "cell_type": "code",
   "execution_count": 84,
   "metadata": {},
   "outputs": [
    {
     "data": {
      "text/html": [
       "<div>\n",
       "<style scoped>\n",
       "    .dataframe tbody tr th:only-of-type {\n",
       "        vertical-align: middle;\n",
       "    }\n",
       "\n",
       "    .dataframe tbody tr th {\n",
       "        vertical-align: top;\n",
       "    }\n",
       "\n",
       "    .dataframe thead th {\n",
       "        text-align: right;\n",
       "    }\n",
       "</style>\n",
       "<table border=\"1\" class=\"dataframe\">\n",
       "  <thead>\n",
       "    <tr style=\"text-align: right;\">\n",
       "      <th></th>\n",
       "      <th>description</th>\n",
       "      <th>url</th>\n",
       "      <th>Iela</th>\n",
       "      <th>Ist.</th>\n",
       "      <th>m2</th>\n",
       "      <th>Stāvs</th>\n",
       "      <th>Sērija</th>\n",
       "      <th>Cena, m2</th>\n",
       "      <th>Cena</th>\n",
       "    </tr>\n",
       "  </thead>\n",
       "  <tbody>\n",
       "    <tr>\n",
       "      <th>515</th>\n",
       "      <td>В долгосрочную аренду предлагается квартира. \\...</td>\n",
       "      <td>https://ss.com/msg/lv/real-estate/flats/riga/c...</td>\n",
       "      <td>Brīvības 91</td>\n",
       "      <td>2</td>\n",
       "      <td>42</td>\n",
       "      <td>2/6</td>\n",
       "      <td>Renov.</td>\n",
       "      <td>14.05 €</td>\n",
       "      <td>590  €/mēn.</td>\n",
       "    </tr>\n",
       "    <tr>\n",
       "      <th>516</th>\n",
       "      <td>Tiek izīrēts mājīgs 2 istabu dzīvoklis uz ilgu...</td>\n",
       "      <td>https://ss.com/msg/lv/real-estate/flats/riga/c...</td>\n",
       "      <td>Lāčplēša 56</td>\n",
       "      <td>2</td>\n",
       "      <td>65</td>\n",
       "      <td>4/5</td>\n",
       "      <td>Renov.</td>\n",
       "      <td>7.54 €</td>\n",
       "      <td>490  €/mēn.</td>\n",
       "    </tr>\n",
       "    <tr>\n",
       "      <th>517</th>\n",
       "      <td>Izīrē jaunu, mēbelētu studio tipa dzīvokli res...</td>\n",
       "      <td>https://ss.com/msg/lv/real-estate/flats/riga/c...</td>\n",
       "      <td>Valdemāra 61</td>\n",
       "      <td>1</td>\n",
       "      <td>26</td>\n",
       "      <td>5/7</td>\n",
       "      <td>Renov.</td>\n",
       "      <td>19.23 €</td>\n",
       "      <td>500  €/mēn.</td>\n",
       "    </tr>\n",
       "    <tr>\n",
       "      <th>518</th>\n",
       "      <td>Ilgtermiņa īrei 2-istabu dzīvoklis. Dzīvoklis ...</td>\n",
       "      <td>https://ss.com/msg/lv/real-estate/flats/riga/c...</td>\n",
       "      <td>Grostonas 19</td>\n",
       "      <td>2</td>\n",
       "      <td>61</td>\n",
       "      <td>5/10</td>\n",
       "      <td>Jaun.</td>\n",
       "      <td>11.48 €</td>\n",
       "      <td>700  €/mēn.</td>\n",
       "    </tr>\n",
       "    <tr>\n",
       "      <th>519</th>\n",
       "      <td>Izīrē jaunu, mēbelētu studio tipa dzīvokli res...</td>\n",
       "      <td>https://ss.com/msg/lv/real-estate/flats/riga/c...</td>\n",
       "      <td>Valdemāra 61</td>\n",
       "      <td>1</td>\n",
       "      <td>22</td>\n",
       "      <td>6/7</td>\n",
       "      <td>Renov.</td>\n",
       "      <td>20.45 €</td>\n",
       "      <td>450  €/mēn.</td>\n",
       "    </tr>\n",
       "  </tbody>\n",
       "</table>\n",
       "</div>"
      ],
      "text/plain": [
       "                                           description  \\\n",
       "515  В долгосрочную аренду предлагается квартира. \\...   \n",
       "516  Tiek izīrēts mājīgs 2 istabu dzīvoklis uz ilgu...   \n",
       "517  Izīrē jaunu, mēbelētu studio tipa dzīvokli res...   \n",
       "518  Ilgtermiņa īrei 2-istabu dzīvoklis. Dzīvoklis ...   \n",
       "519  Izīrē jaunu, mēbelētu studio tipa dzīvokli res...   \n",
       "\n",
       "                                                   url          Iela Ist.  m2  \\\n",
       "515  https://ss.com/msg/lv/real-estate/flats/riga/c...   Brīvības 91    2  42   \n",
       "516  https://ss.com/msg/lv/real-estate/flats/riga/c...   Lāčplēša 56    2  65   \n",
       "517  https://ss.com/msg/lv/real-estate/flats/riga/c...  Valdemāra 61    1  26   \n",
       "518  https://ss.com/msg/lv/real-estate/flats/riga/c...  Grostonas 19    2  61   \n",
       "519  https://ss.com/msg/lv/real-estate/flats/riga/c...  Valdemāra 61    1  22   \n",
       "\n",
       "    Stāvs  Sērija Cena, m2         Cena  \n",
       "515   2/6  Renov.  14.05 €  590  €/mēn.  \n",
       "516   4/5  Renov.   7.54 €  490  €/mēn.  \n",
       "517   5/7  Renov.  19.23 €  500  €/mēn.  \n",
       "518  5/10   Jaun.  11.48 €  700  €/mēn.  \n",
       "519   6/7  Renov.  20.45 €  450  €/mēn.  "
      ]
     },
     "execution_count": 84,
     "metadata": {},
     "output_type": "execute_result"
    }
   ],
   "source": [
    "# last 5\n",
    "df.tail()"
   ]
  },
  {
   "cell_type": "code",
   "execution_count": 85,
   "metadata": {},
   "outputs": [
    {
     "data": {
      "text/html": [
       "<div>\n",
       "<style scoped>\n",
       "    .dataframe tbody tr th:only-of-type {\n",
       "        vertical-align: middle;\n",
       "    }\n",
       "\n",
       "    .dataframe tbody tr th {\n",
       "        vertical-align: top;\n",
       "    }\n",
       "\n",
       "    .dataframe thead th {\n",
       "        text-align: right;\n",
       "    }\n",
       "</style>\n",
       "<table border=\"1\" class=\"dataframe\">\n",
       "  <thead>\n",
       "    <tr style=\"text-align: right;\">\n",
       "      <th></th>\n",
       "      <th>description</th>\n",
       "      <th>url</th>\n",
       "      <th>Iela</th>\n",
       "      <th>Ist.</th>\n",
       "      <th>m2</th>\n",
       "      <th>Stāvs</th>\n",
       "      <th>Sērija</th>\n",
       "      <th>Cena, m2</th>\n",
       "      <th>Cena</th>\n",
       "      <th>Floor</th>\n",
       "      <th>MaxFloor</th>\n",
       "    </tr>\n",
       "  </thead>\n",
       "  <tbody>\n",
       "    <tr>\n",
       "      <th>0</th>\n",
       "      <td>Saimnieks uz ilgāku laiku izīrē divistabu dzīv...</td>\n",
       "      <td>https://ss.com/msg/lv/real-estate/flats/riga/c...</td>\n",
       "      <td>Zaļā 7</td>\n",
       "      <td>2</td>\n",
       "      <td>63</td>\n",
       "      <td>2/4</td>\n",
       "      <td>P. kara</td>\n",
       "      <td>8.57 €</td>\n",
       "      <td>540  €/mēn.</td>\n",
       "      <td>2</td>\n",
       "      <td>4</td>\n",
       "    </tr>\n",
       "    <tr>\n",
       "      <th>1</th>\n",
       "      <td>Īpašnieks izīrē modernu 2 istabu dzīvokli fasā...</td>\n",
       "      <td>https://ss.com/msg/lv/real-estate/flats/riga/c...</td>\n",
       "      <td>Bruņinieku 73A</td>\n",
       "      <td>2</td>\n",
       "      <td>50</td>\n",
       "      <td>1/4</td>\n",
       "      <td>P. kara</td>\n",
       "      <td>9.60 €</td>\n",
       "      <td>480  €/mēn.</td>\n",
       "      <td>1</td>\n",
       "      <td>4</td>\n",
       "    </tr>\n",
       "    <tr>\n",
       "      <th>2</th>\n",
       "      <td>Pašā pilsētas centrā iepretim cirkam tiek pied...</td>\n",
       "      <td>https://ss.com/msg/lv/real-estate/flats/riga/c...</td>\n",
       "      <td>Merķeļa 7</td>\n",
       "      <td>1</td>\n",
       "      <td>30</td>\n",
       "      <td>4/4</td>\n",
       "      <td>P. kara</td>\n",
       "      <td>11.33 €</td>\n",
       "      <td>340  €/mēn.</td>\n",
       "      <td>4</td>\n",
       "      <td>4</td>\n",
       "    </tr>\n",
       "    <tr>\n",
       "      <th>3</th>\n",
       "      <td>Pašā pilsētas centrā iepretim cirkam tiek pied...</td>\n",
       "      <td>https://ss.com/msg/lv/real-estate/flats/riga/c...</td>\n",
       "      <td>Merķeļa 7</td>\n",
       "      <td>1</td>\n",
       "      <td>25</td>\n",
       "      <td>4/4</td>\n",
       "      <td>P. kara</td>\n",
       "      <td>12.80 €</td>\n",
       "      <td>320  €/mēn.</td>\n",
       "      <td>4</td>\n",
       "      <td>4</td>\n",
       "    </tr>\n",
       "    <tr>\n",
       "      <th>4</th>\n",
       "      <td>Pilnīgi jauns 2 istabu dzīvoklis jaunajā proje...</td>\n",
       "      <td>https://ss.com/msg/lv/real-estate/flats/riga/c...</td>\n",
       "      <td>Elijas 26</td>\n",
       "      <td>2</td>\n",
       "      <td>60</td>\n",
       "      <td>4/5</td>\n",
       "      <td>Jaun.</td>\n",
       "      <td>18.33 €</td>\n",
       "      <td>1,100  €/mēn.</td>\n",
       "      <td>4</td>\n",
       "      <td>5</td>\n",
       "    </tr>\n",
       "  </tbody>\n",
       "</table>\n",
       "</div>"
      ],
      "text/plain": [
       "                                         description  \\\n",
       "0  Saimnieks uz ilgāku laiku izīrē divistabu dzīv...   \n",
       "1  Īpašnieks izīrē modernu 2 istabu dzīvokli fasā...   \n",
       "2  Pašā pilsētas centrā iepretim cirkam tiek pied...   \n",
       "3  Pašā pilsētas centrā iepretim cirkam tiek pied...   \n",
       "4  Pilnīgi jauns 2 istabu dzīvoklis jaunajā proje...   \n",
       "\n",
       "                                                 url            Iela Ist.  m2  \\\n",
       "0  https://ss.com/msg/lv/real-estate/flats/riga/c...          Zaļā 7    2  63   \n",
       "1  https://ss.com/msg/lv/real-estate/flats/riga/c...  Bruņinieku 73A    2  50   \n",
       "2  https://ss.com/msg/lv/real-estate/flats/riga/c...       Merķeļa 7    1  30   \n",
       "3  https://ss.com/msg/lv/real-estate/flats/riga/c...       Merķeļa 7    1  25   \n",
       "4  https://ss.com/msg/lv/real-estate/flats/riga/c...       Elijas 26    2  60   \n",
       "\n",
       "  Stāvs   Sērija Cena, m2           Cena Floor MaxFloor  \n",
       "0   2/4  P. kara   8.57 €    540  €/mēn.     2        4  \n",
       "1   1/4  P. kara   9.60 €    480  €/mēn.     1        4  \n",
       "2   4/4  P. kara  11.33 €    340  €/mēn.     4        4  \n",
       "3   4/4  P. kara  12.80 €    320  €/mēn.     4        4  \n",
       "4   4/5    Jaun.  18.33 €  1,100  €/mēn.     4        5  "
      ]
     },
     "execution_count": 85,
     "metadata": {},
     "output_type": "execute_result"
    }
   ],
   "source": [
    "#we can do more post processing - feature engineering using existing columns\n",
    "df[['Floor','MaxFloor']] = df.Stāvs.str.split(\"/\",expand=True) \n",
    "df.head()"
   ]
  },
  {
   "cell_type": "code",
   "execution_count": 86,
   "metadata": {},
   "outputs": [
    {
     "name": "stdout",
     "output_type": "stream",
     "text": [
      "<class 'pandas.core.frame.DataFrame'>\n",
      "RangeIndex: 520 entries, 0 to 519\n",
      "Data columns (total 11 columns):\n",
      " #   Column       Non-Null Count  Dtype \n",
      "---  ------       --------------  ----- \n",
      " 0   description  520 non-null    object\n",
      " 1   url          520 non-null    object\n",
      " 2   Iela         520 non-null    object\n",
      " 3   Ist.         520 non-null    object\n",
      " 4   m2           520 non-null    object\n",
      " 5   Stāvs        520 non-null    object\n",
      " 6   Sērija       520 non-null    object\n",
      " 7   Cena, m2     520 non-null    object\n",
      " 8   Cena         520 non-null    object\n",
      " 9   Floor        520 non-null    object\n",
      " 10  MaxFloor     520 non-null    object\n",
      "dtypes: object(11)\n",
      "memory usage: 44.8+ KB\n"
     ]
    }
   ],
   "source": [
    "df.info()"
   ]
  },
  {
   "cell_type": "code",
   "execution_count": 87,
   "metadata": {},
   "outputs": [
    {
     "name": "stdout",
     "output_type": "stream",
     "text": [
      "Floors with NaN values: 0\n",
      "MaxFloors with NaN values: 0\n"
     ]
    }
   ],
   "source": [
    "# let's convert to Floor and MaxFloor to integers by coercint to numeric\n",
    "df['Floor'] = pd.to_numeric(df['Floor'], errors='coerce') # this will convert to NaN if not convertible\n",
    "df['MaxFloor'] = pd.to_numeric(df['MaxFloor'], errors='coerce') # this will convert to NaN if not convertible\n",
    "# how many Floors have NaN values?\n",
    "print(f\"Floors with NaN values: {df['Floor'].isna().sum()}\")\n",
    "# how many MaxFloors have NaN values?\n",
    "print(f\"MaxFloors with NaN values: {df['MaxFloor'].isna().sum()}\")"
   ]
  },
  {
   "cell_type": "code",
   "execution_count": 88,
   "metadata": {},
   "outputs": [
    {
     "name": "stdout",
     "output_type": "stream",
     "text": [
      "<class 'pandas.core.frame.DataFrame'>\n",
      "RangeIndex: 520 entries, 0 to 519\n",
      "Data columns (total 11 columns):\n",
      " #   Column       Non-Null Count  Dtype \n",
      "---  ------       --------------  ----- \n",
      " 0   description  520 non-null    object\n",
      " 1   url          520 non-null    object\n",
      " 2   Iela         520 non-null    object\n",
      " 3   Ist.         520 non-null    object\n",
      " 4   m2           520 non-null    object\n",
      " 5   Stāvs        520 non-null    object\n",
      " 6   Sērija       520 non-null    object\n",
      " 7   Cena, m2     520 non-null    object\n",
      " 8   Cena         520 non-null    object\n",
      " 9   Floor        520 non-null    int64 \n",
      " 10  MaxFloor     520 non-null    int64 \n",
      "dtypes: int64(2), object(9)\n",
      "memory usage: 44.8+ KB\n"
     ]
    }
   ],
   "source": [
    "df.info()"
   ]
  },
  {
   "cell_type": "code",
   "execution_count": 89,
   "metadata": {
    "scrolled": true
   },
   "outputs": [
    {
     "data": {
      "text/html": [
       "<div>\n",
       "<style scoped>\n",
       "    .dataframe tbody tr th:only-of-type {\n",
       "        vertical-align: middle;\n",
       "    }\n",
       "\n",
       "    .dataframe tbody tr th {\n",
       "        vertical-align: top;\n",
       "    }\n",
       "\n",
       "    .dataframe thead th {\n",
       "        text-align: right;\n",
       "    }\n",
       "</style>\n",
       "<table border=\"1\" class=\"dataframe\">\n",
       "  <thead>\n",
       "    <tr style=\"text-align: right;\">\n",
       "      <th></th>\n",
       "      <th>description</th>\n",
       "      <th>url</th>\n",
       "      <th>Iela</th>\n",
       "      <th>Ist.</th>\n",
       "      <th>m2</th>\n",
       "      <th>Stāvs</th>\n",
       "      <th>Sērija</th>\n",
       "      <th>Cena, m2</th>\n",
       "      <th>Cena</th>\n",
       "      <th>Floor</th>\n",
       "      <th>MaxFloor</th>\n",
       "      <th>price</th>\n",
       "    </tr>\n",
       "  </thead>\n",
       "  <tbody>\n",
       "    <tr>\n",
       "      <th>0</th>\n",
       "      <td>Saimnieks uz ilgāku laiku izīrē divistabu dzīv...</td>\n",
       "      <td>https://ss.com/msg/lv/real-estate/flats/riga/c...</td>\n",
       "      <td>Zaļā 7</td>\n",
       "      <td>2</td>\n",
       "      <td>63</td>\n",
       "      <td>2/4</td>\n",
       "      <td>P. kara</td>\n",
       "      <td>8.57 €</td>\n",
       "      <td>540  €/mēn.</td>\n",
       "      <td>2</td>\n",
       "      <td>4</td>\n",
       "      <td>540</td>\n",
       "    </tr>\n",
       "    <tr>\n",
       "      <th>1</th>\n",
       "      <td>Īpašnieks izīrē modernu 2 istabu dzīvokli fasā...</td>\n",
       "      <td>https://ss.com/msg/lv/real-estate/flats/riga/c...</td>\n",
       "      <td>Bruņinieku 73A</td>\n",
       "      <td>2</td>\n",
       "      <td>50</td>\n",
       "      <td>1/4</td>\n",
       "      <td>P. kara</td>\n",
       "      <td>9.60 €</td>\n",
       "      <td>480  €/mēn.</td>\n",
       "      <td>1</td>\n",
       "      <td>4</td>\n",
       "      <td>480</td>\n",
       "    </tr>\n",
       "    <tr>\n",
       "      <th>2</th>\n",
       "      <td>Pašā pilsētas centrā iepretim cirkam tiek pied...</td>\n",
       "      <td>https://ss.com/msg/lv/real-estate/flats/riga/c...</td>\n",
       "      <td>Merķeļa 7</td>\n",
       "      <td>1</td>\n",
       "      <td>30</td>\n",
       "      <td>4/4</td>\n",
       "      <td>P. kara</td>\n",
       "      <td>11.33 €</td>\n",
       "      <td>340  €/mēn.</td>\n",
       "      <td>4</td>\n",
       "      <td>4</td>\n",
       "      <td>340</td>\n",
       "    </tr>\n",
       "    <tr>\n",
       "      <th>3</th>\n",
       "      <td>Pašā pilsētas centrā iepretim cirkam tiek pied...</td>\n",
       "      <td>https://ss.com/msg/lv/real-estate/flats/riga/c...</td>\n",
       "      <td>Merķeļa 7</td>\n",
       "      <td>1</td>\n",
       "      <td>25</td>\n",
       "      <td>4/4</td>\n",
       "      <td>P. kara</td>\n",
       "      <td>12.80 €</td>\n",
       "      <td>320  €/mēn.</td>\n",
       "      <td>4</td>\n",
       "      <td>4</td>\n",
       "      <td>320</td>\n",
       "    </tr>\n",
       "    <tr>\n",
       "      <th>4</th>\n",
       "      <td>Pilnīgi jauns 2 istabu dzīvoklis jaunajā proje...</td>\n",
       "      <td>https://ss.com/msg/lv/real-estate/flats/riga/c...</td>\n",
       "      <td>Elijas 26</td>\n",
       "      <td>2</td>\n",
       "      <td>60</td>\n",
       "      <td>4/5</td>\n",
       "      <td>Jaun.</td>\n",
       "      <td>18.33 €</td>\n",
       "      <td>1,100  €/mēn.</td>\n",
       "      <td>4</td>\n",
       "      <td>5</td>\n",
       "      <td>1,100</td>\n",
       "    </tr>\n",
       "  </tbody>\n",
       "</table>\n",
       "</div>"
      ],
      "text/plain": [
       "                                         description  \\\n",
       "0  Saimnieks uz ilgāku laiku izīrē divistabu dzīv...   \n",
       "1  Īpašnieks izīrē modernu 2 istabu dzīvokli fasā...   \n",
       "2  Pašā pilsētas centrā iepretim cirkam tiek pied...   \n",
       "3  Pašā pilsētas centrā iepretim cirkam tiek pied...   \n",
       "4  Pilnīgi jauns 2 istabu dzīvoklis jaunajā proje...   \n",
       "\n",
       "                                                 url            Iela Ist.  m2  \\\n",
       "0  https://ss.com/msg/lv/real-estate/flats/riga/c...          Zaļā 7    2  63   \n",
       "1  https://ss.com/msg/lv/real-estate/flats/riga/c...  Bruņinieku 73A    2  50   \n",
       "2  https://ss.com/msg/lv/real-estate/flats/riga/c...       Merķeļa 7    1  30   \n",
       "3  https://ss.com/msg/lv/real-estate/flats/riga/c...       Merķeļa 7    1  25   \n",
       "4  https://ss.com/msg/lv/real-estate/flats/riga/c...       Elijas 26    2  60   \n",
       "\n",
       "  Stāvs   Sērija Cena, m2           Cena  Floor  MaxFloor  price  \n",
       "0   2/4  P. kara   8.57 €    540  €/mēn.      2         4    540  \n",
       "1   1/4  P. kara   9.60 €    480  €/mēn.      1         4    480  \n",
       "2   4/4  P. kara  11.33 €    340  €/mēn.      4         4    340  \n",
       "3   4/4  P. kara  12.80 €    320  €/mēn.      4         4    320  \n",
       "4   4/5    Jaun.  18.33 €  1,100  €/mēn.      4         5  1,100  "
      ]
     },
     "execution_count": 89,
     "metadata": {},
     "output_type": "execute_result"
    }
   ],
   "source": [
    "df[\"price\"] = df.Cena.str.split(' ').str[0]  # create a new column from price\n",
    "df.head()"
   ]
  },
  {
   "cell_type": "code",
   "execution_count": 90,
   "metadata": {},
   "outputs": [
    {
     "data": {
      "text/html": [
       "<div>\n",
       "<style scoped>\n",
       "    .dataframe tbody tr th:only-of-type {\n",
       "        vertical-align: middle;\n",
       "    }\n",
       "\n",
       "    .dataframe tbody tr th {\n",
       "        vertical-align: top;\n",
       "    }\n",
       "\n",
       "    .dataframe thead th {\n",
       "        text-align: right;\n",
       "    }\n",
       "</style>\n",
       "<table border=\"1\" class=\"dataframe\">\n",
       "  <thead>\n",
       "    <tr style=\"text-align: right;\">\n",
       "      <th></th>\n",
       "      <th>description</th>\n",
       "      <th>url</th>\n",
       "      <th>Iela</th>\n",
       "      <th>Ist.</th>\n",
       "      <th>m2</th>\n",
       "      <th>Stāvs</th>\n",
       "      <th>Sērija</th>\n",
       "      <th>Cena, m2</th>\n",
       "      <th>Cena</th>\n",
       "      <th>Floor</th>\n",
       "      <th>MaxFloor</th>\n",
       "      <th>price</th>\n",
       "    </tr>\n",
       "  </thead>\n",
       "  <tbody>\n",
       "    <tr>\n",
       "      <th>0</th>\n",
       "      <td>Saimnieks uz ilgāku laiku izīrē divistabu dzīv...</td>\n",
       "      <td>https://ss.com/msg/lv/real-estate/flats/riga/c...</td>\n",
       "      <td>Zaļā 7</td>\n",
       "      <td>2</td>\n",
       "      <td>63</td>\n",
       "      <td>2/4</td>\n",
       "      <td>P. kara</td>\n",
       "      <td>8.57 €</td>\n",
       "      <td>540  €/mēn.</td>\n",
       "      <td>2</td>\n",
       "      <td>4</td>\n",
       "      <td>540</td>\n",
       "    </tr>\n",
       "    <tr>\n",
       "      <th>1</th>\n",
       "      <td>Īpašnieks izīrē modernu 2 istabu dzīvokli fasā...</td>\n",
       "      <td>https://ss.com/msg/lv/real-estate/flats/riga/c...</td>\n",
       "      <td>Bruņinieku 73A</td>\n",
       "      <td>2</td>\n",
       "      <td>50</td>\n",
       "      <td>1/4</td>\n",
       "      <td>P. kara</td>\n",
       "      <td>9.60 €</td>\n",
       "      <td>480  €/mēn.</td>\n",
       "      <td>1</td>\n",
       "      <td>4</td>\n",
       "      <td>480</td>\n",
       "    </tr>\n",
       "    <tr>\n",
       "      <th>2</th>\n",
       "      <td>Pašā pilsētas centrā iepretim cirkam tiek pied...</td>\n",
       "      <td>https://ss.com/msg/lv/real-estate/flats/riga/c...</td>\n",
       "      <td>Merķeļa 7</td>\n",
       "      <td>1</td>\n",
       "      <td>30</td>\n",
       "      <td>4/4</td>\n",
       "      <td>P. kara</td>\n",
       "      <td>11.33 €</td>\n",
       "      <td>340  €/mēn.</td>\n",
       "      <td>4</td>\n",
       "      <td>4</td>\n",
       "      <td>340</td>\n",
       "    </tr>\n",
       "    <tr>\n",
       "      <th>3</th>\n",
       "      <td>Pašā pilsētas centrā iepretim cirkam tiek pied...</td>\n",
       "      <td>https://ss.com/msg/lv/real-estate/flats/riga/c...</td>\n",
       "      <td>Merķeļa 7</td>\n",
       "      <td>1</td>\n",
       "      <td>25</td>\n",
       "      <td>4/4</td>\n",
       "      <td>P. kara</td>\n",
       "      <td>12.80 €</td>\n",
       "      <td>320  €/mēn.</td>\n",
       "      <td>4</td>\n",
       "      <td>4</td>\n",
       "      <td>320</td>\n",
       "    </tr>\n",
       "    <tr>\n",
       "      <th>4</th>\n",
       "      <td>Pilnīgi jauns 2 istabu dzīvoklis jaunajā proje...</td>\n",
       "      <td>https://ss.com/msg/lv/real-estate/flats/riga/c...</td>\n",
       "      <td>Elijas 26</td>\n",
       "      <td>2</td>\n",
       "      <td>60</td>\n",
       "      <td>4/5</td>\n",
       "      <td>Jaun.</td>\n",
       "      <td>18.33 €</td>\n",
       "      <td>1,100  €/mēn.</td>\n",
       "      <td>4</td>\n",
       "      <td>5</td>\n",
       "      <td>1100</td>\n",
       "    </tr>\n",
       "  </tbody>\n",
       "</table>\n",
       "</div>"
      ],
      "text/plain": [
       "                                         description  \\\n",
       "0  Saimnieks uz ilgāku laiku izīrē divistabu dzīv...   \n",
       "1  Īpašnieks izīrē modernu 2 istabu dzīvokli fasā...   \n",
       "2  Pašā pilsētas centrā iepretim cirkam tiek pied...   \n",
       "3  Pašā pilsētas centrā iepretim cirkam tiek pied...   \n",
       "4  Pilnīgi jauns 2 istabu dzīvoklis jaunajā proje...   \n",
       "\n",
       "                                                 url            Iela Ist.  m2  \\\n",
       "0  https://ss.com/msg/lv/real-estate/flats/riga/c...          Zaļā 7    2  63   \n",
       "1  https://ss.com/msg/lv/real-estate/flats/riga/c...  Bruņinieku 73A    2  50   \n",
       "2  https://ss.com/msg/lv/real-estate/flats/riga/c...       Merķeļa 7    1  30   \n",
       "3  https://ss.com/msg/lv/real-estate/flats/riga/c...       Merķeļa 7    1  25   \n",
       "4  https://ss.com/msg/lv/real-estate/flats/riga/c...       Elijas 26    2  60   \n",
       "\n",
       "  Stāvs   Sērija Cena, m2           Cena  Floor  MaxFloor  price  \n",
       "0   2/4  P. kara   8.57 €    540  €/mēn.      2         4    540  \n",
       "1   1/4  P. kara   9.60 €    480  €/mēn.      1         4    480  \n",
       "2   4/4  P. kara  11.33 €    340  €/mēn.      4         4    340  \n",
       "3   4/4  P. kara  12.80 €    320  €/mēn.      4         4    320  \n",
       "4   4/5    Jaun.  18.33 €  1,100  €/mēn.      4         5   1100  "
      ]
     },
     "execution_count": 90,
     "metadata": {},
     "output_type": "execute_result"
    }
   ],
   "source": [
    "# so we remove , from price and convert it to integer at the same time\n",
    "# then we overwrite the old column with the new one\n",
    "df.price = df.price.str.replace(\",\",\"\").astype('int32') # so clean string of , and then convert to integer int64 for larger\n",
    "df.head()"
   ]
  },
  {
   "cell_type": "code",
   "execution_count": 91,
   "metadata": {},
   "outputs": [
    {
     "name": "stdout",
     "output_type": "stream",
     "text": [
      "<class 'pandas.core.frame.DataFrame'>\n",
      "RangeIndex: 520 entries, 0 to 519\n",
      "Data columns (total 12 columns):\n",
      " #   Column       Non-Null Count  Dtype \n",
      "---  ------       --------------  ----- \n",
      " 0   description  520 non-null    object\n",
      " 1   url          520 non-null    object\n",
      " 2   Iela         520 non-null    object\n",
      " 3   Ist.         520 non-null    object\n",
      " 4   m2           520 non-null    object\n",
      " 5   Stāvs        520 non-null    object\n",
      " 6   Sērija       520 non-null    object\n",
      " 7   Cena, m2     520 non-null    object\n",
      " 8   Cena         520 non-null    object\n",
      " 9   Floor        520 non-null    int64 \n",
      " 10  MaxFloor     520 non-null    int64 \n",
      " 11  price        520 non-null    int32 \n",
      "dtypes: int32(1), int64(2), object(9)\n",
      "memory usage: 46.8+ KB\n"
     ]
    }
   ],
   "source": [
    "df.info()"
   ]
  },
  {
   "cell_type": "code",
   "execution_count": 99,
   "metadata": {},
   "outputs": [],
   "source": [
    "# convert to integer\n",
    "# we will createa a new column called floor - column names are case sensitive\n",
    "df[\"floor\"] = df['Stāvs'].str.split(\"/\").str[0] # we can use str.split to split the string by / and then take the first element\n",
    "# in Pandas we can use df.column_name or df[\"column_name\"]\n",
    "# df[\"column_name\"] is more flexible as we can use variables \n",
    "# also df.column_name will not work if column name has spaces or special characters\n",
    "# also df.column_name will not work if column name is a number\n",
    "# finally df.column_name will not work if column name is a reserved word in Python or in Pandas"
   ]
  },
  {
   "cell_type": "code",
   "execution_count": 100,
   "metadata": {},
   "outputs": [
    {
     "data": {
      "text/html": [
       "<div>\n",
       "<style scoped>\n",
       "    .dataframe tbody tr th:only-of-type {\n",
       "        vertical-align: middle;\n",
       "    }\n",
       "\n",
       "    .dataframe tbody tr th {\n",
       "        vertical-align: top;\n",
       "    }\n",
       "\n",
       "    .dataframe thead th {\n",
       "        text-align: right;\n",
       "    }\n",
       "</style>\n",
       "<table border=\"1\" class=\"dataframe\">\n",
       "  <thead>\n",
       "    <tr style=\"text-align: right;\">\n",
       "      <th></th>\n",
       "      <th>description</th>\n",
       "      <th>url</th>\n",
       "      <th>Iela</th>\n",
       "      <th>Ist.</th>\n",
       "      <th>m2</th>\n",
       "      <th>Stāvs</th>\n",
       "      <th>Sērija</th>\n",
       "      <th>Cena, m2</th>\n",
       "      <th>Cena</th>\n",
       "      <th>price</th>\n",
       "      <th>floor</th>\n",
       "    </tr>\n",
       "  </thead>\n",
       "  <tbody>\n",
       "    <tr>\n",
       "      <th>0</th>\n",
       "      <td>Luksusa apartamenti lieliskā atrašanās vietā. ...</td>\n",
       "      <td>https://ss.com/msg/lv/real-estate/flats/riga/c...</td>\n",
       "      <td>Brīvības 148</td>\n",
       "      <td>2</td>\n",
       "      <td>45</td>\n",
       "      <td>2/6</td>\n",
       "      <td>Staļina</td>\n",
       "      <td>1.11 €</td>\n",
       "      <td>50  €/dienā</td>\n",
       "      <td>50</td>\n",
       "      <td>2</td>\n",
       "    </tr>\n",
       "    <tr>\n",
       "      <th>1</th>\n",
       "      <td>Izīrē nelielu dzīvokli renovētā mājā Rīgas cen...</td>\n",
       "      <td>https://ss.com/msg/lv/real-estate/flats/riga/c...</td>\n",
       "      <td>Stabu 63</td>\n",
       "      <td>1</td>\n",
       "      <td>14</td>\n",
       "      <td>2/5</td>\n",
       "      <td>Renov.</td>\n",
       "      <td>19.29 €</td>\n",
       "      <td>270  €/mēn.</td>\n",
       "      <td>270</td>\n",
       "      <td>2</td>\n",
       "    </tr>\n",
       "    <tr>\n",
       "      <th>2</th>\n",
       "      <td>Modern one-room apartment in the heart of Riga...</td>\n",
       "      <td>https://ss.com/msg/lv/real-estate/flats/riga/c...</td>\n",
       "      <td>Aspazijas bulv. 30</td>\n",
       "      <td>1</td>\n",
       "      <td>24</td>\n",
       "      <td>5/5</td>\n",
       "      <td>Renov.</td>\n",
       "      <td>20 €</td>\n",
       "      <td>480  €/mēn.</td>\n",
       "      <td>480</td>\n",
       "      <td>5</td>\n",
       "    </tr>\n",
       "    <tr>\n",
       "      <th>3</th>\n",
       "      <td>Stilīgs jauns dzīvoklis renovēta māja Rīgas ce...</td>\n",
       "      <td>https://ss.com/msg/lv/real-estate/flats/riga/c...</td>\n",
       "      <td>Barona 92</td>\n",
       "      <td>2</td>\n",
       "      <td>32</td>\n",
       "      <td>1/3</td>\n",
       "      <td>Renov.</td>\n",
       "      <td>14.06 €</td>\n",
       "      <td>450  €/mēn.</td>\n",
       "      <td>450</td>\n",
       "      <td>1</td>\n",
       "    </tr>\n",
       "    <tr>\n",
       "      <th>4</th>\n",
       "      <td>Luxury, everything luxury:\\r\\nCompletely new, ...</td>\n",
       "      <td>https://ss.com/msg/lv/real-estate/flats/riga/c...</td>\n",
       "      <td>Stabu 18B</td>\n",
       "      <td>2</td>\n",
       "      <td>112</td>\n",
       "      <td>6/7</td>\n",
       "      <td>Jaun.</td>\n",
       "      <td>17.86 €</td>\n",
       "      <td>2,000  €/mēn.</td>\n",
       "      <td>2000</td>\n",
       "      <td>6</td>\n",
       "    </tr>\n",
       "  </tbody>\n",
       "</table>\n",
       "</div>"
      ],
      "text/plain": [
       "                                         description  \\\n",
       "0  Luksusa apartamenti lieliskā atrašanās vietā. ...   \n",
       "1  Izīrē nelielu dzīvokli renovētā mājā Rīgas cen...   \n",
       "2  Modern one-room apartment in the heart of Riga...   \n",
       "3  Stilīgs jauns dzīvoklis renovēta māja Rīgas ce...   \n",
       "4  Luxury, everything luxury:\\r\\nCompletely new, ...   \n",
       "\n",
       "                                                 url                Iela Ist.  \\\n",
       "0  https://ss.com/msg/lv/real-estate/flats/riga/c...        Brīvības 148    2   \n",
       "1  https://ss.com/msg/lv/real-estate/flats/riga/c...            Stabu 63    1   \n",
       "2  https://ss.com/msg/lv/real-estate/flats/riga/c...  Aspazijas bulv. 30    1   \n",
       "3  https://ss.com/msg/lv/real-estate/flats/riga/c...           Barona 92    2   \n",
       "4  https://ss.com/msg/lv/real-estate/flats/riga/c...           Stabu 18B    2   \n",
       "\n",
       "    m2 Stāvs   Sērija Cena, m2           Cena  price  floor  \n",
       "0   45   2/6  Staļina   1.11 €    50  €/dienā     50      2  \n",
       "1   14   2/5   Renov.  19.29 €    270  €/mēn.    270      2  \n",
       "2   24   5/5   Renov.     20 €    480  €/mēn.    480      5  \n",
       "3   32   1/3   Renov.  14.06 €    450  €/mēn.    450      1  \n",
       "4  112   6/7    Jaun.  17.86 €  2,000  €/mēn.   2000      6  "
      ]
     },
     "execution_count": 100,
     "metadata": {},
     "output_type": "execute_result"
    }
   ],
   "source": [
    "# convert floor to int with coerce on errors\n",
    "df[\"floor\"] = pd.to_numeric(df[\"floor\"], errors='coerce') # so convert to numeric and coerce errors to NaN\n",
    "df.head()"
   ]
  },
  {
   "cell_type": "code",
   "execution_count": 92,
   "metadata": {},
   "outputs": [
    {
     "data": {
      "text/html": [
       "<div>\n",
       "<style scoped>\n",
       "    .dataframe tbody tr th:only-of-type {\n",
       "        vertical-align: middle;\n",
       "    }\n",
       "\n",
       "    .dataframe tbody tr th {\n",
       "        vertical-align: top;\n",
       "    }\n",
       "\n",
       "    .dataframe thead th {\n",
       "        text-align: right;\n",
       "    }\n",
       "</style>\n",
       "<table border=\"1\" class=\"dataframe\">\n",
       "  <thead>\n",
       "    <tr style=\"text-align: right;\">\n",
       "      <th></th>\n",
       "      <th>Floor</th>\n",
       "      <th>MaxFloor</th>\n",
       "      <th>price</th>\n",
       "    </tr>\n",
       "  </thead>\n",
       "  <tbody>\n",
       "    <tr>\n",
       "      <th>count</th>\n",
       "      <td>520.000000</td>\n",
       "      <td>520.000000</td>\n",
       "      <td>520.000000</td>\n",
       "    </tr>\n",
       "    <tr>\n",
       "      <th>mean</th>\n",
       "      <td>3.346154</td>\n",
       "      <td>5.675000</td>\n",
       "      <td>650.767308</td>\n",
       "    </tr>\n",
       "    <tr>\n",
       "      <th>std</th>\n",
       "      <td>2.276500</td>\n",
       "      <td>2.990053</td>\n",
       "      <td>721.005104</td>\n",
       "    </tr>\n",
       "    <tr>\n",
       "      <th>min</th>\n",
       "      <td>1.000000</td>\n",
       "      <td>1.000000</td>\n",
       "      <td>15.000000</td>\n",
       "    </tr>\n",
       "    <tr>\n",
       "      <th>25%</th>\n",
       "      <td>2.000000</td>\n",
       "      <td>5.000000</td>\n",
       "      <td>270.000000</td>\n",
       "    </tr>\n",
       "    <tr>\n",
       "      <th>50%</th>\n",
       "      <td>3.000000</td>\n",
       "      <td>5.000000</td>\n",
       "      <td>455.000000</td>\n",
       "    </tr>\n",
       "    <tr>\n",
       "      <th>75%</th>\n",
       "      <td>4.000000</td>\n",
       "      <td>6.000000</td>\n",
       "      <td>792.500000</td>\n",
       "    </tr>\n",
       "    <tr>\n",
       "      <th>max</th>\n",
       "      <td>23.000000</td>\n",
       "      <td>42.000000</td>\n",
       "      <td>5980.000000</td>\n",
       "    </tr>\n",
       "  </tbody>\n",
       "</table>\n",
       "</div>"
      ],
      "text/plain": [
       "            Floor    MaxFloor        price\n",
       "count  520.000000  520.000000   520.000000\n",
       "mean     3.346154    5.675000   650.767308\n",
       "std      2.276500    2.990053   721.005104\n",
       "min      1.000000    1.000000    15.000000\n",
       "25%      2.000000    5.000000   270.000000\n",
       "50%      3.000000    5.000000   455.000000\n",
       "75%      4.000000    6.000000   792.500000\n",
       "max     23.000000   42.000000  5980.000000"
      ]
     },
     "execution_count": 92,
     "metadata": {},
     "output_type": "execute_result"
    }
   ],
   "source": [
    "# let's just describe\n",
    "df.describe() # so we get some basic statistics about our dataframe"
   ]
  },
  {
   "cell_type": "code",
   "execution_count": 93,
   "metadata": {},
   "outputs": [
    {
     "data": {
      "text/plain": [
       "<Axes: >"
      ]
     },
     "execution_count": 93,
     "metadata": {},
     "output_type": "execute_result"
    },
    {
     "data": {
      "image/png": "[encoded data removed]",
      "text/plain": [
       "<Figure size 640x480 with 1 Axes>"
      ]
     },
     "metadata": {},
     "output_type": "display_data"
    }
   ],
   "source": [
    "# let's make a histogram of price\n",
    "df.price.hist(bins=50) # so we can see the distribution of prices\n",
    "# we can also use matplotlib to plot the histogram"
   ]
  },
  {
   "cell_type": "code",
   "execution_count": 95,
   "metadata": {},
   "outputs": [
    {
     "data": {
      "text/html": [
       "<div>\n",
       "<style scoped>\n",
       "    .dataframe tbody tr th:only-of-type {\n",
       "        vertical-align: middle;\n",
       "    }\n",
       "\n",
       "    .dataframe tbody tr th {\n",
       "        vertical-align: top;\n",
       "    }\n",
       "\n",
       "    .dataframe thead th {\n",
       "        text-align: right;\n",
       "    }\n",
       "</style>\n",
       "<table border=\"1\" class=\"dataframe\">\n",
       "  <thead>\n",
       "    <tr style=\"text-align: right;\">\n",
       "      <th></th>\n",
       "      <th>description</th>\n",
       "      <th>url</th>\n",
       "      <th>Iela</th>\n",
       "      <th>Ist.</th>\n",
       "      <th>m2</th>\n",
       "      <th>Stāvs</th>\n",
       "      <th>Sērija</th>\n",
       "      <th>Cena, m2</th>\n",
       "      <th>Cena</th>\n",
       "      <th>Floor</th>\n",
       "      <th>MaxFloor</th>\n",
       "      <th>price</th>\n",
       "      <th>is_daily</th>\n",
       "    </tr>\n",
       "  </thead>\n",
       "  <tbody>\n",
       "    <tr>\n",
       "      <th>162</th>\n",
       "      <td>Izīrē 1-istabas dzīvoklīti ar malkas apkuri, s...</td>\n",
       "      <td>https://ss.com/msg/lv/real-estate/flats/riga/c...</td>\n",
       "      <td>Matīsa 137A</td>\n",
       "      <td>1</td>\n",
       "      <td>28</td>\n",
       "      <td>2/4</td>\n",
       "      <td>Priv. m.</td>\n",
       "      <td>5.71 €</td>\n",
       "      <td>160  €/mēn.</td>\n",
       "      <td>2</td>\n",
       "      <td>4</td>\n",
       "      <td>160</td>\n",
       "      <td>False</td>\n",
       "    </tr>\n",
       "    <tr>\n",
       "      <th>111</th>\n",
       "      <td>For one female tenant one large light room ava...</td>\n",
       "      <td>https://ss.com/msg/lv/real-estate/flats/riga/c...</td>\n",
       "      <td>Lāčplēša 25</td>\n",
       "      <td>1</td>\n",
       "      <td>25</td>\n",
       "      <td>4/5</td>\n",
       "      <td>Staļina</td>\n",
       "      <td>7 €</td>\n",
       "      <td>175  €/mēn.</td>\n",
       "      <td>4</td>\n",
       "      <td>5</td>\n",
       "      <td>175</td>\n",
       "      <td>False</td>\n",
       "    </tr>\n",
       "    <tr>\n",
       "      <th>70</th>\n",
       "      <td>Izīrējam lieliskus un plašus apartamentus ar ļ...</td>\n",
       "      <td>https://ss.com/msg/lv/real-estate/flats/riga/c...</td>\n",
       "      <td>Ausekļa 4</td>\n",
       "      <td>4</td>\n",
       "      <td>125</td>\n",
       "      <td>6/7</td>\n",
       "      <td>Jaun.</td>\n",
       "      <td>20 €</td>\n",
       "      <td>2,500  €/mēn.</td>\n",
       "      <td>6</td>\n",
       "      <td>7</td>\n",
       "      <td>2500</td>\n",
       "      <td>False</td>\n",
       "    </tr>\n",
       "    <tr>\n",
       "      <th>352</th>\n",
       "      <td>Projekts - Centra Nams, jaunceltne, labiekārto...</td>\n",
       "      <td>https://ss.com/msg/lv/real-estate/flats/riga/c...</td>\n",
       "      <td>Republikas laukums..</td>\n",
       "      <td>2</td>\n",
       "      <td>68</td>\n",
       "      <td>4/7</td>\n",
       "      <td>Jaun.</td>\n",
       "      <td>16.18 €</td>\n",
       "      <td>1,100  €/mēn.</td>\n",
       "      <td>4</td>\n",
       "      <td>7</td>\n",
       "      <td>1100</td>\n",
       "      <td>False</td>\n",
       "    </tr>\n",
       "    <tr>\n",
       "      <th>474</th>\n",
       "      <td>Izīrē modernu, mājīgu, klusu, siltu 2 istabu d...</td>\n",
       "      <td>https://ss.com/msg/lv/real-estate/flats/riga/c...</td>\n",
       "      <td>Ģertrūdes 99</td>\n",
       "      <td>2</td>\n",
       "      <td>45</td>\n",
       "      <td>1/6</td>\n",
       "      <td>Renov.</td>\n",
       "      <td>1 €</td>\n",
       "      <td>45  €/dienā</td>\n",
       "      <td>1</td>\n",
       "      <td>6</td>\n",
       "      <td>45</td>\n",
       "      <td>True</td>\n",
       "    </tr>\n",
       "    <tr>\n",
       "      <th>36</th>\n",
       "      <td>Piedāvājam ilgtermiņa īrei - plašu divistabu d...</td>\n",
       "      <td>https://ss.com/msg/lv/real-estate/flats/riga/c...</td>\n",
       "      <td>Etnas 6</td>\n",
       "      <td>2</td>\n",
       "      <td>57</td>\n",
       "      <td>3/6</td>\n",
       "      <td>Specpr.</td>\n",
       "      <td>7.72 €</td>\n",
       "      <td>440  €/mēn.</td>\n",
       "      <td>3</td>\n",
       "      <td>6</td>\n",
       "      <td>440</td>\n",
       "      <td>False</td>\n",
       "    </tr>\n",
       "    <tr>\n",
       "      <th>206</th>\n",
       "      <td>2 взрослых. Цена проживания 60 евро за одну но...</td>\n",
       "      <td>https://ss.com/msg/lv/real-estate/flats/riga/c...</td>\n",
       "      <td>Elizabetes 22</td>\n",
       "      <td>2</td>\n",
       "      <td>32</td>\n",
       "      <td>2/5</td>\n",
       "      <td>Renov.</td>\n",
       "      <td>1.88 €</td>\n",
       "      <td>60  €/dienā</td>\n",
       "      <td>2</td>\n",
       "      <td>5</td>\n",
       "      <td>60</td>\n",
       "      <td>True</td>\n",
       "    </tr>\n",
       "    <tr>\n",
       "      <th>275</th>\n",
       "      <td>Tiek izīrēts gaišs, saulains 3- ist. dzīvoklis...</td>\n",
       "      <td>https://ss.com/msg/lv/real-estate/flats/riga/c...</td>\n",
       "      <td>Alūksnes 2</td>\n",
       "      <td>2</td>\n",
       "      <td>50</td>\n",
       "      <td>4/5</td>\n",
       "      <td>Staļina</td>\n",
       "      <td>9.80 €</td>\n",
       "      <td>490  €/mēn.</td>\n",
       "      <td>4</td>\n",
       "      <td>5</td>\n",
       "      <td>490</td>\n",
       "      <td>False</td>\n",
       "    </tr>\n",
       "    <tr>\n",
       "      <th>327</th>\n",
       "      <td>Saimnieks Izīrē dzīvokli. Silts 2 istabu dzīvo...</td>\n",
       "      <td>https://ss.com/msg/lv/real-estate/flats/riga/c...</td>\n",
       "      <td>Alberta 11</td>\n",
       "      <td>2</td>\n",
       "      <td>49</td>\n",
       "      <td>2/6</td>\n",
       "      <td>P. kara</td>\n",
       "      <td>5.92 €</td>\n",
       "      <td>290  €/mēn.</td>\n",
       "      <td>2</td>\n",
       "      <td>6</td>\n",
       "      <td>290</td>\n",
       "      <td>False</td>\n",
       "    </tr>\n",
       "    <tr>\n",
       "      <th>278</th>\n",
       "      <td>Piedāvāju īrei gaišu, plašu un pilnībā mēbelēt...</td>\n",
       "      <td>https://ss.com/msg/lv/real-estate/flats/riga/c...</td>\n",
       "      <td>Jēzusbaznīcas 7a</td>\n",
       "      <td>2</td>\n",
       "      <td>44</td>\n",
       "      <td>3/3</td>\n",
       "      <td>Specpr.</td>\n",
       "      <td>11.36 €</td>\n",
       "      <td>500  €/mēn.</td>\n",
       "      <td>3</td>\n",
       "      <td>3</td>\n",
       "      <td>500</td>\n",
       "      <td>False</td>\n",
       "    </tr>\n",
       "  </tbody>\n",
       "</table>\n",
       "</div>"
      ],
      "text/plain": [
       "                                           description  \\\n",
       "162  Izīrē 1-istabas dzīvoklīti ar malkas apkuri, s...   \n",
       "111  For one female tenant one large light room ava...   \n",
       "70   Izīrējam lieliskus un plašus apartamentus ar ļ...   \n",
       "352  Projekts - Centra Nams, jaunceltne, labiekārto...   \n",
       "474  Izīrē modernu, mājīgu, klusu, siltu 2 istabu d...   \n",
       "36   Piedāvājam ilgtermiņa īrei - plašu divistabu d...   \n",
       "206  2 взрослых. Цена проживания 60 евро за одну но...   \n",
       "275  Tiek izīrēts gaišs, saulains 3- ist. dzīvoklis...   \n",
       "327  Saimnieks Izīrē dzīvokli. Silts 2 istabu dzīvo...   \n",
       "278  Piedāvāju īrei gaišu, plašu un pilnībā mēbelēt...   \n",
       "\n",
       "                                                   url                  Iela  \\\n",
       "162  https://ss.com/msg/lv/real-estate/flats/riga/c...           Matīsa 137A   \n",
       "111  https://ss.com/msg/lv/real-estate/flats/riga/c...           Lāčplēša 25   \n",
       "70   https://ss.com/msg/lv/real-estate/flats/riga/c...             Ausekļa 4   \n",
       "352  https://ss.com/msg/lv/real-estate/flats/riga/c...  Republikas laukums..   \n",
       "474  https://ss.com/msg/lv/real-estate/flats/riga/c...          Ģertrūdes 99   \n",
       "36   https://ss.com/msg/lv/real-estate/flats/riga/c...               Etnas 6   \n",
       "206  https://ss.com/msg/lv/real-estate/flats/riga/c...         Elizabetes 22   \n",
       "275  https://ss.com/msg/lv/real-estate/flats/riga/c...            Alūksnes 2   \n",
       "327  https://ss.com/msg/lv/real-estate/flats/riga/c...            Alberta 11   \n",
       "278  https://ss.com/msg/lv/real-estate/flats/riga/c...      Jēzusbaznīcas 7a   \n",
       "\n",
       "    Ist.   m2 Stāvs    Sērija Cena, m2           Cena  Floor  MaxFloor  price  \\\n",
       "162    1   28   2/4  Priv. m.   5.71 €    160  €/mēn.      2         4    160   \n",
       "111    1   25   4/5   Staļina      7 €    175  €/mēn.      4         5    175   \n",
       "70     4  125   6/7     Jaun.     20 €  2,500  €/mēn.      6         7   2500   \n",
       "352    2   68   4/7     Jaun.  16.18 €  1,100  €/mēn.      4         7   1100   \n",
       "474    2   45   1/6    Renov.      1 €    45  €/dienā      1         6     45   \n",
       "36     2   57   3/6   Specpr.   7.72 €    440  €/mēn.      3         6    440   \n",
       "206    2   32   2/5    Renov.   1.88 €    60  €/dienā      2         5     60   \n",
       "275    2   50   4/5   Staļina   9.80 €    490  €/mēn.      4         5    490   \n",
       "327    2   49   2/6   P. kara   5.92 €    290  €/mēn.      2         6    290   \n",
       "278    2   44   3/3   Specpr.  11.36 €    500  €/mēn.      3         3    500   \n",
       "\n",
       "     is_daily  \n",
       "162     False  \n",
       "111     False  \n",
       "70      False  \n",
       "352     False  \n",
       "474      True  \n",
       "36      False  \n",
       "206      True  \n",
       "275     False  \n",
       "327     False  \n",
       "278     False  "
      ]
     },
     "execution_count": 95,
     "metadata": {},
     "output_type": "execute_result"
    }
   ],
   "source": [
    "# let's make a boolean column is_daily checking whether Cena columns contains \"dien\"\n",
    "df[\"is_daily\"] = df.Cena.str.contains(\"dien\") # so we can use str.contains to check if string contains \"dien\"\n",
    "df.sample(10)"
   ]
  },
  {
   "cell_type": "code",
   "execution_count": 96,
   "metadata": {},
   "outputs": [
    {
     "data": {
      "text/html": [
       "<div>\n",
       "<style scoped>\n",
       "    .dataframe tbody tr th:only-of-type {\n",
       "        vertical-align: middle;\n",
       "    }\n",
       "\n",
       "    .dataframe tbody tr th {\n",
       "        vertical-align: top;\n",
       "    }\n",
       "\n",
       "    .dataframe thead th {\n",
       "        text-align: right;\n",
       "    }\n",
       "</style>\n",
       "<table border=\"1\" class=\"dataframe\">\n",
       "  <thead>\n",
       "    <tr style=\"text-align: right;\">\n",
       "      <th></th>\n",
       "      <th>description</th>\n",
       "      <th>url</th>\n",
       "      <th>Iela</th>\n",
       "      <th>Ist.</th>\n",
       "      <th>m2</th>\n",
       "      <th>Stāvs</th>\n",
       "      <th>Sērija</th>\n",
       "      <th>Cena, m2</th>\n",
       "      <th>Cena</th>\n",
       "      <th>Floor</th>\n",
       "      <th>MaxFloor</th>\n",
       "      <th>price</th>\n",
       "      <th>is_daily</th>\n",
       "      <th>monthly_price</th>\n",
       "    </tr>\n",
       "  </thead>\n",
       "  <tbody>\n",
       "    <tr>\n",
       "      <th>0</th>\n",
       "      <td>Saimnieks uz ilgāku laiku izīrē divistabu dzīv...</td>\n",
       "      <td>https://ss.com/msg/lv/real-estate/flats/riga/c...</td>\n",
       "      <td>Zaļā 7</td>\n",
       "      <td>2</td>\n",
       "      <td>63</td>\n",
       "      <td>2/4</td>\n",
       "      <td>P. kara</td>\n",
       "      <td>8.57 €</td>\n",
       "      <td>540  €/mēn.</td>\n",
       "      <td>2</td>\n",
       "      <td>4</td>\n",
       "      <td>540</td>\n",
       "      <td>False</td>\n",
       "      <td>540</td>\n",
       "    </tr>\n",
       "    <tr>\n",
       "      <th>1</th>\n",
       "      <td>Īpašnieks izīrē modernu 2 istabu dzīvokli fasā...</td>\n",
       "      <td>https://ss.com/msg/lv/real-estate/flats/riga/c...</td>\n",
       "      <td>Bruņinieku 73A</td>\n",
       "      <td>2</td>\n",
       "      <td>50</td>\n",
       "      <td>1/4</td>\n",
       "      <td>P. kara</td>\n",
       "      <td>9.60 €</td>\n",
       "      <td>480  €/mēn.</td>\n",
       "      <td>1</td>\n",
       "      <td>4</td>\n",
       "      <td>480</td>\n",
       "      <td>False</td>\n",
       "      <td>480</td>\n",
       "    </tr>\n",
       "    <tr>\n",
       "      <th>2</th>\n",
       "      <td>Pašā pilsētas centrā iepretim cirkam tiek pied...</td>\n",
       "      <td>https://ss.com/msg/lv/real-estate/flats/riga/c...</td>\n",
       "      <td>Merķeļa 7</td>\n",
       "      <td>1</td>\n",
       "      <td>30</td>\n",
       "      <td>4/4</td>\n",
       "      <td>P. kara</td>\n",
       "      <td>11.33 €</td>\n",
       "      <td>340  €/mēn.</td>\n",
       "      <td>4</td>\n",
       "      <td>4</td>\n",
       "      <td>340</td>\n",
       "      <td>False</td>\n",
       "      <td>340</td>\n",
       "    </tr>\n",
       "    <tr>\n",
       "      <th>3</th>\n",
       "      <td>Pašā pilsētas centrā iepretim cirkam tiek pied...</td>\n",
       "      <td>https://ss.com/msg/lv/real-estate/flats/riga/c...</td>\n",
       "      <td>Merķeļa 7</td>\n",
       "      <td>1</td>\n",
       "      <td>25</td>\n",
       "      <td>4/4</td>\n",
       "      <td>P. kara</td>\n",
       "      <td>12.80 €</td>\n",
       "      <td>320  €/mēn.</td>\n",
       "      <td>4</td>\n",
       "      <td>4</td>\n",
       "      <td>320</td>\n",
       "      <td>False</td>\n",
       "      <td>320</td>\n",
       "    </tr>\n",
       "    <tr>\n",
       "      <th>4</th>\n",
       "      <td>Pilnīgi jauns 2 istabu dzīvoklis jaunajā proje...</td>\n",
       "      <td>https://ss.com/msg/lv/real-estate/flats/riga/c...</td>\n",
       "      <td>Elijas 26</td>\n",
       "      <td>2</td>\n",
       "      <td>60</td>\n",
       "      <td>4/5</td>\n",
       "      <td>Jaun.</td>\n",
       "      <td>18.33 €</td>\n",
       "      <td>1,100  €/mēn.</td>\n",
       "      <td>4</td>\n",
       "      <td>5</td>\n",
       "      <td>1100</td>\n",
       "      <td>False</td>\n",
       "      <td>1100</td>\n",
       "    </tr>\n",
       "  </tbody>\n",
       "</table>\n",
       "</div>"
      ],
      "text/plain": [
       "                                         description  \\\n",
       "0  Saimnieks uz ilgāku laiku izīrē divistabu dzīv...   \n",
       "1  Īpašnieks izīrē modernu 2 istabu dzīvokli fasā...   \n",
       "2  Pašā pilsētas centrā iepretim cirkam tiek pied...   \n",
       "3  Pašā pilsētas centrā iepretim cirkam tiek pied...   \n",
       "4  Pilnīgi jauns 2 istabu dzīvoklis jaunajā proje...   \n",
       "\n",
       "                                                 url            Iela Ist.  m2  \\\n",
       "0  https://ss.com/msg/lv/real-estate/flats/riga/c...          Zaļā 7    2  63   \n",
       "1  https://ss.com/msg/lv/real-estate/flats/riga/c...  Bruņinieku 73A    2  50   \n",
       "2  https://ss.com/msg/lv/real-estate/flats/riga/c...       Merķeļa 7    1  30   \n",
       "3  https://ss.com/msg/lv/real-estate/flats/riga/c...       Merķeļa 7    1  25   \n",
       "4  https://ss.com/msg/lv/real-estate/flats/riga/c...       Elijas 26    2  60   \n",
       "\n",
       "  Stāvs   Sērija Cena, m2           Cena  Floor  MaxFloor  price  is_daily  \\\n",
       "0   2/4  P. kara   8.57 €    540  €/mēn.      2         4    540     False   \n",
       "1   1/4  P. kara   9.60 €    480  €/mēn.      1         4    480     False   \n",
       "2   4/4  P. kara  11.33 €    340  €/mēn.      4         4    340     False   \n",
       "3   4/4  P. kara  12.80 €    320  €/mēn.      4         4    320     False   \n",
       "4   4/5    Jaun.  18.33 €  1,100  €/mēn.      4         5   1100     False   \n",
       "\n",
       "   monthly_price  \n",
       "0            540  \n",
       "1            480  \n",
       "2            340  \n",
       "3            320  \n",
       "4           1100  "
      ]
     },
     "execution_count": 96,
     "metadata": {},
     "output_type": "execute_result"
    }
   ],
   "source": [
    "# let's make a new column called monthly_price\n",
    "# it will use price and is_daily columns to calculate the monthly price\n",
    "# if is_daily is True then we multiply price by 30 else we just use price\n",
    "df[\"monthly_price\"] = df.apply(lambda x: x.price*30 if x.is_daily else x.price, axis=1) # so we can use apply to apply a function to each row\n",
    "# axis=1 means we are applying to rows, axis=0 would mean columns\n",
    "df.head()"
   ]
  },
  {
   "cell_type": "code",
   "execution_count": 97,
   "metadata": {},
   "outputs": [
    {
     "data": {
      "text/html": [
       "<div>\n",
       "<style scoped>\n",
       "    .dataframe tbody tr th:only-of-type {\n",
       "        vertical-align: middle;\n",
       "    }\n",
       "\n",
       "    .dataframe tbody tr th {\n",
       "        vertical-align: top;\n",
       "    }\n",
       "\n",
       "    .dataframe thead th {\n",
       "        text-align: right;\n",
       "    }\n",
       "</style>\n",
       "<table border=\"1\" class=\"dataframe\">\n",
       "  <thead>\n",
       "    <tr style=\"text-align: right;\">\n",
       "      <th></th>\n",
       "      <th>description</th>\n",
       "      <th>url</th>\n",
       "      <th>Iela</th>\n",
       "      <th>Ist.</th>\n",
       "      <th>m2</th>\n",
       "      <th>Stāvs</th>\n",
       "      <th>Sērija</th>\n",
       "      <th>Cena, m2</th>\n",
       "      <th>Cena</th>\n",
       "      <th>Floor</th>\n",
       "      <th>MaxFloor</th>\n",
       "      <th>price</th>\n",
       "      <th>is_daily</th>\n",
       "      <th>monthly_price</th>\n",
       "      <th>also_monthly_price</th>\n",
       "    </tr>\n",
       "  </thead>\n",
       "  <tbody>\n",
       "    <tr>\n",
       "      <th>0</th>\n",
       "      <td>Saimnieks uz ilgāku laiku izīrē divistabu dzīv...</td>\n",
       "      <td>https://ss.com/msg/lv/real-estate/flats/riga/c...</td>\n",
       "      <td>Zaļā 7</td>\n",
       "      <td>2</td>\n",
       "      <td>63</td>\n",
       "      <td>2/4</td>\n",
       "      <td>P. kara</td>\n",
       "      <td>8.57 €</td>\n",
       "      <td>540  €/mēn.</td>\n",
       "      <td>2</td>\n",
       "      <td>4</td>\n",
       "      <td>540</td>\n",
       "      <td>False</td>\n",
       "      <td>540</td>\n",
       "      <td>540</td>\n",
       "    </tr>\n",
       "    <tr>\n",
       "      <th>1</th>\n",
       "      <td>Īpašnieks izīrē modernu 2 istabu dzīvokli fasā...</td>\n",
       "      <td>https://ss.com/msg/lv/real-estate/flats/riga/c...</td>\n",
       "      <td>Bruņinieku 73A</td>\n",
       "      <td>2</td>\n",
       "      <td>50</td>\n",
       "      <td>1/4</td>\n",
       "      <td>P. kara</td>\n",
       "      <td>9.60 €</td>\n",
       "      <td>480  €/mēn.</td>\n",
       "      <td>1</td>\n",
       "      <td>4</td>\n",
       "      <td>480</td>\n",
       "      <td>False</td>\n",
       "      <td>480</td>\n",
       "      <td>480</td>\n",
       "    </tr>\n",
       "    <tr>\n",
       "      <th>2</th>\n",
       "      <td>Pašā pilsētas centrā iepretim cirkam tiek pied...</td>\n",
       "      <td>https://ss.com/msg/lv/real-estate/flats/riga/c...</td>\n",
       "      <td>Merķeļa 7</td>\n",
       "      <td>1</td>\n",
       "      <td>30</td>\n",
       "      <td>4/4</td>\n",
       "      <td>P. kara</td>\n",
       "      <td>11.33 €</td>\n",
       "      <td>340  €/mēn.</td>\n",
       "      <td>4</td>\n",
       "      <td>4</td>\n",
       "      <td>340</td>\n",
       "      <td>False</td>\n",
       "      <td>340</td>\n",
       "      <td>340</td>\n",
       "    </tr>\n",
       "    <tr>\n",
       "      <th>3</th>\n",
       "      <td>Pašā pilsētas centrā iepretim cirkam tiek pied...</td>\n",
       "      <td>https://ss.com/msg/lv/real-estate/flats/riga/c...</td>\n",
       "      <td>Merķeļa 7</td>\n",
       "      <td>1</td>\n",
       "      <td>25</td>\n",
       "      <td>4/4</td>\n",
       "      <td>P. kara</td>\n",
       "      <td>12.80 €</td>\n",
       "      <td>320  €/mēn.</td>\n",
       "      <td>4</td>\n",
       "      <td>4</td>\n",
       "      <td>320</td>\n",
       "      <td>False</td>\n",
       "      <td>320</td>\n",
       "      <td>320</td>\n",
       "    </tr>\n",
       "    <tr>\n",
       "      <th>4</th>\n",
       "      <td>Pilnīgi jauns 2 istabu dzīvoklis jaunajā proje...</td>\n",
       "      <td>https://ss.com/msg/lv/real-estate/flats/riga/c...</td>\n",
       "      <td>Elijas 26</td>\n",
       "      <td>2</td>\n",
       "      <td>60</td>\n",
       "      <td>4/5</td>\n",
       "      <td>Jaun.</td>\n",
       "      <td>18.33 €</td>\n",
       "      <td>1,100  €/mēn.</td>\n",
       "      <td>4</td>\n",
       "      <td>5</td>\n",
       "      <td>1100</td>\n",
       "      <td>False</td>\n",
       "      <td>1100</td>\n",
       "      <td>1100</td>\n",
       "    </tr>\n",
       "  </tbody>\n",
       "</table>\n",
       "</div>"
      ],
      "text/plain": [
       "                                         description  \\\n",
       "0  Saimnieks uz ilgāku laiku izīrē divistabu dzīv...   \n",
       "1  Īpašnieks izīrē modernu 2 istabu dzīvokli fasā...   \n",
       "2  Pašā pilsētas centrā iepretim cirkam tiek pied...   \n",
       "3  Pašā pilsētas centrā iepretim cirkam tiek pied...   \n",
       "4  Pilnīgi jauns 2 istabu dzīvoklis jaunajā proje...   \n",
       "\n",
       "                                                 url            Iela Ist.  m2  \\\n",
       "0  https://ss.com/msg/lv/real-estate/flats/riga/c...          Zaļā 7    2  63   \n",
       "1  https://ss.com/msg/lv/real-estate/flats/riga/c...  Bruņinieku 73A    2  50   \n",
       "2  https://ss.com/msg/lv/real-estate/flats/riga/c...       Merķeļa 7    1  30   \n",
       "3  https://ss.com/msg/lv/real-estate/flats/riga/c...       Merķeļa 7    1  25   \n",
       "4  https://ss.com/msg/lv/real-estate/flats/riga/c...       Elijas 26    2  60   \n",
       "\n",
       "  Stāvs   Sērija Cena, m2           Cena  Floor  MaxFloor  price  is_daily  \\\n",
       "0   2/4  P. kara   8.57 €    540  €/mēn.      2         4    540     False   \n",
       "1   1/4  P. kara   9.60 €    480  €/mēn.      1         4    480     False   \n",
       "2   4/4  P. kara  11.33 €    340  €/mēn.      4         4    340     False   \n",
       "3   4/4  P. kara  12.80 €    320  €/mēn.      4         4    320     False   \n",
       "4   4/5    Jaun.  18.33 €  1,100  €/mēn.      4         5   1100     False   \n",
       "\n",
       "   monthly_price  also_monthly_price  \n",
       "0            540                 540  \n",
       "1            480                 480  \n",
       "2            340                 340  \n",
       "3            320                 320  \n",
       "4           1100                1100  "
      ]
     },
     "execution_count": 97,
     "metadata": {},
     "output_type": "execute_result"
    }
   ],
   "source": [
    "# instead of  using lambda I could have pre-made the function\n",
    "def get_monthly_price(row):\n",
    "    if row.is_daily:\n",
    "        return row.price*30\n",
    "    else:\n",
    "        return row.price\n",
    "\n",
    "# so apply is like running a for loop on each row and applying the function to each row\n",
    "df[\"also_monthly_price\"] = df.apply(get_monthly_price, axis=1) # so we can use apply to apply a function to each row\n",
    "df.head()"
   ]
  },
  {
   "cell_type": "code",
   "execution_count": 98,
   "metadata": {},
   "outputs": [
    {
     "data": {
      "text/html": [
       "<div>\n",
       "<style scoped>\n",
       "    .dataframe tbody tr th:only-of-type {\n",
       "        vertical-align: middle;\n",
       "    }\n",
       "\n",
       "    .dataframe tbody tr th {\n",
       "        vertical-align: top;\n",
       "    }\n",
       "\n",
       "    .dataframe thead th {\n",
       "        text-align: right;\n",
       "    }\n",
       "</style>\n",
       "<table border=\"1\" class=\"dataframe\">\n",
       "  <thead>\n",
       "    <tr style=\"text-align: right;\">\n",
       "      <th></th>\n",
       "      <th>Floor</th>\n",
       "      <th>MaxFloor</th>\n",
       "      <th>price</th>\n",
       "      <th>monthly_price</th>\n",
       "      <th>also_monthly_price</th>\n",
       "    </tr>\n",
       "  </thead>\n",
       "  <tbody>\n",
       "    <tr>\n",
       "      <th>count</th>\n",
       "      <td>520.000000</td>\n",
       "      <td>520.000000</td>\n",
       "      <td>520.000000</td>\n",
       "      <td>520.000000</td>\n",
       "      <td>520.000000</td>\n",
       "    </tr>\n",
       "    <tr>\n",
       "      <th>mean</th>\n",
       "      <td>3.346154</td>\n",
       "      <td>5.675000</td>\n",
       "      <td>650.767308</td>\n",
       "      <td>879.030769</td>\n",
       "      <td>879.030769</td>\n",
       "    </tr>\n",
       "    <tr>\n",
       "      <th>std</th>\n",
       "      <td>2.276500</td>\n",
       "      <td>2.990053</td>\n",
       "      <td>721.005104</td>\n",
       "      <td>719.242322</td>\n",
       "      <td>719.242322</td>\n",
       "    </tr>\n",
       "    <tr>\n",
       "      <th>min</th>\n",
       "      <td>1.000000</td>\n",
       "      <td>1.000000</td>\n",
       "      <td>15.000000</td>\n",
       "      <td>50.000000</td>\n",
       "      <td>50.000000</td>\n",
       "    </tr>\n",
       "    <tr>\n",
       "      <th>25%</th>\n",
       "      <td>2.000000</td>\n",
       "      <td>5.000000</td>\n",
       "      <td>270.000000</td>\n",
       "      <td>399.750000</td>\n",
       "      <td>399.750000</td>\n",
       "    </tr>\n",
       "    <tr>\n",
       "      <th>50%</th>\n",
       "      <td>3.000000</td>\n",
       "      <td>5.000000</td>\n",
       "      <td>455.000000</td>\n",
       "      <td>650.000000</td>\n",
       "      <td>650.000000</td>\n",
       "    </tr>\n",
       "    <tr>\n",
       "      <th>75%</th>\n",
       "      <td>4.000000</td>\n",
       "      <td>6.000000</td>\n",
       "      <td>792.500000</td>\n",
       "      <td>1112.500000</td>\n",
       "      <td>1112.500000</td>\n",
       "    </tr>\n",
       "    <tr>\n",
       "      <th>max</th>\n",
       "      <td>23.000000</td>\n",
       "      <td>42.000000</td>\n",
       "      <td>5980.000000</td>\n",
       "      <td>5980.000000</td>\n",
       "      <td>5980.000000</td>\n",
       "    </tr>\n",
       "  </tbody>\n",
       "</table>\n",
       "</div>"
      ],
      "text/plain": [
       "            Floor    MaxFloor        price  monthly_price  also_monthly_price\n",
       "count  520.000000  520.000000   520.000000     520.000000          520.000000\n",
       "mean     3.346154    5.675000   650.767308     879.030769          879.030769\n",
       "std      2.276500    2.990053   721.005104     719.242322          719.242322\n",
       "min      1.000000    1.000000    15.000000      50.000000           50.000000\n",
       "25%      2.000000    5.000000   270.000000     399.750000          399.750000\n",
       "50%      3.000000    5.000000   455.000000     650.000000          650.000000\n",
       "75%      4.000000    6.000000   792.500000    1112.500000         1112.500000\n",
       "max     23.000000   42.000000  5980.000000    5980.000000         5980.000000"
      ]
     },
     "execution_count": 98,
     "metadata": {},
     "output_type": "execute_result"
    }
   ],
   "source": [
    "# let's describe again\n",
    "df.describe() # so we get some basic statistics about our dataframe"
   ]
  },
  {
   "cell_type": "code",
   "execution_count": 99,
   "metadata": {},
   "outputs": [
    {
     "data": {
      "text/html": [
       "<div>\n",
       "<style scoped>\n",
       "    .dataframe tbody tr th:only-of-type {\n",
       "        vertical-align: middle;\n",
       "    }\n",
       "\n",
       "    .dataframe tbody tr th {\n",
       "        vertical-align: top;\n",
       "    }\n",
       "\n",
       "    .dataframe thead th {\n",
       "        text-align: right;\n",
       "    }\n",
       "</style>\n",
       "<table border=\"1\" class=\"dataframe\">\n",
       "  <thead>\n",
       "    <tr style=\"text-align: right;\">\n",
       "      <th></th>\n",
       "      <th>description</th>\n",
       "      <th>url</th>\n",
       "      <th>Iela</th>\n",
       "      <th>Ist.</th>\n",
       "      <th>m2</th>\n",
       "      <th>Stāvs</th>\n",
       "      <th>Sērija</th>\n",
       "      <th>Cena, m2</th>\n",
       "      <th>Cena</th>\n",
       "      <th>Floor</th>\n",
       "      <th>MaxFloor</th>\n",
       "      <th>price</th>\n",
       "      <th>is_daily</th>\n",
       "      <th>monthly_price</th>\n",
       "      <th>also_monthly_price</th>\n",
       "    </tr>\n",
       "  </thead>\n",
       "  <tbody>\n",
       "    <tr>\n",
       "      <th>490</th>\n",
       "      <td>Hostelis Rix klientiem piedāvā mājīgas 2-vietī...</td>\n",
       "      <td>https://ss.com/msg/lv/real-estate/flats/riga/c...</td>\n",
       "      <td>Merķeļa 1</td>\n",
       "      <td>6</td>\n",
       "      <td>300</td>\n",
       "      <td>1/5</td>\n",
       "      <td>Priv. m.</td>\n",
       "      <td>0.167 €</td>\n",
       "      <td>50  €/ned.</td>\n",
       "      <td>1</td>\n",
       "      <td>5</td>\n",
       "      <td>50</td>\n",
       "      <td>False</td>\n",
       "      <td>50</td>\n",
       "      <td>50</td>\n",
       "    </tr>\n",
       "    <tr>\n",
       "      <th>191</th>\n",
       "      <td>Izīrē 1-istabas dzīvoklīti ar malkas apkuri, k...</td>\n",
       "      <td>https://ss.com/msg/lv/real-estate/flats/riga/c...</td>\n",
       "      <td>Valmieras 49</td>\n",
       "      <td>1</td>\n",
       "      <td>28</td>\n",
       "      <td>4/4</td>\n",
       "      <td>Priv. m.</td>\n",
       "      <td>5.18 €</td>\n",
       "      <td>145  €/mēn.</td>\n",
       "      <td>4</td>\n",
       "      <td>4</td>\n",
       "      <td>145</td>\n",
       "      <td>False</td>\n",
       "      <td>145</td>\n",
       "      <td>145</td>\n",
       "    </tr>\n",
       "    <tr>\n",
       "      <th>405</th>\n",
       "      <td>Сдаётся комната на длительный период в 4х комн...</td>\n",
       "      <td>https://ss.com/msg/lv/real-estate/flats/riga/c...</td>\n",
       "      <td>Merķeļa 3</td>\n",
       "      <td>1</td>\n",
       "      <td>25</td>\n",
       "      <td>3/5</td>\n",
       "      <td>P. kara</td>\n",
       "      <td>6 €</td>\n",
       "      <td>150  €/mēn.</td>\n",
       "      <td>3</td>\n",
       "      <td>5</td>\n",
       "      <td>150</td>\n",
       "      <td>False</td>\n",
       "      <td>150</td>\n",
       "      <td>150</td>\n",
       "    </tr>\n",
       "    <tr>\n",
       "      <th>150</th>\n",
       "      <td>Nepieciešams remonts. Dzīvoklis vienā no Rīgas...</td>\n",
       "      <td>https://ss.com/msg/lv/real-estate/flats/riga/c...</td>\n",
       "      <td>Miera 101</td>\n",
       "      <td>2</td>\n",
       "      <td>39</td>\n",
       "      <td>3/5</td>\n",
       "      <td>P. kara</td>\n",
       "      <td>3.97 €</td>\n",
       "      <td>155  €/mēn.</td>\n",
       "      <td>3</td>\n",
       "      <td>5</td>\n",
       "      <td>155</td>\n",
       "      <td>False</td>\n",
       "      <td>155</td>\n",
       "      <td>155</td>\n",
       "    </tr>\n",
       "    <tr>\n",
       "      <th>162</th>\n",
       "      <td>Izīrē 1-istabas dzīvoklīti ar malkas apkuri, s...</td>\n",
       "      <td>https://ss.com/msg/lv/real-estate/flats/riga/c...</td>\n",
       "      <td>Matīsa 137A</td>\n",
       "      <td>1</td>\n",
       "      <td>28</td>\n",
       "      <td>2/4</td>\n",
       "      <td>Priv. m.</td>\n",
       "      <td>5.71 €</td>\n",
       "      <td>160  €/mēn.</td>\n",
       "      <td>2</td>\n",
       "      <td>4</td>\n",
       "      <td>160</td>\n",
       "      <td>False</td>\n",
       "      <td>160</td>\n",
       "      <td>160</td>\n",
       "    </tr>\n",
       "    <tr>\n",
       "      <th>174</th>\n",
       "      <td>Īpašnieks ilgtermiņā izīrē dzīvokli ar daļējām...</td>\n",
       "      <td>https://ss.com/msg/lv/real-estate/flats/riga/c...</td>\n",
       "      <td>Krasta 2</td>\n",
       "      <td>1</td>\n",
       "      <td>25</td>\n",
       "      <td>3/5</td>\n",
       "      <td>P. kara</td>\n",
       "      <td>6.40 €</td>\n",
       "      <td>160  €/mēn.</td>\n",
       "      <td>3</td>\n",
       "      <td>5</td>\n",
       "      <td>160</td>\n",
       "      <td>False</td>\n",
       "      <td>160</td>\n",
       "      <td>160</td>\n",
       "    </tr>\n",
       "    <tr>\n",
       "      <th>219</th>\n",
       "      <td>Tiek izīrēts 1- istabas dzīvoklis ar centrālo ...</td>\n",
       "      <td>https://ss.com/msg/lv/real-estate/flats/riga/c...</td>\n",
       "      <td>Bruņinieku 115С</td>\n",
       "      <td>1</td>\n",
       "      <td>20</td>\n",
       "      <td>4/5</td>\n",
       "      <td>Renov.</td>\n",
       "      <td>8.25 €</td>\n",
       "      <td>165  €/mēn.</td>\n",
       "      <td>4</td>\n",
       "      <td>5</td>\n",
       "      <td>165</td>\n",
       "      <td>False</td>\n",
       "      <td>165</td>\n",
       "      <td>165</td>\n",
       "    </tr>\n",
       "    <tr>\n",
       "      <th>44</th>\n",
       "      <td>Tiek izīrēts 1-istabas dzīvoklis centrā, stikl...</td>\n",
       "      <td>https://ss.com/msg/lv/real-estate/flats/riga/c...</td>\n",
       "      <td>Ģertrūdes 90</td>\n",
       "      <td>1</td>\n",
       "      <td>34</td>\n",
       "      <td>5/6</td>\n",
       "      <td>P. kara</td>\n",
       "      <td>5 €</td>\n",
       "      <td>170  €/mēn.</td>\n",
       "      <td>5</td>\n",
       "      <td>6</td>\n",
       "      <td>170</td>\n",
       "      <td>False</td>\n",
       "      <td>170</td>\n",
       "      <td>170</td>\n",
       "    </tr>\n",
       "    <tr>\n",
       "      <th>253</th>\n",
       "      <td>Izīrēšu 1 istabu (2 istabu dzīvoklī) 10min gāj...</td>\n",
       "      <td>https://ss.com/msg/lv/real-estate/flats/riga/c...</td>\n",
       "      <td>Sadovņikova 21</td>\n",
       "      <td>1</td>\n",
       "      <td>21</td>\n",
       "      <td>5/6</td>\n",
       "      <td>Specpr.</td>\n",
       "      <td>8.10 €</td>\n",
       "      <td>170  €/mēn.</td>\n",
       "      <td>5</td>\n",
       "      <td>6</td>\n",
       "      <td>170</td>\n",
       "      <td>False</td>\n",
       "      <td>170</td>\n",
       "      <td>170</td>\n",
       "    </tr>\n",
       "    <tr>\n",
       "      <th>27</th>\n",
       "      <td>Izīrē istabu (tās sastāv 2 mazām istabiņām, ku...</td>\n",
       "      <td>https://ss.com/msg/lv/real-estate/flats/riga/c...</td>\n",
       "      <td>Marijas 19</td>\n",
       "      <td>1</td>\n",
       "      <td>25</td>\n",
       "      <td>5/5</td>\n",
       "      <td>P. kara</td>\n",
       "      <td>6.80 €</td>\n",
       "      <td>170  €/mēn.</td>\n",
       "      <td>5</td>\n",
       "      <td>5</td>\n",
       "      <td>170</td>\n",
       "      <td>False</td>\n",
       "      <td>170</td>\n",
       "      <td>170</td>\n",
       "    </tr>\n",
       "  </tbody>\n",
       "</table>\n",
       "</div>"
      ],
      "text/plain": [
       "                                           description  \\\n",
       "490  Hostelis Rix klientiem piedāvā mājīgas 2-vietī...   \n",
       "191  Izīrē 1-istabas dzīvoklīti ar malkas apkuri, k...   \n",
       "405  Сдаётся комната на длительный период в 4х комн...   \n",
       "150  Nepieciešams remonts. Dzīvoklis vienā no Rīgas...   \n",
       "162  Izīrē 1-istabas dzīvoklīti ar malkas apkuri, s...   \n",
       "174  Īpašnieks ilgtermiņā izīrē dzīvokli ar daļējām...   \n",
       "219  Tiek izīrēts 1- istabas dzīvoklis ar centrālo ...   \n",
       "44   Tiek izīrēts 1-istabas dzīvoklis centrā, stikl...   \n",
       "253  Izīrēšu 1 istabu (2 istabu dzīvoklī) 10min gāj...   \n",
       "27   Izīrē istabu (tās sastāv 2 mazām istabiņām, ku...   \n",
       "\n",
       "                                                   url             Iela Ist.  \\\n",
       "490  https://ss.com/msg/lv/real-estate/flats/riga/c...        Merķeļa 1    6   \n",
       "191  https://ss.com/msg/lv/real-estate/flats/riga/c...     Valmieras 49    1   \n",
       "405  https://ss.com/msg/lv/real-estate/flats/riga/c...        Merķeļa 3    1   \n",
       "150  https://ss.com/msg/lv/real-estate/flats/riga/c...        Miera 101    2   \n",
       "162  https://ss.com/msg/lv/real-estate/flats/riga/c...      Matīsa 137A    1   \n",
       "174  https://ss.com/msg/lv/real-estate/flats/riga/c...         Krasta 2    1   \n",
       "219  https://ss.com/msg/lv/real-estate/flats/riga/c...  Bruņinieku 115С    1   \n",
       "44   https://ss.com/msg/lv/real-estate/flats/riga/c...     Ģertrūdes 90    1   \n",
       "253  https://ss.com/msg/lv/real-estate/flats/riga/c...   Sadovņikova 21    1   \n",
       "27   https://ss.com/msg/lv/real-estate/flats/riga/c...       Marijas 19    1   \n",
       "\n",
       "      m2 Stāvs    Sērija Cena, m2         Cena  Floor  MaxFloor  price  \\\n",
       "490  300   1/5  Priv. m.  0.167 €   50  €/ned.      1         5     50   \n",
       "191   28   4/4  Priv. m.   5.18 €  145  €/mēn.      4         4    145   \n",
       "405   25   3/5   P. kara      6 €  150  €/mēn.      3         5    150   \n",
       "150   39   3/5   P. kara   3.97 €  155  €/mēn.      3         5    155   \n",
       "162   28   2/4  Priv. m.   5.71 €  160  €/mēn.      2         4    160   \n",
       "174   25   3/5   P. kara   6.40 €  160  €/mēn.      3         5    160   \n",
       "219   20   4/5    Renov.   8.25 €  165  €/mēn.      4         5    165   \n",
       "44    34   5/6   P. kara      5 €  170  €/mēn.      5         6    170   \n",
       "253   21   5/6   Specpr.   8.10 €  170  €/mēn.      5         6    170   \n",
       "27    25   5/5   P. kara   6.80 €  170  €/mēn.      5         5    170   \n",
       "\n",
       "     is_daily  monthly_price  also_monthly_price  \n",
       "490     False             50                  50  \n",
       "191     False            145                 145  \n",
       "405     False            150                 150  \n",
       "150     False            155                 155  \n",
       "162     False            160                 160  \n",
       "174     False            160                 160  \n",
       "219     False            165                 165  \n",
       "44      False            170                 170  \n",
       "253     False            170                 170  \n",
       "27      False            170                 170  "
      ]
     },
     "execution_count": 99,
     "metadata": {},
     "output_type": "execute_result"
    }
   ],
   "source": [
    "# let's sort by monthly pride in ascending order\n",
    "df.sort_values(by=\"monthly_price\", ascending=True, inplace=True) # so we can use sort_values to sort the dataframe by a column\n",
    "df.head(10)"
   ]
  },
  {
   "cell_type": "code",
   "execution_count": 100,
   "metadata": {},
   "outputs": [
    {
     "data": {
      "text/html": [
       "<div>\n",
       "<style scoped>\n",
       "    .dataframe tbody tr th:only-of-type {\n",
       "        vertical-align: middle;\n",
       "    }\n",
       "\n",
       "    .dataframe tbody tr th {\n",
       "        vertical-align: top;\n",
       "    }\n",
       "\n",
       "    .dataframe thead th {\n",
       "        text-align: right;\n",
       "    }\n",
       "</style>\n",
       "<table border=\"1\" class=\"dataframe\">\n",
       "  <thead>\n",
       "    <tr style=\"text-align: right;\">\n",
       "      <th></th>\n",
       "      <th>description</th>\n",
       "      <th>url</th>\n",
       "      <th>Iela</th>\n",
       "      <th>Ist.</th>\n",
       "      <th>m2</th>\n",
       "      <th>Stāvs</th>\n",
       "      <th>Sērija</th>\n",
       "      <th>Cena, m2</th>\n",
       "      <th>Cena</th>\n",
       "      <th>Floor</th>\n",
       "      <th>MaxFloor</th>\n",
       "      <th>price</th>\n",
       "      <th>is_daily</th>\n",
       "      <th>monthly_price</th>\n",
       "      <th>also_monthly_price</th>\n",
       "    </tr>\n",
       "  </thead>\n",
       "  <tbody>\n",
       "    <tr>\n",
       "      <th>431</th>\n",
       "      <td>Rīgas centrā pieejama zāle balītēm vai cita ve...</td>\n",
       "      <td>https://ss.com/msg/lv/real-estate/flats/riga/c...</td>\n",
       "      <td>Ģertrūdes 61A</td>\n",
       "      <td>2</td>\n",
       "      <td>56</td>\n",
       "      <td>1/3</td>\n",
       "      <td>Jaun.</td>\n",
       "      <td>2.14 €</td>\n",
       "      <td>120  €/dienā</td>\n",
       "      <td>1</td>\n",
       "      <td>3</td>\n",
       "      <td>120</td>\n",
       "      <td>True</td>\n",
       "      <td>3600</td>\n",
       "      <td>3600</td>\n",
       "    </tr>\n",
       "    <tr>\n",
       "      <th>13</th>\n",
       "      <td>Сдаётся эксклюзивная, просторная и светлая 5-к...</td>\n",
       "      <td>https://ss.com/msg/lv/real-estate/flats/riga/c...</td>\n",
       "      <td>Strēlnieku 8</td>\n",
       "      <td>5</td>\n",
       "      <td>180</td>\n",
       "      <td>4/7</td>\n",
       "      <td>Jaun.</td>\n",
       "      <td>25 €</td>\n",
       "      <td>4,500  €/mēn.</td>\n",
       "      <td>4</td>\n",
       "      <td>7</td>\n",
       "      <td>4500</td>\n",
       "      <td>False</td>\n",
       "      <td>4500</td>\n",
       "      <td>4500</td>\n",
       "    </tr>\n",
       "    <tr>\n",
       "      <th>250</th>\n",
       "      <td>Eng: One of a kind - luxurious family apartmen...</td>\n",
       "      <td>https://ss.com/msg/lv/real-estate/flats/riga/c...</td>\n",
       "      <td>Strēlnieku 8</td>\n",
       "      <td>5</td>\n",
       "      <td>180</td>\n",
       "      <td>4/7</td>\n",
       "      <td>Jaun.</td>\n",
       "      <td>25 €</td>\n",
       "      <td>4,500  €/mēn.</td>\n",
       "      <td>4</td>\n",
       "      <td>7</td>\n",
       "      <td>4500</td>\n",
       "      <td>False</td>\n",
       "      <td>4500</td>\n",
       "      <td>4500</td>\n",
       "    </tr>\n",
       "    <tr>\n",
       "      <th>407</th>\n",
       "      <td>Izīrējam izsmalcinātu un plašu dizaina dzīvokl...</td>\n",
       "      <td>https://ss.com/msg/lv/real-estate/flats/riga/c...</td>\n",
       "      <td>Dzirnavu 37</td>\n",
       "      <td>5</td>\n",
       "      <td>180</td>\n",
       "      <td>2/6</td>\n",
       "      <td>Jaun.</td>\n",
       "      <td>27.78 €</td>\n",
       "      <td>5,000  €/mēn.</td>\n",
       "      <td>2</td>\n",
       "      <td>6</td>\n",
       "      <td>5000</td>\n",
       "      <td>False</td>\n",
       "      <td>5000</td>\n",
       "      <td>5000</td>\n",
       "    </tr>\n",
       "    <tr>\n",
       "      <th>40</th>\n",
       "      <td>Īpašniekls izīrē unikālu un ekskluzīvu dzīvokl...</td>\n",
       "      <td>https://ss.com/msg/lv/real-estate/flats/riga/c...</td>\n",
       "      <td>Lāčplēša 11</td>\n",
       "      <td>3</td>\n",
       "      <td>110</td>\n",
       "      <td>6/7</td>\n",
       "      <td>Jaun.</td>\n",
       "      <td>54 €</td>\n",
       "      <td>5,980  €/mēn.</td>\n",
       "      <td>6</td>\n",
       "      <td>7</td>\n",
       "      <td>5980</td>\n",
       "      <td>False</td>\n",
       "      <td>5980</td>\n",
       "      <td>5980</td>\n",
       "    </tr>\n",
       "  </tbody>\n",
       "</table>\n",
       "</div>"
      ],
      "text/plain": [
       "                                           description  \\\n",
       "431  Rīgas centrā pieejama zāle balītēm vai cita ve...   \n",
       "13   Сдаётся эксклюзивная, просторная и светлая 5-к...   \n",
       "250  Eng: One of a kind - luxurious family apartmen...   \n",
       "407  Izīrējam izsmalcinātu un plašu dizaina dzīvokl...   \n",
       "40   Īpašniekls izīrē unikālu un ekskluzīvu dzīvokl...   \n",
       "\n",
       "                                                   url           Iela Ist.  \\\n",
       "431  https://ss.com/msg/lv/real-estate/flats/riga/c...  Ģertrūdes 61A    2   \n",
       "13   https://ss.com/msg/lv/real-estate/flats/riga/c...   Strēlnieku 8    5   \n",
       "250  https://ss.com/msg/lv/real-estate/flats/riga/c...   Strēlnieku 8    5   \n",
       "407  https://ss.com/msg/lv/real-estate/flats/riga/c...    Dzirnavu 37    5   \n",
       "40   https://ss.com/msg/lv/real-estate/flats/riga/c...    Lāčplēša 11    3   \n",
       "\n",
       "      m2 Stāvs Sērija Cena, m2           Cena  Floor  MaxFloor  price  \\\n",
       "431   56   1/3  Jaun.   2.14 €   120  €/dienā      1         3    120   \n",
       "13   180   4/7  Jaun.     25 €  4,500  €/mēn.      4         7   4500   \n",
       "250  180   4/7  Jaun.     25 €  4,500  €/mēn.      4         7   4500   \n",
       "407  180   2/6  Jaun.  27.78 €  5,000  €/mēn.      2         6   5000   \n",
       "40   110   6/7  Jaun.     54 €  5,980  €/mēn.      6         7   5980   \n",
       "\n",
       "     is_daily  monthly_price  also_monthly_price  \n",
       "431      True           3600                3600  \n",
       "13      False           4500                4500  \n",
       "250     False           4500                4500  \n",
       "407     False           5000                5000  \n",
       "40      False           5980                5980  "
      ]
     },
     "execution_count": 100,
     "metadata": {},
     "output_type": "execute_result"
    }
   ],
   "source": [
    "# and now the top 5 most expensive apartments\n",
    "df.tail(5) # so we can use tail to get the last 5 rows of the dataframe"
   ]
  },
  {
   "cell_type": "code",
   "execution_count": 93,
   "metadata": {},
   "outputs": [],
   "source": [
    "df.m2 = df.m2.astype('int32')"
   ]
  },
  {
   "cell_type": "code",
   "execution_count": 94,
   "metadata": {},
   "outputs": [
    {
     "name": "stdout",
     "output_type": "stream",
     "text": [
      "<class 'pandas.core.frame.DataFrame'>\n",
      "RangeIndex: 883 entries, 0 to 882\n",
      "Data columns (total 13 columns):\n",
      " #   Column       Non-Null Count  Dtype \n",
      "---  ------       --------------  ----- \n",
      " 0   description  883 non-null    object\n",
      " 1   url          883 non-null    object\n",
      " 2   Iela         883 non-null    object\n",
      " 3   Ist.         883 non-null    object\n",
      " 4   m2           883 non-null    int32 \n",
      " 5   Stāvs        883 non-null    object\n",
      " 6   Sērija       883 non-null    object\n",
      " 7   Cena, m2     883 non-null    object\n",
      " 8   Cena         883 non-null    object\n",
      " 9   Floor        883 non-null    object\n",
      " 10  MaxFloor     883 non-null    object\n",
      " 11  price        883 non-null    int32 \n",
      " 12  floor        883 non-null    int32 \n",
      "dtypes: int32(3), object(10)\n",
      "memory usage: 79.5+ KB\n"
     ]
    }
   ],
   "source": [
    "df.info()"
   ]
  },
  {
   "cell_type": "code",
   "execution_count": 95,
   "metadata": {},
   "outputs": [
    {
     "data": {
      "text/html": [
       "<div>\n",
       "<style scoped>\n",
       "    .dataframe tbody tr th:only-of-type {\n",
       "        vertical-align: middle;\n",
       "    }\n",
       "\n",
       "    .dataframe tbody tr th {\n",
       "        vertical-align: top;\n",
       "    }\n",
       "\n",
       "    .dataframe thead th {\n",
       "        text-align: right;\n",
       "    }\n",
       "</style>\n",
       "<table border=\"1\" class=\"dataframe\">\n",
       "  <thead>\n",
       "    <tr style=\"text-align: right;\">\n",
       "      <th></th>\n",
       "      <th>description</th>\n",
       "      <th>url</th>\n",
       "      <th>Iela</th>\n",
       "      <th>Ist.</th>\n",
       "      <th>m2</th>\n",
       "      <th>Stāvs</th>\n",
       "      <th>Sērija</th>\n",
       "      <th>Cena, m2</th>\n",
       "      <th>Cena</th>\n",
       "      <th>Floor</th>\n",
       "      <th>MaxFloor</th>\n",
       "      <th>price</th>\n",
       "      <th>floor</th>\n",
       "    </tr>\n",
       "  </thead>\n",
       "  <tbody>\n",
       "    <tr>\n",
       "      <th>0</th>\n",
       "      <td>Īpašnieks pārdod 1-istabas dzīvokli (var pārve...</td>\n",
       "      <td>https://ss.com/msg/lv/real-estate/flats/riga/c...</td>\n",
       "      <td>Valmieras 21</td>\n",
       "      <td>1</td>\n",
       "      <td>30</td>\n",
       "      <td>2/3</td>\n",
       "      <td>P. kara</td>\n",
       "      <td>963 €</td>\n",
       "      <td>28,900  €</td>\n",
       "      <td>2</td>\n",
       "      <td>3</td>\n",
       "      <td>28900</td>\n",
       "      <td>2</td>\n",
       "    </tr>\n",
       "    <tr>\n",
       "      <th>1</th>\n",
       "      <td>Pārdošanā plašs trīs istabu dzīvoklis Rīgas Kl...</td>\n",
       "      <td>https://ss.com/msg/lv/real-estate/flats/riga/c...</td>\n",
       "      <td>Antonijas 24</td>\n",
       "      <td>3</td>\n",
       "      <td>111</td>\n",
       "      <td>2/5</td>\n",
       "      <td>P. kara</td>\n",
       "      <td>1,931 €</td>\n",
       "      <td>214,370  €</td>\n",
       "      <td>2</td>\n",
       "      <td>5</td>\n",
       "      <td>214370</td>\n",
       "      <td>2</td>\n",
       "    </tr>\n",
       "    <tr>\n",
       "      <th>2</th>\n",
       "      <td>Attīstītājs tirgo divistabu dzīvokli, kas atro...</td>\n",
       "      <td>https://ss.com/msg/lv/real-estate/flats/riga/c...</td>\n",
       "      <td>Alauksta 7</td>\n",
       "      <td>2</td>\n",
       "      <td>36</td>\n",
       "      <td>3/4</td>\n",
       "      <td>Renov.</td>\n",
       "      <td>3,056 €</td>\n",
       "      <td>110,000  €</td>\n",
       "      <td>3</td>\n",
       "      <td>4</td>\n",
       "      <td>110000</td>\n",
       "      <td>3</td>\n",
       "    </tr>\n",
       "    <tr>\n",
       "      <th>3</th>\n",
       "      <td>Pārdod lielisku īpāšumu labākajā Rīgas daļā. \\...</td>\n",
       "      <td>https://ss.com/msg/lv/real-estate/flats/riga/c...</td>\n",
       "      <td>Ausekļa 11</td>\n",
       "      <td>3</td>\n",
       "      <td>97</td>\n",
       "      <td>6/6</td>\n",
       "      <td>Renov.</td>\n",
       "      <td>2,155 €</td>\n",
       "      <td>209,000  €</td>\n",
       "      <td>6</td>\n",
       "      <td>6</td>\n",
       "      <td>209000</td>\n",
       "      <td>6</td>\n",
       "    </tr>\n",
       "    <tr>\n",
       "      <th>4</th>\n",
       "      <td>Renovēts dzīvoklis kapitāli rekonstruētā proje...</td>\n",
       "      <td>https://ss.com/msg/lv/real-estate/flats/riga/c...</td>\n",
       "      <td>Sadovņikova 21</td>\n",
       "      <td>3</td>\n",
       "      <td>57</td>\n",
       "      <td>4/6</td>\n",
       "      <td>Renov.</td>\n",
       "      <td>1,482 €</td>\n",
       "      <td>84,500  €</td>\n",
       "      <td>4</td>\n",
       "      <td>6</td>\n",
       "      <td>84500</td>\n",
       "      <td>4</td>\n",
       "    </tr>\n",
       "  </tbody>\n",
       "</table>\n",
       "</div>"
      ],
      "text/plain": [
       "                                         description  \\\n",
       "0  Īpašnieks pārdod 1-istabas dzīvokli (var pārve...   \n",
       "1  Pārdošanā plašs trīs istabu dzīvoklis Rīgas Kl...   \n",
       "2  Attīstītājs tirgo divistabu dzīvokli, kas atro...   \n",
       "3  Pārdod lielisku īpāšumu labākajā Rīgas daļā. \\...   \n",
       "4  Renovēts dzīvoklis kapitāli rekonstruētā proje...   \n",
       "\n",
       "                                                 url            Iela Ist.  \\\n",
       "0  https://ss.com/msg/lv/real-estate/flats/riga/c...    Valmieras 21    1   \n",
       "1  https://ss.com/msg/lv/real-estate/flats/riga/c...    Antonijas 24    3   \n",
       "2  https://ss.com/msg/lv/real-estate/flats/riga/c...      Alauksta 7    2   \n",
       "3  https://ss.com/msg/lv/real-estate/flats/riga/c...      Ausekļa 11    3   \n",
       "4  https://ss.com/msg/lv/real-estate/flats/riga/c...  Sadovņikova 21    3   \n",
       "\n",
       "    m2 Stāvs   Sērija Cena, m2        Cena Floor  MaxFloor   price  floor  \n",
       "0   30   2/3  P. kara    963 €   28,900  €     2         3   28900      2  \n",
       "1  111   2/5  P. kara  1,931 €  214,370  €     2         5  214370      2  \n",
       "2   36   3/4   Renov.  3,056 €  110,000  €     3         4  110000      3  \n",
       "3   97   6/6   Renov.  2,155 €  209,000  €     6         6  209000      6  \n",
       "4   57   4/6   Renov.  1,482 €   84,500  €     4         6   84500      4  "
      ]
     },
     "execution_count": 95,
     "metadata": {},
     "output_type": "execute_result"
    }
   ],
   "source": [
    "df.MaxFloor = df.MaxFloor.astype('int32')\n",
    "df.head()"
   ]
  },
  {
   "cell_type": "code",
   "execution_count": null,
   "metadata": {},
   "outputs": [],
   "source": [
    "df.head()"
   ]
  },
  {
   "cell_type": "code",
   "execution_count": 96,
   "metadata": {
    "scrolled": true
   },
   "outputs": [
    {
     "data": {
      "text/html": [
       "<div>\n",
       "<style scoped>\n",
       "    .dataframe tbody tr th:only-of-type {\n",
       "        vertical-align: middle;\n",
       "    }\n",
       "\n",
       "    .dataframe tbody tr th {\n",
       "        vertical-align: top;\n",
       "    }\n",
       "\n",
       "    .dataframe thead th {\n",
       "        text-align: right;\n",
       "    }\n",
       "</style>\n",
       "<table border=\"1\" class=\"dataframe\">\n",
       "  <thead>\n",
       "    <tr style=\"text-align: right;\">\n",
       "      <th></th>\n",
       "      <th>description</th>\n",
       "      <th>url</th>\n",
       "      <th>Iela</th>\n",
       "      <th>Ist.</th>\n",
       "      <th>m2</th>\n",
       "      <th>Stāvs</th>\n",
       "      <th>Sērija</th>\n",
       "      <th>Cena, m2</th>\n",
       "      <th>Cena</th>\n",
       "      <th>Floor</th>\n",
       "      <th>MaxFloor</th>\n",
       "      <th>price</th>\n",
       "      <th>floor</th>\n",
       "    </tr>\n",
       "  </thead>\n",
       "  <tbody>\n",
       "    <tr>\n",
       "      <th>86</th>\n",
       "      <td>Visaugstākajām prasībām atbilstošs dzīvoklis v...</td>\n",
       "      <td>https://ss.com/msg/lv/real-estate/flats/riga/c...</td>\n",
       "      <td>Lāčplēša 11</td>\n",
       "      <td>4</td>\n",
       "      <td>279</td>\n",
       "      <td>7/7</td>\n",
       "      <td>Jaun.</td>\n",
       "      <td>6,989 €</td>\n",
       "      <td>1,950,000  €</td>\n",
       "      <td>7</td>\n",
       "      <td>7</td>\n",
       "      <td>1950000</td>\n",
       "      <td>7</td>\n",
       "    </tr>\n",
       "    <tr>\n",
       "      <th>505</th>\n",
       "      <td>Iegādei tiek piedāvāts elegants un plašs 5 ist...</td>\n",
       "      <td>https://ss.com/msg/lv/real-estate/flats/riga/c...</td>\n",
       "      <td>Alberta 4</td>\n",
       "      <td>5</td>\n",
       "      <td>193</td>\n",
       "      <td>2/4</td>\n",
       "      <td>P. kara</td>\n",
       "      <td>4,896 €</td>\n",
       "      <td>945,000  €</td>\n",
       "      <td>2</td>\n",
       "      <td>4</td>\n",
       "      <td>945000</td>\n",
       "      <td>2</td>\n",
       "    </tr>\n",
       "    <tr>\n",
       "      <th>373</th>\n",
       "      <td>В Тихом центре на ул. Аусекля 5 продается отли...</td>\n",
       "      <td>https://ss.com/msg/lv/real-estate/flats/riga/c...</td>\n",
       "      <td>Ausekļa 5</td>\n",
       "      <td>6</td>\n",
       "      <td>240</td>\n",
       "      <td>5/6</td>\n",
       "      <td>Renov.</td>\n",
       "      <td>3,708 €</td>\n",
       "      <td>890,000  €</td>\n",
       "      <td>5</td>\n",
       "      <td>6</td>\n",
       "      <td>890000</td>\n",
       "      <td>5</td>\n",
       "    </tr>\n",
       "    <tr>\n",
       "      <th>27</th>\n",
       "      <td>Ekskluzīvs dzīvoklis vēsturiskā ēkā ar mūsdien...</td>\n",
       "      <td>https://ss.com/msg/lv/real-estate/flats/riga/c...</td>\n",
       "      <td>Baznīcas 7</td>\n",
       "      <td>5</td>\n",
       "      <td>155</td>\n",
       "      <td>3/5</td>\n",
       "      <td>P. kara</td>\n",
       "      <td>5,484 €</td>\n",
       "      <td>850,000  €</td>\n",
       "      <td>3</td>\n",
       "      <td>5</td>\n",
       "      <td>850000</td>\n",
       "      <td>3</td>\n",
       "    </tr>\n",
       "    <tr>\n",
       "      <th>607</th>\n",
       "      <td>Klasikas un komforta kombinācija 5 istabu dzīv...</td>\n",
       "      <td>https://ss.com/msg/lv/real-estate/flats/riga/c...</td>\n",
       "      <td>Ģertrūdes 23</td>\n",
       "      <td>5</td>\n",
       "      <td>199</td>\n",
       "      <td>3/6</td>\n",
       "      <td>Renov.</td>\n",
       "      <td>4,015 €</td>\n",
       "      <td>799,000  €</td>\n",
       "      <td>3</td>\n",
       "      <td>6</td>\n",
       "      <td>799000</td>\n",
       "      <td>3</td>\n",
       "    </tr>\n",
       "  </tbody>\n",
       "</table>\n",
       "</div>"
      ],
      "text/plain": [
       "                                           description  \\\n",
       "86   Visaugstākajām prasībām atbilstošs dzīvoklis v...   \n",
       "505  Iegādei tiek piedāvāts elegants un plašs 5 ist...   \n",
       "373  В Тихом центре на ул. Аусекля 5 продается отли...   \n",
       "27   Ekskluzīvs dzīvoklis vēsturiskā ēkā ar mūsdien...   \n",
       "607  Klasikas un komforta kombinācija 5 istabu dzīv...   \n",
       "\n",
       "                                                   url          Iela Ist.  \\\n",
       "86   https://ss.com/msg/lv/real-estate/flats/riga/c...   Lāčplēša 11    4   \n",
       "505  https://ss.com/msg/lv/real-estate/flats/riga/c...     Alberta 4    5   \n",
       "373  https://ss.com/msg/lv/real-estate/flats/riga/c...     Ausekļa 5    6   \n",
       "27   https://ss.com/msg/lv/real-estate/flats/riga/c...    Baznīcas 7    5   \n",
       "607  https://ss.com/msg/lv/real-estate/flats/riga/c...  Ģertrūdes 23    5   \n",
       "\n",
       "      m2 Stāvs   Sērija Cena, m2          Cena Floor  MaxFloor    price  floor  \n",
       "86   279   7/7    Jaun.  6,989 €  1,950,000  €     7         7  1950000      7  \n",
       "505  193   2/4  P. kara  4,896 €    945,000  €     2         4   945000      2  \n",
       "373  240   5/6   Renov.  3,708 €    890,000  €     5         6   890000      5  \n",
       "27   155   3/5  P. kara  5,484 €    850,000  €     3         5   850000      3  \n",
       "607  199   3/6   Renov.  4,015 €    799,000  €     3         6   799000      3  "
      ]
     },
     "execution_count": 96,
     "metadata": {},
     "output_type": "execute_result"
    }
   ],
   "source": [
    "# I can sort by column name\n",
    "sorted_df = df.sort_values(by=\"price\",ascending=False)\n",
    "sorted_df.head()"
   ]
  },
  {
   "cell_type": "code",
   "execution_count": 97,
   "metadata": {},
   "outputs": [
    {
     "data": {
      "text/html": [
       "<div>\n",
       "<style scoped>\n",
       "    .dataframe tbody tr th:only-of-type {\n",
       "        vertical-align: middle;\n",
       "    }\n",
       "\n",
       "    .dataframe tbody tr th {\n",
       "        vertical-align: top;\n",
       "    }\n",
       "\n",
       "    .dataframe thead th {\n",
       "        text-align: right;\n",
       "    }\n",
       "</style>\n",
       "<table border=\"1\" class=\"dataframe\">\n",
       "  <thead>\n",
       "    <tr style=\"text-align: right;\">\n",
       "      <th></th>\n",
       "      <th>description</th>\n",
       "      <th>url</th>\n",
       "      <th>Iela</th>\n",
       "      <th>Ist.</th>\n",
       "      <th>m2</th>\n",
       "      <th>Stāvs</th>\n",
       "      <th>Sērija</th>\n",
       "      <th>Cena, m2</th>\n",
       "      <th>Cena</th>\n",
       "      <th>Floor</th>\n",
       "      <th>MaxFloor</th>\n",
       "      <th>price</th>\n",
       "      <th>floor</th>\n",
       "    </tr>\n",
       "  </thead>\n",
       "  <tbody>\n",
       "    <tr>\n",
       "      <th>443</th>\n",
       "      <td>Dzīvoklis ēkā, kas šobrīd ir neapdzīvojama un ...</td>\n",
       "      <td>https://ss.com/msg/lv/real-estate/flats/riga/c...</td>\n",
       "      <td>Valdemāra 40A</td>\n",
       "      <td>2</td>\n",
       "      <td>34</td>\n",
       "      <td>3/3</td>\n",
       "      <td>P. kara</td>\n",
       "      <td>147 €</td>\n",
       "      <td>5,000  €</td>\n",
       "      <td>3</td>\n",
       "      <td>3</td>\n",
       "      <td>5000</td>\n",
       "      <td>3</td>\n",
       "    </tr>\n",
       "    <tr>\n",
       "      <th>769</th>\n",
       "      <td>Nomaksa. Vairāki pakāpieni uz leju. \\r\\nDaļa m...</td>\n",
       "      <td>https://ss.com/msg/lv/real-estate/flats/riga/c...</td>\n",
       "      <td>Duntes 26</td>\n",
       "      <td>3</td>\n",
       "      <td>67</td>\n",
       "      <td>1/6</td>\n",
       "      <td>Specpr.</td>\n",
       "      <td>128 €</td>\n",
       "      <td>8,580  €</td>\n",
       "      <td>1</td>\n",
       "      <td>6</td>\n",
       "      <td>8580</td>\n",
       "      <td>1</td>\n",
       "    </tr>\n",
       "    <tr>\n",
       "      <th>109</th>\n",
       "      <td>Pārdod studio tipa dzīvokli 16kv. m Brasas raj...</td>\n",
       "      <td>https://ss.com/msg/lv/real-estate/flats/riga/c...</td>\n",
       "      <td>Ieroču 6</td>\n",
       "      <td>1</td>\n",
       "      <td>16</td>\n",
       "      <td>1/2</td>\n",
       "      <td>P. kara</td>\n",
       "      <td>694 €</td>\n",
       "      <td>11,100  €</td>\n",
       "      <td>1</td>\n",
       "      <td>2</td>\n",
       "      <td>11100</td>\n",
       "      <td>1</td>\n",
       "    </tr>\n",
       "    <tr>\n",
       "      <th>414</th>\n",
       "      <td>Tiek pārdots divistabu dzīvoklis ar izolētām i...</td>\n",
       "      <td>https://ss.com/msg/lv/real-estate/flats/riga/c...</td>\n",
       "      <td>Ieroču 6</td>\n",
       "      <td>2</td>\n",
       "      <td>35</td>\n",
       "      <td>2/2</td>\n",
       "      <td>P. kara</td>\n",
       "      <td>329 €</td>\n",
       "      <td>11,500  €</td>\n",
       "      <td>2</td>\n",
       "      <td>2</td>\n",
       "      <td>11500</td>\n",
       "      <td>2</td>\n",
       "    </tr>\n",
       "    <tr>\n",
       "      <th>202</th>\n",
       "      <td>Silts 1-istabu dzīvoklis 2 km no Vecrīgas. Kop...</td>\n",
       "      <td>https://ss.com/msg/lv/real-estate/flats/riga/c...</td>\n",
       "      <td>Zvaigžņu 31</td>\n",
       "      <td>1</td>\n",
       "      <td>31</td>\n",
       "      <td>2/3</td>\n",
       "      <td>P. kara</td>\n",
       "      <td>377 €</td>\n",
       "      <td>11,690  €</td>\n",
       "      <td>2</td>\n",
       "      <td>3</td>\n",
       "      <td>11690</td>\n",
       "      <td>2</td>\n",
       "    </tr>\n",
       "  </tbody>\n",
       "</table>\n",
       "</div>"
      ],
      "text/plain": [
       "                                           description  \\\n",
       "443  Dzīvoklis ēkā, kas šobrīd ir neapdzīvojama un ...   \n",
       "769  Nomaksa. Vairāki pakāpieni uz leju. \\r\\nDaļa m...   \n",
       "109  Pārdod studio tipa dzīvokli 16kv. m Brasas raj...   \n",
       "414  Tiek pārdots divistabu dzīvoklis ar izolētām i...   \n",
       "202  Silts 1-istabu dzīvoklis 2 km no Vecrīgas. Kop...   \n",
       "\n",
       "                                                   url           Iela Ist.  \\\n",
       "443  https://ss.com/msg/lv/real-estate/flats/riga/c...  Valdemāra 40A    2   \n",
       "769  https://ss.com/msg/lv/real-estate/flats/riga/c...      Duntes 26    3   \n",
       "109  https://ss.com/msg/lv/real-estate/flats/riga/c...       Ieroču 6    1   \n",
       "414  https://ss.com/msg/lv/real-estate/flats/riga/c...       Ieroču 6    2   \n",
       "202  https://ss.com/msg/lv/real-estate/flats/riga/c...    Zvaigžņu 31    1   \n",
       "\n",
       "     m2 Stāvs   Sērija Cena, m2       Cena Floor  MaxFloor  price  floor  \n",
       "443  34   3/3  P. kara    147 €   5,000  €     3         3   5000      3  \n",
       "769  67   1/6  Specpr.    128 €   8,580  €     1         6   8580      1  \n",
       "109  16   1/2  P. kara    694 €  11,100  €     1         2  11100      1  \n",
       "414  35   2/2  P. kara    329 €  11,500  €     2         2  11500      2  \n",
       "202  31   2/3  P. kara    377 €  11,690  €     2         3  11690      2  "
      ]
     },
     "execution_count": 97,
     "metadata": {},
     "output_type": "execute_result"
    }
   ],
   "source": [
    "# we could see the cheapest\n",
    "df.sort_values(by=\"price\",ascending=True).head()"
   ]
  },
  {
   "cell_type": "code",
   "execution_count": 98,
   "metadata": {},
   "outputs": [
    {
     "data": {
      "text/html": [
       "<div>\n",
       "<style scoped>\n",
       "    .dataframe tbody tr th:only-of-type {\n",
       "        vertical-align: middle;\n",
       "    }\n",
       "\n",
       "    .dataframe tbody tr th {\n",
       "        vertical-align: top;\n",
       "    }\n",
       "\n",
       "    .dataframe thead th {\n",
       "        text-align: right;\n",
       "    }\n",
       "</style>\n",
       "<table border=\"1\" class=\"dataframe\">\n",
       "  <thead>\n",
       "    <tr style=\"text-align: right;\">\n",
       "      <th></th>\n",
       "      <th>m2</th>\n",
       "      <th>MaxFloor</th>\n",
       "      <th>price</th>\n",
       "      <th>floor</th>\n",
       "    </tr>\n",
       "  </thead>\n",
       "  <tbody>\n",
       "    <tr>\n",
       "      <th>count</th>\n",
       "      <td>883.000000</td>\n",
       "      <td>883.000000</td>\n",
       "      <td>8.830000e+02</td>\n",
       "      <td>883.000000</td>\n",
       "    </tr>\n",
       "    <tr>\n",
       "      <th>mean</th>\n",
       "      <td>76.879955</td>\n",
       "      <td>5.399773</td>\n",
       "      <td>1.614640e+05</td>\n",
       "      <td>3.225368</td>\n",
       "    </tr>\n",
       "    <tr>\n",
       "      <th>std</th>\n",
       "      <td>58.319350</td>\n",
       "      <td>1.902940</td>\n",
       "      <td>1.502452e+05</td>\n",
       "      <td>1.737329</td>\n",
       "    </tr>\n",
       "    <tr>\n",
       "      <th>min</th>\n",
       "      <td>15.000000</td>\n",
       "      <td>1.000000</td>\n",
       "      <td>5.000000e+03</td>\n",
       "      <td>1.000000</td>\n",
       "    </tr>\n",
       "    <tr>\n",
       "      <th>25%</th>\n",
       "      <td>40.500000</td>\n",
       "      <td>5.000000</td>\n",
       "      <td>6.900000e+04</td>\n",
       "      <td>2.000000</td>\n",
       "    </tr>\n",
       "    <tr>\n",
       "      <th>50%</th>\n",
       "      <td>62.000000</td>\n",
       "      <td>5.000000</td>\n",
       "      <td>1.180000e+05</td>\n",
       "      <td>3.000000</td>\n",
       "    </tr>\n",
       "    <tr>\n",
       "      <th>75%</th>\n",
       "      <td>97.500000</td>\n",
       "      <td>6.000000</td>\n",
       "      <td>1.950000e+05</td>\n",
       "      <td>5.000000</td>\n",
       "    </tr>\n",
       "    <tr>\n",
       "      <th>max</th>\n",
       "      <td>1000.000000</td>\n",
       "      <td>29.000000</td>\n",
       "      <td>1.950000e+06</td>\n",
       "      <td>12.000000</td>\n",
       "    </tr>\n",
       "  </tbody>\n",
       "</table>\n",
       "</div>"
      ],
      "text/plain": [
       "                m2    MaxFloor         price       floor\n",
       "count   883.000000  883.000000  8.830000e+02  883.000000\n",
       "mean     76.879955    5.399773  1.614640e+05    3.225368\n",
       "std      58.319350    1.902940  1.502452e+05    1.737329\n",
       "min      15.000000    1.000000  5.000000e+03    1.000000\n",
       "25%      40.500000    5.000000  6.900000e+04    2.000000\n",
       "50%      62.000000    5.000000  1.180000e+05    3.000000\n",
       "75%      97.500000    6.000000  1.950000e+05    5.000000\n",
       "max    1000.000000   29.000000  1.950000e+06   12.000000"
      ]
     },
     "execution_count": 98,
     "metadata": {},
     "output_type": "execute_result"
    }
   ],
   "source": [
    "# now that we have numerical values we can do some statistics\n",
    "df.describe() # describe will give us basic statistics for all numeric columns"
   ]
  },
  {
   "cell_type": "code",
   "execution_count": 99,
   "metadata": {},
   "outputs": [
    {
     "data": {
      "text/html": [
       "<div>\n",
       "<style scoped>\n",
       "    .dataframe tbody tr th:only-of-type {\n",
       "        vertical-align: middle;\n",
       "    }\n",
       "\n",
       "    .dataframe tbody tr th {\n",
       "        vertical-align: top;\n",
       "    }\n",
       "\n",
       "    .dataframe thead th {\n",
       "        text-align: right;\n",
       "    }\n",
       "</style>\n",
       "<table border=\"1\" class=\"dataframe\">\n",
       "  <thead>\n",
       "    <tr style=\"text-align: right;\">\n",
       "      <th></th>\n",
       "      <th>description</th>\n",
       "      <th>url</th>\n",
       "      <th>Iela</th>\n",
       "      <th>Ist.</th>\n",
       "      <th>m2</th>\n",
       "      <th>Stāvs</th>\n",
       "      <th>Sērija</th>\n",
       "      <th>Cena, m2</th>\n",
       "      <th>Cena</th>\n",
       "      <th>Floor</th>\n",
       "      <th>MaxFloor</th>\n",
       "      <th>price</th>\n",
       "      <th>floor</th>\n",
       "    </tr>\n",
       "  </thead>\n",
       "  <tbody>\n",
       "    <tr>\n",
       "      <th>2</th>\n",
       "      <td>Attīstītājs tirgo divistabu dzīvokli, kas atro...</td>\n",
       "      <td>https://ss.com/msg/lv/real-estate/flats/riga/c...</td>\n",
       "      <td>Alauksta 7</td>\n",
       "      <td>2</td>\n",
       "      <td>36</td>\n",
       "      <td>3/4</td>\n",
       "      <td>Renov.</td>\n",
       "      <td>3,056 €</td>\n",
       "      <td>110,000  €</td>\n",
       "      <td>3</td>\n",
       "      <td>4</td>\n",
       "      <td>110000</td>\n",
       "      <td>3</td>\n",
       "    </tr>\n",
       "    <tr>\n",
       "      <th>3</th>\n",
       "      <td>Pārdod lielisku īpāšumu labākajā Rīgas daļā. \\...</td>\n",
       "      <td>https://ss.com/msg/lv/real-estate/flats/riga/c...</td>\n",
       "      <td>Ausekļa 11</td>\n",
       "      <td>3</td>\n",
       "      <td>97</td>\n",
       "      <td>6/6</td>\n",
       "      <td>Renov.</td>\n",
       "      <td>2,155 €</td>\n",
       "      <td>209,000  €</td>\n",
       "      <td>6</td>\n",
       "      <td>6</td>\n",
       "      <td>209000</td>\n",
       "      <td>6</td>\n",
       "    </tr>\n",
       "    <tr>\n",
       "      <th>4</th>\n",
       "      <td>Renovēts dzīvoklis kapitāli rekonstruētā proje...</td>\n",
       "      <td>https://ss.com/msg/lv/real-estate/flats/riga/c...</td>\n",
       "      <td>Sadovņikova 21</td>\n",
       "      <td>3</td>\n",
       "      <td>57</td>\n",
       "      <td>4/6</td>\n",
       "      <td>Renov.</td>\n",
       "      <td>1,482 €</td>\n",
       "      <td>84,500  €</td>\n",
       "      <td>4</td>\n",
       "      <td>6</td>\n",
       "      <td>84500</td>\n",
       "      <td>4</td>\n",
       "    </tr>\n",
       "    <tr>\n",
       "      <th>10</th>\n",
       "      <td>Īpašnieks pārdod dzīvokli ar pelēko apdari ren...</td>\n",
       "      <td>https://ss.com/msg/lv/real-estate/flats/riga/c...</td>\n",
       "      <td>Augšiela 8</td>\n",
       "      <td>2</td>\n",
       "      <td>30</td>\n",
       "      <td>6/6</td>\n",
       "      <td>Renov.</td>\n",
       "      <td>1,865 €</td>\n",
       "      <td>55,950  €</td>\n",
       "      <td>6</td>\n",
       "      <td>6</td>\n",
       "      <td>55950</td>\n",
       "      <td>6</td>\n",
       "    </tr>\n",
       "    <tr>\n",
       "      <th>11</th>\n",
       "      <td>Īpašnieks pārdod brīnišķīgu 4 istabu dizaina d...</td>\n",
       "      <td>https://ss.com/msg/lv/real-estate/flats/riga/c...</td>\n",
       "      <td>Stabu 46/48</td>\n",
       "      <td>4</td>\n",
       "      <td>120</td>\n",
       "      <td>3/6</td>\n",
       "      <td>P. kara</td>\n",
       "      <td>2,267 €</td>\n",
       "      <td>272,000  €</td>\n",
       "      <td>3</td>\n",
       "      <td>6</td>\n",
       "      <td>272000</td>\n",
       "      <td>3</td>\n",
       "    </tr>\n",
       "  </tbody>\n",
       "</table>\n",
       "</div>"
      ],
      "text/plain": [
       "                                          description  \\\n",
       "2   Attīstītājs tirgo divistabu dzīvokli, kas atro...   \n",
       "3   Pārdod lielisku īpāšumu labākajā Rīgas daļā. \\...   \n",
       "4   Renovēts dzīvoklis kapitāli rekonstruētā proje...   \n",
       "10  Īpašnieks pārdod dzīvokli ar pelēko apdari ren...   \n",
       "11  Īpašnieks pārdod brīnišķīgu 4 istabu dizaina d...   \n",
       "\n",
       "                                                  url            Iela Ist.  \\\n",
       "2   https://ss.com/msg/lv/real-estate/flats/riga/c...      Alauksta 7    2   \n",
       "3   https://ss.com/msg/lv/real-estate/flats/riga/c...      Ausekļa 11    3   \n",
       "4   https://ss.com/msg/lv/real-estate/flats/riga/c...  Sadovņikova 21    3   \n",
       "10  https://ss.com/msg/lv/real-estate/flats/riga/c...      Augšiela 8    2   \n",
       "11  https://ss.com/msg/lv/real-estate/flats/riga/c...     Stabu 46/48    4   \n",
       "\n",
       "     m2 Stāvs   Sērija Cena, m2        Cena Floor  MaxFloor   price  floor  \n",
       "2    36   3/4   Renov.  3,056 €  110,000  €     3         4  110000      3  \n",
       "3    97   6/6   Renov.  2,155 €  209,000  €     6         6  209000      6  \n",
       "4    57   4/6   Renov.  1,482 €   84,500  €     4         6   84500      4  \n",
       "10   30   6/6   Renov.  1,865 €   55,950  €     6         6   55950      6  \n",
       "11  120   3/6  P. kara  2,267 €  272,000  €     3         6  272000      3  "
      ]
     },
     "execution_count": 99,
     "metadata": {},
     "output_type": "execute_result"
    }
   ],
   "source": [
    "# i can filter by column value\n",
    "# so here we will get all rows where floor is greater than 2\n",
    "df[df.floor > 2].head()"
   ]
  },
  {
   "cell_type": "code",
   "execution_count": 107,
   "metadata": {},
   "outputs": [
    {
     "data": {
      "text/html": [
       "<div>\n",
       "<style scoped>\n",
       "    .dataframe tbody tr th:only-of-type {\n",
       "        vertical-align: middle;\n",
       "    }\n",
       "\n",
       "    .dataframe tbody tr th {\n",
       "        vertical-align: top;\n",
       "    }\n",
       "\n",
       "    .dataframe thead th {\n",
       "        text-align: right;\n",
       "    }\n",
       "</style>\n",
       "<table border=\"1\" class=\"dataframe\">\n",
       "  <thead>\n",
       "    <tr style=\"text-align: right;\">\n",
       "      <th></th>\n",
       "      <th>description</th>\n",
       "      <th>url</th>\n",
       "      <th>Iela</th>\n",
       "      <th>Ist.</th>\n",
       "      <th>m2</th>\n",
       "      <th>Stāvs</th>\n",
       "      <th>Sērija</th>\n",
       "      <th>Cena, m2</th>\n",
       "      <th>Cena</th>\n",
       "      <th>Floor</th>\n",
       "      <th>MaxFloor</th>\n",
       "      <th>price</th>\n",
       "      <th>floor</th>\n",
       "    </tr>\n",
       "  </thead>\n",
       "  <tbody>\n",
       "    <tr>\n",
       "      <th>135</th>\n",
       "      <td>Pārdod tikko pēc remonta plašu 3-istabu dzīvok...</td>\n",
       "      <td>https://ss.com/msg/lv/real-estate/flats/riga/c...</td>\n",
       "      <td>Grostonas 25</td>\n",
       "      <td>3</td>\n",
       "      <td>86</td>\n",
       "      <td>6/29</td>\n",
       "      <td>Jaun.</td>\n",
       "      <td>2,713 €</td>\n",
       "      <td>233,280  €</td>\n",
       "      <td>6</td>\n",
       "      <td>29</td>\n",
       "      <td>233280</td>\n",
       "      <td>6</td>\n",
       "    </tr>\n",
       "    <tr>\n",
       "      <th>718</th>\n",
       "      <td>Pārdodu mēbelētu dzīvokli. Dzīvoklis sastāv no...</td>\n",
       "      <td>https://ss.com/msg/lv/real-estate/flats/riga/c...</td>\n",
       "      <td>Miera 93</td>\n",
       "      <td>2</td>\n",
       "      <td>51</td>\n",
       "      <td>2/25</td>\n",
       "      <td>Jaun.</td>\n",
       "      <td>2,353 €</td>\n",
       "      <td>120,000  €</td>\n",
       "      <td>2</td>\n",
       "      <td>25</td>\n",
       "      <td>120000</td>\n",
       "      <td>2</td>\n",
       "    </tr>\n",
       "    <tr>\n",
       "      <th>731</th>\n",
       "      <td>Вам важно жить в одном ритме с городом и при э...</td>\n",
       "      <td>https://ss.com/msg/lv/real-estate/flats/riga/c...</td>\n",
       "      <td>Skanstes 29а</td>\n",
       "      <td>3</td>\n",
       "      <td>229</td>\n",
       "      <td>23/24</td>\n",
       "      <td>Jaun.</td>\n",
       "      <td>2,336 €</td>\n",
       "      <td>535,000  €</td>\n",
       "      <td>23</td>\n",
       "      <td>24</td>\n",
       "      <td>535000</td>\n",
       "      <td>23</td>\n",
       "    </tr>\n",
       "    <tr>\n",
       "      <th>319</th>\n",
       "      <td>Dzīvoklis ar vietu pazemes stāvvietā un mantu ...</td>\n",
       "      <td>https://ss.com/msg/lv/real-estate/flats/riga/c...</td>\n",
       "      <td>Skanstes 29a</td>\n",
       "      <td>3</td>\n",
       "      <td>110</td>\n",
       "      <td>8/24</td>\n",
       "      <td>Jaun.</td>\n",
       "      <td>2,272 €</td>\n",
       "      <td>249,900  €</td>\n",
       "      <td>8</td>\n",
       "      <td>24</td>\n",
       "      <td>249900</td>\n",
       "      <td>8</td>\n",
       "    </tr>\n",
       "    <tr>\n",
       "      <th>24</th>\n",
       "      <td>Продается квартира c большой террасой в новом ...</td>\n",
       "      <td>https://ss.com/msg/lv/real-estate/flats/riga/c...</td>\n",
       "      <td>Skanstes 29</td>\n",
       "      <td>2</td>\n",
       "      <td>61</td>\n",
       "      <td>3/24</td>\n",
       "      <td>Jaun.</td>\n",
       "      <td>2,049 €</td>\n",
       "      <td>125,000  €</td>\n",
       "      <td>3</td>\n",
       "      <td>24</td>\n",
       "      <td>125000</td>\n",
       "      <td>3</td>\n",
       "    </tr>\n",
       "  </tbody>\n",
       "</table>\n",
       "</div>"
      ],
      "text/plain": [
       "                                           description  \\\n",
       "135  Pārdod tikko pēc remonta plašu 3-istabu dzīvok...   \n",
       "718  Pārdodu mēbelētu dzīvokli. Dzīvoklis sastāv no...   \n",
       "731  Вам важно жить в одном ритме с городом и при э...   \n",
       "319  Dzīvoklis ar vietu pazemes stāvvietā un mantu ...   \n",
       "24   Продается квартира c большой террасой в новом ...   \n",
       "\n",
       "                                                   url          Iela Ist.  \\\n",
       "135  https://ss.com/msg/lv/real-estate/flats/riga/c...  Grostonas 25    3   \n",
       "718  https://ss.com/msg/lv/real-estate/flats/riga/c...      Miera 93    2   \n",
       "731  https://ss.com/msg/lv/real-estate/flats/riga/c...  Skanstes 29а    3   \n",
       "319  https://ss.com/msg/lv/real-estate/flats/riga/c...  Skanstes 29a    3   \n",
       "24   https://ss.com/msg/lv/real-estate/flats/riga/c...   Skanstes 29    2   \n",
       "\n",
       "      m2  Stāvs Sērija Cena, m2        Cena Floor  MaxFloor   price  floor  \n",
       "135   86   6/29  Jaun.  2,713 €  233,280  €     6        29  233280      6  \n",
       "718   51   2/25  Jaun.  2,353 €  120,000  €     2        25  120000      2  \n",
       "731  229  23/24  Jaun.  2,336 €  535,000  €    23        24  535000     23  \n",
       "319  110   8/24  Jaun.  2,272 €  249,900  €     8        24  249900      8  \n",
       "24    61   3/24  Jaun.  2,049 €  125,000  €     3        24  125000      3  "
      ]
     },
     "execution_count": 107,
     "metadata": {},
     "output_type": "execute_result"
    }
   ],
   "source": [
    "df.sort_values(by=\"MaxFloor\",ascending=False).head()"
   ]
  },
  {
   "cell_type": "code",
   "execution_count": null,
   "metadata": {},
   "outputs": [],
   "source": [
    "df.head()"
   ]
  },
  {
   "cell_type": "code",
   "execution_count": null,
   "metadata": {},
   "outputs": [],
   "source": [
    "df.columns"
   ]
  },
  {
   "cell_type": "code",
   "execution_count": 108,
   "metadata": {},
   "outputs": [
    {
     "data": {
      "text/html": [
       "<div>\n",
       "<style scoped>\n",
       "    .dataframe tbody tr th:only-of-type {\n",
       "        vertical-align: middle;\n",
       "    }\n",
       "\n",
       "    .dataframe tbody tr th {\n",
       "        vertical-align: top;\n",
       "    }\n",
       "\n",
       "    .dataframe thead th {\n",
       "        text-align: right;\n",
       "    }\n",
       "</style>\n",
       "<table border=\"1\" class=\"dataframe\">\n",
       "  <thead>\n",
       "    <tr style=\"text-align: right;\">\n",
       "      <th></th>\n",
       "      <th>count</th>\n",
       "      <th>min</th>\n",
       "      <th>max</th>\n",
       "      <th>mean</th>\n",
       "    </tr>\n",
       "    <tr>\n",
       "      <th>Iela</th>\n",
       "      <th></th>\n",
       "      <th></th>\n",
       "      <th></th>\n",
       "      <th></th>\n",
       "    </tr>\n",
       "  </thead>\n",
       "  <tbody>\n",
       "    <tr>\n",
       "      <th>Akas 2</th>\n",
       "      <td>1</td>\n",
       "      <td>135000</td>\n",
       "      <td>135000</td>\n",
       "      <td>135000.0</td>\n",
       "    </tr>\n",
       "    <tr>\n",
       "      <th>Akas 8</th>\n",
       "      <td>1</td>\n",
       "      <td>300000</td>\n",
       "      <td>300000</td>\n",
       "      <td>300000.0</td>\n",
       "    </tr>\n",
       "    <tr>\n",
       "      <th>Alauksta 9</th>\n",
       "      <td>2</td>\n",
       "      <td>107000</td>\n",
       "      <td>144119</td>\n",
       "      <td>125559.5</td>\n",
       "    </tr>\n",
       "    <tr>\n",
       "      <th>Alberta 4</th>\n",
       "      <td>1</td>\n",
       "      <td>945000</td>\n",
       "      <td>945000</td>\n",
       "      <td>945000.0</td>\n",
       "    </tr>\n",
       "    <tr>\n",
       "      <th>Aldaru 6</th>\n",
       "      <td>1</td>\n",
       "      <td>170000</td>\n",
       "      <td>170000</td>\n",
       "      <td>170000.0</td>\n",
       "    </tr>\n",
       "    <tr>\n",
       "      <th>...</th>\n",
       "      <td>...</td>\n",
       "      <td>...</td>\n",
       "      <td>...</td>\n",
       "      <td>...</td>\n",
       "    </tr>\n",
       "    <tr>\n",
       "      <th>Ģertrūdes 63</th>\n",
       "      <td>1</td>\n",
       "      <td>155000</td>\n",
       "      <td>155000</td>\n",
       "      <td>155000.0</td>\n",
       "    </tr>\n",
       "    <tr>\n",
       "      <th>Ģertrūdes 65/2</th>\n",
       "      <td>8</td>\n",
       "      <td>99000</td>\n",
       "      <td>156000</td>\n",
       "      <td>130875.0</td>\n",
       "    </tr>\n",
       "    <tr>\n",
       "      <th>Ģertrūdes 77</th>\n",
       "      <td>1</td>\n",
       "      <td>187000</td>\n",
       "      <td>187000</td>\n",
       "      <td>187000.0</td>\n",
       "    </tr>\n",
       "    <tr>\n",
       "      <th>Ģertrūdes 9</th>\n",
       "      <td>1</td>\n",
       "      <td>378000</td>\n",
       "      <td>378000</td>\n",
       "      <td>378000.0</td>\n",
       "    </tr>\n",
       "    <tr>\n",
       "      <th>Ģertrūdes 99</th>\n",
       "      <td>1</td>\n",
       "      <td>28900</td>\n",
       "      <td>28900</td>\n",
       "      <td>28900.0</td>\n",
       "    </tr>\n",
       "  </tbody>\n",
       "</table>\n",
       "<p>544 rows × 4 columns</p>\n",
       "</div>"
      ],
      "text/plain": [
       "                count     min     max      mean\n",
       "Iela                                           \n",
       "Akas 2              1  135000  135000  135000.0\n",
       "Akas 8              1  300000  300000  300000.0\n",
       "Alauksta 9          2  107000  144119  125559.5\n",
       "Alberta 4           1  945000  945000  945000.0\n",
       "Aldaru 6            1  170000  170000  170000.0\n",
       "...               ...     ...     ...       ...\n",
       "Ģertrūdes 63        1  155000  155000  155000.0\n",
       "Ģertrūdes 65/2      8   99000  156000  130875.0\n",
       "Ģertrūdes 77        1  187000  187000  187000.0\n",
       "Ģertrūdes 9         1  378000  378000  378000.0\n",
       "Ģertrūdes 99        1   28900   28900   28900.0\n",
       "\n",
       "[544 rows x 4 columns]"
      ]
     },
     "execution_count": 108,
     "metadata": {},
     "output_type": "execute_result"
    }
   ],
   "source": [
    "grouped_by_street = df.groupby(by=\"Iela\")['price'].agg([\"count\", \"min\", \"max\", \"mean\", ])\n",
    "grouped_by_street"
   ]
  },
  {
   "cell_type": "code",
   "execution_count": 109,
   "metadata": {},
   "outputs": [
    {
     "data": {
      "text/html": [
       "<div>\n",
       "<style scoped>\n",
       "    .dataframe tbody tr th:only-of-type {\n",
       "        vertical-align: middle;\n",
       "    }\n",
       "\n",
       "    .dataframe tbody tr th {\n",
       "        vertical-align: top;\n",
       "    }\n",
       "\n",
       "    .dataframe thead th {\n",
       "        text-align: right;\n",
       "    }\n",
       "</style>\n",
       "<table border=\"1\" class=\"dataframe\">\n",
       "  <thead>\n",
       "    <tr style=\"text-align: right;\">\n",
       "      <th></th>\n",
       "      <th>count</th>\n",
       "      <th>min</th>\n",
       "      <th>max</th>\n",
       "      <th>mean</th>\n",
       "    </tr>\n",
       "    <tr>\n",
       "      <th>Sērija</th>\n",
       "      <th></th>\n",
       "      <th></th>\n",
       "      <th></th>\n",
       "      <th></th>\n",
       "    </tr>\n",
       "  </thead>\n",
       "  <tbody>\n",
       "    <tr>\n",
       "      <th>103.</th>\n",
       "      <td>5</td>\n",
       "      <td>43001</td>\n",
       "      <td>89900</td>\n",
       "      <td>59980.000000</td>\n",
       "    </tr>\n",
       "    <tr>\n",
       "      <th>467.</th>\n",
       "      <td>1</td>\n",
       "      <td>55000</td>\n",
       "      <td>55000</td>\n",
       "      <td>55000.000000</td>\n",
       "    </tr>\n",
       "    <tr>\n",
       "      <th>Hrušč.</th>\n",
       "      <td>18</td>\n",
       "      <td>36500</td>\n",
       "      <td>119000</td>\n",
       "      <td>60572.222222</td>\n",
       "    </tr>\n",
       "    <tr>\n",
       "      <th>Jaun.</th>\n",
       "      <td>135</td>\n",
       "      <td>38000</td>\n",
       "      <td>1950000</td>\n",
       "      <td>243141.948148</td>\n",
       "    </tr>\n",
       "    <tr>\n",
       "      <th>LT proj.</th>\n",
       "      <td>1</td>\n",
       "      <td>52000</td>\n",
       "      <td>52000</td>\n",
       "      <td>52000.000000</td>\n",
       "    </tr>\n",
       "    <tr>\n",
       "      <th>P. kara</th>\n",
       "      <td>373</td>\n",
       "      <td>9500</td>\n",
       "      <td>945000</td>\n",
       "      <td>139650.252011</td>\n",
       "    </tr>\n",
       "    <tr>\n",
       "      <th>Priv. m.</th>\n",
       "      <td>2</td>\n",
       "      <td>118900</td>\n",
       "      <td>140000</td>\n",
       "      <td>129450.000000</td>\n",
       "    </tr>\n",
       "    <tr>\n",
       "      <th>Renov.</th>\n",
       "      <td>290</td>\n",
       "      <td>35000</td>\n",
       "      <td>1120000</td>\n",
       "      <td>179396.506897</td>\n",
       "    </tr>\n",
       "    <tr>\n",
       "      <th>Specpr.</th>\n",
       "      <td>41</td>\n",
       "      <td>8580</td>\n",
       "      <td>475000</td>\n",
       "      <td>129810.731707</td>\n",
       "    </tr>\n",
       "    <tr>\n",
       "      <th>Staļina</th>\n",
       "      <td>34</td>\n",
       "      <td>22800</td>\n",
       "      <td>238600</td>\n",
       "      <td>111132.941176</td>\n",
       "    </tr>\n",
       "    <tr>\n",
       "      <th>Čehu pr.</th>\n",
       "      <td>1</td>\n",
       "      <td>137000</td>\n",
       "      <td>137000</td>\n",
       "      <td>137000.000000</td>\n",
       "    </tr>\n",
       "  </tbody>\n",
       "</table>\n",
       "</div>"
      ],
      "text/plain": [
       "          count     min      max           mean\n",
       "Sērija                                         \n",
       "103.          5   43001    89900   59980.000000\n",
       "467.          1   55000    55000   55000.000000\n",
       "Hrušč.       18   36500   119000   60572.222222\n",
       "Jaun.       135   38000  1950000  243141.948148\n",
       "LT proj.      1   52000    52000   52000.000000\n",
       "P. kara     373    9500   945000  139650.252011\n",
       "Priv. m.      2  118900   140000  129450.000000\n",
       "Renov.      290   35000  1120000  179396.506897\n",
       "Specpr.      41    8580   475000  129810.731707\n",
       "Staļina      34   22800   238600  111132.941176\n",
       "Čehu pr.      1  137000   137000  137000.000000"
      ]
     },
     "execution_count": 109,
     "metadata": {},
     "output_type": "execute_result"
    }
   ],
   "source": [
    "grouped_by_series = df.groupby(by=\"Sērija\")['price'].agg([\"count\", \"min\", \"max\", \"mean\", ])\n",
    "grouped_by_series"
   ]
  },
  {
   "cell_type": "code",
   "execution_count": null,
   "metadata": {},
   "outputs": [],
   "source": []
  },
  {
   "cell_type": "code",
   "execution_count": 110,
   "metadata": {},
   "outputs": [
    {
     "data": {
      "text/html": [
       "<div>\n",
       "<style scoped>\n",
       "    .dataframe tbody tr th:only-of-type {\n",
       "        vertical-align: middle;\n",
       "    }\n",
       "\n",
       "    .dataframe tbody tr th {\n",
       "        vertical-align: top;\n",
       "    }\n",
       "\n",
       "    .dataframe thead th {\n",
       "        text-align: right;\n",
       "    }\n",
       "</style>\n",
       "<table border=\"1\" class=\"dataframe\">\n",
       "  <thead>\n",
       "    <tr style=\"text-align: right;\">\n",
       "      <th></th>\n",
       "      <th>count</th>\n",
       "      <th>min</th>\n",
       "      <th>max</th>\n",
       "      <th>mean</th>\n",
       "    </tr>\n",
       "    <tr>\n",
       "      <th>floor</th>\n",
       "      <th></th>\n",
       "      <th></th>\n",
       "      <th></th>\n",
       "      <th></th>\n",
       "    </tr>\n",
       "  </thead>\n",
       "  <tbody>\n",
       "    <tr>\n",
       "      <th>1</th>\n",
       "      <td>178</td>\n",
       "      <td>8580</td>\n",
       "      <td>988000</td>\n",
       "      <td>105499.269663</td>\n",
       "    </tr>\n",
       "    <tr>\n",
       "      <th>2</th>\n",
       "      <td>196</td>\n",
       "      <td>10500</td>\n",
       "      <td>945000</td>\n",
       "      <td>149893.520408</td>\n",
       "    </tr>\n",
       "    <tr>\n",
       "      <th>3</th>\n",
       "      <td>141</td>\n",
       "      <td>9500</td>\n",
       "      <td>799000</td>\n",
       "      <td>162422.985816</td>\n",
       "    </tr>\n",
       "    <tr>\n",
       "      <th>4</th>\n",
       "      <td>136</td>\n",
       "      <td>21500</td>\n",
       "      <td>750000</td>\n",
       "      <td>166738.308824</td>\n",
       "    </tr>\n",
       "    <tr>\n",
       "      <th>5</th>\n",
       "      <td>131</td>\n",
       "      <td>36750</td>\n",
       "      <td>1120000</td>\n",
       "      <td>197266.969466</td>\n",
       "    </tr>\n",
       "    <tr>\n",
       "      <th>6</th>\n",
       "      <td>88</td>\n",
       "      <td>35200</td>\n",
       "      <td>980000</td>\n",
       "      <td>204203.045455</td>\n",
       "    </tr>\n",
       "    <tr>\n",
       "      <th>7</th>\n",
       "      <td>17</td>\n",
       "      <td>115000</td>\n",
       "      <td>1950000</td>\n",
       "      <td>427111.764706</td>\n",
       "    </tr>\n",
       "    <tr>\n",
       "      <th>8</th>\n",
       "      <td>7</td>\n",
       "      <td>89000</td>\n",
       "      <td>249900</td>\n",
       "      <td>156085.714286</td>\n",
       "    </tr>\n",
       "    <tr>\n",
       "      <th>11</th>\n",
       "      <td>2</td>\n",
       "      <td>55000</td>\n",
       "      <td>187162</td>\n",
       "      <td>121081.000000</td>\n",
       "    </tr>\n",
       "    <tr>\n",
       "      <th>14</th>\n",
       "      <td>1</td>\n",
       "      <td>285000</td>\n",
       "      <td>285000</td>\n",
       "      <td>285000.000000</td>\n",
       "    </tr>\n",
       "    <tr>\n",
       "      <th>15</th>\n",
       "      <td>1</td>\n",
       "      <td>305000</td>\n",
       "      <td>305000</td>\n",
       "      <td>305000.000000</td>\n",
       "    </tr>\n",
       "    <tr>\n",
       "      <th>18</th>\n",
       "      <td>1</td>\n",
       "      <td>265000</td>\n",
       "      <td>265000</td>\n",
       "      <td>265000.000000</td>\n",
       "    </tr>\n",
       "    <tr>\n",
       "      <th>19</th>\n",
       "      <td>1</td>\n",
       "      <td>399000</td>\n",
       "      <td>399000</td>\n",
       "      <td>399000.000000</td>\n",
       "    </tr>\n",
       "    <tr>\n",
       "      <th>23</th>\n",
       "      <td>1</td>\n",
       "      <td>535000</td>\n",
       "      <td>535000</td>\n",
       "      <td>535000.000000</td>\n",
       "    </tr>\n",
       "  </tbody>\n",
       "</table>\n",
       "</div>"
      ],
      "text/plain": [
       "       count     min      max           mean\n",
       "floor                                       \n",
       "1        178    8580   988000  105499.269663\n",
       "2        196   10500   945000  149893.520408\n",
       "3        141    9500   799000  162422.985816\n",
       "4        136   21500   750000  166738.308824\n",
       "5        131   36750  1120000  197266.969466\n",
       "6         88   35200   980000  204203.045455\n",
       "7         17  115000  1950000  427111.764706\n",
       "8          7   89000   249900  156085.714286\n",
       "11         2   55000   187162  121081.000000\n",
       "14         1  285000   285000  285000.000000\n",
       "15         1  305000   305000  305000.000000\n",
       "18         1  265000   265000  265000.000000\n",
       "19         1  399000   399000  399000.000000\n",
       "23         1  535000   535000  535000.000000"
      ]
     },
     "execution_count": 110,
     "metadata": {},
     "output_type": "execute_result"
    }
   ],
   "source": [
    "grouped_by_floor = df.groupby(by=\"floor\")['price'].agg([\"count\", \"min\", \"max\", \"mean\", ])\n",
    "grouped_by_floor"
   ]
  },
  {
   "cell_type": "code",
   "execution_count": 111,
   "metadata": {},
   "outputs": [
    {
     "data": {
      "text/plain": [
       "<Axes: >"
      ]
     },
     "execution_count": 111,
     "metadata": {},
     "output_type": "execute_result"
    },
    {
     "data": {
      "image/png": "[encoded data removed]",
      "text/plain": [
       "<Figure size 640x480 with 1 Axes>"
      ]
     },
     "metadata": {},
     "output_type": "display_data"
    }
   ],
   "source": [
    "## Let's plot price histogram for all prices\n",
    "df.price.hist(bins=100) # histogram is a way to show distribution of numerical data"
   ]
  },
  {
   "cell_type": "code",
   "execution_count": 112,
   "metadata": {},
   "outputs": [
    {
     "data": {
      "text/plain": [
       "<Axes: >"
      ]
     },
     "execution_count": 112,
     "metadata": {},
     "output_type": "execute_result"
    },
    {
     "data": {
      "image/png": "[encoded data removed]",
      "text/plain": [
       "<Figure size 640x480 with 1 Axes>"
      ]
     },
     "metadata": {},
     "output_type": "display_data"
    }
   ],
   "source": [
    "## lets plot price histogram ignoring top 5 and bottom 5 outliers\n",
    "df.price.hist(bins=100, range=(df.price.quantile(0.05),df.price.quantile(0.95)))"
   ]
  },
  {
   "cell_type": "code",
   "execution_count": null,
   "metadata": {},
   "outputs": [],
   "source": [
    "len(grouped_by_floor)"
   ]
  },
  {
   "cell_type": "code",
   "execution_count": null,
   "metadata": {},
   "outputs": [],
   "source": [
    "grouped_by_floor.hist(bins=len(grouped_by_floor))"
   ]
  },
  {
   "cell_type": "code",
   "execution_count": null,
   "metadata": {},
   "outputs": [],
   "source": [
    "grouped_by_pag = df.groupby(by=\"Pagasts\")['price'].agg([\"count\", \"min\", \"max\", \"mean\", ])\n",
    "grouped_by_pag"
   ]
  },
  {
   "cell_type": "code",
   "execution_count": null,
   "metadata": {},
   "outputs": [],
   "source": [
    "grouped_by_pag.hist()"
   ]
  },
  {
   "cell_type": "code",
   "execution_count": null,
   "metadata": {},
   "outputs": [],
   "source": [
    "grouped_by_pag.plot(x=\"Pagasts\", y=\"mean\")"
   ]
  },
  {
   "cell_type": "code",
   "execution_count": null,
   "metadata": {},
   "outputs": [],
   "source": [
    "df.to_excel(\"c:/temp/my_apartments.xlsx\") # i could this with absolute path"
   ]
  },
  {
   "cell_type": "code",
   "execution_count": 105,
   "metadata": {},
   "outputs": [
    {
     "data": {
      "text/plain": [
       "(5, 11, 20, 16)"
      ]
     },
     "execution_count": 105,
     "metadata": {},
     "output_type": "execute_result"
    }
   ],
   "source": [
    "from datetime import datetime as dt\n",
    "now = dt.now()\n",
    "now.month, now.day, now.hour, now.second"
   ]
  },
  {
   "cell_type": "code",
   "execution_count": null,
   "metadata": {},
   "outputs": [],
   "source": [
    "# url = \"https://www.ss.com/lv/real-estate/flats/riga/sarkandaugava/hand_over/\"\n",
    "url = centrs\n",
    "region = url.split(\"riga/\")[-1].split(\"/\")[0]\n",
    "now = dt.now()\n",
    "save_path = f\"../data/{region}_{now.day}_{now.month}__{now.hour}_{now.second}.xlsx\"\n",
    "save_path"
   ]
  },
  {
   "cell_type": "code",
   "execution_count": 106,
   "metadata": {},
   "outputs": [
    {
     "name": "stdout",
     "output_type": "stream",
     "text": [
      "Gathering data from https://www.ss.com/lv/real-estate/flats/riga/sarkandaugava/hand_over/\n",
      "Saving to ../data/sarkandaugava_11_5__20_28.xlsx\n"
     ]
    }
   ],
   "source": [
    "url = \"https://www.ss.com/lv/real-estate/flats/riga/sarkandaugava/hand_over/\"\n",
    "region = url.split(\"riga/\")[-1].split(\"/\")[0] # to automate the region name\n",
    "now = dt.now()\n",
    "save_path = f\"../data/{region}_{now.day}_{now.month}__{now.hour}_{now.second}.xlsx\"\n",
    "\n",
    "df = get_all_ads_df(url, save_path)"
   ]
  },
  {
   "cell_type": "code",
   "execution_count": null,
   "metadata": {},
   "outputs": [],
   "source": [
    "url = \"https://www.ss.com/lv/transport/cars/vaz/riga_f/\"\n",
    "df = get_all_ads_df(url, \"../data/vaz_18_03.xlsx\")"
   ]
  },
  {
   "attachments": {},
   "cell_type": "markdown",
   "metadata": {},
   "source": [
    "# TODO \n",
    "# Try with different starting address not only centrs\n",
    "## Maybe combine regions\n",
    "## See how it would work with maybe cars\n",
    "## Data engineering make new columns based on existing ones, clean some columns\n",
    "### Changing floors 2/6 to columns 2 and 6, clean up Euro signs\n",
    "## Sorting, Describing, Grouping by regions etc"
   ]
  },
  {
   "cell_type": "code",
   "execution_count": null,
   "metadata": {},
   "outputs": [],
   "source": [
    "df = pd.read_excel(\"centrs_10_03.xlsx\")\n",
    "df.head()"
   ]
  },
  {
   "cell_type": "code",
   "execution_count": null,
   "metadata": {},
   "outputs": [],
   "source": [
    "df.shape"
   ]
  },
  {
   "cell_type": "code",
   "execution_count": null,
   "metadata": {},
   "outputs": [],
   "source": [
    "df[\"price\"] = df.Cena.str.split(' ').str[0]\n",
    "df.head()"
   ]
  },
  {
   "cell_type": "code",
   "execution_count": null,
   "metadata": {},
   "outputs": [],
   "source": [
    "df.price = df.price.str.replace(\",\",\"\").astype('int32') # so clean string of , and then convert to integer\n",
    "df.head()"
   ]
  },
  {
   "cell_type": "code",
   "execution_count": null,
   "metadata": {},
   "outputs": [],
   "source": [
    "df.price.hist()"
   ]
  },
  {
   "cell_type": "code",
   "execution_count": null,
   "metadata": {},
   "outputs": [],
   "source": [
    "df[['Floor','MaxFloor']] = df.Stāvs.str.split(\"/\",expand=True) \n",
    "df.info()"
   ]
  },
  {
   "cell_type": "code",
   "execution_count": null,
   "metadata": {},
   "outputs": [],
   "source": [
    "#typecasting example\n",
    "df.Floor = df.Floor.astype('int32')\n",
    "df.MaxFloor = df.MaxFloor.astype('int32')"
   ]
  },
  {
   "cell_type": "code",
   "execution_count": null,
   "metadata": {},
   "outputs": [],
   "source": [
    "df.head()"
   ]
  },
  {
   "cell_type": "code",
   "execution_count": null,
   "metadata": {},
   "outputs": [],
   "source": [
    "d23 = df[df.MaxFloor > 20]\n",
    "d23"
   ]
  },
  {
   "cell_type": "code",
   "execution_count": null,
   "metadata": {},
   "outputs": [],
   "source": [
    "df.describe().T # T is for transposing rows and columns"
   ]
  },
  {
   "cell_type": "code",
   "execution_count": null,
   "metadata": {},
   "outputs": [],
   "source": [
    "df.describe().T.to_csv(\"center_stats.csv\")"
   ]
  },
  {
   "cell_type": "code",
   "execution_count": null,
   "metadata": {},
   "outputs": [],
   "source": [
    "import plotly.express as px"
   ]
  },
  {
   "cell_type": "code",
   "execution_count": null,
   "metadata": {},
   "outputs": [],
   "source": [
    "fig = px.histogram(df, x=\"price\", nbins=100)\n",
    "fig.show()"
   ]
  },
  {
   "cell_type": "code",
   "execution_count": null,
   "metadata": {},
   "outputs": [],
   "source": [
    "import seaborn as sns # seaborn sits on top of matplotlib with better defaults\n",
    "import matplotlib.pyplot as plt\n"
   ]
  },
  {
   "cell_type": "code",
   "execution_count": null,
   "metadata": {},
   "outputs": [],
   "source": [
    "df.info()"
   ]
  },
  {
   "cell_type": "code",
   "execution_count": null,
   "metadata": {},
   "outputs": [],
   "source": [
    "# Basic correlogram\n",
    "sns.pairplot(df)\n",
    "\n"
   ]
  },
  {
   "cell_type": "code",
   "execution_count": null,
   "metadata": {},
   "outputs": [],
   "source": [
    "# Basic correlogram\n",
    "sns.pairplot(df)\n",
    "\n"
   ]
  },
  {
   "cell_type": "code",
   "execution_count": null,
   "metadata": {},
   "outputs": [],
   "source": [
    "volvo_url = \"https://www.ss.com/lv/transport/cars/volvo/sell/\"\n",
    "volvos = get_all_ads_df(volvo_url, \"../data/volvo_03_18.xlsx\")"
   ]
  },
  {
   "cell_type": "code",
   "execution_count": null,
   "metadata": {},
   "outputs": [],
   "source": [
    "volvos = pd.read_excel(\"volvo_270921.xlsx\")\n",
    "volvos.head()"
   ]
  },
  {
   "cell_type": "code",
   "execution_count": null,
   "metadata": {},
   "outputs": [],
   "source": [
    "volvos.shape"
   ]
  },
  {
   "cell_type": "code",
   "execution_count": null,
   "metadata": {},
   "outputs": [],
   "source": [
    "volvos.head(10)"
   ]
  },
  {
   "cell_type": "code",
   "execution_count": null,
   "metadata": {},
   "outputs": [],
   "source": [
    "gr_auto['Price'] = "
   ]
  },
  {
   "cell_type": "code",
   "execution_count": null,
   "metadata": {},
   "outputs": [],
   "source": [
    "volvos[\"price\"] = volvos.Cena.str.split(' ').str[0]\n",
    "volvos.price = volvos.price.str.replace(\",\",\"\").astype('int32')\n",
    "volvos.head()"
   ]
  },
  {
   "cell_type": "code",
   "execution_count": null,
   "metadata": {},
   "outputs": [],
   "source": [
    "\n",
    "gr_auto = volvos.groupby([\"Gads\",\"Modelis\"])[\"price\"].agg([\"count\", \"min\", \"max\", \"mean\", ])  #.head(n = 10)\n",
    "gr_auto"
   ]
  },
  {
   "cell_type": "code",
   "execution_count": null,
   "metadata": {},
   "outputs": [],
   "source": [
    "gr_auto.loc[gr_auto.index.get_level_values(0).str.contains(\"2015\")] # how to filter multi level index"
   ]
  },
  {
   "cell_type": "code",
   "execution_count": null,
   "metadata": {},
   "outputs": [],
   "source": [
    "gr_auto.loc[gr_auto.index.get_level_values(1).str.contains(\"S60\")]"
   ]
  },
  {
   "cell_type": "code",
   "execution_count": null,
   "metadata": {},
   "outputs": [],
   "source": [
    "gr_auto.loc[gr_auto.index.get_level_values(1).str.contains(\"S60\")].to_excel(\"S60.xlsx\")"
   ]
  },
  {
   "cell_type": "code",
   "execution_count": null,
   "metadata": {},
   "outputs": [],
   "source": [
    "print(dt.today())"
   ]
  },
  {
   "cell_type": "code",
   "execution_count": null,
   "metadata": {},
   "outputs": [],
   "source": [
    "suzuki_url = \"https://www.ss.com/lv/transport/cars/suzuki/\"\n",
    "# sdf = get_all_ads_df(suzuki_url, f\"suzuki_{dt.today()}.xlsx\")\n",
    "sdf = get_all_ads_df(suzuki_url, f\"suzuki.xlsx\")\n",
    "sdf.head()"
   ]
  },
  {
   "cell_type": "code",
   "execution_count": null,
   "metadata": {},
   "outputs": [],
   "source": [
    "sdf.info()"
   ]
  },
  {
   "cell_type": "code",
   "execution_count": null,
   "metadata": {},
   "outputs": [],
   "source": [
    "sdf[\"Tilp.\"] = sdf[\"Tilp.\"].str.replace(\"\\w\",\"\", regex=True)\n",
    "sdf.head()"
   ]
  },
  {
   "cell_type": "code",
   "execution_count": null,
   "metadata": {},
   "outputs": [],
   "source": [
    "sdf[\"Nobrauk.\"] = sdf[\"Nobrauk.\"].str.replace(\"\\D\",\"\", regex=True) # so no digits removed\n",
    "sdf.head()"
   ]
  },
  {
   "cell_type": "code",
   "execution_count": null,
   "metadata": {},
   "outputs": [],
   "source": [
    "sdf[\"Cena\"] = sdf[\"Cena\"].str.replace(\"\\D\",\"\", regex=True) # so no digits removed\n",
    "sdf.head()"
   ]
  },
  {
   "cell_type": "code",
   "execution_count": null,
   "metadata": {},
   "outputs": [],
   "source": [
    "sdf = sdf.dropna(how=\"any\", axis=0)\n",
    "sdf"
   ]
  },
  {
   "cell_type": "code",
   "execution_count": null,
   "metadata": {},
   "outputs": [],
   "source": [
    "sdf = sdf[sdf[\"Nobrauk.\"].str.len() > 0] # got rid of those empty rows finally\n",
    "sdf"
   ]
  },
  {
   "cell_type": "code",
   "execution_count": null,
   "metadata": {},
   "outputs": [],
   "source": []
  },
  {
   "cell_type": "code",
   "execution_count": null,
   "metadata": {},
   "outputs": [],
   "source": [
    "sdf[\"Cena\"] = sdf[\"Cena\"].astype(\"float32\")"
   ]
  },
  {
   "cell_type": "code",
   "execution_count": null,
   "metadata": {},
   "outputs": [],
   "source": [
    "gr_auto = sdf.groupby([\"Gads\",\"Modelis\"])[\"Cena\"].agg([\"count\",\"min\", \"max\", \"mean\"]) \n",
    "gr_auto"
   ]
  },
  {
   "cell_type": "code",
   "execution_count": null,
   "metadata": {},
   "outputs": [],
   "source": []
  }
 ],
 "metadata": {
  "kernelspec": {
   "display_name": "myvenv",
   "language": "python",
   "name": "python3"
  },
  "language_info": {
   "codemirror_mode": {
    "name": "ipython",
    "version": 3
   },
   "file_extension": ".py",
   "mimetype": "text/x-python",
   "name": "python",
   "nbconvert_exporter": "python",
   "pygments_lexer": "ipython3",
   "version": "3.12.5"
  }
 },
 "nbformat": 4,
 "nbformat_minor": 4
}
